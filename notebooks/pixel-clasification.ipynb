{
 "cells": [
  {
   "cell_type": "markdown",
   "id": "e13ab696-7b93-4dd2-bfcf-3b865e617b83",
   "metadata": {},
   "source": [
    "# Maestria en Explotacion de datos y Descubrimiento de conocimiento\n",
    "### Sistemas de información geografica\n",
    "### Trabajo Practico N°2"
   ]
  },
  {
   "cell_type": "markdown",
   "id": "246f29a3-278c-48d3-bafe-cfe4884a3268",
   "metadata": {
    "tags": []
   },
   "source": [
    "# Clasificación por pixel"
   ]
  },
  {
   "cell_type": "code",
   "execution_count": 1,
   "id": "2dea258e-0ba8-4ca1-a9f5-01306907a0c8",
   "metadata": {},
   "outputs": [],
   "source": [
    "%load_ext autoreload\n",
    "%autoreload 2"
   ]
  },
  {
   "cell_type": "code",
   "execution_count": 2,
   "id": "c4cc41d8-59a1-46b8-bf85-bc0ddf22a550",
   "metadata": {},
   "outputs": [],
   "source": [
    "import sys\n",
    "sys.path.append('../lib')"
   ]
  },
  {
   "cell_type": "code",
   "execution_count": 3,
   "id": "84ae66e1-c1fd-4993-a8bb-5fb1bc3ae6c1",
   "metadata": {},
   "outputs": [],
   "source": [
    "import plot\n",
    "import sql\n",
    "import numpy as np\n",
    "from sklearn.model_selection import train_test_split"
   ]
  },
  {
   "cell_type": "markdown",
   "id": "11a11249-775e-4d2c-bd39-f493617fd959",
   "metadata": {},
   "source": [
    "## Constantes globales"
   ]
  },
  {
   "cell_type": "code",
   "execution_count": 4,
   "id": "20230ff9-f182-44ca-8abb-db4bacef172d",
   "metadata": {},
   "outputs": [],
   "source": [
    "RASTERS_PATH = \"../datasets/images\"\n",
    "DATA_PATH    = \"../datasets/data\"\n",
    "RESULT_PATH  = \"../results\""
   ]
  },
  {
   "cell_type": "code",
   "execution_count": 5,
   "id": "74297fc4-a0a8-447c-8073-861e47ee301a",
   "metadata": {},
   "outputs": [],
   "source": [
    "DATES = [\n",
    "    '2020-10-01', \n",
    "    '2020-11-01', \n",
    "    '2020-12-01',\n",
    "    '2021-01-01', \n",
    "    '2021-02-20', \n",
    "    '2021-03-17'\n",
    "]\n",
    "RASTER_FILES = [\n",
    "    '0000000000-0000000000', \n",
    "    '0000000000-0000012544'\n",
    "]\n",
    "\n",
    "# VERDAD_CAMPO = 'verdad_campo'\n",
    "VERDAD_CAMPO = 'verdad_campo_aumentada'"
   ]
  },
  {
   "cell_type": "markdown",
   "id": "681d28fb-6b1a-4dfe-81dc-3dd711bd4dd7",
   "metadata": {},
   "source": [
    "## Funciones helper"
   ]
  },
  {
   "cell_type": "code",
   "execution_count": 6,
   "id": "2e1db68d-8452-4b92-a31d-17407c362ed9",
   "metadata": {},
   "outputs": [],
   "source": [
    "flatten = lambda list: np.ndarray.flatten(np.array(list))\n",
    "raster_path      = lambda path: f'{RASTERS_PATH}/{path}.tif'\n",
    "raster_date_path = lambda date, file: raster_path(f'{date}/{file}')\n",
    "\n",
    "data_path        = lambda file: f'{DATA_PATH}/{file}.shp'\n",
    "result_path      = lambda file: f'{RESULT_PATH}/{file}'\n",
    "\n",
    "\n",
    "def print_title(title): print(f'\\n\\n{title}...\\n')\n",
    "\n",
    "def class_statistics(\n",
    "    raster_paths,\n",
    "    labels_file  = VERDAD_CAMPO, \n",
    "    label_column = 'id', \n",
    "    out_file      = 'class_statistics.xml',\n",
    "    verbose      = 0\n",
    "):\n",
    "    \n",
    "    in_paths = \" \".join(raster_paths)\n",
    "    vec_path = data_path(labels_file)\n",
    "    out_path = result_path(out_file)\n",
    "    \n",
    "    if verbose > 0:\n",
    "        print_title('Generate class statistics')\n",
    "        print(f'- In Paths: {in_paths}')\n",
    "        print(f'- Vec Path: {vec_path}')\n",
    "        print(f'- Field...: {label_column}')\n",
    "        print(f'- Out Path: {out_path}\\n\\n')\n",
    "    \n",
    "    !time otbcli_PolygonClassStatistics -in {in_paths} -vec {vec_path} -field {label_column} -out {out_path} > /dev/null\n",
    "    !head {out_path}\n",
    "    return out_path\n",
    "\n",
    "\n",
    "def merge_rasters(source_paths, target_path, verbose = 1, plot=0):\n",
    "    !time gdal_merge.py -o {target_path} -of gtiff {\" \".join(source_paths)}\n",
    "\n",
    "    if verbose > 0:\n",
    "        print_title('Merge Rasters')\n",
    "        for idx, path in enumerate(source_paths):\n",
    "            print(f'Source path {idx+1}: {path}')\n",
    "            if plot > 0:\n",
    "                plot.plot_raster(path)\n",
    "\n",
    "        print(f'Target path:\\n  - {target_path}\\n\\n')\n",
    "        if plot > 0:\n",
    "            plot.plot_raster(target_path)\n",
    "        \n",
    "\n",
    "def layer_info(file):\n",
    "    !ogrinfo -so {data_path(file)}\n",
    "\n",
    "\n",
    "def layer_table_info(file, table):\n",
    "    !ogrinfo -so {data_path(file)} {table}\n",
    "\n",
    "\n",
    "def layer_query(file, query):\n",
    "    !ogrinfo -dialect sqlite -sql \"{query}\" {data_path(file)}"
   ]
  },
  {
   "cell_type": "markdown",
   "id": "aea104cc-0ce0-445f-9ad7-b5782db0ff1c",
   "metadata": {},
   "source": [
    "Sampling de observaciones:"
   ]
  },
  {
   "cell_type": "code",
   "execution_count": 7,
   "id": "13f39302-f60c-4fd9-8e84-edb225a00f8e",
   "metadata": {},
   "outputs": [],
   "source": [
    "def sampling(\n",
    "    raster_paths,\n",
    "    class_stat_path,\n",
    "    out_rates_path, \n",
    "    out_sql_path,\n",
    "    labels_file  = VERDAD_CAMPO,\n",
    "    label_column = 'id',\n",
    "    strategy     = 'smallest',\n",
    "    verbose      = 0\n",
    "):\n",
    "    raster_paths = \" \".join(raster_paths)\n",
    "\n",
    "    if verbose > 0:\n",
    "        print_title('Sampling')\n",
    "        print(f'- In Paths......: {raster_paths}')\n",
    "        print(f'- Vec Path......: {data_path(labels_file)}')\n",
    "        print(f'- Field.........: {label_column}')\n",
    "        print(f'- Instats Path..: {class_stat_path}')\n",
    "        print(f'- Strategy......: {strategy}')\n",
    "        print(f'- Out Rates Path: {result_path(out_rates_path)}')\n",
    "        print(f'- Out SQL Path..: {result_path(out_sql_path)}\\n\\n')\n",
    "\n",
    "    !time otbcli_SampleSelection \\\n",
    "        -in       {raster_paths} \\\n",
    "        -vec      {data_path(labels_file)} \\\n",
    "        -instats  {class_stat_path} \\\n",
    "        -field    {label_column} \\\n",
    "        -strategy {strategy} \\\n",
    "        -outrates {result_path(out_rates_path)} \\\n",
    "        -out      {result_path(out_sql_path)}\n",
    "\n",
    "def sample_extraction(\n",
    "    raster_paths,\n",
    "    out_sql_file,\n",
    "    label_column = 'id',\n",
    "    verbose      = 0\n",
    "):\n",
    "    if verbose > 0:\n",
    "        print_title('Sample extraction')\n",
    "        print(f'- In Paths......: {\" \".join(raster_paths)}')\n",
    "        print(f'- Vec SQL Path..: {result_path(out_sql_file)}')\n",
    "        print(f'- Field.........: {label_column}\\n\\n')\n",
    "\n",
    "    !time otbcli_SampleExtraction \\\n",
    "        -in                   {\" \".join(raster_paths)} \\\n",
    "        -vec                  {result_path(out_sql_file)} \\\n",
    "        -field                {label_column} \\\n",
    "        -outfield             prefix \\\n",
    "        -outfield.prefix.name band_"
   ]
  },
  {
   "cell_type": "markdown",
   "id": "5fc53a48-b20a-4261-bdd3-27a8e723c49c",
   "metadata": {},
   "source": [
    "Funciones de visualización:"
   ]
  },
  {
   "cell_type": "markdown",
   "id": "9bc537a7-caa2-44c4-9159-18f710aaabc2",
   "metadata": {},
   "source": [
    "Funciones para la clasificación:"
   ]
  },
  {
   "cell_type": "code",
   "execution_count": 8,
   "id": "ed8a6916-0c96-4c47-9319-0178517ce9c9",
   "metadata": {},
   "outputs": [],
   "source": [
    "def compute_raster_statistics(\n",
    "    raster_paths,\n",
    "    stat_file,\n",
    "    verbose = 0\n",
    "):\n",
    "    output_path = result_path(stat_file)\n",
    "\n",
    "    if verbose > 0:\n",
    "        print_title('Compute rasters statistics')\n",
    "        print(f'- Raster Paths: {\" \".join(raster_paths)}')\n",
    "        print(f'- Stats Path : {output_path}\\n\\n')\n",
    "\n",
    "    !time otbcli_ComputeImagesStatistics -il {\" \".join(raster_paths)} -out.xml {output_path}\n",
    "\n",
    "    return output_path"
   ]
  },
  {
   "cell_type": "code",
   "execution_count": 9,
   "id": "9cfd127d-0d96-47db-820b-c9559eb5932a",
   "metadata": {},
   "outputs": [],
   "source": [
    "def train_clasifier(\n",
    "    sql_file,\n",
    "    stat_file,\n",
    "    features         = ['band_0', 'band_1', 'band_2', 'band_3', 'band_4', 'band_5', 'band_6'],\n",
    "    label_column     = 'id',\n",
    "    out_model_file   = 'dt_model.txt',\n",
    "    out_cm_file      = 'dt_cm_model.csv',\n",
    "\n",
    "    clasifier_config = {\n",
    "        'classifier': 'dt',\n",
    "        'classifier.dt.max': '10'\n",
    "    },\n",
    "    verbose          = 0\n",
    "):\n",
    "    features_param = \" \".join(features)\n",
    "\n",
    "    clasifier_params = ''\n",
    "    for k, v in clasifier_config.items():\n",
    "        clasifier_params += f' -{k} {v}' \n",
    "        \n",
    "    if verbose > 0:\n",
    "        print_title(f'Training {clasifier_config[\"classifier\"]} classifier')\n",
    "        print(f'- SQL Path.............: {result_path(sql_file)}')\n",
    "        print(f'- Stats Path...........: {result_path(stat_file)}')\n",
    "        print(f'- Target...............: {label_column}')\n",
    "        print(f'- Features.............: {features}')\n",
    "        print(f'- Model Path...........: {result_path(out_model_file)}')\n",
    "        print(f'- Confusion Matrix Path: {result_path(out_cm_file)}')\n",
    "        print(f'- Clasifier config.....: {clasifier_params}\\n\\n')\n",
    "\n",
    "    !time otbcli_TrainVectorClassifier \\\n",
    "        -io.vd             {result_path(sql_file)} \\\n",
    "        -io.stats          {result_path(stat_file)} \\\n",
    "        -feat              {features_param} \\\n",
    "        -io.out            {result_path(out_model_file)} \\\n",
    "        -io.confmatout     {result_path(out_cm_file)} \\\n",
    "        -cfield            {label_column} \\\n",
    "        {clasifier_params}"
   ]
  },
  {
   "cell_type": "code",
   "execution_count": 10,
   "id": "62abf439-625a-4ce0-8828-7207a8497589",
   "metadata": {},
   "outputs": [],
   "source": [
    "def band_math(\n",
    "    raster_paths,\n",
    "    name           = 'ndvi',\n",
    "    formula        = '(im1b7-im1b3)/(im1b7+im1b3)',\n",
    "    extension      = '.tif', \n",
    "    verbose        = 0\n",
    "):\n",
    "    out_path = lambda path: f'{path.split(extension)[0]}_{name}.tif'\n",
    "    \n",
    "    if verbose > 0:\n",
    "        print_title(f'Calculate \"{name} = {formula}\" formula')\n",
    "\n",
    "    outputs = []\n",
    "    for in_raster_path in raster_paths:\n",
    "        out_raster_path = out_path(in_raster_path)\n",
    "\n",
    "        if verbose > 0:\n",
    "            print(f'\\n\\n- In: {in_raster_path}\\n- Out: {out_raster_path}')\n",
    "\n",
    "        !time otbcli_BandMath \\\n",
    "            -il  {in_raster_path} \\\n",
    "            -out {out_raster_path} \\\n",
    "            -exp \"{formula}\"\n",
    "        outputs.append(out_raster_path)\n",
    "    return outputs"
   ]
  },
  {
   "cell_type": "code",
   "execution_count": 11,
   "id": "074b953e-2d79-4603-8e29-49576d632699",
   "metadata": {},
   "outputs": [],
   "source": [
    "ALL_VEGETATION_INDEXES = [\n",
    "    'Vegetation:NDVI',\n",
    "    'Vegetation:TNDVI', \n",
    "    'Vegetation:RVI',\n",
    "    'Vegetation:SAVI',\n",
    "    'Vegetation:TSAVI', \n",
    "    'Vegetation:MSAVI', \n",
    "    'Vegetation:MSAVI2',\n",
    "    'Vegetation:IPVI',\n",
    "    'Vegetation:LAIFromNDVILog',\n",
    "    'Vegetation:LAIFromReflLinear',\n",
    "    'Vegetation:LAIFromNDVIFormo'\n",
    "]\n",
    "\n",
    "def compute_index(\n",
    "    raster_paths,\n",
    "    indexes     = ALL_VEGETATION_INDEXES,\n",
    "    out_postfix = 'indexes',\n",
    "    blue_band   = 1,\n",
    "    green_band  = 1,\n",
    "    red_band    = 1,\n",
    "    nir_band    = 1,\n",
    "    mir_band    = 1,\n",
    "    extension   = '.tif', \n",
    "    verbose     = 0\n",
    "):  \n",
    "    out_path = lambda path: f'{path.split(extension)[0]}_{out_postfix}.tif'\n",
    "\n",
    "    if verbose > 0:\n",
    "        print_title(f'Calculate indexes: \"{indexes}\"')\n",
    "\n",
    "    for in_raster_path in raster_paths:\n",
    "        out_raster_path = out_path(in_raster_path)\n",
    "\n",
    "        if verbose > 0:\n",
    "            print(f'\\n\\n- In: {in_raster_path}\\n- Out: {out_raster_path}')\n",
    "\n",
    "        !time otbcli_RadiometricIndices      \\\n",
    "            -channels.blue  {blue_band}      \\\n",
    "            -channels.green {green_band}     \\\n",
    "            -channels.red   {red_band}       \\\n",
    "            -channels.nir   {nir_band}       \\\n",
    "            -channels.mir   {mir_band}       \\\n",
    "            -in             {in_raster_path} \\\n",
    "            -list           {\" \".join(indexes)}        \\\n",
    "            -out            {out_raster_path}"
   ]
  },
  {
   "cell_type": "code",
   "execution_count": 12,
   "id": "00087d0a-8ee3-4bd4-b303-04918dd7b0a2",
   "metadata": {},
   "outputs": [],
   "source": [
    "def join_rasters(raster_paths, out_file, verbose = 0):\n",
    "    if verbose > 0:\n",
    "        print_title(f'Join rasters')\n",
    "        print(f'- Input Rasters: {\" \".join(raster_paths)}')\n",
    "        print(f'- Output Raster: {\" \".join(out_file)}')\n",
    "\n",
    "    !time otbcli_ConcatenateImages \\\n",
    "        -il {' '.join(raster_paths)} \\\n",
    "        -out {out_file}"
   ]
  },
  {
   "cell_type": "markdown",
   "id": "4a62845e-0cdc-4177-af41-5cd0b0e76bd7",
   "metadata": {},
   "source": [
    "## Analisis"
   ]
  },
  {
   "cell_type": "code",
   "execution_count": 13,
   "id": "742cf621-41c5-4d2a-a46b-45467b7a2be2",
   "metadata": {},
   "outputs": [],
   "source": [
    "!mkdir -p {RESULT_PATH}"
   ]
  },
  {
   "cell_type": "markdown",
   "id": "ea80e037-4169-49d3-bd95-292ef73c25cb",
   "metadata": {},
   "source": [
    "Listamos los archivos de datos:"
   ]
  },
  {
   "cell_type": "code",
   "execution_count": 14,
   "id": "58e675dd-a740-4164-b524-18116ef10ca4",
   "metadata": {},
   "outputs": [
    {
     "name": "stdout",
     "output_type": "stream",
     "text": [
      "-rw-rw-r--  1 adrian.marino  729499403   79252 Apr 24  2021 ../datasets/data/departamentos.shp\n",
      "-rw-rw-r--  1 adrian.marino  729499403   13148 Apr 24  2021 ../datasets/data/verdad_campo.shp\n",
      "-rw-r--r--  1 adrian.marino  729499403  182772 Jul  2 12:07 ../datasets/data/verdad_campo_aumentada.shp\n"
     ]
    }
   ],
   "source": [
    "!ls -la {DATA_PATH}/*shp "
   ]
  },
  {
   "cell_type": "markdown",
   "id": "9ffd775d-9816-48ec-9236-eb081a83364d",
   "metadata": {},
   "source": [
    "Tenemos dos archivos, departamentes de buenos aires y la verdad de campo o poligonos labels. estos poligonos representan un label y cubro una parte de la superficie de las imagenes donde se encuentra esa misma clase."
   ]
  },
  {
   "cell_type": "markdown",
   "id": "9eb8819d-e0b1-46a3-9112-dcf6b9288f7f",
   "metadata": {},
   "source": [
    "Veamos que tablas contienen:"
   ]
  },
  {
   "cell_type": "code",
   "execution_count": 15,
   "id": "6497f6c0-ca5e-476a-837c-00f8aa0cd421",
   "metadata": {},
   "outputs": [
    {
     "name": "stdout",
     "output_type": "stream",
     "text": [
      "INFO: Open of `../datasets/data/departamentos.shp'\n",
      "      using driver `ESRI Shapefile' successful.\n",
      "1: departamentos (3D Polygon)\n"
     ]
    }
   ],
   "source": [
    "layer_info('departamentos')"
   ]
  },
  {
   "cell_type": "code",
   "execution_count": 16,
   "id": "49ec22e3-9ad1-4bc5-8c92-0258eca9a254",
   "metadata": {},
   "outputs": [
    {
     "name": "stdout",
     "output_type": "stream",
     "text": [
      "INFO: Open of `../datasets/data/verdad_campo_aumentada.shp'\n",
      "      using driver `ESRI Shapefile' successful.\n",
      "1: verdad_campo_aumentada (Polygon)\n"
     ]
    }
   ],
   "source": [
    "layer_info(VERDAD_CAMPO)"
   ]
  },
  {
   "cell_type": "code",
   "execution_count": 17,
   "id": "a90d2708-fab2-4f87-b2c2-f9d65a03e1d6",
   "metadata": {},
   "outputs": [
    {
     "name": "stdout",
     "output_type": "stream",
     "text": [
      "INFO: Open of `../datasets/data/verdad_campo_aumentada.shp'\n",
      "      using driver `ESRI Shapefile' successful.\n",
      "\n",
      "Layer name: verdad_campo_aumentada\n",
      "Metadata:\n",
      "  DBF_DATE_LAST_UPDATE=2022-07-02\n",
      "Geometry: Polygon\n",
      "Feature Count: 466\n",
      "Extent: (-65.082036, -35.296969) - (-62.290375, -33.823709)\n",
      "Layer SRS WKT:\n",
      "GEOGCRS[\"WGS 84\",\n",
      "    DATUM[\"World Geodetic System 1984\",\n",
      "        ELLIPSOID[\"WGS 84\",6378137,298.257223563,\n",
      "            LENGTHUNIT[\"metre\",1]]],\n",
      "    PRIMEM[\"Greenwich\",0,\n",
      "        ANGLEUNIT[\"degree\",0.0174532925199433]],\n",
      "    CS[ellipsoidal,2],\n",
      "        AXIS[\"latitude\",north,\n",
      "            ORDER[1],\n",
      "            ANGLEUNIT[\"degree\",0.0174532925199433]],\n",
      "        AXIS[\"longitude\",east,\n",
      "            ORDER[2],\n",
      "            ANGLEUNIT[\"degree\",0.0174532925199433]],\n",
      "    ID[\"EPSG\",4326]]\n",
      "Data axis to CRS axis mapping: 2,1\n",
      "in1: String (6.0)\n",
      "id: Integer64 (10.0)\n",
      "cultivo: String (10.0)\n"
     ]
    }
   ],
   "source": [
    "layer_table_info(VERDAD_CAMPO, VERDAD_CAMPO)"
   ]
  },
  {
   "cell_type": "markdown",
   "id": "b6d2b8f1-dd25-4635-9397-3d5c59adad08",
   "metadata": {},
   "source": [
    "La capa o archivo de verdad de campo tiene la columna **cultivo** la cual es una columna categorica que tiene las clases en formato string."
   ]
  },
  {
   "cell_type": "code",
   "execution_count": 18,
   "id": "8fe5e345-7342-4a18-ae26-a20268676015",
   "metadata": {},
   "outputs": [
    {
     "name": "stdout",
     "output_type": "stream",
     "text": [
      "INFO: Open of `../datasets/data/verdad_campo_aumentada.shp'\n",
      "      using driver `ESRI Shapefile' successful.\n",
      "\n",
      "Layer name: SELECT\n",
      "Geometry: Polygon\n",
      "Feature Count: 2\n",
      "Extent: (-62.896600, -34.034258) - (-62.868281, -34.012151)\n",
      "Layer SRS WKT:\n",
      "GEOGCRS[\"WGS 84\",\n",
      "    DATUM[\"World Geodetic System 1984\",\n",
      "        ELLIPSOID[\"WGS 84\",6378137,298.257223563,\n",
      "            LENGTHUNIT[\"metre\",1]]],\n",
      "    PRIMEM[\"Greenwich\",0,\n",
      "        ANGLEUNIT[\"degree\",0.0174532925199433]],\n",
      "    CS[ellipsoidal,2],\n",
      "        AXIS[\"latitude\",north,\n",
      "            ORDER[1],\n",
      "            ANGLEUNIT[\"degree\",0.0174532925199433]],\n",
      "        AXIS[\"longitude\",east,\n",
      "            ORDER[2],\n",
      "            ANGLEUNIT[\"degree\",0.0174532925199433]],\n",
      "    ID[\"EPSG\",4326]]\n",
      "Data axis to CRS axis mapping: 2,1\n",
      "Geometry Column = GEOMETRY\n",
      "in1: String (0.0)\n",
      "id: Integer64 (0.0)\n",
      "cultivo: String (0.0)\n",
      "OGRFeature(SELECT):0\n",
      "  in1 (String) = 014084\n",
      "  id (Integer64) = 2\n",
      "  cultivo (String) = MAIZ\n",
      "  POLYGON ((-62.8765996133436 -34.0221508898355,-62.8770890481807 -34.0252410597792,-62.8785094433999 -34.0280287423584,-62.8807217608207 -34.0302410597792,-62.8835094433999 -34.0316614549984,-62.8865996133436 -34.0321508898354,-62.8896897832874 -34.0316614549984,-62.8924774658665 -34.0302410597792,-62.8946897832874 -34.0280287423584,-62.8961101785066 -34.0252410597792,-62.8965996133436 -34.0221508898355,-62.8961101785066 -34.0190607198917,-62.8946897832874 -34.0162730373125,-62.8924774658665 -34.0140607198917,-62.8896897832874 -34.0126403246725,-62.8865996133436 -34.0121508898355,-62.8835094433999 -34.0126403246725,-62.8807217608207 -34.0140607198917,-62.8785094433999 -34.0162730373125,-62.8770890481807 -34.0190607198917,-62.8765996133436 -34.0221508898355))\n",
      "\n",
      "OGRFeature(SELECT):1\n",
      "  in1 (String) = 014084\n",
      "  id (Integer64) = 2\n",
      "  cultivo (String) = MAIZ\n",
      "  POLYGON ((-62.8682807341426 -34.0242583392331,-62.8687701689796 -34.0273485091768,-62.8701905641988 -34.030136191756,-62.8724028816196 -34.0323485091768,-62.8751905641988 -34.033768904396,-62.8782807341426 -34.034258339233,-62.8813709040863 -34.033768904396,-62.8841585866655 -34.0323485091768,-62.8863709040863 -34.030136191756,-62.8877912993055 -34.0273485091768,-62.8882807341426 -34.0242583392331,-62.8877912993055 -34.0211681692893,-62.8863709040863 -34.0183804867101,-62.8841585866655 -34.0161681692893,-62.8813709040863 -34.0147477740701,-62.8782807341426 -34.0142583392331,-62.8751905641988 -34.0147477740701,-62.8724028816196 -34.0161681692893,-62.8701905641988 -34.0183804867101,-62.8687701689796 -34.0211681692893,-62.8682807341426 -34.0242583392331))\n",
      "\n"
     ]
    }
   ],
   "source": [
    "layer_query(\n",
    "    VERDAD_CAMPO, \n",
    "    f'SELECT * FROM {VERDAD_CAMPO} LIMIT 2'\n",
    ")"
   ]
  },
  {
   "cell_type": "code",
   "execution_count": 19,
   "id": "7be8b7b8-98f4-433c-99fb-326cf35177fa",
   "metadata": {},
   "outputs": [
    {
     "name": "stdout",
     "output_type": "stream",
     "text": [
      "INFO: Open of `../datasets/data/verdad_campo_aumentada.shp'\n",
      "      using driver `ESRI Shapefile' successful.\n",
      "\n",
      "Layer name: SELECT\n",
      "Geometry: None\n",
      "Feature Count: 5\n",
      "Layer SRS WKT:\n",
      "(unknown)\n",
      "Cultivo: String (0.0)\n",
      "Cantidad: Integer (0.0)\n",
      "OGRFeature(SELECT):0\n",
      "  Cultivo (String) = ALFALFA\n",
      "  Cantidad (Integer) = 2\n",
      "\n",
      "OGRFeature(SELECT):1\n",
      "  Cultivo (String) = CAMPONATUR\n",
      "  Cantidad (Integer) = 18\n",
      "\n",
      "OGRFeature(SELECT):2\n",
      "  Cultivo (String) = GIRASOL\n",
      "  Cantidad (Integer) = 32\n",
      "\n",
      "OGRFeature(SELECT):3\n",
      "  Cultivo (String) = MAIZ\n",
      "  Cantidad (Integer) = 246\n",
      "\n",
      "OGRFeature(SELECT):4\n",
      "  Cultivo (String) = SOJA\n",
      "  Cantidad (Integer) = 168\n",
      "\n"
     ]
    }
   ],
   "source": [
    "layer_query(\n",
    "    VERDAD_CAMPO,\n",
    "    f\"\"\"\n",
    "    SELECT \n",
    "        cultivo  AS Cultivo,\n",
    "        COUNT(*) AS Cantidad\n",
    "    FROM\n",
    "        {VERDAD_CAMPO}\n",
    "    GROUP BY\n",
    "        cultivo\n",
    "    \"\"\"\n",
    ")"
   ]
  },
  {
   "cell_type": "code",
   "execution_count": 20,
   "id": "1aa3d113-f559-4e0c-940a-a8f7b2ed9ca6",
   "metadata": {},
   "outputs": [
    {
     "name": "stdout",
     "output_type": "stream",
     "text": [
      "INFO: Open of `../datasets/data/verdad_campo_aumentada.shp'\n",
      "      using driver `ESRI Shapefile' successful.\n",
      "\n",
      "Layer name: SELECT\n",
      "Geometry: None\n",
      "Feature Count: 5\n",
      "Layer SRS WKT:\n",
      "(unknown)\n",
      "Codigo de cultivo: Integer64 (0.0)\n",
      "Cantidad: Integer (0.0)\n",
      "OGRFeature(SELECT):0\n",
      "  Codigo de cultivo (Integer64) = 10\n",
      "  Cantidad (Integer) = 2\n",
      "\n",
      "OGRFeature(SELECT):1\n",
      "  Codigo de cultivo (Integer64) = 20\n",
      "  Cantidad (Integer) = 18\n",
      "\n",
      "OGRFeature(SELECT):2\n",
      "  Codigo de cultivo (Integer64) = 5\n",
      "  Cantidad (Integer) = 32\n",
      "\n",
      "OGRFeature(SELECT):3\n",
      "  Codigo de cultivo (Integer64) = 2\n",
      "  Cantidad (Integer) = 246\n",
      "\n",
      "OGRFeature(SELECT):4\n",
      "  Codigo de cultivo (Integer64) = 1\n",
      "  Cantidad (Integer) = 168\n",
      "\n"
     ]
    }
   ],
   "source": [
    "layer_query(\n",
    "    VERDAD_CAMPO, \n",
    "    f\"\"\"\n",
    "    SELECT \n",
    "        id       AS 'Codigo de cultivo',\n",
    "        COUNT(*) AS Cantidad\n",
    "    FROM\n",
    "        {VERDAD_CAMPO}\n",
    "    GROUP BY\n",
    "        cultivo\n",
    "    \"\"\"\n",
    ")"
   ]
  },
  {
   "cell_type": "markdown",
   "id": "def50c57-3312-45db-a179-0967fb891789",
   "metadata": {},
   "source": [
    "Las columnas **id** y **cultivo** sin intercambiables. Es decir que el id representa a cada tipo de cultivo."
   ]
  },
  {
   "cell_type": "markdown",
   "id": "a4ce2969-a584-43bf-a8bf-72f7acead61c",
   "metadata": {},
   "source": [
    "### Estadisticas y merge de rasters"
   ]
  },
  {
   "cell_type": "markdown",
   "id": "88685d62-93a1-4c8d-a6cb-ae7a1cae1601",
   "metadata": {},
   "source": [
    "A continuacion veamos la cantidad de pixels en la imagen por cada clase. Seria la distribición de probabilidad discreta de la variable categorica **cultivo** para una imagen dada.\n",
    "\n",
    "Ver: [PolygonClassStatistics](https://www.orfeo-toolbox.org/CookBook/Applications/app_PolygonClassStatistics.html)"
   ]
  },
  {
   "cell_type": "code",
   "execution_count": 21,
   "id": "b05e03ca-b302-41d8-8c28-7c207b130ba9",
   "metadata": {},
   "outputs": [
    {
     "name": "stdout",
     "output_type": "stream",
     "text": [
      "\n",
      "\n",
      "Generate class statistics...\n",
      "\n",
      "- In Paths: ../datasets/images/2020-10-01/0000000000-0000000000.tif\n",
      "- Vec Path: ../datasets/data/verdad_campo_aumentada.shp\n",
      "- Field...: id\n",
      "- Out Path: ../results/class_statistics.xml\n",
      "\n",
      "\n",
      "zsh:1: command not found: otbcli_PolygonClassStatistics\n",
      "otbcli_PolygonClassStatistics -in  -vec  -field id -out  > /dev/null  0.00s user 0.00s system 76% cpu 0.001 total\n",
      "<?xml version=\"1.0\" ?>\n",
      "<GeneralStatistics>\n",
      "    <Statistic name=\"samplesPerClass\">\n",
      "        <StatisticMap key=\"1\" value=\"134\" />\n",
      "        <StatisticMap key=\"10\" value=\"2\" />\n",
      "        <StatisticMap key=\"2\" value=\"107\" />\n",
      "        <StatisticMap key=\"20\" value=\"18\" />\n",
      "        <StatisticMap key=\"3\" value=\"139\" />\n",
      "        <StatisticMap key=\"4\" value=\"34\" />\n",
      "        <StatisticMap key=\"5\" value=\"32\" />\n"
     ]
    },
    {
     "data": {
      "text/plain": [
       "'../results/class_statistics.xml'"
      ]
     },
     "execution_count": 21,
     "metadata": {},
     "output_type": "execute_result"
    }
   ],
   "source": [
    "class_statistics([raster_date_path('2020-10-01', '0000000000-0000000000')], verbose=1)"
   ]
  },
  {
   "cell_type": "markdown",
   "id": "105dd047-a102-4d38-8f9e-7eaa44307935",
   "metadata": {},
   "source": [
    "Vemos una frecuencia muy baja x clase. Esto se debe a que la imagen completa esta compuesta por las dos imagenes dentro de cada directorio de fecha. Por esta cuestión, primero debemos hacer un merge de ambas imagenes para luego calcular estadisticas, clasificar, etc... \n",
    "\n",
    "A continuación se hace mer de todos las imagenes(rasters) por fecha: "
   ]
  },
  {
   "cell_type": "code",
   "execution_count": null,
   "id": "dfe8da95-6f87-4bb6-91af-e2786899a893",
   "metadata": {},
   "outputs": [
    {
     "name": "stdout",
     "output_type": "stream",
     "text": [
      "0"
     ]
    }
   ],
   "source": [
    "for date in DATES:\n",
    "    source_files = [raster_date_path(date, f) for f in RASTER_FILES]\n",
    "    target_file  =  raster_date_path(date, 'complete_raster')\n",
    "    merge_rasters(source_files, target_file)"
   ]
  },
  {
   "cell_type": "markdown",
   "id": "5e040d03-b777-4d0a-9761-260d7b169e60",
   "metadata": {},
   "source": [
    "Ahora validemos si vemos diferencia en las frecuencias:"
   ]
  },
  {
   "cell_type": "code",
   "execution_count": null,
   "id": "33ea77ac-4872-46f7-bcea-c801307c475b",
   "metadata": {},
   "outputs": [],
   "source": [
    "class_statistics([raster_date_path('2020-10-01', '0000000000-0000000000')], verbose=1)\n",
    "class_statistics([raster_date_path('2020-10-01', '0000000000-0000012544')], verbose=1)\n",
    "class_statistics([raster_date_path('2020-10-01', 'complete_raster')], verbose=1)"
   ]
  },
  {
   "cell_type": "code",
   "execution_count": null,
   "id": "dbd86e53-af87-4179-afe2-fd5c228afc03",
   "metadata": {},
   "outputs": [],
   "source": [
    "class_statistics([raster_date_path('2021-03-17', '0000000000-0000000000')], verbose=1)\n",
    "class_statistics([raster_date_path('2021-03-17', '0000000000-0000012544')], verbose=1)\n",
    "class_statistics([raster_date_path('2021-03-17', 'complete_raster')], verbose=1)"
   ]
  },
  {
   "cell_type": "markdown",
   "id": "40ea94ee-eca1-4ec9-8487-75bd8683bf74",
   "metadata": {},
   "source": [
    "**Por que todas las imagenes tiene la misma cantidad de pixeles por clase?**"
   ]
  },
  {
   "cell_type": "markdown",
   "id": "1e997eab-afb5-4125-b536-84be64cd8d0c",
   "metadata": {
    "tags": []
   },
   "source": [
    "### Sampling\n",
    "\n",
    "A continacion sampleamos una cantidad de pixels por clase. De esta forma podemos estratificar las obsercaciones por clase, y asi evitar el desbalanceo de las clases.\n",
    "\n",
    "Ver: [SampleSelection](https://www.orfeo-toolbox.org/CookBook/Applications/app_SampleSelection.html)"
   ]
  },
  {
   "cell_type": "code",
   "execution_count": 25,
   "id": "f5780096-370c-4d18-a664-5f8c51e225d9",
   "metadata": {},
   "outputs": [
    {
     "name": "stdout",
     "output_type": "stream",
     "text": [
      "\n",
      "\n",
      "Generate class statistics...\n",
      "\n",
      "- In Paths: ../datasets/images/2020-10-01/complete_raster.tif\n",
      "- Vec Path: ../datasets/data/verdad_campo.shp\n",
      "- Field...: id\n",
      "- Out Path: ../results/2020-10-01_class_stat.xml\n",
      "\n",
      "\n",
      "zsh:1: command not found: otbcli_PolygonClassStatistics\n",
      "otbcli_PolygonClassStatistics -in  -vec ../datasets/data/verdad_campo.shp  id  0.00s user 0.00s system 72% cpu 0.002 total\n",
      "<?xml version=\"1.0\" ?>\n",
      "<GeneralStatistics>\n",
      "    <Statistic name=\"samplesPerClass\">\n",
      "        <StatisticMap key=\"1\" value=\"134\" />\n",
      "        <StatisticMap key=\"10\" value=\"2\" />\n",
      "        <StatisticMap key=\"2\" value=\"107\" />\n",
      "        <StatisticMap key=\"20\" value=\"18\" />\n",
      "        <StatisticMap key=\"3\" value=\"139\" />\n",
      "        <StatisticMap key=\"4\" value=\"34\" />\n",
      "        <StatisticMap key=\"5\" value=\"32\" />\n",
      "\n",
      "\n",
      "Sampling...\n",
      "\n",
      "- In Paths......: ../datasets/images/2020-10-01/complete_raster.tif\n",
      "- Vec Path......: ../datasets/data/verdad_campo.shp\n",
      "- Field.........: id\n",
      "- Instats Path..: ../results/2020-10-01_class_stat.xml\n",
      "- Strategy......: smallest\n",
      "- Out Rates Path: ../results/2020-10-01_rates.csv\n",
      "- Out SQL Path..: ../results/2020-10-01_samples.sqlite\n",
      "\n",
      "\n",
      "zsh:1: command not found: otbcli_SampleSelection\n",
      "otbcli_SampleSelection -in ../datasets/images/2020-10-01/complete_raster.tif   0.00s user 0.00s system 75% cpu 0.001 total\n",
      "\n",
      "\n",
      "Generate class statistics...\n",
      "\n",
      "- In Paths: ../datasets/images/2020-11-01/complete_raster.tif\n",
      "- Vec Path: ../datasets/data/verdad_campo.shp\n",
      "- Field...: id\n",
      "- Out Path: ../results/2020-11-01_class_stat.xml\n",
      "\n",
      "\n",
      "zsh:1: command not found: otbcli_PolygonClassStatistics\n",
      "otbcli_PolygonClassStatistics -in  -vec ../datasets/data/verdad_campo.shp  id  0.00s user 0.00s system 76% cpu 0.001 total\n",
      "<?xml version=\"1.0\" ?>\n",
      "<GeneralStatistics>\n",
      "    <Statistic name=\"samplesPerClass\">\n",
      "        <StatisticMap key=\"1\" value=\"134\" />\n",
      "        <StatisticMap key=\"10\" value=\"2\" />\n",
      "        <StatisticMap key=\"2\" value=\"107\" />\n",
      "        <StatisticMap key=\"20\" value=\"18\" />\n",
      "        <StatisticMap key=\"3\" value=\"139\" />\n",
      "        <StatisticMap key=\"4\" value=\"34\" />\n",
      "        <StatisticMap key=\"5\" value=\"32\" />\n",
      "\n",
      "\n",
      "Sampling...\n",
      "\n",
      "- In Paths......: ../datasets/images/2020-11-01/complete_raster.tif\n",
      "- Vec Path......: ../datasets/data/verdad_campo.shp\n",
      "- Field.........: id\n",
      "- Instats Path..: ../results/2020-11-01_class_stat.xml\n",
      "- Strategy......: smallest\n",
      "- Out Rates Path: ../results/2020-11-01_rates.csv\n",
      "- Out SQL Path..: ../results/2020-11-01_samples.sqlite\n",
      "\n",
      "\n",
      "zsh:1: command not found: otbcli_SampleSelection\n",
      "otbcli_SampleSelection -in ../datasets/images/2020-11-01/complete_raster.tif   0.00s user 0.00s system 78% cpu 0.001 total\n",
      "\n",
      "\n",
      "Generate class statistics...\n",
      "\n",
      "- In Paths: ../datasets/images/2020-12-01/complete_raster.tif\n",
      "- Vec Path: ../datasets/data/verdad_campo.shp\n",
      "- Field...: id\n",
      "- Out Path: ../results/2020-12-01_class_stat.xml\n",
      "\n",
      "\n",
      "zsh:1: command not found: otbcli_PolygonClassStatistics\n",
      "otbcli_PolygonClassStatistics -in  -vec ../datasets/data/verdad_campo.shp  id  0.00s user 0.00s system 75% cpu 0.001 total\n",
      "<?xml version=\"1.0\" ?>\n",
      "<GeneralStatistics>\n",
      "    <Statistic name=\"samplesPerClass\">\n",
      "        <StatisticMap key=\"1\" value=\"134\" />\n",
      "        <StatisticMap key=\"10\" value=\"2\" />\n",
      "        <StatisticMap key=\"2\" value=\"107\" />\n",
      "        <StatisticMap key=\"20\" value=\"18\" />\n",
      "        <StatisticMap key=\"3\" value=\"139\" />\n",
      "        <StatisticMap key=\"4\" value=\"34\" />\n",
      "        <StatisticMap key=\"5\" value=\"32\" />\n",
      "\n",
      "\n",
      "Sampling...\n",
      "\n",
      "- In Paths......: ../datasets/images/2020-12-01/complete_raster.tif\n",
      "- Vec Path......: ../datasets/data/verdad_campo.shp\n",
      "- Field.........: id\n",
      "- Instats Path..: ../results/2020-12-01_class_stat.xml\n",
      "- Strategy......: smallest\n",
      "- Out Rates Path: ../results/2020-12-01_rates.csv\n",
      "- Out SQL Path..: ../results/2020-12-01_samples.sqlite\n",
      "\n",
      "\n",
      "zsh:1: command not found: otbcli_SampleSelection\n",
      "otbcli_SampleSelection -in ../datasets/images/2020-12-01/complete_raster.tif   0.00s user 0.00s system 75% cpu 0.001 total\n",
      "\n",
      "\n",
      "Generate class statistics...\n",
      "\n",
      "- In Paths: ../datasets/images/2021-01-01/complete_raster.tif\n",
      "- Vec Path: ../datasets/data/verdad_campo.shp\n",
      "- Field...: id\n",
      "- Out Path: ../results/2021-01-01_class_stat.xml\n",
      "\n",
      "\n",
      "zsh:1: command not found: otbcli_PolygonClassStatistics\n",
      "otbcli_PolygonClassStatistics -in  -vec ../datasets/data/verdad_campo.shp  id  0.00s user 0.00s system 85% cpu 0.002 total\n",
      "<?xml version=\"1.0\" ?>\n",
      "<GeneralStatistics>\n",
      "    <Statistic name=\"samplesPerClass\">\n",
      "        <StatisticMap key=\"1\" value=\"134\" />\n",
      "        <StatisticMap key=\"10\" value=\"2\" />\n",
      "        <StatisticMap key=\"2\" value=\"107\" />\n",
      "        <StatisticMap key=\"20\" value=\"18\" />\n",
      "        <StatisticMap key=\"3\" value=\"139\" />\n",
      "        <StatisticMap key=\"4\" value=\"34\" />\n",
      "        <StatisticMap key=\"5\" value=\"32\" />\n",
      "\n",
      "\n",
      "Sampling...\n",
      "\n",
      "- In Paths......: ../datasets/images/2021-01-01/complete_raster.tif\n",
      "- Vec Path......: ../datasets/data/verdad_campo.shp\n",
      "- Field.........: id\n",
      "- Instats Path..: ../results/2021-01-01_class_stat.xml\n",
      "- Strategy......: smallest\n",
      "- Out Rates Path: ../results/2021-01-01_rates.csv\n",
      "- Out SQL Path..: ../results/2021-01-01_samples.sqlite\n",
      "\n",
      "\n",
      "zsh:1: command not found: otbcli_SampleSelection\n",
      "otbcli_SampleSelection -in ../datasets/images/2021-01-01/complete_raster.tif   0.00s user 0.00s system 74% cpu 0.001 total\n",
      "\n",
      "\n",
      "Generate class statistics...\n",
      "\n",
      "- In Paths: ../datasets/images/2021-02-20/complete_raster.tif\n",
      "- Vec Path: ../datasets/data/verdad_campo.shp\n",
      "- Field...: id\n",
      "- Out Path: ../results/2021-02-20_class_stat.xml\n",
      "\n",
      "\n",
      "zsh:1: command not found: otbcli_PolygonClassStatistics\n",
      "otbcli_PolygonClassStatistics -in  -vec ../datasets/data/verdad_campo.shp  id  0.00s user 0.00s system 74% cpu 0.001 total\n",
      "<?xml version=\"1.0\" ?>\n",
      "<GeneralStatistics>\n",
      "    <Statistic name=\"samplesPerClass\">\n",
      "        <StatisticMap key=\"1\" value=\"134\" />\n",
      "        <StatisticMap key=\"10\" value=\"2\" />\n",
      "        <StatisticMap key=\"2\" value=\"107\" />\n",
      "        <StatisticMap key=\"20\" value=\"18\" />\n",
      "        <StatisticMap key=\"3\" value=\"139\" />\n",
      "        <StatisticMap key=\"4\" value=\"34\" />\n",
      "        <StatisticMap key=\"5\" value=\"32\" />\n",
      "\n",
      "\n",
      "Sampling...\n",
      "\n",
      "- In Paths......: ../datasets/images/2021-02-20/complete_raster.tif\n",
      "- Vec Path......: ../datasets/data/verdad_campo.shp\n",
      "- Field.........: id\n",
      "- Instats Path..: ../results/2021-02-20_class_stat.xml\n",
      "- Strategy......: smallest\n",
      "- Out Rates Path: ../results/2021-02-20_rates.csv\n",
      "- Out SQL Path..: ../results/2021-02-20_samples.sqlite\n",
      "\n",
      "\n",
      "zsh:1: command not found: otbcli_SampleSelection\n",
      "otbcli_SampleSelection -in ../datasets/images/2021-02-20/complete_raster.tif   0.00s user 0.00s system 71% cpu 0.002 total\n",
      "\n",
      "\n",
      "Generate class statistics...\n",
      "\n",
      "- In Paths: ../datasets/images/2021-03-17/complete_raster.tif\n",
      "- Vec Path: ../datasets/data/verdad_campo.shp\n",
      "- Field...: id\n",
      "- Out Path: ../results/2021-03-17_class_stat.xml\n",
      "\n",
      "\n",
      "zsh:1: command not found: otbcli_PolygonClassStatistics\n",
      "otbcli_PolygonClassStatistics -in  -vec ../datasets/data/verdad_campo.shp  id  0.00s user 0.00s system 74% cpu 0.002 total\n",
      "<?xml version=\"1.0\" ?>\n",
      "<GeneralStatistics>\n",
      "    <Statistic name=\"samplesPerClass\">\n",
      "        <StatisticMap key=\"1\" value=\"134\" />\n",
      "        <StatisticMap key=\"10\" value=\"2\" />\n",
      "        <StatisticMap key=\"2\" value=\"107\" />\n",
      "        <StatisticMap key=\"20\" value=\"18\" />\n",
      "        <StatisticMap key=\"3\" value=\"139\" />\n",
      "        <StatisticMap key=\"4\" value=\"34\" />\n",
      "        <StatisticMap key=\"5\" value=\"32\" />\n",
      "\n",
      "\n",
      "Sampling...\n",
      "\n",
      "- In Paths......: ../datasets/images/2021-03-17/complete_raster.tif\n",
      "- Vec Path......: ../datasets/data/verdad_campo.shp\n",
      "- Field.........: id\n",
      "- Instats Path..: ../results/2021-03-17_class_stat.xml\n",
      "- Strategy......: smallest\n",
      "- Out Rates Path: ../results/2021-03-17_rates.csv\n",
      "- Out SQL Path..: ../results/2021-03-17_samples.sqlite\n",
      "\n",
      "\n",
      "zsh:1: command not found: otbcli_SampleSelection\n",
      "otbcli_SampleSelection -in ../datasets/images/2021-03-17/complete_raster.tif   0.00s user 0.00s system 72% cpu 0.002 total\n"
     ]
    }
   ],
   "source": [
    "for date in DATES:\n",
    "    raster_paths = [raster_date_path(date, 'complete_raster')]\n",
    "\n",
    "    class_stat_path = class_statistics(raster_paths, out_file = f'{date}_class_stat.xml', verbose = 1)\n",
    "\n",
    "    sampling(\n",
    "        raster_paths,\n",
    "        class_stat_path = class_stat_path,\n",
    "        out_rates_path  = f'{date}_rates.csv',\n",
    "        out_sql_path    = f'{date}_samples.sqlite',\n",
    "        verbose         = 1\n",
    "    )"
   ]
  },
  {
   "cell_type": "code",
   "execution_count": 26,
   "id": "9b37a254-2e6f-4775-b9c9-d42034fb0c28",
   "metadata": {},
   "outputs": [
    {
     "data": {
      "text/plain": [
       "['CREATE TABLE \"output\" ( \"ogc_fid\" INTEGER PRIMARY KEY AUTOINCREMENT, \"GEOMETRY\" BLOB, \"in1\" VARCHAR(6), \"id\" BIGINT, \"cultivo\" VARCHAR(10), \"originfid\" INTEGER, \"band_0\" FLOAT, \"band_1\" FLOAT, \"band_2\" FLOAT, \"band_3\" FLOAT, \"band_4\" FLOAT, \"band_5\" FLOAT, \"band_6\" FLOAT)']"
      ]
     },
     "execution_count": 26,
     "metadata": {},
     "output_type": "execute_result"
    }
   ],
   "source": [
    "sql.SQLiteClient.inline_tables_definition(\n",
    "    path  = result_path('2020-12-01_samples.sqlite'),\n",
    "    table = 'output'\n",
    ")"
   ]
  },
  {
   "cell_type": "code",
   "execution_count": 27,
   "id": "f75ae95b-6aba-47de-b37e-716d7eb11a7a",
   "metadata": {},
   "outputs": [
    {
     "data": {
      "text/html": [
       "<div>\n",
       "<style scoped>\n",
       "    .dataframe tbody tr th:only-of-type {\n",
       "        vertical-align: middle;\n",
       "    }\n",
       "\n",
       "    .dataframe tbody tr th {\n",
       "        vertical-align: top;\n",
       "    }\n",
       "\n",
       "    .dataframe thead th {\n",
       "        text-align: right;\n",
       "    }\n",
       "</style>\n",
       "<table border=\"1\" class=\"dataframe\">\n",
       "  <thead>\n",
       "    <tr style=\"text-align: right;\">\n",
       "      <th></th>\n",
       "      <th>cultivo</th>\n",
       "      <th>Cantidad</th>\n",
       "    </tr>\n",
       "  </thead>\n",
       "  <tbody>\n",
       "    <tr>\n",
       "      <th>0</th>\n",
       "      <td>SOJA</td>\n",
       "      <td>4</td>\n",
       "    </tr>\n",
       "    <tr>\n",
       "      <th>1</th>\n",
       "      <td>MAIZ</td>\n",
       "      <td>4</td>\n",
       "    </tr>\n",
       "    <tr>\n",
       "      <th>2</th>\n",
       "      <td>GIRASOL</td>\n",
       "      <td>2</td>\n",
       "    </tr>\n",
       "    <tr>\n",
       "      <th>3</th>\n",
       "      <td>CAMPONATUR</td>\n",
       "      <td>2</td>\n",
       "    </tr>\n",
       "    <tr>\n",
       "      <th>4</th>\n",
       "      <td>ALFALFA</td>\n",
       "      <td>2</td>\n",
       "    </tr>\n",
       "  </tbody>\n",
       "</table>\n",
       "</div>"
      ],
      "text/plain": [
       "      cultivo  Cantidad\n",
       "0        SOJA         4\n",
       "1        MAIZ         4\n",
       "2     GIRASOL         2\n",
       "3  CAMPONATUR         2\n",
       "4     ALFALFA         2"
      ]
     },
     "execution_count": 27,
     "metadata": {},
     "output_type": "execute_result"
    }
   ],
   "source": [
    "sql.SQLiteClient.inline_query(\n",
    "    path  = result_path('2020-12-01_samples.sqlite'),\n",
    "    query = \"\"\"\n",
    "        SELECT \n",
    "            cultivo,\n",
    "            COUNT(*) AS Cantidad\n",
    "        FROM\n",
    "            output\n",
    "        GROUP BY\n",
    "            cultivo\n",
    "        ORDER BY\n",
    "            Cantidad desc\n",
    "    \"\"\"\n",
    ")"
   ]
  },
  {
   "cell_type": "markdown",
   "id": "5a485424-24d2-4684-a7e6-b1d92e0e39f0",
   "metadata": {},
   "source": [
    "### Extracción de observaciones\n",
    "\n",
    "\n",
    "En este paso, en base a una capa vectorial (sqlite) y un raster, se genera la tabla **output** dentro del archivos de base de datos sqlite, donde cada fila es un pixel del raster y cada columna es el valor del pixel en cada banda que contenida en el mismo (En nuestro caso, como el raster es una imagen generada con el satelite SENTINEL).\n",
    "\n",
    "Ver: [SampleExtraction](https://www.orfeo-toolbox.org/CookBook/Applications/app_SampleExtraction.html)"
   ]
  },
  {
   "cell_type": "code",
   "execution_count": 28,
   "id": "e2564e7f-5a01-45b2-9de2-84837dad9d52",
   "metadata": {},
   "outputs": [
    {
     "name": "stdout",
     "output_type": "stream",
     "text": [
      "\n",
      "\n",
      "Sample extraction...\n",
      "\n",
      "- In Paths......: ../datasets/images/2020-10-01/complete_raster.tif\n",
      "- Vec SQL Path..: ../results/2020-10-01_samples.sqlite\n",
      "- Field.........: id\n",
      "\n",
      "\n",
      "zsh:1: command not found: otbcli_SampleExtraction\n",
      "otbcli_SampleExtraction -in ../datasets/images/2020-10-01/complete_raster.tif  0.00s user 0.00s system 73% cpu 0.001 total\n",
      "\n",
      "\n",
      "Sample extraction...\n",
      "\n",
      "- In Paths......: ../datasets/images/2020-11-01/complete_raster.tif\n",
      "- Vec SQL Path..: ../results/2020-11-01_samples.sqlite\n",
      "- Field.........: id\n",
      "\n",
      "\n",
      "zsh:1: command not found: otbcli_SampleExtraction\n",
      "otbcli_SampleExtraction -in ../datasets/images/2020-11-01/complete_raster.tif  0.00s user 0.00s system 73% cpu 0.001 total\n",
      "\n",
      "\n",
      "Sample extraction...\n",
      "\n",
      "- In Paths......: ../datasets/images/2020-12-01/complete_raster.tif\n",
      "- Vec SQL Path..: ../results/2020-12-01_samples.sqlite\n",
      "- Field.........: id\n",
      "\n",
      "\n",
      "zsh:1: command not found: otbcli_SampleExtraction\n",
      "otbcli_SampleExtraction -in ../datasets/images/2020-12-01/complete_raster.tif  0.00s user 0.00s system 75% cpu 0.001 total\n",
      "\n",
      "\n",
      "Sample extraction...\n",
      "\n",
      "- In Paths......: ../datasets/images/2021-01-01/complete_raster.tif\n",
      "- Vec SQL Path..: ../results/2021-01-01_samples.sqlite\n",
      "- Field.........: id\n",
      "\n",
      "\n",
      "zsh:1: command not found: otbcli_SampleExtraction\n",
      "otbcli_SampleExtraction -in ../datasets/images/2021-01-01/complete_raster.tif  0.00s user 0.00s system 73% cpu 0.001 total\n",
      "\n",
      "\n",
      "Sample extraction...\n",
      "\n",
      "- In Paths......: ../datasets/images/2021-02-20/complete_raster.tif\n",
      "- Vec SQL Path..: ../results/2021-02-20_samples.sqlite\n",
      "- Field.........: id\n",
      "\n",
      "\n",
      "zsh:1: command not found: otbcli_SampleExtraction\n",
      "otbcli_SampleExtraction -in ../datasets/images/2021-02-20/complete_raster.tif  0.00s user 0.00s system 76% cpu 0.001 total\n",
      "\n",
      "\n",
      "Sample extraction...\n",
      "\n",
      "- In Paths......: ../datasets/images/2021-03-17/complete_raster.tif\n",
      "- Vec SQL Path..: ../results/2021-03-17_samples.sqlite\n",
      "- Field.........: id\n",
      "\n",
      "\n",
      "zsh:1: command not found: otbcli_SampleExtraction\n",
      "otbcli_SampleExtraction -in ../datasets/images/2021-03-17/complete_raster.tif  0.00s user 0.00s system 75% cpu 0.001 total\n"
     ]
    }
   ],
   "source": [
    "for date in DATES:\n",
    "    sample_extraction(\n",
    "        raster_paths = [raster_date_path(date, 'complete_raster')],\n",
    "        out_sql_file = f'{date}_samples.sqlite',\n",
    "        verbose      = 1\n",
    "    )"
   ]
  },
  {
   "cell_type": "code",
   "execution_count": 29,
   "id": "bae158cf-9de7-4e29-a069-b11b22581a9e",
   "metadata": {},
   "outputs": [
    {
     "data": {
      "text/plain": [
       "['CREATE TABLE \"output\" ( \"ogc_fid\" INTEGER PRIMARY KEY AUTOINCREMENT, \"GEOMETRY\" BLOB, \"in1\" VARCHAR(6), \"id\" BIGINT, \"cultivo\" VARCHAR(10), \"originfid\" INTEGER, \"band_0\" FLOAT, \"band_1\" FLOAT, \"band_2\" FLOAT, \"band_3\" FLOAT, \"band_4\" FLOAT, \"band_5\" FLOAT, \"band_6\" FLOAT)']"
      ]
     },
     "execution_count": 29,
     "metadata": {},
     "output_type": "execute_result"
    }
   ],
   "source": [
    "sql.SQLiteClient.inline_tables_definition(\n",
    "    path  = result_path('2020-12-01_samples.sqlite'),\n",
    "    table = 'output'\n",
    ")"
   ]
  },
  {
   "cell_type": "code",
   "execution_count": 30,
   "id": "05ecfb1a-6c91-4b3e-8a7e-f10d31810c48",
   "metadata": {},
   "outputs": [
    {
     "data": {
      "text/html": [
       "<div>\n",
       "<style scoped>\n",
       "    .dataframe tbody tr th:only-of-type {\n",
       "        vertical-align: middle;\n",
       "    }\n",
       "\n",
       "    .dataframe tbody tr th {\n",
       "        vertical-align: top;\n",
       "    }\n",
       "\n",
       "    .dataframe thead th {\n",
       "        text-align: right;\n",
       "    }\n",
       "</style>\n",
       "<table border=\"1\" class=\"dataframe\">\n",
       "  <thead>\n",
       "    <tr style=\"text-align: right;\">\n",
       "      <th></th>\n",
       "      <th>id</th>\n",
       "      <th>cultivo</th>\n",
       "      <th>band_0</th>\n",
       "      <th>band_1</th>\n",
       "      <th>band_2</th>\n",
       "      <th>band_3</th>\n",
       "      <th>band_4</th>\n",
       "      <th>band_5</th>\n",
       "      <th>band_6</th>\n",
       "    </tr>\n",
       "  </thead>\n",
       "  <tbody>\n",
       "    <tr>\n",
       "      <th>0</th>\n",
       "      <td>1</td>\n",
       "      <td>SOJA</td>\n",
       "      <td>0.11030</td>\n",
       "      <td>0.14470</td>\n",
       "      <td>0.20530</td>\n",
       "      <td>0.2969</td>\n",
       "      <td>0.31280</td>\n",
       "      <td>0.44280</td>\n",
       "      <td>0.36000</td>\n",
       "    </tr>\n",
       "    <tr>\n",
       "      <th>1</th>\n",
       "      <td>2</td>\n",
       "      <td>MAIZ</td>\n",
       "      <td>0.08325</td>\n",
       "      <td>0.11240</td>\n",
       "      <td>0.15930</td>\n",
       "      <td>0.2303</td>\n",
       "      <td>0.24250</td>\n",
       "      <td>0.32375</td>\n",
       "      <td>0.27785</td>\n",
       "    </tr>\n",
       "    <tr>\n",
       "      <th>2</th>\n",
       "      <td>3</td>\n",
       "      <td>MAIZ</td>\n",
       "      <td>0.05295</td>\n",
       "      <td>0.07570</td>\n",
       "      <td>0.08695</td>\n",
       "      <td>0.2649</td>\n",
       "      <td>0.27645</td>\n",
       "      <td>0.27160</td>\n",
       "      <td>0.19525</td>\n",
       "    </tr>\n",
       "    <tr>\n",
       "      <th>3</th>\n",
       "      <td>5</td>\n",
       "      <td>GIRASOL</td>\n",
       "      <td>0.06445</td>\n",
       "      <td>0.10185</td>\n",
       "      <td>0.09960</td>\n",
       "      <td>0.3870</td>\n",
       "      <td>0.39970</td>\n",
       "      <td>0.29215</td>\n",
       "      <td>0.19620</td>\n",
       "    </tr>\n",
       "    <tr>\n",
       "      <th>4</th>\n",
       "      <td>20</td>\n",
       "      <td>CAMPONATUR</td>\n",
       "      <td>0.07070</td>\n",
       "      <td>0.10540</td>\n",
       "      <td>0.12120</td>\n",
       "      <td>0.2734</td>\n",
       "      <td>0.29410</td>\n",
       "      <td>0.32350</td>\n",
       "      <td>0.25000</td>\n",
       "    </tr>\n",
       "    <tr>\n",
       "      <th>5</th>\n",
       "      <td>20</td>\n",
       "      <td>CAMPONATUR</td>\n",
       "      <td>0.11770</td>\n",
       "      <td>0.15900</td>\n",
       "      <td>0.20000</td>\n",
       "      <td>0.3115</td>\n",
       "      <td>0.33135</td>\n",
       "      <td>0.37915</td>\n",
       "      <td>0.29460</td>\n",
       "    </tr>\n",
       "    <tr>\n",
       "      <th>6</th>\n",
       "      <td>4</td>\n",
       "      <td>SOJA</td>\n",
       "      <td>0.09440</td>\n",
       "      <td>0.12720</td>\n",
       "      <td>0.17160</td>\n",
       "      <td>0.2770</td>\n",
       "      <td>0.30390</td>\n",
       "      <td>0.37730</td>\n",
       "      <td>0.32870</td>\n",
       "    </tr>\n",
       "    <tr>\n",
       "      <th>7</th>\n",
       "      <td>5</td>\n",
       "      <td>GIRASOL</td>\n",
       "      <td>0.07450</td>\n",
       "      <td>0.10380</td>\n",
       "      <td>0.12310</td>\n",
       "      <td>0.2787</td>\n",
       "      <td>0.29680</td>\n",
       "      <td>0.33140</td>\n",
       "      <td>0.26365</td>\n",
       "    </tr>\n",
       "    <tr>\n",
       "      <th>8</th>\n",
       "      <td>3</td>\n",
       "      <td>MAIZ</td>\n",
       "      <td>0.01480</td>\n",
       "      <td>0.04590</td>\n",
       "      <td>0.01800</td>\n",
       "      <td>0.4756</td>\n",
       "      <td>0.47240</td>\n",
       "      <td>0.18260</td>\n",
       "      <td>0.08500</td>\n",
       "    </tr>\n",
       "    <tr>\n",
       "      <th>9</th>\n",
       "      <td>2</td>\n",
       "      <td>MAIZ</td>\n",
       "      <td>0.10005</td>\n",
       "      <td>0.12400</td>\n",
       "      <td>0.17030</td>\n",
       "      <td>0.2441</td>\n",
       "      <td>0.25575</td>\n",
       "      <td>0.40510</td>\n",
       "      <td>0.33370</td>\n",
       "    </tr>\n",
       "    <tr>\n",
       "      <th>10</th>\n",
       "      <td>1</td>\n",
       "      <td>SOJA</td>\n",
       "      <td>0.11010</td>\n",
       "      <td>0.15650</td>\n",
       "      <td>0.23430</td>\n",
       "      <td>0.3214</td>\n",
       "      <td>0.32525</td>\n",
       "      <td>0.40130</td>\n",
       "      <td>0.28470</td>\n",
       "    </tr>\n",
       "    <tr>\n",
       "      <th>11</th>\n",
       "      <td>10</td>\n",
       "      <td>ALFALFA</td>\n",
       "      <td>0.02980</td>\n",
       "      <td>0.05990</td>\n",
       "      <td>0.03000</td>\n",
       "      <td>0.4616</td>\n",
       "      <td>0.46650</td>\n",
       "      <td>0.22230</td>\n",
       "      <td>0.10910</td>\n",
       "    </tr>\n",
       "    <tr>\n",
       "      <th>12</th>\n",
       "      <td>10</td>\n",
       "      <td>ALFALFA</td>\n",
       "      <td>0.06710</td>\n",
       "      <td>0.10020</td>\n",
       "      <td>0.10940</td>\n",
       "      <td>0.3094</td>\n",
       "      <td>0.32010</td>\n",
       "      <td>0.35120</td>\n",
       "      <td>0.25260</td>\n",
       "    </tr>\n",
       "    <tr>\n",
       "      <th>13</th>\n",
       "      <td>4</td>\n",
       "      <td>SOJA</td>\n",
       "      <td>0.10940</td>\n",
       "      <td>0.15300</td>\n",
       "      <td>0.20800</td>\n",
       "      <td>0.3438</td>\n",
       "      <td>0.35720</td>\n",
       "      <td>0.44080</td>\n",
       "      <td>0.34900</td>\n",
       "    </tr>\n",
       "  </tbody>\n",
       "</table>\n",
       "</div>"
      ],
      "text/plain": [
       "    id     cultivo   band_0   band_1   band_2  band_3   band_4   band_5  \\\n",
       "0    1        SOJA  0.11030  0.14470  0.20530  0.2969  0.31280  0.44280   \n",
       "1    2        MAIZ  0.08325  0.11240  0.15930  0.2303  0.24250  0.32375   \n",
       "2    3        MAIZ  0.05295  0.07570  0.08695  0.2649  0.27645  0.27160   \n",
       "3    5     GIRASOL  0.06445  0.10185  0.09960  0.3870  0.39970  0.29215   \n",
       "4   20  CAMPONATUR  0.07070  0.10540  0.12120  0.2734  0.29410  0.32350   \n",
       "5   20  CAMPONATUR  0.11770  0.15900  0.20000  0.3115  0.33135  0.37915   \n",
       "6    4        SOJA  0.09440  0.12720  0.17160  0.2770  0.30390  0.37730   \n",
       "7    5     GIRASOL  0.07450  0.10380  0.12310  0.2787  0.29680  0.33140   \n",
       "8    3        MAIZ  0.01480  0.04590  0.01800  0.4756  0.47240  0.18260   \n",
       "9    2        MAIZ  0.10005  0.12400  0.17030  0.2441  0.25575  0.40510   \n",
       "10   1        SOJA  0.11010  0.15650  0.23430  0.3214  0.32525  0.40130   \n",
       "11  10     ALFALFA  0.02980  0.05990  0.03000  0.4616  0.46650  0.22230   \n",
       "12  10     ALFALFA  0.06710  0.10020  0.10940  0.3094  0.32010  0.35120   \n",
       "13   4        SOJA  0.10940  0.15300  0.20800  0.3438  0.35720  0.44080   \n",
       "\n",
       "     band_6  \n",
       "0   0.36000  \n",
       "1   0.27785  \n",
       "2   0.19525  \n",
       "3   0.19620  \n",
       "4   0.25000  \n",
       "5   0.29460  \n",
       "6   0.32870  \n",
       "7   0.26365  \n",
       "8   0.08500  \n",
       "9   0.33370  \n",
       "10  0.28470  \n",
       "11  0.10910  \n",
       "12  0.25260  \n",
       "13  0.34900  "
      ]
     },
     "execution_count": 30,
     "metadata": {},
     "output_type": "execute_result"
    }
   ],
   "source": [
    "sql.SQLiteClient.inline_query(\n",
    "    path  = result_path('2020-12-01_samples.sqlite'),\n",
    "    query = \"\"\"\n",
    "    SELECT\n",
    "        id, cultivo, band_0, band_1, band_2, band_3, band_4, band_5, band_6\n",
    "    FROM\n",
    "        output\n",
    "    \"\"\"\n",
    ")"
   ]
  },
  {
   "cell_type": "markdown",
   "id": "209adefc-c096-4076-80ee-9d2dcd8cf80f",
   "metadata": {},
   "source": [
    "### ComputeImageStatistics\n",
    "\n",
    "\n",
    "Ver: [ComputeImageStatistics](https://www.orfeo-toolbox.org/CookBook/Applications/app_ComputeImagesStatistics.html)"
   ]
  },
  {
   "cell_type": "code",
   "execution_count": 31,
   "id": "094d2f0c-28e2-4bf0-9e47-a02f8a0b6ad5",
   "metadata": {},
   "outputs": [
    {
     "name": "stdout",
     "output_type": "stream",
     "text": [
      "\n",
      "\n",
      "Compute rasters statistics...\n",
      "\n",
      "- Raster Paths: ../datasets/images/2020-10-01/complete_raster.tif\n",
      "- Stats Path : ../results/2020-10-01_norm_raster_stat.xml\n",
      "\n",
      "\n",
      "zsh:1: command not found: otbcli_ComputeImagesStatistics\n",
      "otbcli_ComputeImagesStatistics -il  -out.xml   0.00s user 0.00s system 74% cpu 0.001 total\n",
      "\n",
      "\n",
      "Compute rasters statistics...\n",
      "\n",
      "- Raster Paths: ../datasets/images/2020-11-01/complete_raster.tif\n",
      "- Stats Path : ../results/2020-11-01_norm_raster_stat.xml\n",
      "\n",
      "\n",
      "zsh:1: command not found: otbcli_ComputeImagesStatistics\n",
      "otbcli_ComputeImagesStatistics -il  -out.xml   0.00s user 0.00s system 75% cpu 0.001 total\n",
      "\n",
      "\n",
      "Compute rasters statistics...\n",
      "\n",
      "- Raster Paths: ../datasets/images/2020-12-01/complete_raster.tif\n",
      "- Stats Path : ../results/2020-12-01_norm_raster_stat.xml\n",
      "\n",
      "\n",
      "zsh:1: command not found: otbcli_ComputeImagesStatistics\n",
      "otbcli_ComputeImagesStatistics -il  -out.xml   0.00s user 0.00s system 71% cpu 0.001 total\n",
      "\n",
      "\n",
      "Compute rasters statistics...\n",
      "\n",
      "- Raster Paths: ../datasets/images/2021-01-01/complete_raster.tif\n",
      "- Stats Path : ../results/2021-01-01_norm_raster_stat.xml\n",
      "\n",
      "\n",
      "zsh:1: command not found: otbcli_ComputeImagesStatistics\n",
      "otbcli_ComputeImagesStatistics -il  -out.xml   0.00s user 0.00s system 77% cpu 0.001 total\n",
      "\n",
      "\n",
      "Compute rasters statistics...\n",
      "\n",
      "- Raster Paths: ../datasets/images/2021-02-20/complete_raster.tif\n",
      "- Stats Path : ../results/2021-02-20_norm_raster_stat.xml\n",
      "\n",
      "\n",
      "zsh:1: command not found: otbcli_ComputeImagesStatistics\n",
      "otbcli_ComputeImagesStatistics -il  -out.xml   0.00s user 0.00s system 72% cpu 0.001 total\n",
      "\n",
      "\n",
      "Compute rasters statistics...\n",
      "\n",
      "- Raster Paths: ../datasets/images/2021-03-17/complete_raster.tif\n",
      "- Stats Path : ../results/2021-03-17_norm_raster_stat.xml\n",
      "\n",
      "\n",
      "zsh:1: command not found: otbcli_ComputeImagesStatistics\n",
      "otbcli_ComputeImagesStatistics -il  -out.xml   0.00s user 0.00s system 74% cpu 0.001 total\n"
     ]
    }
   ],
   "source": [
    "for date in DATES:\n",
    "    compute_raster_statistics(\n",
    "        raster_paths = [raster_date_path(date, 'complete_raster')],\n",
    "        stat_file    = f'{date}_norm_raster_stat.xml',\n",
    "        verbose      = 1\n",
    "    )"
   ]
  },
  {
   "cell_type": "markdown",
   "id": "4c0f0dcc-4ec2-414f-bbdc-598fcb6128db",
   "metadata": {},
   "source": [
    "## Clasificacion por pixels\n",
    "\n",
    "\n",
    "Ver: [TrainVectorClassifier](https://www.orfeo-toolbox.org/CookBook/Applications/app_TrainVectorClassifier.html)"
   ]
  },
  {
   "cell_type": "code",
   "execution_count": 32,
   "id": "c7928c97-eca3-4760-8c0d-3083515db6b5",
   "metadata": {},
   "outputs": [
    {
     "name": "stdout",
     "output_type": "stream",
     "text": [
      "\n",
      "\n",
      "Training dt classifier...\n",
      "\n",
      "- SQL Path.............: ../results/2020-10-01_samples.sqlite\n",
      "- Stats Path...........: ../results/2020-10-01_norm_raster_stat.xml\n",
      "- Target...............: id\n",
      "- Features.............: ['band_0', 'band_1', 'band_2', 'band_3', 'band_4', 'band_5', 'band_6']\n",
      "- Model Path...........: ../results/2020-10-01_dt_model.txt\n",
      "- Confusion Matrix Path: ../results/2020-10-01_dt_cm_model.csv\n",
      "- Clasifier config.....:  -classifier dt -classifier.dt.min 1 -classifier.dt.max 10\n",
      "\n",
      "\n",
      "zsh:1: command not found: otbcli_TrainVectorClassifier\n",
      "otbcli_TrainVectorClassifier -io.vd ../results/2020-10-01_samples.sqlite       0.00s user 0.00s system 74% cpu 0.001 total\n",
      "\n",
      "\n",
      "Training dt classifier...\n",
      "\n",
      "- SQL Path.............: ../results/2020-11-01_samples.sqlite\n",
      "- Stats Path...........: ../results/2020-11-01_norm_raster_stat.xml\n",
      "- Target...............: id\n",
      "- Features.............: ['band_0', 'band_1', 'band_2', 'band_3', 'band_4', 'band_5', 'band_6']\n",
      "- Model Path...........: ../results/2020-11-01_dt_model.txt\n",
      "- Confusion Matrix Path: ../results/2020-11-01_dt_cm_model.csv\n",
      "- Clasifier config.....:  -classifier dt -classifier.dt.min 1 -classifier.dt.max 10\n",
      "\n",
      "\n",
      "zsh:1: command not found: otbcli_TrainVectorClassifier\n",
      "otbcli_TrainVectorClassifier -io.vd ../results/2020-11-01_samples.sqlite       0.00s user 0.00s system 75% cpu 0.001 total\n",
      "\n",
      "\n",
      "Training dt classifier...\n",
      "\n",
      "- SQL Path.............: ../results/2020-12-01_samples.sqlite\n",
      "- Stats Path...........: ../results/2020-12-01_norm_raster_stat.xml\n",
      "- Target...............: id\n",
      "- Features.............: ['band_0', 'band_1', 'band_2', 'band_3', 'band_4', 'band_5', 'band_6']\n",
      "- Model Path...........: ../results/2020-12-01_dt_model.txt\n",
      "- Confusion Matrix Path: ../results/2020-12-01_dt_cm_model.csv\n",
      "- Clasifier config.....:  -classifier dt -classifier.dt.min 1 -classifier.dt.max 10\n",
      "\n",
      "\n",
      "zsh:1: command not found: otbcli_TrainVectorClassifier\n",
      "otbcli_TrainVectorClassifier -io.vd ../results/2020-12-01_samples.sqlite       0.00s user 0.00s system 78% cpu 0.001 total\n",
      "\n",
      "\n",
      "Training dt classifier...\n",
      "\n",
      "- SQL Path.............: ../results/2021-01-01_samples.sqlite\n",
      "- Stats Path...........: ../results/2021-01-01_norm_raster_stat.xml\n",
      "- Target...............: id\n",
      "- Features.............: ['band_0', 'band_1', 'band_2', 'band_3', 'band_4', 'band_5', 'band_6']\n",
      "- Model Path...........: ../results/2021-01-01_dt_model.txt\n",
      "- Confusion Matrix Path: ../results/2021-01-01_dt_cm_model.csv\n",
      "- Clasifier config.....:  -classifier dt -classifier.dt.min 1 -classifier.dt.max 10\n",
      "\n",
      "\n",
      "zsh:1: command not found: otbcli_TrainVectorClassifier\n",
      "otbcli_TrainVectorClassifier -io.vd ../results/2021-01-01_samples.sqlite       0.00s user 0.00s system 76% cpu 0.001 total\n",
      "\n",
      "\n",
      "Training dt classifier...\n",
      "\n",
      "- SQL Path.............: ../results/2021-02-20_samples.sqlite\n",
      "- Stats Path...........: ../results/2021-02-20_norm_raster_stat.xml\n",
      "- Target...............: id\n",
      "- Features.............: ['band_0', 'band_1', 'band_2', 'band_3', 'band_4', 'band_5', 'band_6']\n",
      "- Model Path...........: ../results/2021-02-20_dt_model.txt\n",
      "- Confusion Matrix Path: ../results/2021-02-20_dt_cm_model.csv\n",
      "- Clasifier config.....:  -classifier dt -classifier.dt.min 1 -classifier.dt.max 10\n",
      "\n",
      "\n",
      "zsh:1: command not found: otbcli_TrainVectorClassifier\n",
      "otbcli_TrainVectorClassifier -io.vd ../results/2021-02-20_samples.sqlite       0.00s user 0.00s system 73% cpu 0.001 total\n",
      "\n",
      "\n",
      "Training dt classifier...\n",
      "\n",
      "- SQL Path.............: ../results/2021-03-17_samples.sqlite\n",
      "- Stats Path...........: ../results/2021-03-17_norm_raster_stat.xml\n",
      "- Target...............: id\n",
      "- Features.............: ['band_0', 'band_1', 'band_2', 'band_3', 'band_4', 'band_5', 'band_6']\n",
      "- Model Path...........: ../results/2021-03-17_dt_model.txt\n",
      "- Confusion Matrix Path: ../results/2021-03-17_dt_cm_model.csv\n",
      "- Clasifier config.....:  -classifier dt -classifier.dt.min 1 -classifier.dt.max 10\n",
      "\n",
      "\n",
      "zsh:1: command not found: otbcli_TrainVectorClassifier\n",
      "otbcli_TrainVectorClassifier -io.vd ../results/2021-03-17_samples.sqlite       0.00s user 0.00s system 75% cpu 0.001 total\n"
     ]
    }
   ],
   "source": [
    "for date in DATES:\n",
    "    train_clasifier(\n",
    "        sql_file         = f'{date}_samples.sqlite',\n",
    "        stat_file        = f'{date}_norm_raster_stat.xml',\n",
    "        out_model_file   = f'{date}_dt_model.txt',\n",
    "        out_cm_file      = f'{date}_dt_cm_model.csv',\n",
    "        verbose          = 1,\n",
    "        clasifier_config = {\n",
    "            'classifier': 'dt',\n",
    "            'classifier.dt.min': 1,\n",
    "            'classifier.dt.max': 10\n",
    "        }\n",
    "    )"
   ]
  },
  {
   "cell_type": "markdown",
   "id": "62716bd0-3305-4088-baa6-1144650b42dc",
   "metadata": {
    "tags": []
   },
   "source": [
    "## Join de campañas de cultivo y calculo de indices\n",
    "\n",
    "Partiendo de los rasters(.tif) pertenecientes a cada campaña de cultivo (6 en total), calculamos el indice NDVI para cada uno de estos. Luego realizamos la acción **Concat**, la cual realiza un join de todos los rasters. Esto significa que, como resultado tendremos un unico raster con las columnas de los 6 rasters iniciales. Como filas tendremos el mismo numero de pixels que los rasters iniciales. Por ejemplo: dados dos rasters 1 y 2 los cuales tiene 10 filas(pixels) y 1 columna cada uno, al concatenarlos tenemos un unico raster de 10 filas y 2 columna. **Concat** es el análogo al aplicar JOIN en sql."
   ]
  },
  {
   "cell_type": "markdown",
   "id": "55d8a4ec-4c55-47b9-a8af-8e960771de3d",
   "metadata": {},
   "source": [
    "### 1. Primero calculamos lo indice que creamos necesarios. Estos seran utilizados como features en el paso de clasificación."
   ]
  },
  {
   "cell_type": "code",
   "execution_count": 33,
   "id": "c2a73eb7-2b11-43a0-b6f9-95e3c2685653",
   "metadata": {},
   "outputs": [
    {
     "data": {
      "text/plain": [
       "['../datasets/images/2020-10-01/complete_raster.tif',\n",
       " '../datasets/images/2020-11-01/complete_raster.tif',\n",
       " '../datasets/images/2020-12-01/complete_raster.tif',\n",
       " '../datasets/images/2021-01-01/complete_raster.tif',\n",
       " '../datasets/images/2021-02-20/complete_raster.tif',\n",
       " '../datasets/images/2021-03-17/complete_raster.tif']"
      ]
     },
     "execution_count": 33,
     "metadata": {},
     "output_type": "execute_result"
    }
   ],
   "source": [
    "raster_paths = [raster_date_path(date, 'complete_raster') for date in DATES]\n",
    "raster_paths"
   ]
  },
  {
   "cell_type": "markdown",
   "id": "eb6328be-7cdd-4383-80ae-1791575857ab",
   "metadata": {},
   "source": [
    "<img src=\"../images/lansat2_bands.png\" alt=\"LANSAT2 Bands\" width=\"800\">"
   ]
  },
  {
   "cell_type": "markdown",
   "id": "98f74b48-5023-43e6-92ce-85f25beb2174",
   "metadata": {},
   "source": [
    "**Nota**: Las bandas en los rasters comienzan desde 0 no desde 1."
   ]
  },
  {
   "cell_type": "markdown",
   "id": "af1adc41-5fae-4d8c-9676-691ab6d42144",
   "metadata": {},
   "source": [
    "Ver: [RadiometricIndices](https://www.orfeo-toolbox.org/CookBook/Applications/app_RadiometricIndices.html)"
   ]
  },
  {
   "cell_type": "code",
   "execution_count": 34,
   "id": "fa6adeb1-6c48-45a7-8557-f0eb27d2c31d",
   "metadata": {},
   "outputs": [
    {
     "data": {
      "text/plain": [
       "['Vegetation:NDVI',\n",
       " 'Vegetation:TNDVI',\n",
       " 'Vegetation:RVI',\n",
       " 'Vegetation:SAVI',\n",
       " 'Vegetation:TSAVI',\n",
       " 'Vegetation:MSAVI',\n",
       " 'Vegetation:MSAVI2',\n",
       " 'Vegetation:IPVI',\n",
       " 'Vegetation:LAIFromNDVILog',\n",
       " 'Vegetation:LAIFromReflLinear',\n",
       " 'Vegetation:LAIFromNDVIFormo']"
      ]
     },
     "execution_count": 34,
     "metadata": {},
     "output_type": "execute_result"
    }
   ],
   "source": [
    "ALL_VEGETATION_INDEXES"
   ]
  },
  {
   "cell_type": "code",
   "execution_count": 35,
   "id": "21d0039a-e762-42ae-8c31-b5e08cf1ade2",
   "metadata": {},
   "outputs": [
    {
     "name": "stdout",
     "output_type": "stream",
     "text": [
      "\n",
      "\n",
      "Calculate indexes: \"['Vegetation:NDVI', 'Vegetation:TNDVI', 'Vegetation:RVI', 'Vegetation:SAVI', 'Vegetation:TSAVI', 'Vegetation:MSAVI', 'Vegetation:MSAVI2', 'Vegetation:IPVI', 'Vegetation:LAIFromNDVILog', 'Vegetation:LAIFromReflLinear', 'Vegetation:LAIFromNDVIFormo']\"...\n",
      "\n",
      "\n",
      "\n",
      "- In: ../datasets/images/2020-10-01/complete_raster.tif\n",
      "- Out: ../datasets/images/2020-10-01/complete_raster_indexes.tif\n",
      "zsh:1: command not found: otbcli_RadiometricIndices\n",
      "otbcli_RadiometricIndices -channels.blue 1 -channels.green 2 -channels.red 3   0.00s user 0.00s system 73% cpu 0.001 total\n",
      "\n",
      "\n",
      "- In: ../datasets/images/2020-11-01/complete_raster.tif\n",
      "- Out: ../datasets/images/2020-11-01/complete_raster_indexes.tif\n",
      "zsh:1: command not found: otbcli_RadiometricIndices\n",
      "otbcli_RadiometricIndices -channels.blue 1 -channels.green 2 -channels.red 3   0.00s user 0.00s system 74% cpu 0.001 total\n",
      "\n",
      "\n",
      "- In: ../datasets/images/2020-12-01/complete_raster.tif\n",
      "- Out: ../datasets/images/2020-12-01/complete_raster_indexes.tif\n",
      "zsh:1: command not found: otbcli_RadiometricIndices\n",
      "otbcli_RadiometricIndices -channels.blue 1 -channels.green 2 -channels.red 3   0.00s user 0.00s system 76% cpu 0.001 total\n",
      "\n",
      "\n",
      "- In: ../datasets/images/2021-01-01/complete_raster.tif\n",
      "- Out: ../datasets/images/2021-01-01/complete_raster_indexes.tif\n",
      "zsh:1: command not found: otbcli_RadiometricIndices\n",
      "otbcli_RadiometricIndices -channels.blue 1 -channels.green 2 -channels.red 3   0.00s user 0.00s system 76% cpu 0.001 total\n",
      "\n",
      "\n",
      "- In: ../datasets/images/2021-02-20/complete_raster.tif\n",
      "- Out: ../datasets/images/2021-02-20/complete_raster_indexes.tif\n",
      "zsh:1: command not found: otbcli_RadiometricIndices\n",
      "otbcli_RadiometricIndices -channels.blue 1 -channels.green 2 -channels.red 3   0.00s user 0.00s system 75% cpu 0.001 total\n",
      "\n",
      "\n",
      "- In: ../datasets/images/2021-03-17/complete_raster.tif\n",
      "- Out: ../datasets/images/2021-03-17/complete_raster_indexes.tif\n",
      "zsh:1: command not found: otbcli_RadiometricIndices\n",
      "otbcli_RadiometricIndices -channels.blue 1 -channels.green 2 -channels.red 3   0.00s user 0.00s system 75% cpu 0.001 total\n"
     ]
    }
   ],
   "source": [
    "compute_index(\n",
    "    raster_paths,\n",
    "    indexes     = ALL_VEGETATION_INDEXES,\n",
    "#    indexes     = 'Vegetation:NDVI',\n",
    "    out_postfix = 'indexes',\n",
    "    blue_band   = 1,\n",
    "    green_band  = 2,\n",
    "    red_band    = 3,\n",
    "    nir_band    = 7,\n",
    "    verbose     = 1\n",
    ")"
   ]
  },
  {
   "cell_type": "markdown",
   "id": "002c11a3-191a-4645-af70-b13d26e3ce65",
   "metadata": {},
   "source": [
    "Como resultado tenemos un nuevo raster por cada campaña de cultivo, cada uno contiene una columna por cada indice calculado."
   ]
  },
  {
   "cell_type": "code",
   "execution_count": 36,
   "id": "80120482-97ae-4b9a-9d6f-8f81b58c7de3",
   "metadata": {},
   "outputs": [
    {
     "name": "stdout",
     "output_type": "stream",
     "text": [
      "ERROR 4: ../datasets/images/2020-10-01/complete_raster_indexes.tif: No such file or directory\n",
      "gdalinfo failed - unable to open '../datasets/images/2020-10-01/complete_raster_indexes.tif'.\n"
     ]
    }
   ],
   "source": [
    "!gdalinfo {raster_date_path('2020-10-01', 'complete_raster_indexes')}"
   ]
  },
  {
   "cell_type": "markdown",
   "id": "b6ea7ad3-3df2-40c2-be36-4cfcae2b8bb5",
   "metadata": {
    "tags": []
   },
   "source": [
    "### 2. Join de rasters\n",
    "\n",
    "En este paso vamos a realizar un join de todos los rasters del paso anterior."
   ]
  },
  {
   "cell_type": "code",
   "execution_count": 37,
   "id": "51b86071-5adb-456f-865b-2358c85daf77",
   "metadata": {},
   "outputs": [
    {
     "name": "stdout",
     "output_type": "stream",
     "text": [
      "\n",
      "\n",
      "Join rasters...\n",
      "\n",
      "- Input Rasters: ../datasets/images/2020-10-01/complete_raster_indexes.tif ../datasets/images/2020-11-01/complete_raster_indexes.tif ../datasets/images/2020-12-01/complete_raster_indexes.tif ../datasets/images/2021-01-01/complete_raster_indexes.tif ../datasets/images/2021-02-20/complete_raster_indexes.tif ../datasets/images/2021-03-17/complete_raster_indexes.tif\n",
      "- Output Raster: . . / r e s u l t s / c o m p l e t e _ r a s t e r s _ j o i n\n",
      "zsh:1: command not found: otbcli_ConcatenateImages\n",
      "otbcli_ConcatenateImages -il       -out ../results/complete_rasters_join  0.00s user 0.00s system 76% cpu 0.001 total\n"
     ]
    }
   ],
   "source": [
    "join_rasters(\n",
    "    raster_paths = [raster_date_path(date, 'complete_raster_indexes') for date in DATES],\n",
    "    out_file     = result_path('complete_rasters_join'),\n",
    "    verbose      = 1\n",
    ")"
   ]
  },
  {
   "cell_type": "markdown",
   "id": "8e804d46-91a9-4a1c-8cc3-ecd714b9c079",
   "metadata": {},
   "source": [
    "A continuación podemos observar que el raster consolidado tiene 66 Bandas. El formato raster agregar el nombre **Band** a sus columnas, ya que es la información mas común para este tipo de datos. En nuestro caso estas columnas representan los indices de cada raster de entrada calculado para por cada pixel. Como resultado tendremos un único raster o mapa con todos los indices calculado para cada raster inicial y los pixels del mapa como filas."
   ]
  },
  {
   "cell_type": "code",
   "execution_count": 38,
   "id": "ae5ec885-9a7e-415d-8666-b3e6da783111",
   "metadata": {},
   "outputs": [
    {
     "name": "stdout",
     "output_type": "stream",
     "text": [
      "ERROR 4: ../results/complete_rasters_join.tif: No such file or directory\n",
      "gdalinfo failed - unable to open '../results/complete_rasters_join.tif'.\n"
     ]
    }
   ],
   "source": [
    "!gdalinfo  {result_path('complete_rasters_join.tif')}"
   ]
  },
  {
   "cell_type": "markdown",
   "id": "bdc1e899-8164-4ae6-b60e-de555df8eec6",
   "metadata": {},
   "source": [
    "Cuanto pesa el mapa o raster consolidado? "
   ]
  },
  {
   "cell_type": "code",
   "execution_count": 39,
   "id": "6a3697bb-73a9-460d-8a50-bce7f6677076",
   "metadata": {},
   "outputs": [
    {
     "name": "stdout",
     "output_type": "stream",
     "text": [
      "du: ../results/complete_rasters_join.tif: No such file or directory\n"
     ]
    }
   ],
   "source": [
    "!du -h {result_path('complete_rasters_join.tif')}"
   ]
  },
  {
   "cell_type": "markdown",
   "id": "3dadc480-c35d-4e8f-94a1-64c21100ad95",
   "metadata": {},
   "source": [
    "### 3. Clasificacion por pixes usando el raster de indices consolidado"
   ]
  },
  {
   "cell_type": "code",
   "execution_count": 40,
   "id": "fdf92d60-537e-4449-aefa-501b1af5ed47",
   "metadata": {},
   "outputs": [
    {
     "name": "stdout",
     "output_type": "stream",
     "text": [
      "\n",
      "\n",
      "Generate class statistics...\n",
      "\n",
      "- In Paths: ../results/complete_rasters_join.tif\n",
      "- Vec Path: ../datasets/data/verdad_campo.shp\n",
      "- Field...: id\n",
      "- Out Path: ../results/complete_rasters_join_class_stat.xml\n",
      "\n",
      "\n",
      "zsh:1: command not found: otbcli_PolygonClassStatistics\n",
      "otbcli_PolygonClassStatistics -in ../results/complete_rasters_join.tif -vec    0.00s user 0.00s system 75% cpu 0.001 total\n",
      "<?xml version=\"1.0\" ?>\n",
      "<GeneralStatistics>\n",
      "    <Statistic name=\"samplesPerClass\">\n",
      "        <StatisticMap key=\"1\" value=\"134\" />\n",
      "        <StatisticMap key=\"10\" value=\"2\" />\n",
      "        <StatisticMap key=\"2\" value=\"107\" />\n",
      "        <StatisticMap key=\"20\" value=\"18\" />\n",
      "        <StatisticMap key=\"3\" value=\"139\" />\n",
      "        <StatisticMap key=\"4\" value=\"34\" />\n",
      "        <StatisticMap key=\"5\" value=\"32\" />\n"
     ]
    }
   ],
   "source": [
    "class_stat_path = class_statistics(\n",
    "    [result_path('complete_rasters_join.tif')], \n",
    "    out_file = 'complete_rasters_join_class_stat.xml', \n",
    "    verbose = 1\n",
    ")"
   ]
  },
  {
   "cell_type": "code",
   "execution_count": 41,
   "id": "947693ab-dc5e-4165-9686-6ccd25e83f03",
   "metadata": {},
   "outputs": [
    {
     "name": "stdout",
     "output_type": "stream",
     "text": [
      "\n",
      "\n",
      "Sampling...\n",
      "\n",
      "- In Paths......: ../results/complete_rasters_join.tif\n",
      "- Vec Path......: ../datasets/data/verdad_campo.shp\n",
      "- Field.........: id\n",
      "- Instats Path..: ../results/complete_rasters_join_class_stat.xml\n",
      "- Strategy......: total\n",
      "- Out Rates Path: ../results/complete_rasters_join_rates.csv\n",
      "- Out SQL Path..: ../results/complete_rasters_join_samples.sqlite\n",
      "\n",
      "\n",
      "zsh:1: command not found: otbcli_SampleSelection\n",
      "otbcli_SampleSelection -in ../results/complete_rasters_join.tif -vec  -instat  0.00s user 0.00s system 75% cpu 0.001 total\n"
     ]
    }
   ],
   "source": [
    "sampling(\n",
    "    [result_path('complete_rasters_join.tif')],\n",
    "    class_stat_path = class_stat_path,\n",
    "    out_rates_path  = f'complete_rasters_join_rates.csv',\n",
    "    out_sql_path    = f'complete_rasters_join_samples.sqlite',\n",
    "    verbose         = 1,\n",
    "    strategy        = 'total'\n",
    ")"
   ]
  },
  {
   "cell_type": "code",
   "execution_count": 42,
   "id": "dc9cf151-ec33-4e38-a7f3-7ea47bfd43cd",
   "metadata": {},
   "outputs": [
    {
     "data": {
      "text/plain": [
       "['CREATE TABLE \"output\" ( \"ogc_fid\" INTEGER PRIMARY KEY AUTOINCREMENT, \"GEOMETRY\" BLOB, \"in1\" VARCHAR(6), \"id\" BIGINT, \"cultivo\" VARCHAR(10), \"originfid\" INTEGER, \"band_0\" FLOAT, \"band_1\" FLOAT, \"band_2\" FLOAT, \"band_3\" FLOAT, \"band_4\" FLOAT, \"band_5\" FLOAT, \"band_6\" FLOAT, \"band_7\" FLOAT, \"band_8\" FLOAT, \"band_9\" FLOAT, \"band_10\" FLOAT, \"band_11\" FLOAT, \"band_12\" FLOAT, \"band_13\" FLOAT, \"band_14\" FLOAT, \"band_15\" FLOAT, \"band_16\" FLOAT, \"band_17\" FLOAT, \"band_18\" FLOAT, \"band_19\" FLOAT, \"band_20\" FLOAT, \"band_21\" FLOAT, \"band_22\" FLOAT, \"band_23\" FLOAT, \"band_24\" FLOAT, \"band_25\" FLOAT, \"band_26\" FLOAT, \"band_27\" FLOAT, \"band_28\" FLOAT, \"band_29\" FLOAT, \"band_30\" FLOAT, \"band_31\" FLOAT, \"band_32\" FLOAT, \"band_33\" FLOAT, \"band_34\" FLOAT, \"band_35\" FLOAT, \"band_36\" FLOAT, \"band_37\" FLOAT, \"band_38\" FLOAT, \"band_39\" FLOAT, \"band_40\" FLOAT, \"band_41\" FLOAT, \"band_42\" FLOAT, \"band_43\" FLOAT, \"band_44\" FLOAT, \"band_45\" FLOAT, \"band_46\" FLOAT, \"band_47\" FLOAT, \"band_48\" FLOAT, \"band_49\" FLOAT, \"band_50\" FLOAT, \"band_51\" FLOAT, \"band_52\" FLOAT, \"band_53\" FLOAT, \"band_54\" FLOAT, \"band_55\" FLOAT, \"band_56\" FLOAT, \"band_57\" FLOAT, \"band_58\" FLOAT, \"band_59\" FLOAT, \"band_60\" FLOAT, \"band_61\" FLOAT, \"band_62\" FLOAT, \"band_63\" FLOAT, \"band_64\" FLOAT, \"band_65\" FLOAT)']"
      ]
     },
     "execution_count": 42,
     "metadata": {},
     "output_type": "execute_result"
    }
   ],
   "source": [
    "sql.SQLiteClient.inline_tables_definition(\n",
    "    path  = result_path('complete_rasters_join_samples.sqlite'), \n",
    "    table = 'output'\n",
    ")"
   ]
  },
  {
   "cell_type": "code",
   "execution_count": 43,
   "id": "d8a767f0-4a2e-4e49-b0cd-41887f54dc9a",
   "metadata": {},
   "outputs": [
    {
     "name": "stdout",
     "output_type": "stream",
     "text": [
      "\n",
      "\n",
      "Sample extraction...\n",
      "\n",
      "- In Paths......: ../results/complete_rasters_join.tif\n",
      "- Vec SQL Path..: ../results/complete_rasters_join_samples.sqlite\n",
      "- Field.........: id\n",
      "\n",
      "\n",
      "zsh:1: command not found: otbcli_SampleExtraction\n",
      "otbcli_SampleExtraction -in ../results/complete_rasters_join.tif -vec  -field  0.00s user 0.00s system 73% cpu 0.001 total\n"
     ]
    }
   ],
   "source": [
    "sample_extraction(\n",
    "    raster_paths = [result_path('complete_rasters_join.tif')],\n",
    "    out_sql_file = f'complete_rasters_join_samples.sqlite',\n",
    "    verbose      = 1\n",
    ")"
   ]
  },
  {
   "cell_type": "code",
   "execution_count": 44,
   "id": "1ac831be-5450-40f4-8dcf-0a79a5fe53d5",
   "metadata": {},
   "outputs": [
    {
     "data": {
      "text/plain": [
       "['CREATE TABLE \"output\" ( \"ogc_fid\" INTEGER PRIMARY KEY AUTOINCREMENT, \"GEOMETRY\" BLOB, \"in1\" VARCHAR(6), \"id\" BIGINT, \"cultivo\" VARCHAR(10), \"originfid\" INTEGER, \"band_0\" FLOAT, \"band_1\" FLOAT, \"band_2\" FLOAT, \"band_3\" FLOAT, \"band_4\" FLOAT, \"band_5\" FLOAT, \"band_6\" FLOAT, \"band_7\" FLOAT, \"band_8\" FLOAT, \"band_9\" FLOAT, \"band_10\" FLOAT, \"band_11\" FLOAT, \"band_12\" FLOAT, \"band_13\" FLOAT, \"band_14\" FLOAT, \"band_15\" FLOAT, \"band_16\" FLOAT, \"band_17\" FLOAT, \"band_18\" FLOAT, \"band_19\" FLOAT, \"band_20\" FLOAT, \"band_21\" FLOAT, \"band_22\" FLOAT, \"band_23\" FLOAT, \"band_24\" FLOAT, \"band_25\" FLOAT, \"band_26\" FLOAT, \"band_27\" FLOAT, \"band_28\" FLOAT, \"band_29\" FLOAT, \"band_30\" FLOAT, \"band_31\" FLOAT, \"band_32\" FLOAT, \"band_33\" FLOAT, \"band_34\" FLOAT, \"band_35\" FLOAT, \"band_36\" FLOAT, \"band_37\" FLOAT, \"band_38\" FLOAT, \"band_39\" FLOAT, \"band_40\" FLOAT, \"band_41\" FLOAT, \"band_42\" FLOAT, \"band_43\" FLOAT, \"band_44\" FLOAT, \"band_45\" FLOAT, \"band_46\" FLOAT, \"band_47\" FLOAT, \"band_48\" FLOAT, \"band_49\" FLOAT, \"band_50\" FLOAT, \"band_51\" FLOAT, \"band_52\" FLOAT, \"band_53\" FLOAT, \"band_54\" FLOAT, \"band_55\" FLOAT, \"band_56\" FLOAT, \"band_57\" FLOAT, \"band_58\" FLOAT, \"band_59\" FLOAT, \"band_60\" FLOAT, \"band_61\" FLOAT, \"band_62\" FLOAT, \"band_63\" FLOAT, \"band_64\" FLOAT, \"band_65\" FLOAT)']"
      ]
     },
     "execution_count": 44,
     "metadata": {},
     "output_type": "execute_result"
    }
   ],
   "source": [
    "sql.SQLiteClient.inline_tables_definition(\n",
    "    path  = result_path('complete_rasters_join_samples.sqlite'), \n",
    "    table = 'output'\n",
    ")"
   ]
  },
  {
   "cell_type": "code",
   "execution_count": 45,
   "id": "7ad42d8b-ed6c-462c-9cf5-9ec2741b5648",
   "metadata": {},
   "outputs": [
    {
     "data": {
      "text/html": [
       "<div>\n",
       "<style scoped>\n",
       "    .dataframe tbody tr th:only-of-type {\n",
       "        vertical-align: middle;\n",
       "    }\n",
       "\n",
       "    .dataframe tbody tr th {\n",
       "        vertical-align: top;\n",
       "    }\n",
       "\n",
       "    .dataframe thead th {\n",
       "        text-align: right;\n",
       "    }\n",
       "</style>\n",
       "<table border=\"1\" class=\"dataframe\">\n",
       "  <thead>\n",
       "    <tr style=\"text-align: right;\">\n",
       "      <th></th>\n",
       "      <th>Codigo de cultivo</th>\n",
       "      <th>Cantidad de pixels (Solo aquellos que tiene verdad de campo)</th>\n",
       "    </tr>\n",
       "  </thead>\n",
       "  <tbody>\n",
       "    <tr>\n",
       "      <th>0</th>\n",
       "      <td>SOJA</td>\n",
       "      <td>168</td>\n",
       "    </tr>\n",
       "    <tr>\n",
       "      <th>1</th>\n",
       "      <td>MAIZ</td>\n",
       "      <td>246</td>\n",
       "    </tr>\n",
       "    <tr>\n",
       "      <th>2</th>\n",
       "      <td>GIRASOL</td>\n",
       "      <td>32</td>\n",
       "    </tr>\n",
       "    <tr>\n",
       "      <th>3</th>\n",
       "      <td>CAMPONATUR</td>\n",
       "      <td>18</td>\n",
       "    </tr>\n",
       "    <tr>\n",
       "      <th>4</th>\n",
       "      <td>ALFALFA</td>\n",
       "      <td>2</td>\n",
       "    </tr>\n",
       "  </tbody>\n",
       "</table>\n",
       "</div>"
      ],
      "text/plain": [
       "  Codigo de cultivo  \\\n",
       "0              SOJA   \n",
       "1              MAIZ   \n",
       "2           GIRASOL   \n",
       "3        CAMPONATUR   \n",
       "4           ALFALFA   \n",
       "\n",
       "   Cantidad de pixels (Solo aquellos que tiene verdad de campo)  \n",
       "0                                                168             \n",
       "1                                                246             \n",
       "2                                                 32             \n",
       "3                                                 18             \n",
       "4                                                  2             "
      ]
     },
     "execution_count": 45,
     "metadata": {},
     "output_type": "execute_result"
    }
   ],
   "source": [
    "sql.SQLiteClient.inline_query(\n",
    "    path  = result_path('complete_rasters_join_samples.sqlite'),\n",
    "    query = \"\"\"\n",
    "        SELECT \n",
    "            cultivo  AS 'Codigo de cultivo',\n",
    "            COUNT(*) AS 'Cantidad de pixels (Solo aquellos que tiene verdad de campo)'\n",
    "        FROM\n",
    "            output\n",
    "        GROUP BY\n",
    "            cultivo\n",
    "        ORDER BY\n",
    "            'Cantidad de pixels (Solo aquellos que tiene verdad de campo)' desc\n",
    "    \"\"\"\n",
    ")"
   ]
  },
  {
   "cell_type": "code",
   "execution_count": 46,
   "id": "b9ef33a9-4db2-4524-8d21-1ea398ff086e",
   "metadata": {},
   "outputs": [
    {
     "name": "stdout",
     "output_type": "stream",
     "text": [
      "\n",
      "\n",
      "Compute rasters statistics...\n",
      "\n",
      "- Raster Paths: ../results/complete_rasters_join.tif\n",
      "- Stats Path : ../results/complete_rasters_join_norm_raster_stat.xml\n",
      "\n",
      "\n",
      "zsh:1: command not found: otbcli_ComputeImagesStatistics\n",
      "otbcli_ComputeImagesStatistics -il ../results/complete_rasters_join.tif    0.00s user 0.00s system 72% cpu 0.001 total\n"
     ]
    },
    {
     "data": {
      "text/plain": [
       "'../results/complete_rasters_join_norm_raster_stat.xml'"
      ]
     },
     "execution_count": 46,
     "metadata": {},
     "output_type": "execute_result"
    }
   ],
   "source": [
    "compute_raster_statistics(\n",
    "    raster_paths = [result_path('complete_rasters_join.tif')],\n",
    "    stat_file    = f'complete_rasters_join_norm_raster_stat.xml',\n",
    "    verbose      = 1\n",
    ")"
   ]
  },
  {
   "cell_type": "code",
   "execution_count": 47,
   "id": "893396e6-a56b-4368-8bd3-78124e89d7a2",
   "metadata": {},
   "outputs": [
    {
     "name": "stdout",
     "output_type": "stream",
     "text": [
      "\n",
      "\n",
      "Training rf classifier...\n",
      "\n",
      "- SQL Path.............: ../results/complete_rasters_join_samples.sqlite\n",
      "- Stats Path...........: ../results/complete_rasters_join_norm_raster_stat.xml\n",
      "- Target...............: id\n",
      "- Features.............: ['band_0', 'band_1', 'band_2', 'band_3', 'band_4', 'band_5', 'band_6', 'band_7', 'band_8', 'band_9', 'band_10', 'band_11', 'band_12', 'band_13', 'band_14', 'band_15', 'band_16', 'band_17', 'band_18', 'band_19', 'band_20', 'band_21', 'band_22', 'band_23', 'band_24', 'band_25', 'band_26', 'band_27', 'band_28', 'band_29', 'band_30', 'band_31', 'band_32', 'band_33', 'band_34', 'band_35', 'band_36', 'band_37', 'band_38', 'band_39', 'band_40', 'band_41', 'band_42', 'band_43', 'band_44', 'band_45', 'band_46', 'band_47', 'band_48', 'band_49', 'band_50', 'band_51', 'band_52', 'band_53', 'band_54', 'band_55', 'band_56', 'band_57', 'band_58', 'band_59', 'band_60', 'band_61', 'band_62', 'band_63', 'band_64', 'band_65']\n",
      "- Model Path...........: ../results/complete_rasters_join_rf_model.txt\n",
      "- Confusion Matrix Path: ../results/complete_rasters_join_rf_cm_model.csv\n",
      "- Clasifier config.....:  -classifier rf -classifier.rf.min 1 -classifier.rf.max 10\n",
      "\n",
      "\n",
      "zsh:1: command not found: otbcli_TrainVectorClassifier\n",
      "otbcli_TrainVectorClassifier -io.vd  -io.stats  -feat band_0 band_1 band_2     0.00s user 0.00s system 81% cpu 0.001 total\n"
     ]
    }
   ],
   "source": [
    "train_clasifier(\n",
    "    sql_file         = f'complete_rasters_join_samples.sqlite',\n",
    "    stat_file        = f'complete_rasters_join_norm_raster_stat.xml',\n",
    "    out_model_file   = f'complete_rasters_join_rf_model.txt',\n",
    "    out_cm_file      = f'complete_rasters_join_rf_cm_model.csv',\n",
    "    verbose          = 1,\n",
    "    features         = [f'band_{idx}' for idx in range(66)],\n",
    "    clasifier_config = {\n",
    "        'classifier': 'rf',\n",
    "        'classifier.rf.min': 1,\n",
    "        'classifier.rf.max': 10\n",
    "    }\n",
    ")"
   ]
  },
  {
   "cell_type": "markdown",
   "id": "25d85edb-ec69-49dd-b9b7-90ee72c0cd50",
   "metadata": {},
   "source": [
    "## Construcción de dataset CSV\n",
    "\n",
    "A partir de el conjunto completo de pixels que tienen verdad de campo construmimos un dataset en csv, renombrando las columnas para identificar a que indice y campaña de cultivo pertenecen."
   ]
  },
  {
   "cell_type": "code",
   "execution_count": 48,
   "id": "bdfa70b9-3851-4b33-a43c-081447d8269b",
   "metadata": {},
   "outputs": [],
   "source": [
    "df = sql.SQLiteClient.inline_query(\n",
    "    path  = result_path('complete_rasters_join_samples.sqlite'), \n",
    "    query = 'SELECT * FROM output'\n",
    ")"
   ]
  },
  {
   "cell_type": "code",
   "execution_count": 49,
   "id": "5181e8a5-5f8e-4a8b-b65f-8b15f6cba520",
   "metadata": {},
   "outputs": [
    {
     "data": {
      "text/plain": [
       "(array(['NDVI_1', 'TNDVI_1', 'RVI_1', 'SAVI_1', 'TSAVI_1', 'MSAVI_1',\n",
       "        'MSAVI2_1', 'IPVI_1', 'LAIFromNDVILog_1', 'LAIFromReflLinear_1',\n",
       "        'LAIFromNDVIFormo_1', 'NDVI_2', 'TNDVI_2', 'RVI_2', 'SAVI_2',\n",
       "        'TSAVI_2', 'MSAVI_2', 'MSAVI2_2', 'IPVI_2', 'LAIFromNDVILog_2',\n",
       "        'LAIFromReflLinear_2', 'LAIFromNDVIFormo_2', 'NDVI_3', 'TNDVI_3',\n",
       "        'RVI_3', 'SAVI_3', 'TSAVI_3', 'MSAVI_3', 'MSAVI2_3', 'IPVI_3',\n",
       "        'LAIFromNDVILog_3', 'LAIFromReflLinear_3', 'LAIFromNDVIFormo_3',\n",
       "        'NDVI_4', 'TNDVI_4', 'RVI_4', 'SAVI_4', 'TSAVI_4', 'MSAVI_4',\n",
       "        'MSAVI2_4', 'IPVI_4', 'LAIFromNDVILog_4', 'LAIFromReflLinear_4',\n",
       "        'LAIFromNDVIFormo_4', 'NDVI_5', 'TNDVI_5', 'RVI_5', 'SAVI_5',\n",
       "        'TSAVI_5', 'MSAVI_5', 'MSAVI2_5', 'IPVI_5', 'LAIFromNDVILog_5',\n",
       "        'LAIFromReflLinear_5', 'LAIFromNDVIFormo_5', 'NDVI_6', 'TNDVI_6',\n",
       "        'RVI_6', 'SAVI_6', 'TSAVI_6', 'MSAVI_6', 'MSAVI2_6', 'IPVI_6',\n",
       "        'LAIFromNDVILog_6', 'LAIFromReflLinear_6', 'LAIFromNDVIFormo_6'],\n",
       "       dtype='<U19'),\n",
       " array(['band_0', 'band_1', 'band_2', 'band_3', 'band_4', 'band_5',\n",
       "        'band_6', 'band_7', 'band_8', 'band_9', 'band_10', 'band_11',\n",
       "        'band_12', 'band_13', 'band_14', 'band_15', 'band_16', 'band_17',\n",
       "        'band_18', 'band_19', 'band_20', 'band_21', 'band_22', 'band_23',\n",
       "        'band_24', 'band_25', 'band_26', 'band_27', 'band_28', 'band_29',\n",
       "        'band_30', 'band_31', 'band_32', 'band_33', 'band_34', 'band_35',\n",
       "        'band_36', 'band_37', 'band_38', 'band_39', 'band_40', 'band_41',\n",
       "        'band_42', 'band_43', 'band_44', 'band_45', 'band_46', 'band_47',\n",
       "        'band_48', 'band_49', 'band_50', 'band_51', 'band_52', 'band_53',\n",
       "        'band_54', 'band_55', 'band_56', 'band_57', 'band_58', 'band_59',\n",
       "        'band_60', 'band_61', 'band_62', 'band_63', 'band_64', 'band_65'],\n",
       "       dtype='<U7'))"
      ]
     },
     "execution_count": 49,
     "metadata": {},
     "output_type": "execute_result"
    }
   ],
   "source": [
    "indexes_columns = flatten([[f'{value.replace(\"Vegetation:\", \"\")}_{i+1}' for value in ALL_VEGETATION_INDEXES] for i in range(len(DATES))])\n",
    "\n",
    "band_columns = np.array(list(filter(lambda v: 'band_' in v, df.columns)))\n",
    "\n",
    "indexes_columns, band_columns"
   ]
  },
  {
   "cell_type": "code",
   "execution_count": 50,
   "id": "b051dc64-bbb0-44cb-9d96-5ae580f149e2",
   "metadata": {},
   "outputs": [],
   "source": [
    "rename_def = {k:v for k,v in zip(band_columns, indexes_columns) }"
   ]
  },
  {
   "cell_type": "markdown",
   "id": "4d459731-ab37-4646-bb5d-1e588e1ac8c8",
   "metadata": {},
   "source": [
    "### Target combinado\n",
    "\n",
    "Concatenamos las columnas id y colvibo apra creat la columna target_combined."
   ]
  },
  {
   "cell_type": "code",
   "execution_count": 51,
   "id": "fb5fdb37-2cc4-4511-9b45-e26a5ca788ff",
   "metadata": {},
   "outputs": [],
   "source": [
    "df = df.rename(columns =rename_def)\n",
    "\n",
    "df['target_combined'] = df[\"cultivo\"] + '_' + df[\"id\"].astype(str)"
   ]
  },
  {
   "cell_type": "code",
   "execution_count": 52,
   "id": "8d293c7c-f508-4dc0-bcf4-337e2c8ac4b9",
   "metadata": {},
   "outputs": [
    {
     "data": {
      "text/plain": [
       "target_combined\n",
       "ALFALFA_10         2\n",
       "CAMPONATUR_20     18\n",
       "GIRASOL_5         32\n",
       "MAIZ_2           107\n",
       "MAIZ_3           139\n",
       "SOJA_1           134\n",
       "SOJA_4            34\n",
       "dtype: int64"
      ]
     },
     "execution_count": 52,
     "metadata": {},
     "output_type": "execute_result"
    }
   ],
   "source": [
    "df.groupby(['target_combined']).size()"
   ]
  },
  {
   "cell_type": "markdown",
   "id": "78be22b0-5fcd-4139-8baa-e6889b1c75cf",
   "metadata": {},
   "source": [
    "### Target combinado solo maiz, soja  y others\n",
    "\n",
    "Hacemso merge de todas catagorias expecto mais y soja en una nueva categoria OTHERS."
   ]
  },
  {
   "cell_type": "code",
   "execution_count": 53,
   "id": "1a7b093f-6458-4f00-bf35-38d9a915a813",
   "metadata": {},
   "outputs": [
    {
     "data": {
      "text/plain": [
       "target_compined_maiz_soja_others\n",
       "MAIZ_2    107\n",
       "MAIZ_3    139\n",
       "OTHER      52\n",
       "SOJA_1    134\n",
       "SOJA_4     34\n",
       "dtype: int64"
      ]
     },
     "execution_count": 53,
     "metadata": {},
     "output_type": "execute_result"
    }
   ],
   "source": [
    "others = [ 'ALFALFA_10', 'CAMPONATUR_20', 'GIRASOL_5']\n",
    "df['target_compined_maiz_soja_others'] = df['target_combined'].apply(lambda v: 'OTHER' if v in others else v)\n",
    "df.groupby(['target_compined_maiz_soja_others']).size()"
   ]
  },
  {
   "cell_type": "markdown",
   "id": "902d8b52-619e-4252-a288-64b2910879ae",
   "metadata": {},
   "source": [
    "### Target maiz vs others"
   ]
  },
  {
   "cell_type": "code",
   "execution_count": 54,
   "id": "a7fadd0c-480d-4180-bdc9-2abb4b694d8f",
   "metadata": {},
   "outputs": [
    {
     "data": {
      "text/plain": [
       "target_maiz_others\n",
       "0    220\n",
       "1    246\n",
       "dtype: int64"
      ]
     },
     "execution_count": 54,
     "metadata": {},
     "output_type": "execute_result"
    }
   ],
   "source": [
    "df['target_maiz_others'] = df['target_combined'].apply(lambda v: 1 if v in ['MAIZ_3', 'MAIZ_2'] else 0)\n",
    "df.groupby(['target_maiz_others']).size()"
   ]
  },
  {
   "cell_type": "markdown",
   "id": "7f1453ae-99fc-4080-b850-fc85ead98d8a",
   "metadata": {},
   "source": [
    "### Target maiz vs others"
   ]
  },
  {
   "cell_type": "code",
   "execution_count": 55,
   "id": "05fb75e4-e848-452d-8c35-9de9068c695e",
   "metadata": {},
   "outputs": [
    {
     "data": {
      "text/plain": [
       "target_soja_others\n",
       "0    298\n",
       "1    168\n",
       "dtype: int64"
      ]
     },
     "execution_count": 55,
     "metadata": {},
     "output_type": "execute_result"
    }
   ],
   "source": [
    "df['target_soja_others'] = df['target_combined'].apply(lambda v: 1 if v in ['SOJA_1', 'SOJA_4'] else 0)\n",
    "df.groupby(['target_soja_others']).size()"
   ]
  },
  {
   "cell_type": "markdown",
   "id": "a4171cb3-dfe2-4a3c-99d5-f81d6476d5a5",
   "metadata": {
    "tags": []
   },
   "source": [
    "## Agredamos columnas como min, max, mean, median, var"
   ]
  },
  {
   "cell_type": "markdown",
   "id": "c68af365-46ca-454f-b262-5d2c21f2f4b8",
   "metadata": {},
   "source": [
    "### Gardamos todos los datasets"
   ]
  },
  {
   "cell_type": "code",
   "execution_count": 56,
   "id": "274d6cf5-aebc-4d90-9358-b866e6fdf36b",
   "metadata": {},
   "outputs": [],
   "source": [
    "df.to_csv( result_path('dataset.csv'), encoding='utf-8')"
   ]
  },
  {
   "cell_type": "code",
   "execution_count": 57,
   "id": "b85d1417-6083-49a9-8814-bfb498f7497e",
   "metadata": {},
   "outputs": [],
   "source": [
    "for col in indexes_columns:\n",
    "    df[col] = (df[col] - df[col].mean()) / df[col].std() "
   ]
  },
  {
   "cell_type": "code",
   "execution_count": 58,
   "id": "dc0b6dd0-cc73-4182-9c34-8d18ac74f5ea",
   "metadata": {},
   "outputs": [],
   "source": [
    "df.to_csv( result_path('dataset_norm.csv'), encoding='utf-8')"
   ]
  },
  {
   "cell_type": "markdown",
   "id": "1ece9734-9cdf-4d4f-b7e7-ad17da0e9cdf",
   "metadata": {},
   "source": [
    "## Predicción"
   ]
  },
  {
   "cell_type": "code",
   "execution_count": 59,
   "id": "108ecfa8-d452-4bd0-968a-d33e4830dcdc",
   "metadata": {},
   "outputs": [
    {
     "name": "stdout",
     "output_type": "stream",
     "text": [
      "zsh:1: command not found: otbcli_ImageClassifier\n"
     ]
    }
   ],
   "source": [
    "!otbcli_ImageClassifier \\\n",
    "    -in     {result_path('complete_rasters_join.tif')}  \\\n",
    "    -imstat {result_path('complete_rasters_join_norm_raster_stat.xml')} \\\n",
    "    -model  {result_path('complete_rasters_join_rf_model.txt')} \\\n",
    "    -out    {result_path('predict.tif')}"
   ]
  },
  {
   "cell_type": "code",
   "execution_count": 60,
   "id": "ddb4f365-04ca-4bb0-9d7a-d287881a2028",
   "metadata": {},
   "outputs": [
    {
     "data": {
      "text/plain": [
       "'../results/complete_rasters_join.tif'"
      ]
     },
     "execution_count": 60,
     "metadata": {},
     "output_type": "execute_result"
    }
   ],
   "source": [
    "result_path('complete_rasters_join.tif')"
   ]
  },
  {
   "cell_type": "code",
   "execution_count": 61,
   "id": "9ff86c5b-a7ee-4635-9688-18725bb1754e",
   "metadata": {},
   "outputs": [
    {
     "data": {
      "text/plain": [
       "'../results/predict.tif'"
      ]
     },
     "execution_count": 61,
     "metadata": {},
     "output_type": "execute_result"
    }
   ],
   "source": [
    "result_path('predict.tif')"
   ]
  },
  {
   "cell_type": "code",
   "execution_count": 62,
   "id": "42dad01d-1e6a-4caa-90b1-cbc9456d8d5f",
   "metadata": {},
   "outputs": [
    {
     "name": "stderr",
     "output_type": "stream",
     "text": [
      "ERROR 4: ../results/complete_rasters_join.tif: No such file or directory\n"
     ]
    },
    {
     "ename": "AttributeError",
     "evalue": "'NoneType' object has no attribute 'GetRasterBand'",
     "output_type": "error",
     "traceback": [
      "\u001b[0;31m---------------------------------------------------------------------------\u001b[0m",
      "\u001b[0;31mAttributeError\u001b[0m                            Traceback (most recent call last)",
      "Input \u001b[0;32mIn [62]\u001b[0m, in \u001b[0;36m<cell line: 1>\u001b[0;34m()\u001b[0m\n\u001b[0;32m----> 1\u001b[0m \u001b[43mplot\u001b[49m\u001b[38;5;241;43m.\u001b[39;49m\u001b[43mplot_raster\u001b[49m\u001b[43m(\u001b[49m\u001b[43mresult_path\u001b[49m\u001b[43m(\u001b[49m\u001b[38;5;124;43m'\u001b[39;49m\u001b[38;5;124;43mcomplete_rasters_join.tif\u001b[39;49m\u001b[38;5;124;43m'\u001b[39;49m\u001b[43m)\u001b[49m\u001b[43m)\u001b[49m\n",
      "File \u001b[0;32m~/development/gis-tp2/notebooks/../lib/plot.py:33\u001b[0m, in \u001b[0;36mplot_raster\u001b[0;34m(path, bands_by_color, figsize)\u001b[0m\n\u001b[1;32m     31\u001b[0m \u001b[38;5;28;01mdef\u001b[39;00m \u001b[38;5;21mplot_raster\u001b[39m(path, bands_by_color \u001b[38;5;241m=\u001b[39m SENTINEL_BANDS, figsize\u001b[38;5;241m=\u001b[39m(\u001b[38;5;241m15\u001b[39m, \u001b[38;5;241m10\u001b[39m)):\n\u001b[1;32m     32\u001b[0m     raster \u001b[38;5;241m=\u001b[39m gdal\u001b[38;5;241m.\u001b[39mOpen(path)\n\u001b[0;32m---> 33\u001b[0m     plot_raw_raster(\u001b[43mraster_visible_bands\u001b[49m\u001b[43m(\u001b[49m\u001b[43mraster\u001b[49m\u001b[43m,\u001b[49m\u001b[43m \u001b[49m\u001b[43mbands_by_color\u001b[49m\u001b[43m)\u001b[49m, figsize)\n\u001b[1;32m     34\u001b[0m     plt\u001b[38;5;241m.\u001b[39msavefig(\u001b[38;5;124mf\u001b[39m\u001b[38;5;124m'\u001b[39m\u001b[38;5;132;01m{\u001b[39;00mpath\u001b[38;5;132;01m}\u001b[39;00m\u001b[38;5;124m.png\u001b[39m\u001b[38;5;124m'\u001b[39m)\n",
      "File \u001b[0;32m~/development/gis-tp2/notebooks/../lib/plot.py:12\u001b[0m, in \u001b[0;36mraster_visible_bands\u001b[0;34m(raster, bands_by_color)\u001b[0m\n\u001b[1;32m     10\u001b[0m bands \u001b[38;5;241m=\u001b[39m  []\n\u001b[1;32m     11\u001b[0m \u001b[38;5;28;01mif\u001b[39;00m \u001b[38;5;124m'\u001b[39m\u001b[38;5;124mred\u001b[39m\u001b[38;5;124m'\u001b[39m \u001b[38;5;129;01min\u001b[39;00m bands_by_color:\n\u001b[0;32m---> 12\u001b[0m     bands\u001b[38;5;241m.\u001b[39mappend(\u001b[43mraster\u001b[49m\u001b[38;5;241;43m.\u001b[39;49m\u001b[43mGetRasterBand\u001b[49m(bands_by_color[\u001b[38;5;124m'\u001b[39m\u001b[38;5;124mred\u001b[39m\u001b[38;5;124m'\u001b[39m]))\n\u001b[1;32m     14\u001b[0m \u001b[38;5;28;01mif\u001b[39;00m \u001b[38;5;124m'\u001b[39m\u001b[38;5;124mgreen\u001b[39m\u001b[38;5;124m'\u001b[39m \u001b[38;5;129;01min\u001b[39;00m bands_by_color:\n\u001b[1;32m     15\u001b[0m     bands\u001b[38;5;241m.\u001b[39mappend(raster\u001b[38;5;241m.\u001b[39mGetRasterBand(bands_by_color[\u001b[38;5;124m'\u001b[39m\u001b[38;5;124mgreen\u001b[39m\u001b[38;5;124m'\u001b[39m]))\n",
      "\u001b[0;31mAttributeError\u001b[0m: 'NoneType' object has no attribute 'GetRasterBand'"
     ]
    }
   ],
   "source": [
    "plot.plot_raster(result_path('complete_rasters_join.tif'))"
   ]
  },
  {
   "cell_type": "code",
   "execution_count": null,
   "id": "93eda44c-b3e6-4321-88c2-a675170cfbcd",
   "metadata": {},
   "outputs": [],
   "source": [
    "!gdalinfo {raster_date_path('2020-11-01', 'complete_raster_ndvi')}"
   ]
  },
  {
   "cell_type": "code",
   "execution_count": null,
   "id": "88e3fbc7-fec5-4244-b516-fc11e9315cda",
   "metadata": {},
   "outputs": [],
   "source": [
    "!gdalinfo {result_path('predict.tif')}"
   ]
  }
 ],
 "metadata": {
  "kernelspec": {
   "display_name": "Python 3 (ipykernel)",
   "language": "python",
   "name": "python3"
  },
  "language_info": {
   "codemirror_mode": {
    "name": "ipython",
    "version": 3
   },
   "file_extension": ".py",
   "mimetype": "text/x-python",
   "name": "python",
   "nbconvert_exporter": "python",
   "pygments_lexer": "ipython3",
   "version": "3.10.4"
  }
 },
 "nbformat": 4,
 "nbformat_minor": 5
}
