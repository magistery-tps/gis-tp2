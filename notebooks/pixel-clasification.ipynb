{
 "cells": [
  {
   "cell_type": "markdown",
   "id": "e13ab696-7b93-4dd2-bfcf-3b865e617b83",
   "metadata": {},
   "source": [
    "# Maestria en Explotacion de datos y Descubrimiento de conocimiento\n",
    "### Sistemas de información geografica\n",
    "### Trabajo Practico N°2"
   ]
  },
  {
   "cell_type": "markdown",
   "id": "246f29a3-278c-48d3-bafe-cfe4884a3268",
   "metadata": {
    "tags": []
   },
   "source": [
    "# Clasificación por pixel"
   ]
  },
  {
   "cell_type": "code",
   "execution_count": 1,
   "id": "2dea258e-0ba8-4ca1-a9f5-01306907a0c8",
   "metadata": {},
   "outputs": [],
   "source": [
    "%load_ext autoreload\n",
    "%autoreload 2"
   ]
  },
  {
   "cell_type": "code",
   "execution_count": 2,
   "id": "c4cc41d8-59a1-46b8-bf85-bc0ddf22a550",
   "metadata": {},
   "outputs": [],
   "source": [
    "import sys\n",
    "sys.path.append('../lib')"
   ]
  },
  {
   "cell_type": "code",
   "execution_count": 3,
   "id": "84ae66e1-c1fd-4993-a8bb-5fb1bc3ae6c1",
   "metadata": {},
   "outputs": [],
   "source": [
    "import plot\n",
    "import sql\n",
    "import pandas as pd\n",
    "import numpy  as np\n",
    "from sklearn.model_selection import train_test_split"
   ]
  },
  {
   "cell_type": "markdown",
   "id": "11a11249-775e-4d2c-bd39-f493617fd959",
   "metadata": {},
   "source": [
    "## Constantes globales"
   ]
  },
  {
   "cell_type": "code",
   "execution_count": 4,
   "id": "20230ff9-f182-44ca-8abb-db4bacef172d",
   "metadata": {},
   "outputs": [],
   "source": [
    "RASTERS_PATH = \"../datasets/images\"\n",
    "DATA_PATH    = \"../datasets/data\"\n",
    "RESULT_PATH  = \"../results\""
   ]
  },
  {
   "cell_type": "code",
   "execution_count": 5,
   "id": "74297fc4-a0a8-447c-8073-861e47ee301a",
   "metadata": {},
   "outputs": [],
   "source": [
    "DATES = [\n",
    "    '2020-10-01', \n",
    "    '2020-11-01', \n",
    "    '2020-12-01',\n",
    "    '2021-01-01', \n",
    "    '2021-02-20', \n",
    "    '2021-03-17'\n",
    "]\n",
    "RASTER_FILES = [\n",
    "    '0000000000-0000000000', \n",
    "    '0000000000-0000012544'\n",
    "]\n",
    "\n",
    "# VERDAD_CAMPO = 'verdad_campo'\n",
    "VERDAD_CAMPO = 'verdad_campo_aumentada_7'\n",
    "\n",
    "JOIN_MAPS = False"
   ]
  },
  {
   "cell_type": "markdown",
   "id": "5b1b908b-e630-4154-81d3-8e47092f9a05",
   "metadata": {
    "tags": []
   },
   "source": [
    "## Preparar verddad de campo aumentada"
   ]
  },
  {
   "cell_type": "code",
   "execution_count": 6,
   "id": "b569edfb-ecdc-4941-96cc-50f962f25d44",
   "metadata": {},
   "outputs": [
    {
     "name": "stdout",
     "output_type": "stream",
     "text": [
      "verdad_campo_aumentada_2.cpg\n",
      "verdad_campo_aumentada_2.dbf\n",
      "verdad_campo_aumentada_2.gpkg\n",
      "verdad_campo_aumentada_2.prj\n",
      "verdad_campo_aumentada_2.qmd\n",
      "verdad_campo_aumentada_2.shp\n",
      "verdad_campo_aumentada_2.shx\n",
      "verdad_campo_aumentada_3.cpg\n",
      "verdad_campo_aumentada_3.dbf\n",
      "verdad_campo_aumentada_3.prj\n",
      "verdad_campo_aumentada_3.qmd\n",
      "verdad_campo_aumentada_3.shp\n",
      "verdad_campo_aumentada_3.shx\n",
      "verdad_campo_aumentada_4.cpg\n",
      "verdad_campo_aumentada_4.dbf\n",
      "verdad_campo_aumentada_4.prj\n",
      "verdad_campo_aumentada_4.qmd\n",
      "verdad_campo_aumentada_4.shp\n",
      "verdad_campo_aumentada_4.shx\n",
      "verdad_campo_aumentada_5.cpg\n",
      "verdad_campo_aumentada_5.dbf\n",
      "verdad_campo_aumentada_5.prj\n",
      "verdad_campo_aumentada_5.qmd\n",
      "verdad_campo_aumentada_5.shp\n",
      "verdad_campo_aumentada_5.shx\n",
      "verdad_campo_aumentada_6.cpg\n",
      "verdad_campo_aumentada_6.dbf\n",
      "verdad_campo_aumentada_6.prj\n",
      "verdad_campo_aumentada_6.qmd\n",
      "verdad_campo_aumentada_6.shp\n",
      "verdad_campo_aumentada_6.shx\n",
      "verdad_campo_aumentada_7.cpg\n",
      "verdad_campo_aumentada_7.dbf\n",
      "verdad_campo_aumentada_7.prj\n",
      "verdad_campo_aumentada_7.qmd\n",
      "verdad_campo_aumentada_7.shp\n",
      "verdad_campo_aumentada_7.shx\n",
      "verdad_campo_aumentada.cpg\n",
      "verdad_campo_aumentada.dbf\n",
      "verdad_campo_aumentada.prj\n",
      "verdad_campo_aumentada.qmd\n",
      "verdad_campo_aumentada.shp\n",
      "verdad_campo_aumentada.shx\n"
     ]
    }
   ],
   "source": [
    "!cp ../verdad_campo_augmented.tar.gz {DATA_PATH}\n",
    "!cd {DATA_PATH}; tar zxfv verdad_campo_augmented.tar.gz"
   ]
  },
  {
   "cell_type": "markdown",
   "id": "681d28fb-6b1a-4dfe-81dc-3dd711bd4dd7",
   "metadata": {},
   "source": [
    "## Funciones helper"
   ]
  },
  {
   "cell_type": "code",
   "execution_count": 7,
   "id": "2e1db68d-8452-4b92-a31d-17407c362ed9",
   "metadata": {},
   "outputs": [],
   "source": [
    "flatten = lambda list: np.ndarray.flatten(np.array(list))\n",
    "raster_path      = lambda path: f'{RASTERS_PATH}/{path}.tif'\n",
    "raster_date_path = lambda date, file: raster_path(f'{date}/{file}')\n",
    "\n",
    "data_path        = lambda file: f'{DATA_PATH}/{file}.shp'\n",
    "result_path      = lambda file: f'{RESULT_PATH}/{file}'\n",
    "\n",
    "\n",
    "def print_title(title): print(f'\\n\\n{title}...\\n')\n",
    "\n",
    "def class_statistics(\n",
    "    raster_paths,\n",
    "    labels_file  = VERDAD_CAMPO, \n",
    "    label_column = 'id', \n",
    "    out_file      = 'class_statistics.xml',\n",
    "    verbose      = 0\n",
    "):\n",
    "    \n",
    "    in_paths = \" \".join(raster_paths)\n",
    "    vec_path = data_path(labels_file)\n",
    "    out_path = result_path(out_file)\n",
    "    \n",
    "    if verbose > 0:\n",
    "        print_title('Generate class statistics')\n",
    "        print(f'- In Paths: {in_paths}')\n",
    "        print(f'- Vec Path: {vec_path}')\n",
    "        print(f'- Field...: {label_column}')\n",
    "        print(f'- Out Path: {out_path}\\n\\n')\n",
    "    \n",
    "    !time otbcli_PolygonClassStatistics -in {in_paths} -vec {vec_path} -field {label_column} -out {out_path} > /dev/null\n",
    "    !head {out_path}\n",
    "    return out_path\n",
    "\n",
    "\n",
    "def merge_rasters(source_paths, target_path, verbose = 1, plot=0):\n",
    "    print(\" \".join(source_paths))\n",
    "    \n",
    "    !time gdal_merge.py -o {target_path} -of gtiff {\" \".join(source_paths)}\n",
    "\n",
    "    if verbose > 0:\n",
    "        print_title('Merge Rasters')\n",
    "        for idx, path in enumerate(source_paths):\n",
    "            print(f'Source path {idx+1}: {path}')\n",
    "            if plot > 0:\n",
    "                plot.plot_raster(path)\n",
    "\n",
    "        print(f'Target path:\\n  - {target_path}\\n\\n')\n",
    "        if plot > 0:\n",
    "            plot.plot_raster(target_path)\n",
    "        \n",
    "\n",
    "def layer_info(file):\n",
    "    !ogrinfo -so {data_path(file)}\n",
    "\n",
    "\n",
    "def layer_table_info(file, table):\n",
    "    !ogrinfo -so {data_path(file)} {table}\n",
    "\n",
    "\n",
    "def layer_query(file, query):\n",
    "    !ogrinfo -dialect sqlite -sql \"{query}\" {data_path(file)}"
   ]
  },
  {
   "cell_type": "markdown",
   "id": "aea104cc-0ce0-445f-9ad7-b5782db0ff1c",
   "metadata": {},
   "source": [
    "Sampling de observaciones:"
   ]
  },
  {
   "cell_type": "code",
   "execution_count": 8,
   "id": "13f39302-f60c-4fd9-8e84-edb225a00f8e",
   "metadata": {},
   "outputs": [],
   "source": [
    "def sampling(\n",
    "    raster_paths,\n",
    "    class_stat_path,\n",
    "    out_rates_path, \n",
    "    out_sql_path,\n",
    "    labels_file      = VERDAD_CAMPO,\n",
    "    label_column     = 'id',\n",
    "    strategy         = 'smallest',\n",
    "    strategy_percent = 50,\n",
    "    verbose          = 0\n",
    "):\n",
    "    raster_paths = \" \".join(raster_paths)\n",
    "\n",
    "    if verbose > 0:\n",
    "        print_title('Sampling')\n",
    "        print(f'- In Paths......: {raster_paths}')\n",
    "        print(f'- Vec Path......: {data_path(labels_file)}')\n",
    "        print(f'- Field.........: {label_column}')\n",
    "        print(f'- Instats Path..: {class_stat_path}')\n",
    "        print(f'- Strategy......: {strategy}')\n",
    "        print(f'- Out Rates Path: {result_path(out_rates_path)}')\n",
    "        print(f'- Out SQL Path..: {result_path(out_sql_path)}\\n\\n')\n",
    "\n",
    "    !time otbcli_SampleSelection \\\n",
    "        -in       {raster_paths} \\\n",
    "        -vec      {data_path(labels_file)} \\\n",
    "        -instats  {class_stat_path} \\\n",
    "        -field    {label_column} \\\n",
    "        -strategy {strategy} \\\n",
    "        -strategy.percent.p {strategy_percent} \\\n",
    "        -outrates {result_path(out_rates_path)} \\\n",
    "        -out      {result_path(out_sql_path)}\n",
    "\n",
    "def sample_extraction(\n",
    "    raster_paths,\n",
    "    out_sql_file,\n",
    "    label_column = 'id',\n",
    "    verbose      = 0\n",
    "):\n",
    "    if verbose > 0:\n",
    "        print_title('Sample extraction')\n",
    "        print(f'- In Paths......: {\" \".join(raster_paths)}')\n",
    "        print(f'- Vec SQL Path..: {result_path(out_sql_file)}')\n",
    "        print(f'- Field.........: {label_column}\\n\\n')\n",
    "\n",
    "    !time otbcli_SampleExtraction \\\n",
    "        -in                   {\" \".join(raster_paths)} \\\n",
    "        -vec                  {result_path(out_sql_file)} \\\n",
    "        -field                {label_column} \\\n",
    "        -outfield             prefix \\\n",
    "        -outfield.prefix.name band_"
   ]
  },
  {
   "cell_type": "markdown",
   "id": "5fc53a48-b20a-4261-bdd3-27a8e723c49c",
   "metadata": {},
   "source": [
    "Funciones de visualización:"
   ]
  },
  {
   "cell_type": "markdown",
   "id": "9bc537a7-caa2-44c4-9159-18f710aaabc2",
   "metadata": {},
   "source": [
    "Funciones para la clasificación:"
   ]
  },
  {
   "cell_type": "code",
   "execution_count": 9,
   "id": "ed8a6916-0c96-4c47-9319-0178517ce9c9",
   "metadata": {},
   "outputs": [],
   "source": [
    "def compute_raster_statistics(\n",
    "    raster_paths,\n",
    "    stat_file,\n",
    "    verbose = 0\n",
    "):\n",
    "    output_path = result_path(stat_file)\n",
    "\n",
    "    if verbose > 0:\n",
    "        print_title('Compute rasters statistics')\n",
    "        print(f'- Raster Paths: {\" \".join(raster_paths)}')\n",
    "        print(f'- Stats Path : {output_path}\\n\\n')\n",
    "\n",
    "    !time otbcli_ComputeImagesStatistics -il {\" \".join(raster_paths)} -out.xml {output_path}\n",
    "\n",
    "    return output_path"
   ]
  },
  {
   "cell_type": "code",
   "execution_count": 10,
   "id": "9cfd127d-0d96-47db-820b-c9559eb5932a",
   "metadata": {},
   "outputs": [],
   "source": [
    "def train_clasifier(\n",
    "    sql_file,\n",
    "    stat_file,\n",
    "    features         = ['band_0', 'band_1', 'band_2', 'band_3', 'band_4', 'band_5', 'band_6'],\n",
    "    label_column     = 'id',\n",
    "    out_model_file   = 'dt_model.txt',\n",
    "    out_cm_file      = 'dt_cm_model.csv',\n",
    "\n",
    "    clasifier_config = {\n",
    "        'classifier': 'dt',\n",
    "        'classifier.dt.max': '10'\n",
    "    },\n",
    "    verbose          = 0\n",
    "):\n",
    "    features_param = \" \".join(features)\n",
    "\n",
    "    clasifier_params = ''\n",
    "    for k, v in clasifier_config.items():\n",
    "        clasifier_params += f' -{k} {v}' \n",
    "        \n",
    "    if verbose > 0:\n",
    "        print_title(f'Training {clasifier_config[\"classifier\"]} classifier')\n",
    "        print(f'- SQL Path.............: {result_path(sql_file)}')\n",
    "        print(f'- Stats Path...........: {result_path(stat_file)}')\n",
    "        print(f'- Target...............: {label_column}')\n",
    "        print(f'- Features.............: {features}')\n",
    "        print(f'- Model Path...........: {result_path(out_model_file)}')\n",
    "        print(f'- Confusion Matrix Path: {result_path(out_cm_file)}')\n",
    "        print(f'- Clasifier config.....: {clasifier_params}\\n\\n')\n",
    "\n",
    "    !time otbcli_TrainVectorClassifier \\\n",
    "        -io.vd             {result_path(sql_file)} \\\n",
    "        -io.stats          {result_path(stat_file)} \\\n",
    "        -feat              {features_param} \\\n",
    "        -io.out            {result_path(out_model_file)} \\\n",
    "        -io.confmatout     {result_path(out_cm_file)} \\\n",
    "        -cfield            {label_column} \\\n",
    "        {clasifier_params}"
   ]
  },
  {
   "cell_type": "code",
   "execution_count": 11,
   "id": "62abf439-625a-4ce0-8828-7207a8497589",
   "metadata": {},
   "outputs": [],
   "source": [
    "def band_math(\n",
    "    raster_paths,\n",
    "    name           = 'ndvi',\n",
    "    formula        = '(im1b7-im1b3)/(im1b7+im1b3)',\n",
    "    extension      = '.tif', \n",
    "    verbose        = 0\n",
    "):\n",
    "    out_path = lambda path: f'{path.split(extension)[0]}_{name}.tif'\n",
    "    \n",
    "    if verbose > 0:\n",
    "        print_title(f'Calculate \"{name} = {formula}\" formula')\n",
    "\n",
    "    outputs = []\n",
    "    for in_raster_path in raster_paths:\n",
    "        out_raster_path = out_path(in_raster_path)\n",
    "\n",
    "        if verbose > 0:\n",
    "            print(f'\\n\\n- In: {in_raster_path}\\n- Out: {out_raster_path}')\n",
    "\n",
    "        !time otbcli_BandMath \\\n",
    "            -il  {in_raster_path} \\\n",
    "            -out {out_raster_path} \\\n",
    "            -exp \"{formula}\"\n",
    "        outputs.append(out_raster_path)\n",
    "    return outputs"
   ]
  },
  {
   "cell_type": "code",
   "execution_count": 12,
   "id": "074b953e-2d79-4603-8e29-49576d632699",
   "metadata": {},
   "outputs": [],
   "source": [
    "ALL_VEGETATION_INDEXES = [\n",
    "    'Vegetation:NDVI',\n",
    "    'Vegetation:TNDVI', \n",
    "    'Vegetation:RVI',\n",
    "    'Vegetation:SAVI',\n",
    "    'Vegetation:TSAVI', \n",
    "    'Vegetation:MSAVI', \n",
    "    'Vegetation:MSAVI2',\n",
    "    'Vegetation:IPVI',\n",
    "    'Vegetation:LAIFromNDVILog',\n",
    "    'Vegetation:LAIFromReflLinear',\n",
    "    'Vegetation:LAIFromNDVIFormo'\n",
    "]\n",
    "\n",
    "def compute_index(\n",
    "    raster_paths,\n",
    "    indexes     = ALL_VEGETATION_INDEXES,\n",
    "    out_postfix = 'indexes',\n",
    "    blue_band   = 1,\n",
    "    green_band  = 1,\n",
    "    red_band    = 1,\n",
    "    nir_band    = 1,\n",
    "    mir_band    = 1,\n",
    "    extension   = '.tif', \n",
    "    verbose     = 0\n",
    "):  \n",
    "    out_path = lambda path: f'{path.split(extension)[0]}_{out_postfix}.tif'\n",
    "\n",
    "    if verbose > 0:\n",
    "        print_title(f'Calculate indexes: \"{indexes}\"')\n",
    "\n",
    "    for in_raster_path in raster_paths:\n",
    "        out_raster_path = out_path(in_raster_path)\n",
    "\n",
    "        if verbose > 0:\n",
    "            print(f'\\n\\n- In: {in_raster_path}\\n- Out: {out_raster_path}')\n",
    "\n",
    "        !time otbcli_RadiometricIndices      \\\n",
    "            -channels.blue  {blue_band}      \\\n",
    "            -channels.green {green_band}     \\\n",
    "            -channels.red   {red_band}       \\\n",
    "            -channels.nir   {nir_band}       \\\n",
    "            -channels.mir   {mir_band}       \\\n",
    "            -in             {in_raster_path} \\\n",
    "            -list           {\" \".join(indexes)}        \\\n",
    "            -out            {out_raster_path}"
   ]
  },
  {
   "cell_type": "code",
   "execution_count": 13,
   "id": "00087d0a-8ee3-4bd4-b303-04918dd7b0a2",
   "metadata": {},
   "outputs": [],
   "source": [
    "def join_rasters(raster_paths, out_file, verbose = 0):\n",
    "    if verbose > 0:\n",
    "        print_title(f'Join rasters')\n",
    "        print(f'- Input Rasters: {\" \".join(raster_paths)}')\n",
    "        print(f'- Output Raster: {\" \".join(out_file)}')\n",
    "\n",
    "    !time otbcli_ConcatenateImages \\\n",
    "        -il {' '.join(raster_paths)} \\\n",
    "        -out {out_file}"
   ]
  },
  {
   "cell_type": "markdown",
   "id": "4a62845e-0cdc-4177-af41-5cd0b0e76bd7",
   "metadata": {},
   "source": [
    "## Analisis"
   ]
  },
  {
   "cell_type": "code",
   "execution_count": 15,
   "id": "742cf621-41c5-4d2a-a46b-45467b7a2be2",
   "metadata": {},
   "outputs": [],
   "source": [
    "!mkdir -p {RESULT_PATH}"
   ]
  },
  {
   "cell_type": "markdown",
   "id": "ea80e037-4169-49d3-bd95-292ef73c25cb",
   "metadata": {},
   "source": [
    "Listamos los archivos de datos:"
   ]
  },
  {
   "cell_type": "code",
   "execution_count": 15,
   "id": "58e675dd-a740-4164-b524-18116ef10ca4",
   "metadata": {},
   "outputs": [
    {
     "name": "stdout",
     "output_type": "stream",
     "text": [
      "-rw-rw-r-- 1 adrian adrian  79252 abr 24  2021 ../datasets/data/departamentos.shp\n",
      "-rw-r--r-- 1 adrian adrian 331892 jul  3 12:35 ../datasets/data/verdad_campo_aumentada_2.shp\n",
      "-rw-r--r-- 1 adrian adrian 182772 jul  3 12:38 ../datasets/data/verdad_campo_aumentada_3.shp\n",
      "-rw-r--r-- 1 adrian adrian 182772 jul  3 12:40 ../datasets/data/verdad_campo_aumentada_4.shp\n",
      "-rw-r--r-- 1 adrian adrian 182772 jul  3 12:46 ../datasets/data/verdad_campo_aumentada_5.shp\n",
      "-rw-r--r-- 1 adrian adrian 182772 jul  3 15:15 ../datasets/data/verdad_campo_aumentada_6.shp\n",
      "-rw-r--r-- 1 adrian adrian 182772 jul  3 15:16 ../datasets/data/verdad_campo_aumentada_7.shp\n",
      "-rw-r--r-- 1 adrian adrian 182772 jul  2 12:20 ../datasets/data/verdad_campo_aumentada.shp\n",
      "-rw-rw-r-- 1 adrian adrian  13148 abr 24  2021 ../datasets/data/verdad_campo.shp\n"
     ]
    }
   ],
   "source": [
    "!ls -la {DATA_PATH}/*shp "
   ]
  },
  {
   "cell_type": "markdown",
   "id": "9ffd775d-9816-48ec-9236-eb081a83364d",
   "metadata": {},
   "source": [
    "Tenemos dos archivos, departamentes de buenos aires y la verdad de campo o poligonos labels. estos poligonos representan un label y cubro una parte de la superficie de las imagenes donde se encuentra esa misma clase."
   ]
  },
  {
   "cell_type": "markdown",
   "id": "9eb8819d-e0b1-46a3-9112-dcf6b9288f7f",
   "metadata": {},
   "source": [
    "Veamos que tablas contienen:"
   ]
  },
  {
   "cell_type": "code",
   "execution_count": 16,
   "id": "6497f6c0-ca5e-476a-837c-00f8aa0cd421",
   "metadata": {},
   "outputs": [
    {
     "name": "stdout",
     "output_type": "stream",
     "text": [
      "INFO: Open of `../datasets/data/departamentos.shp'\n",
      "      using driver `ESRI Shapefile' successful.\n",
      "1: departamentos (3D Polygon)\n"
     ]
    }
   ],
   "source": [
    "layer_info('departamentos')"
   ]
  },
  {
   "cell_type": "code",
   "execution_count": 17,
   "id": "49ec22e3-9ad1-4bc5-8c92-0258eca9a254",
   "metadata": {},
   "outputs": [
    {
     "name": "stdout",
     "output_type": "stream",
     "text": [
      "INFO: Open of `../datasets/data/verdad_campo_aumentada_7.shp'\n",
      "      using driver `ESRI Shapefile' successful.\n",
      "1: verdad_campo_aumentada_7 (Polygon)\n"
     ]
    }
   ],
   "source": [
    "layer_info(VERDAD_CAMPO)"
   ]
  },
  {
   "cell_type": "code",
   "execution_count": 18,
   "id": "a90d2708-fab2-4f87-b2c2-f9d65a03e1d6",
   "metadata": {},
   "outputs": [
    {
     "name": "stdout",
     "output_type": "stream",
     "text": [
      "INFO: Open of `../datasets/data/verdad_campo_aumentada_7.shp'\n",
      "      using driver `ESRI Shapefile' successful.\n",
      "\n",
      "Layer name: verdad_campo_aumentada_7\n",
      "Metadata:\n",
      "  DBF_DATE_LAST_UPDATE=2022-07-03\n",
      "Geometry: Polygon\n",
      "Feature Count: 466\n",
      "Extent: (-65.072536, -35.287469) - (-62.299875, -33.833209)\n",
      "Layer SRS WKT:\n",
      "GEOGCS[\"WGS 84\",\n",
      "    DATUM[\"WGS_1984\",\n",
      "        SPHEROID[\"WGS 84\",6378137,298.257223563,\n",
      "            AUTHORITY[\"EPSG\",\"7030\"]],\n",
      "        AUTHORITY[\"EPSG\",\"6326\"]],\n",
      "    PRIMEM[\"Greenwich\",0,\n",
      "        AUTHORITY[\"EPSG\",\"8901\"]],\n",
      "    UNIT[\"degree\",0.0174532925199433,\n",
      "        AUTHORITY[\"EPSG\",\"9122\"]],\n",
      "    AXIS[\"Latitude\",NORTH],\n",
      "    AXIS[\"Longitude\",EAST],\n",
      "    AUTHORITY[\"EPSG\",\"4326\"]]\n",
      "Data axis to CRS axis mapping: 2,1\n",
      "in1: String (6.0)\n",
      "id: Integer64 (10.0)\n",
      "cultivo: String (10.0)\n"
     ]
    }
   ],
   "source": [
    "layer_table_info(VERDAD_CAMPO, VERDAD_CAMPO)"
   ]
  },
  {
   "cell_type": "markdown",
   "id": "b6d2b8f1-dd25-4635-9397-3d5c59adad08",
   "metadata": {},
   "source": [
    "La capa o archivo de verdad de campo tiene la columna **cultivo** la cual es una columna categorica que tiene las clases en formato string."
   ]
  },
  {
   "cell_type": "code",
   "execution_count": 19,
   "id": "8fe5e345-7342-4a18-ae26-a20268676015",
   "metadata": {},
   "outputs": [
    {
     "name": "stdout",
     "output_type": "stream",
     "text": [
      "INFO: Open of `../datasets/data/verdad_campo_aumentada_7.shp'\n",
      "      using driver `ESRI Shapefile' successful.\n",
      "\n",
      "Layer name: SELECT\n",
      "Geometry: Polygon\n",
      "Feature Count: 2\n",
      "Extent: (-62.887100, -34.024758) - (-62.877781, -34.021651)\n",
      "Layer SRS WKT:\n",
      "GEOGCS[\"WGS 84\",\n",
      "    DATUM[\"WGS_1984\",\n",
      "        SPHEROID[\"WGS 84\",6378137,298.257223563,\n",
      "            AUTHORITY[\"EPSG\",\"7030\"]],\n",
      "        AUTHORITY[\"EPSG\",\"6326\"]],\n",
      "    PRIMEM[\"Greenwich\",0,\n",
      "        AUTHORITY[\"EPSG\",\"8901\"]],\n",
      "    UNIT[\"degree\",0.0174532925199433,\n",
      "        AUTHORITY[\"EPSG\",\"9122\"]],\n",
      "    AXIS[\"Latitude\",NORTH],\n",
      "    AXIS[\"Longitude\",EAST],\n",
      "    AUTHORITY[\"EPSG\",\"4326\"]]\n",
      "Data axis to CRS axis mapping: 2,1\n",
      "Geometry Column = GEOMETRY\n",
      "in1: String (0.0)\n",
      "id: Integer64 (0.0)\n",
      "cultivo: String (0.0)\n",
      "OGRFeature(SELECT):0\n",
      "  in1 (String) = 014084\n",
      "  id (Integer64) = 2\n",
      "  cultivo (String) = MAIZ\n",
      "  POLYGON ((-62.8860996133436 -34.0221508898355,-62.8861240850855 -34.0223053983326,-62.8861951048464 -34.0224447824616,-62.8863057207175 -34.0225553983326,-62.8864451048464 -34.0226264180936,-62.8865996133436 -34.0226508898355,-62.8867541218408 -34.0226264180936,-62.8868935059698 -34.0225553983326,-62.8870041218408 -34.0224447824616,-62.8870751416018 -34.0223053983326,-62.8870996133436 -34.0221508898355,-62.8870751416018 -34.0219963813383,-62.8870041218408 -34.0218569972093,-62.8868935059698 -34.0217463813383,-62.8867541218408 -34.0216753615773,-62.8865996133436 -34.0216508898354,-62.8864451048464 -34.0216753615773,-62.8863057207175 -34.0217463813383,-62.8861951048464 -34.0218569972093,-62.8861240850855 -34.0219963813383,-62.8860996133436 -34.0221508898355))\n",
      "\n",
      "OGRFeature(SELECT):1\n",
      "  in1 (String) = 014084\n",
      "  id (Integer64) = 2\n",
      "  cultivo (String) = MAIZ\n",
      "  POLYGON ((-62.8777807341426 -34.0242583392331,-62.8778052058844 -34.0244128477302,-62.8778762256454 -34.0245522318592,-62.8779868415164 -34.0246628477302,-62.8781262256454 -34.0247338674912,-62.8782807341426 -34.0247583392331,-62.8784352426398 -34.0247338674912,-62.8785746267687 -34.0246628477302,-62.8786852426398 -34.0245522318592,-62.8787562624007 -34.0244128477302,-62.8787807341426 -34.0242583392331,-62.8787562624007 -34.0241038307359,-62.8786852426398 -34.0239644466069,-62.8785746267687 -34.0238538307359,-62.8784352426398 -34.0237828109749,-62.8782807341426 -34.023758339233,-62.8781262256454 -34.0237828109749,-62.8779868415164 -34.0238538307359,-62.8778762256454 -34.0239644466069,-62.8778052058844 -34.0241038307359,-62.8777807341426 -34.0242583392331))\n",
      "\n"
     ]
    }
   ],
   "source": [
    "layer_query(\n",
    "    VERDAD_CAMPO, \n",
    "    f'SELECT * FROM {VERDAD_CAMPO} LIMIT 2'\n",
    ")"
   ]
  },
  {
   "cell_type": "code",
   "execution_count": 20,
   "id": "7be8b7b8-98f4-433c-99fb-326cf35177fa",
   "metadata": {},
   "outputs": [
    {
     "name": "stdout",
     "output_type": "stream",
     "text": [
      "INFO: Open of `../datasets/data/verdad_campo_aumentada_7.shp'\n",
      "      using driver `ESRI Shapefile' successful.\n",
      "\n",
      "Layer name: SELECT\n",
      "Geometry: None\n",
      "Feature Count: 5\n",
      "Layer SRS WKT:\n",
      "(unknown)\n",
      "Cultivo: String (0.0)\n",
      "Cantidad: Integer (0.0)\n",
      "OGRFeature(SELECT):0\n",
      "  Cultivo (String) = ALFALFA\n",
      "  Cantidad (Integer) = 2\n",
      "\n",
      "OGRFeature(SELECT):1\n",
      "  Cultivo (String) = CAMPONATUR\n",
      "  Cantidad (Integer) = 18\n",
      "\n",
      "OGRFeature(SELECT):2\n",
      "  Cultivo (String) = GIRASOL\n",
      "  Cantidad (Integer) = 32\n",
      "\n",
      "OGRFeature(SELECT):3\n",
      "  Cultivo (String) = MAIZ\n",
      "  Cantidad (Integer) = 246\n",
      "\n",
      "OGRFeature(SELECT):4\n",
      "  Cultivo (String) = SOJA\n",
      "  Cantidad (Integer) = 168\n",
      "\n"
     ]
    }
   ],
   "source": [
    "layer_query(\n",
    "    VERDAD_CAMPO,\n",
    "    f\"\"\"\n",
    "    SELECT \n",
    "        cultivo  AS Cultivo,\n",
    "        COUNT(*) AS Cantidad\n",
    "    FROM\n",
    "        {VERDAD_CAMPO}\n",
    "    GROUP BY\n",
    "        cultivo\n",
    "    \"\"\"\n",
    ")"
   ]
  },
  {
   "cell_type": "code",
   "execution_count": 21,
   "id": "1aa3d113-f559-4e0c-940a-a8f7b2ed9ca6",
   "metadata": {},
   "outputs": [
    {
     "name": "stdout",
     "output_type": "stream",
     "text": [
      "INFO: Open of `../datasets/data/verdad_campo_aumentada_7.shp'\n",
      "      using driver `ESRI Shapefile' successful.\n",
      "\n",
      "Layer name: SELECT\n",
      "Geometry: None\n",
      "Feature Count: 5\n",
      "Layer SRS WKT:\n",
      "(unknown)\n",
      "Codigo de cultivo: Integer64 (0.0)\n",
      "Cantidad: Integer (0.0)\n",
      "OGRFeature(SELECT):0\n",
      "  Codigo de cultivo (Integer64) = 10\n",
      "  Cantidad (Integer) = 2\n",
      "\n",
      "OGRFeature(SELECT):1\n",
      "  Codigo de cultivo (Integer64) = 20\n",
      "  Cantidad (Integer) = 18\n",
      "\n",
      "OGRFeature(SELECT):2\n",
      "  Codigo de cultivo (Integer64) = 5\n",
      "  Cantidad (Integer) = 32\n",
      "\n",
      "OGRFeature(SELECT):3\n",
      "  Codigo de cultivo (Integer64) = 2\n",
      "  Cantidad (Integer) = 246\n",
      "\n",
      "OGRFeature(SELECT):4\n",
      "  Codigo de cultivo (Integer64) = 1\n",
      "  Cantidad (Integer) = 168\n",
      "\n"
     ]
    }
   ],
   "source": [
    "layer_query(\n",
    "    VERDAD_CAMPO, \n",
    "    f\"\"\"\n",
    "    SELECT \n",
    "        id       AS 'Codigo de cultivo',\n",
    "        COUNT(*) AS Cantidad\n",
    "    FROM\n",
    "        {VERDAD_CAMPO}\n",
    "    GROUP BY\n",
    "        cultivo\n",
    "    \"\"\"\n",
    ")"
   ]
  },
  {
   "cell_type": "markdown",
   "id": "def50c57-3312-45db-a179-0967fb891789",
   "metadata": {},
   "source": [
    "Las columnas **id** y **cultivo** sin intercambiables. Es decir que el id representa a cada tipo de cultivo."
   ]
  },
  {
   "cell_type": "markdown",
   "id": "a4ce2969-a584-43bf-a8bf-72f7acead61c",
   "metadata": {},
   "source": [
    "### Estadisticas y merge de rasters"
   ]
  },
  {
   "cell_type": "markdown",
   "id": "88685d62-93a1-4c8d-a6cb-ae7a1cae1601",
   "metadata": {},
   "source": [
    "A continuacion veamos la cantidad de pixels en la imagen por cada clase. Seria la distribición de probabilidad discreta de la variable categorica **cultivo** para una imagen dada.\n",
    "\n",
    "Ver: [PolygonClassStatistics](https://www.orfeo-toolbox.org/CookBook/Applications/app_PolygonClassStatistics.html)"
   ]
  },
  {
   "cell_type": "code",
   "execution_count": 22,
   "id": "b05e03ca-b302-41d8-8c28-7c207b130ba9",
   "metadata": {},
   "outputs": [
    {
     "data": {
      "text/html": [
       "<pre style=\"white-space:pre;overflow-x:auto;line-height:normal;font-family:Menlo,'DejaVu Sans Mono',consolas,'Courier New',monospace\">\n",
       "\n",
       "Generate class statistics<span style=\"color: #808000; text-decoration-color: #808000\">...</span>\n",
       "\n",
       "</pre>\n"
      ],
      "text/plain": [
       "\n",
       "\n",
       "Generate class statistics\u001b[33m...\u001b[0m\n",
       "\n"
      ]
     },
     "metadata": {},
     "output_type": "display_data"
    },
    {
     "data": {
      "text/html": [
       "<pre style=\"white-space:pre;overflow-x:auto;line-height:normal;font-family:Menlo,'DejaVu Sans Mono',consolas,'Courier New',monospace\">- In Paths: ..<span style=\"color: #800080; text-decoration-color: #800080\">/datasets/images/2020-10-01/</span><span style=\"color: #ff00ff; text-decoration-color: #ff00ff\">0000000000-0000000000.tif</span>\n",
       "</pre>\n"
      ],
      "text/plain": [
       "- In Paths: ..\u001b[35m/datasets/images/2020-10-01/\u001b[0m\u001b[95m0000000000-0000000000.tif\u001b[0m\n"
      ]
     },
     "metadata": {},
     "output_type": "display_data"
    },
    {
     "data": {
      "text/html": [
       "<pre style=\"white-space:pre;overflow-x:auto;line-height:normal;font-family:Menlo,'DejaVu Sans Mono',consolas,'Courier New',monospace\">- Vec Path: ..<span style=\"color: #800080; text-decoration-color: #800080\">/datasets/data/</span><span style=\"color: #ff00ff; text-decoration-color: #ff00ff\">verdad_campo_aumentada_7.shp</span>\n",
       "</pre>\n"
      ],
      "text/plain": [
       "- Vec Path: ..\u001b[35m/datasets/data/\u001b[0m\u001b[95mverdad_campo_aumentada_7.shp\u001b[0m\n"
      ]
     },
     "metadata": {},
     "output_type": "display_data"
    },
    {
     "data": {
      "text/html": [
       "<pre style=\"white-space:pre;overflow-x:auto;line-height:normal;font-family:Menlo,'DejaVu Sans Mono',consolas,'Courier New',monospace\">- Field<span style=\"color: #808000; text-decoration-color: #808000\">...</span>: id\n",
       "</pre>\n"
      ],
      "text/plain": [
       "- Field\u001b[33m...\u001b[0m: id\n"
      ]
     },
     "metadata": {},
     "output_type": "display_data"
    },
    {
     "data": {
      "text/html": [
       "<pre style=\"white-space:pre;overflow-x:auto;line-height:normal;font-family:Menlo,'DejaVu Sans Mono',consolas,'Courier New',monospace\">- Out Path: ..<span style=\"color: #800080; text-decoration-color: #800080\">/results/</span><span style=\"color: #ff00ff; text-decoration-color: #ff00ff\">class_statistics.xml</span>\n",
       "\n",
       "\n",
       "</pre>\n"
      ],
      "text/plain": [
       "- Out Path: ..\u001b[35m/results/\u001b[0m\u001b[95mclass_statistics.xml\u001b[0m\n",
       "\n",
       "\n"
      ]
     },
     "metadata": {},
     "output_type": "display_data"
    },
    {
     "name": "stdout",
     "output_type": "stream",
     "text": [
      "otbcli_PolygonClassStatistics -in  -vec  -field id -out  > /dev/null  0.07s user 0.05s system 52% cpu 0.227 total\n",
      "<?xml version=\"1.0\" ?>\n",
      "<GeneralStatistics>\n",
      "    <Statistic name=\"samplesPerClass\">\n",
      "        <StatisticMap key=\"1\" value=\"1873\" />\n",
      "        <StatisticMap key=\"10\" value=\"48\" />\n",
      "        <StatisticMap key=\"2\" value=\"1578\" />\n",
      "        <StatisticMap key=\"20\" value=\"431\" />\n",
      "        <StatisticMap key=\"3\" value=\"3112\" />\n",
      "        <StatisticMap key=\"4\" value=\"816\" />\n",
      "        <StatisticMap key=\"5\" value=\"752\" />\n"
     ]
    },
    {
     "data": {
      "text/html": [
       "<pre style=\"white-space:pre;overflow-x:auto;line-height:normal;font-family:Menlo,'DejaVu Sans Mono',consolas,'Courier New',monospace\"><span style=\"color: #008000; text-decoration-color: #008000\">'../results/class_statistics.xml'</span>\n",
       "</pre>\n"
      ],
      "text/plain": [
       "\u001b[32m'../results/class_statistics.xml'\u001b[0m\n"
      ]
     },
     "metadata": {},
     "output_type": "display_data"
    }
   ],
   "source": [
    "class_statistics([raster_date_path('2020-10-01', '0000000000-0000000000')], verbose=1)"
   ]
  },
  {
   "cell_type": "markdown",
   "id": "105dd047-a102-4d38-8f9e-7eaa44307935",
   "metadata": {},
   "source": [
    "Vemos una frecuencia muy baja x clase. Esto se debe a que la imagen completa esta compuesta por las dos imagenes dentro de cada directorio de fecha. Por esta cuestión, primero debemos hacer un merge de ambas imagenes para luego calcular estadisticas, clasificar, etc... \n",
    "\n",
    "A continuación se hace mer de todos las imagenes(rasters) por fecha: "
   ]
  },
  {
   "cell_type": "code",
   "execution_count": 23,
   "id": "696695fd-a245-4e46-bb16-a3a5c1702437",
   "metadata": {},
   "outputs": [],
   "source": [
    "def merge_rasters_by_date(date):\n",
    "    source_files = [raster_date_path(date, f) for f in RASTER_FILES]\n",
    "    target_file  =  raster_date_path(date, 'complete_raster')\n",
    "    merge_rasters(source_files, target_file)"
   ]
  },
  {
   "cell_type": "code",
   "execution_count": 24,
   "id": "dfe8da95-6f87-4bb6-91af-e2786899a893",
   "metadata": {},
   "outputs": [],
   "source": [
    "if JOIN_MAPS:\n",
    "    merge_rasters_by_date(DATES[0])"
   ]
  },
  {
   "cell_type": "code",
   "execution_count": 25,
   "id": "4f446eb1-5a2f-4b40-8080-14abb76d280d",
   "metadata": {},
   "outputs": [],
   "source": [
    "if JOIN_MAPS:\n",
    "    merge_rasters_by_date(DATES[1])"
   ]
  },
  {
   "cell_type": "code",
   "execution_count": 26,
   "id": "01dd26e5-df59-43e0-b4e0-c5e9254105f8",
   "metadata": {},
   "outputs": [],
   "source": [
    "if JOIN_MAPS:\n",
    "    merge_rasters_by_date(DATES[2])"
   ]
  },
  {
   "cell_type": "code",
   "execution_count": 27,
   "id": "ca04047a-e114-4afb-9f83-f395bf7250a5",
   "metadata": {},
   "outputs": [],
   "source": [
    "if JOIN_MAPS:\n",
    "    merge_rasters_by_date(DATES[3])"
   ]
  },
  {
   "cell_type": "code",
   "execution_count": 28,
   "id": "a0cb9e87-1643-4266-ac9c-4ec9cc3d4a87",
   "metadata": {},
   "outputs": [],
   "source": [
    "if JOIN_MAPS:\n",
    "    merge_rasters_by_date(DATES[4])"
   ]
  },
  {
   "cell_type": "code",
   "execution_count": 29,
   "id": "6cd35c41-1525-43ca-8562-2e1dcd1a26b2",
   "metadata": {},
   "outputs": [],
   "source": [
    "if JOIN_MAPS:\n",
    "    merge_rasters_by_date(DATES[5])"
   ]
  },
  {
   "cell_type": "markdown",
   "id": "5e040d03-b777-4d0a-9761-260d7b169e60",
   "metadata": {},
   "source": [
    "Ahora validemos si vemos diferencia en las frecuencias:"
   ]
  },
  {
   "cell_type": "code",
   "execution_count": null,
   "id": "33ea77ac-4872-46f7-bcea-c801307c475b",
   "metadata": {},
   "outputs": [],
   "source": [
    "# class_statistics([raster_date_path('2020-10-01', '0000000000-0000000000')], verbose=1)\n",
    "# class_statistics([raster_date_path('2020-10-01', '0000000000-0000012544')], verbose=1)\n",
    "# class_statistics([raster_date_path('2020-10-01', 'complete_raster')], verbose=1)"
   ]
  },
  {
   "cell_type": "code",
   "execution_count": null,
   "id": "dbd86e53-af87-4179-afe2-fd5c228afc03",
   "metadata": {},
   "outputs": [],
   "source": [
    "# class_statistics([raster_date_path('2021-03-17', '0000000000-0000000000')], verbose=1)\n",
    "# class_statistics([raster_date_path('2021-03-17', '0000000000-0000012544')], verbose=1)\n",
    "# class_statistics([raster_date_path('2021-03-17', 'complete_raster')], verbose=1)"
   ]
  },
  {
   "cell_type": "markdown",
   "id": "40ea94ee-eca1-4ec9-8487-75bd8683bf74",
   "metadata": {},
   "source": [
    "**Por que todas las imagenes tiene la misma cantidad de pixeles por clase?**"
   ]
  },
  {
   "cell_type": "markdown",
   "id": "1e997eab-afb5-4125-b536-84be64cd8d0c",
   "metadata": {
    "tags": []
   },
   "source": [
    "### Sampling\n",
    "\n",
    "A continacion sampleamos una cantidad de pixels por clase. De esta forma podemos estratificar las obsercaciones por clase, y asi evitar el desbalanceo de las clases.\n",
    "\n",
    "Ver: [SampleSelection](https://www.orfeo-toolbox.org/CookBook/Applications/app_SampleSelection.html)"
   ]
  },
  {
   "cell_type": "code",
   "execution_count": null,
   "id": "f5780096-370c-4d18-a664-5f8c51e225d9",
   "metadata": {},
   "outputs": [],
   "source": [
    "for date in DATES:\n",
    "    raster_paths = [raster_date_path(date, 'complete_raster')]\n",
    "\n",
    "    class_stat_path = class_statistics(raster_paths, out_file = f'{date}_class_stat.xml', verbose = 1)\n",
    "\n",
    "    sampling(\n",
    "        raster_paths,\n",
    "        class_stat_path  = class_stat_path,\n",
    "        out_rates_path   = f'{date}_rates.csv',\n",
    "        out_sql_path     = f'{date}_samples.sqlite',\n",
    "        strategy         = 'percent', # [byclass|constant|percent|total|smallest|all]\n",
    "        strategy_percent = 50,\n",
    "        verbose          = 1\n",
    "    )"
   ]
  },
  {
   "cell_type": "code",
   "execution_count": 33,
   "id": "9b37a254-2e6f-4775-b9c9-d42034fb0c28",
   "metadata": {},
   "outputs": [
    {
     "data": {
      "text/html": [
       "<pre style=\"white-space:pre;overflow-x:auto;line-height:normal;font-family:Menlo,'DejaVu Sans Mono',consolas,'Courier New',monospace\">\n",
       "<span style=\"font-weight: bold\">[</span>\n",
       "    <span style=\"color: #008000; text-decoration-color: #008000\">'CREATE TABLE \"output\" ( \"ogc_fid\" INTEGER PRIMARY KEY AUTOINCREMENT, \"GEOMETRY\" BLOB, \"in1\" VARCHAR(6), \"id\" BIGINT, \"cultivo\" VARCHAR(10), \"originfid\" INTEGER)'</span>\n",
       "<span style=\"font-weight: bold\">]</span>\n",
       "</pre>\n"
      ],
      "text/plain": [
       "\n",
       "\u001b[1m[\u001b[0m\n",
       "    \u001b[32m'CREATE TABLE \"output\" \u001b[0m\u001b[32m(\u001b[0m\u001b[32m \"ogc_fid\" INTEGER PRIMARY KEY AUTOINCREMENT, \"GEOMETRY\" BLOB, \"in1\" VARCHAR\u001b[0m\u001b[32m(\u001b[0m\u001b[32m6\u001b[0m\u001b[32m)\u001b[0m\u001b[32m, \"id\" BIGINT, \"cultivo\" VARCHAR\u001b[0m\u001b[32m(\u001b[0m\u001b[32m10\u001b[0m\u001b[32m)\u001b[0m\u001b[32m, \"originfid\" INTEGER\u001b[0m\u001b[32m)\u001b[0m\u001b[32m'\u001b[0m\n",
       "\u001b[1m]\u001b[0m\n"
      ]
     },
     "metadata": {},
     "output_type": "display_data"
    }
   ],
   "source": [
    "sql.SQLiteClient.inline_tables_definition(\n",
    "    path  = result_path('2020-12-01_samples.sqlite'),\n",
    "    table = 'output'\n",
    ")"
   ]
  },
  {
   "cell_type": "code",
   "execution_count": 34,
   "id": "f75ae95b-6aba-47de-b37e-716d7eb11a7a",
   "metadata": {},
   "outputs": [
    {
     "data": {
      "text/html": [
       "<div>\n",
       "<style scoped>\n",
       "    .dataframe tbody tr th:only-of-type {\n",
       "        vertical-align: middle;\n",
       "    }\n",
       "\n",
       "    .dataframe tbody tr th {\n",
       "        vertical-align: top;\n",
       "    }\n",
       "\n",
       "    .dataframe thead th {\n",
       "        text-align: right;\n",
       "    }\n",
       "</style>\n",
       "<table border=\"1\" class=\"dataframe\">\n",
       "  <thead>\n",
       "    <tr style=\"text-align: right;\">\n",
       "      <th></th>\n",
       "      <th>cultivo</th>\n",
       "      <th>Cantidad</th>\n",
       "    </tr>\n",
       "  </thead>\n",
       "  <tbody>\n",
       "    <tr>\n",
       "      <th>0</th>\n",
       "      <td>MAIZ</td>\n",
       "      <td>5893</td>\n",
       "    </tr>\n",
       "    <tr>\n",
       "      <th>1</th>\n",
       "      <td>SOJA</td>\n",
       "      <td>4005</td>\n",
       "    </tr>\n",
       "    <tr>\n",
       "      <th>2</th>\n",
       "      <td>GIRASOL</td>\n",
       "      <td>777</td>\n",
       "    </tr>\n",
       "    <tr>\n",
       "      <th>3</th>\n",
       "      <td>CAMPONATUR</td>\n",
       "      <td>431</td>\n",
       "    </tr>\n",
       "    <tr>\n",
       "      <th>4</th>\n",
       "      <td>ALFALFA</td>\n",
       "      <td>48</td>\n",
       "    </tr>\n",
       "  </tbody>\n",
       "</table>\n",
       "</div>"
      ]
     },
     "execution_count": 34,
     "metadata": {},
     "output_type": "execute_result"
    }
   ],
   "source": [
    "sql.SQLiteClient.inline_query(\n",
    "    path  = result_path('2020-12-01_samples.sqlite'),\n",
    "    query = \"\"\"\n",
    "        SELECT \n",
    "            cultivo,\n",
    "            COUNT(*) AS Cantidad\n",
    "        FROM\n",
    "            output\n",
    "        GROUP BY\n",
    "            cultivo\n",
    "        ORDER BY\n",
    "            Cantidad desc\n",
    "    \"\"\"\n",
    ")"
   ]
  },
  {
   "cell_type": "markdown",
   "id": "5a485424-24d2-4684-a7e6-b1d92e0e39f0",
   "metadata": {},
   "source": [
    "### Extracción de observaciones\n",
    "\n",
    "\n",
    "En este paso, en base a una capa vectorial (sqlite) y un raster, se genera la tabla **output** dentro del archivos de base de datos sqlite, donde cada fila es un pixel del raster y cada columna es el valor del pixel en cada banda que contenida en el mismo (En nuestro caso, como el raster es una imagen generada con el satelite SENTINEL).\n",
    "\n",
    "Ver: [SampleExtraction](https://www.orfeo-toolbox.org/CookBook/Applications/app_SampleExtraction.html)"
   ]
  },
  {
   "cell_type": "code",
   "execution_count": null,
   "id": "e2564e7f-5a01-45b2-9de2-84837dad9d52",
   "metadata": {},
   "outputs": [],
   "source": [
    "for date in DATES:\n",
    "    sample_extraction(\n",
    "        raster_paths = [raster_date_path(date, 'complete_raster')],\n",
    "        out_sql_file = f'{date}_samples.sqlite',\n",
    "        verbose      = 1\n",
    "    )"
   ]
  },
  {
   "cell_type": "code",
   "execution_count": 36,
   "id": "05ecfb1a-6c91-4b3e-8a7e-f10d31810c48",
   "metadata": {},
   "outputs": [
    {
     "data": {
      "text/html": [
       "<div>\n",
       "<style scoped>\n",
       "    .dataframe tbody tr th:only-of-type {\n",
       "        vertical-align: middle;\n",
       "    }\n",
       "\n",
       "    .dataframe tbody tr th {\n",
       "        vertical-align: top;\n",
       "    }\n",
       "\n",
       "    .dataframe thead th {\n",
       "        text-align: right;\n",
       "    }\n",
       "</style>\n",
       "<table border=\"1\" class=\"dataframe\">\n",
       "  <thead>\n",
       "    <tr style=\"text-align: right;\">\n",
       "      <th></th>\n",
       "      <th>id</th>\n",
       "      <th>cultivo</th>\n",
       "      <th>band_0</th>\n",
       "      <th>band_1</th>\n",
       "      <th>band_2</th>\n",
       "      <th>band_3</th>\n",
       "      <th>band_4</th>\n",
       "      <th>band_5</th>\n",
       "      <th>band_6</th>\n",
       "    </tr>\n",
       "  </thead>\n",
       "  <tbody>\n",
       "    <tr>\n",
       "      <th>0</th>\n",
       "      <td>1</td>\n",
       "      <td>SOJA</td>\n",
       "      <td>0.1083</td>\n",
       "      <td>0.1460</td>\n",
       "      <td>0.2057</td>\n",
       "      <td>0.2961</td>\n",
       "      <td>0.31315</td>\n",
       "      <td>0.44065</td>\n",
       "      <td>0.35915</td>\n",
       "    </tr>\n",
       "    <tr>\n",
       "      <th>1</th>\n",
       "      <td>1</td>\n",
       "      <td>SOJA</td>\n",
       "      <td>0.1099</td>\n",
       "      <td>0.1478</td>\n",
       "      <td>0.2048</td>\n",
       "      <td>0.2959</td>\n",
       "      <td>0.31170</td>\n",
       "      <td>0.44015</td>\n",
       "      <td>0.36025</td>\n",
       "    </tr>\n",
       "    <tr>\n",
       "      <th>2</th>\n",
       "      <td>1</td>\n",
       "      <td>SOJA</td>\n",
       "      <td>0.1096</td>\n",
       "      <td>0.1486</td>\n",
       "      <td>0.2081</td>\n",
       "      <td>0.2996</td>\n",
       "      <td>0.31345</td>\n",
       "      <td>0.44045</td>\n",
       "      <td>0.36075</td>\n",
       "    </tr>\n",
       "    <tr>\n",
       "      <th>3</th>\n",
       "      <td>1</td>\n",
       "      <td>SOJA</td>\n",
       "      <td>0.1076</td>\n",
       "      <td>0.1459</td>\n",
       "      <td>0.2049</td>\n",
       "      <td>0.2955</td>\n",
       "      <td>0.31420</td>\n",
       "      <td>0.44490</td>\n",
       "      <td>0.35980</td>\n",
       "    </tr>\n",
       "    <tr>\n",
       "      <th>4</th>\n",
       "      <td>1</td>\n",
       "      <td>SOJA</td>\n",
       "      <td>0.1084</td>\n",
       "      <td>0.1431</td>\n",
       "      <td>0.2010</td>\n",
       "      <td>0.2937</td>\n",
       "      <td>0.31060</td>\n",
       "      <td>0.44155</td>\n",
       "      <td>0.35890</td>\n",
       "    </tr>\n",
       "    <tr>\n",
       "      <th>...</th>\n",
       "      <td>...</td>\n",
       "      <td>...</td>\n",
       "      <td>...</td>\n",
       "      <td>...</td>\n",
       "      <td>...</td>\n",
       "      <td>...</td>\n",
       "      <td>...</td>\n",
       "      <td>...</td>\n",
       "      <td>...</td>\n",
       "    </tr>\n",
       "    <tr>\n",
       "      <th>11149</th>\n",
       "      <td>2</td>\n",
       "      <td>MAIZ</td>\n",
       "      <td>0.1154</td>\n",
       "      <td>0.1554</td>\n",
       "      <td>0.2130</td>\n",
       "      <td>0.2832</td>\n",
       "      <td>0.29750</td>\n",
       "      <td>0.40950</td>\n",
       "      <td>0.32330</td>\n",
       "    </tr>\n",
       "    <tr>\n",
       "      <th>11150</th>\n",
       "      <td>2</td>\n",
       "      <td>MAIZ</td>\n",
       "      <td>0.1174</td>\n",
       "      <td>0.1544</td>\n",
       "      <td>0.2088</td>\n",
       "      <td>0.2920</td>\n",
       "      <td>0.31490</td>\n",
       "      <td>0.41400</td>\n",
       "      <td>0.31600</td>\n",
       "    </tr>\n",
       "    <tr>\n",
       "      <th>11151</th>\n",
       "      <td>2</td>\n",
       "      <td>MAIZ</td>\n",
       "      <td>0.1144</td>\n",
       "      <td>0.1538</td>\n",
       "      <td>0.2160</td>\n",
       "      <td>0.2894</td>\n",
       "      <td>0.31980</td>\n",
       "      <td>0.42000</td>\n",
       "      <td>0.32110</td>\n",
       "    </tr>\n",
       "    <tr>\n",
       "      <th>11152</th>\n",
       "      <td>2</td>\n",
       "      <td>MAIZ</td>\n",
       "      <td>0.1302</td>\n",
       "      <td>0.1722</td>\n",
       "      <td>0.2364</td>\n",
       "      <td>0.3088</td>\n",
       "      <td>0.31790</td>\n",
       "      <td>0.41640</td>\n",
       "      <td>0.32170</td>\n",
       "    </tr>\n",
       "    <tr>\n",
       "      <th>11153</th>\n",
       "      <td>2</td>\n",
       "      <td>MAIZ</td>\n",
       "      <td>0.1152</td>\n",
       "      <td>0.1564</td>\n",
       "      <td>0.2222</td>\n",
       "      <td>0.2896</td>\n",
       "      <td>0.31790</td>\n",
       "      <td>0.41640</td>\n",
       "      <td>0.32170</td>\n",
       "    </tr>\n",
       "  </tbody>\n",
       "</table>\n",
       "<p>11154 rows × 9 columns</p>\n",
       "</div>"
      ]
     },
     "execution_count": 36,
     "metadata": {},
     "output_type": "execute_result"
    }
   ],
   "source": [
    "sql.SQLiteClient.inline_query(\n",
    "    path  = result_path('2020-12-01_samples.sqlite'),\n",
    "    query = \"\"\"\n",
    "    SELECT\n",
    "        id, cultivo, band_0, band_1, band_2, band_3, band_4, band_5, band_6\n",
    "    FROM\n",
    "        output\n",
    "    \"\"\"\n",
    ")"
   ]
  },
  {
   "cell_type": "markdown",
   "id": "209adefc-c096-4076-80ee-9d2dcd8cf80f",
   "metadata": {},
   "source": [
    "### ComputeImageStatistics\n",
    "\n",
    "\n",
    "Ver: [ComputeImageStatistics](https://www.orfeo-toolbox.org/CookBook/Applications/app_ComputeImagesStatistics.html)"
   ]
  },
  {
   "cell_type": "code",
   "execution_count": 37,
   "id": "094d2f0c-28e2-4bf0-9e47-a02f8a0b6ad5",
   "metadata": {},
   "outputs": [
    {
     "data": {
      "text/html": [
       "<pre style=\"white-space:pre;overflow-x:auto;line-height:normal;font-family:Menlo,'DejaVu Sans Mono',consolas,'Courier New',monospace\">\n",
       "\n",
       "Compute rasters statistics<span style=\"color: #808000; text-decoration-color: #808000\">...</span>\n",
       "\n",
       "</pre>\n"
      ],
      "text/plain": [
       "\n",
       "\n",
       "Compute rasters statistics\u001b[33m...\u001b[0m\n",
       "\n"
      ]
     },
     "metadata": {},
     "output_type": "display_data"
    },
    {
     "data": {
      "text/html": [
       "<pre style=\"white-space:pre;overflow-x:auto;line-height:normal;font-family:Menlo,'DejaVu Sans Mono',consolas,'Courier New',monospace\">- Raster Paths: ..<span style=\"color: #800080; text-decoration-color: #800080\">/datasets/images/2020-10-01/</span><span style=\"color: #ff00ff; text-decoration-color: #ff00ff\">complete_raster.tif</span>\n",
       "</pre>\n"
      ],
      "text/plain": [
       "- Raster Paths: ..\u001b[35m/datasets/images/2020-10-01/\u001b[0m\u001b[95mcomplete_raster.tif\u001b[0m\n"
      ]
     },
     "metadata": {},
     "output_type": "display_data"
    },
    {
     "data": {
      "text/html": [
       "<pre style=\"white-space:pre;overflow-x:auto;line-height:normal;font-family:Menlo,'DejaVu Sans Mono',consolas,'Courier New',monospace\">- Stats Path : ..<span style=\"color: #800080; text-decoration-color: #800080\">/results/</span><span style=\"color: #ff00ff; text-decoration-color: #ff00ff\">2020-10-01_norm_raster_stat.xml</span>\n",
       "\n",
       "\n",
       "</pre>\n"
      ],
      "text/plain": [
       "- Stats Path : ..\u001b[35m/results/\u001b[0m\u001b[95m2020-10-01_norm_raster_stat.xml\u001b[0m\n",
       "\n",
       "\n"
      ]
     },
     "metadata": {},
     "output_type": "display_data"
    },
    {
     "name": "stdout",
     "output_type": "stream",
     "text": [
      "2022-07-03 20:22:49 (INFO) ComputeImagesStatistics: Default RAM limit for OTB is 1024 MB\n",
      "2022-07-03 20:22:49 (INFO) ComputeImagesStatistics: GDAL maximum cache size is 1600 MB\n",
      "2022-07-03 20:22:49 (INFO) ComputeImagesStatistics: OTB will use at most 128 threads\n",
      "2022-07-03 20:22:49 (INFO): Loading metadata from official product\n",
      "2022-07-03 20:22:49 (INFO): Estimated memory for full processing: 10993.6MB (avail.: 1024 MB), optimal image partitioning: 11 blocks\n",
      "2022-07-03 20:22:49 (INFO): Estimation will be performed in 12 blocks of 15860x722 pixels\n",
      "Processing Image (1/1): 100% [**************************************************] (5s)\n",
      "Output parameters value:\n",
      "out.mean: [0.079486, 0.105772, 0.134994, 0.251863, 0.259304, 0.321531, 0.25522]\n",
      "out.min: [0.0001, 0.0063, 0.0009, 0.0001, 0.0001, 0.0042, 0.0029]\n",
      "out.max: [1.0088, 1.1228, 1.2356, 1.2884, 0.88735, 0.90225, 0.9506]\n",
      "out.std: [0.0272121, 0.0306367, 0.0473926, 0.0502634, 0.0507456, 0.0778327, 0.0759153]\n",
      "\n",
      "otbcli_ComputeImagesStatistics -il  -out.xml   16.71s user 1.63s system 319% cpu 5.740 total\n"
     ]
    },
    {
     "data": {
      "text/html": [
       "<pre style=\"white-space:pre;overflow-x:auto;line-height:normal;font-family:Menlo,'DejaVu Sans Mono',consolas,'Courier New',monospace\">\n",
       "\n",
       "Compute rasters statistics<span style=\"color: #808000; text-decoration-color: #808000\">...</span>\n",
       "\n",
       "</pre>\n"
      ],
      "text/plain": [
       "\n",
       "\n",
       "Compute rasters statistics\u001b[33m...\u001b[0m\n",
       "\n"
      ]
     },
     "metadata": {},
     "output_type": "display_data"
    },
    {
     "data": {
      "text/html": [
       "<pre style=\"white-space:pre;overflow-x:auto;line-height:normal;font-family:Menlo,'DejaVu Sans Mono',consolas,'Courier New',monospace\">- Raster Paths: ..<span style=\"color: #800080; text-decoration-color: #800080\">/datasets/images/2020-11-01/</span><span style=\"color: #ff00ff; text-decoration-color: #ff00ff\">complete_raster.tif</span>\n",
       "</pre>\n"
      ],
      "text/plain": [
       "- Raster Paths: ..\u001b[35m/datasets/images/2020-11-01/\u001b[0m\u001b[95mcomplete_raster.tif\u001b[0m\n"
      ]
     },
     "metadata": {},
     "output_type": "display_data"
    },
    {
     "data": {
      "text/html": [
       "<pre style=\"white-space:pre;overflow-x:auto;line-height:normal;font-family:Menlo,'DejaVu Sans Mono',consolas,'Courier New',monospace\">- Stats Path : ..<span style=\"color: #800080; text-decoration-color: #800080\">/results/</span><span style=\"color: #ff00ff; text-decoration-color: #ff00ff\">2020-11-01_norm_raster_stat.xml</span>\n",
       "\n",
       "\n",
       "</pre>\n"
      ],
      "text/plain": [
       "- Stats Path : ..\u001b[35m/results/\u001b[0m\u001b[95m2020-11-01_norm_raster_stat.xml\u001b[0m\n",
       "\n",
       "\n"
      ]
     },
     "metadata": {},
     "output_type": "display_data"
    },
    {
     "name": "stdout",
     "output_type": "stream",
     "text": [
      "2022-07-03 20:22:55 (INFO) ComputeImagesStatistics: Default RAM limit for OTB is 1024 MB\n",
      "2022-07-03 20:22:55 (INFO) ComputeImagesStatistics: GDAL maximum cache size is 1600 MB\n",
      "2022-07-03 20:22:55 (INFO) ComputeImagesStatistics: OTB will use at most 128 threads\n",
      "2022-07-03 20:22:55 (INFO): Loading metadata from official product\n",
      "2022-07-03 20:22:55 (INFO): Estimated memory for full processing: 10993.6MB (avail.: 1024 MB), optimal image partitioning: 11 blocks\n",
      "2022-07-03 20:22:55 (INFO): Estimation will be performed in 12 blocks of 15860x722 pixels\n",
      "Processing Image (1/1): 100% [**************************************************] (5s)\n",
      "Output parameters value:\n",
      "out.mean: [0.077316, 0.104465, 0.127616, 0.253876, 0.265029, 0.318965, 0.255314]\n",
      "out.min: [0.0001, 0.0001, 0.0001, 0.0014, 0.0001, 0.0019, 0.0013]\n",
      "out.max: [1.848, 1.8208, 1.72, 1.6248, 1.5872, 1.3226, 1.5124]\n",
      "out.std: [0.025387, 0.0274923, 0.0468042, 0.050141, 0.0507984, 0.0813999, 0.0845822]\n",
      "\n",
      "otbcli_ComputeImagesStatistics -il  -out.xml   16.25s user 1.57s system 313% cpu 5.685 total\n"
     ]
    },
    {
     "data": {
      "text/html": [
       "<pre style=\"white-space:pre;overflow-x:auto;line-height:normal;font-family:Menlo,'DejaVu Sans Mono',consolas,'Courier New',monospace\">\n",
       "\n",
       "Compute rasters statistics<span style=\"color: #808000; text-decoration-color: #808000\">...</span>\n",
       "\n",
       "</pre>\n"
      ],
      "text/plain": [
       "\n",
       "\n",
       "Compute rasters statistics\u001b[33m...\u001b[0m\n",
       "\n"
      ]
     },
     "metadata": {},
     "output_type": "display_data"
    },
    {
     "data": {
      "text/html": [
       "<pre style=\"white-space:pre;overflow-x:auto;line-height:normal;font-family:Menlo,'DejaVu Sans Mono',consolas,'Courier New',monospace\">- Raster Paths: ..<span style=\"color: #800080; text-decoration-color: #800080\">/datasets/images/2020-12-01/</span><span style=\"color: #ff00ff; text-decoration-color: #ff00ff\">complete_raster.tif</span>\n",
       "</pre>\n"
      ],
      "text/plain": [
       "- Raster Paths: ..\u001b[35m/datasets/images/2020-12-01/\u001b[0m\u001b[95mcomplete_raster.tif\u001b[0m\n"
      ]
     },
     "metadata": {},
     "output_type": "display_data"
    },
    {
     "data": {
      "text/html": [
       "<pre style=\"white-space:pre;overflow-x:auto;line-height:normal;font-family:Menlo,'DejaVu Sans Mono',consolas,'Courier New',monospace\">- Stats Path : ..<span style=\"color: #800080; text-decoration-color: #800080\">/results/</span><span style=\"color: #ff00ff; text-decoration-color: #ff00ff\">2020-12-01_norm_raster_stat.xml</span>\n",
       "\n",
       "\n",
       "</pre>\n"
      ],
      "text/plain": [
       "- Stats Path : ..\u001b[35m/results/\u001b[0m\u001b[95m2020-12-01_norm_raster_stat.xml\u001b[0m\n",
       "\n",
       "\n"
      ]
     },
     "metadata": {},
     "output_type": "display_data"
    },
    {
     "name": "stdout",
     "output_type": "stream",
     "text": [
      "2022-07-03 20:23:01 (INFO) ComputeImagesStatistics: Default RAM limit for OTB is 1024 MB\n",
      "2022-07-03 20:23:01 (INFO) ComputeImagesStatistics: GDAL maximum cache size is 1600 MB\n",
      "2022-07-03 20:23:01 (INFO) ComputeImagesStatistics: OTB will use at most 128 threads\n",
      "2022-07-03 20:23:01 (INFO): Loading metadata from official product\n",
      "2022-07-03 20:23:01 (INFO): Estimated memory for full processing: 10993.6MB (avail.: 1024 MB), optimal image partitioning: 11 blocks\n",
      "2022-07-03 20:23:01 (INFO): Estimation will be performed in 12 blocks of 15860x722 pixels\n",
      "Processing Image (1/1): 100% [**************************************************] (5s)\n",
      "Output parameters value:\n",
      "out.mean: [0.0819938, 0.114135, 0.143706, 0.284331, 0.295263, 0.339276, 0.266309]\n",
      "out.min: [0.0001, 0.0001, 0.0001, 0.0001, 0.0001, 0.00265, 0.0021]\n",
      "out.max: [1.9408, 1.8096, 1.7176, 1.6052, 1.5974, 1.29595, 1.485]\n",
      "out.std: [0.0269167, 0.0304293, 0.0510517, 0.0510848, 0.0513198, 0.0730549, 0.0757679]\n",
      "\n",
      "otbcli_ComputeImagesStatistics -il  -out.xml   16.37s user 1.65s system 313% cpu 5.754 total\n"
     ]
    },
    {
     "data": {
      "text/html": [
       "<pre style=\"white-space:pre;overflow-x:auto;line-height:normal;font-family:Menlo,'DejaVu Sans Mono',consolas,'Courier New',monospace\">\n",
       "\n",
       "Compute rasters statistics<span style=\"color: #808000; text-decoration-color: #808000\">...</span>\n",
       "\n",
       "</pre>\n"
      ],
      "text/plain": [
       "\n",
       "\n",
       "Compute rasters statistics\u001b[33m...\u001b[0m\n",
       "\n"
      ]
     },
     "metadata": {},
     "output_type": "display_data"
    },
    {
     "data": {
      "text/html": [
       "<pre style=\"white-space:pre;overflow-x:auto;line-height:normal;font-family:Menlo,'DejaVu Sans Mono',consolas,'Courier New',monospace\">- Raster Paths: ..<span style=\"color: #800080; text-decoration-color: #800080\">/datasets/images/2021-01-01/</span><span style=\"color: #ff00ff; text-decoration-color: #ff00ff\">complete_raster.tif</span>\n",
       "</pre>\n"
      ],
      "text/plain": [
       "- Raster Paths: ..\u001b[35m/datasets/images/2021-01-01/\u001b[0m\u001b[95mcomplete_raster.tif\u001b[0m\n"
      ]
     },
     "metadata": {},
     "output_type": "display_data"
    },
    {
     "data": {
      "text/html": [
       "<pre style=\"white-space:pre;overflow-x:auto;line-height:normal;font-family:Menlo,'DejaVu Sans Mono',consolas,'Courier New',monospace\">- Stats Path : ..<span style=\"color: #800080; text-decoration-color: #800080\">/results/</span><span style=\"color: #ff00ff; text-decoration-color: #ff00ff\">2021-01-01_norm_raster_stat.xml</span>\n",
       "\n",
       "\n",
       "</pre>\n"
      ],
      "text/plain": [
       "- Stats Path : ..\u001b[35m/results/\u001b[0m\u001b[95m2021-01-01_norm_raster_stat.xml\u001b[0m\n",
       "\n",
       "\n"
      ]
     },
     "metadata": {},
     "output_type": "display_data"
    },
    {
     "name": "stdout",
     "output_type": "stream",
     "text": [
      "2022-07-03 20:23:06 (INFO) ComputeImagesStatistics: Default RAM limit for OTB is 1024 MB\n",
      "2022-07-03 20:23:06 (INFO) ComputeImagesStatistics: GDAL maximum cache size is 1600 MB\n",
      "2022-07-03 20:23:06 (INFO) ComputeImagesStatistics: OTB will use at most 128 threads\n",
      "2022-07-03 20:23:06 (INFO): Loading metadata from official product\n",
      "2022-07-03 20:23:06 (INFO): Estimated memory for full processing: 10993.6MB (avail.: 1024 MB), optimal image partitioning: 11 blocks\n",
      "2022-07-03 20:23:06 (INFO): Estimation will be performed in 12 blocks of 15860x722 pixels\n",
      "Processing Image (1/1): 100% [**************************************************] (5s)\n",
      "Output parameters value:\n",
      "out.mean: [0.0527389, 0.0828316, 0.080859, 0.32603, 0.340943, 0.261331, 0.174473]\n",
      "out.min: [0.0001, 0.0001, 0.0007, 0.0027, 0.001, 0.00165, 0.00155]\n",
      "out.max: [1.8528, 1.7408, 1.6672, 1.568, 1.5194, 1.312, 1.5121]\n",
      "out.std: [0.0234102, 0.0258292, 0.0431831, 0.0906783, 0.0911687, 0.0595638, 0.0656748]\n",
      "\n",
      "otbcli_ComputeImagesStatistics -il  -out.xml   16.73s user 1.67s system 321% cpu 5.720 total\n"
     ]
    },
    {
     "data": {
      "text/html": [
       "<pre style=\"white-space:pre;overflow-x:auto;line-height:normal;font-family:Menlo,'DejaVu Sans Mono',consolas,'Courier New',monospace\">\n",
       "\n",
       "Compute rasters statistics<span style=\"color: #808000; text-decoration-color: #808000\">...</span>\n",
       "\n",
       "</pre>\n"
      ],
      "text/plain": [
       "\n",
       "\n",
       "Compute rasters statistics\u001b[33m...\u001b[0m\n",
       "\n"
      ]
     },
     "metadata": {},
     "output_type": "display_data"
    },
    {
     "data": {
      "text/html": [
       "<pre style=\"white-space:pre;overflow-x:auto;line-height:normal;font-family:Menlo,'DejaVu Sans Mono',consolas,'Courier New',monospace\">- Raster Paths: ..<span style=\"color: #800080; text-decoration-color: #800080\">/datasets/images/2021-02-20/</span><span style=\"color: #ff00ff; text-decoration-color: #ff00ff\">complete_raster.tif</span>\n",
       "</pre>\n"
      ],
      "text/plain": [
       "- Raster Paths: ..\u001b[35m/datasets/images/2021-02-20/\u001b[0m\u001b[95mcomplete_raster.tif\u001b[0m\n"
      ]
     },
     "metadata": {},
     "output_type": "display_data"
    },
    {
     "data": {
      "text/html": [
       "<pre style=\"white-space:pre;overflow-x:auto;line-height:normal;font-family:Menlo,'DejaVu Sans Mono',consolas,'Courier New',monospace\">- Stats Path : ..<span style=\"color: #800080; text-decoration-color: #800080\">/results/</span><span style=\"color: #ff00ff; text-decoration-color: #ff00ff\">2021-02-20_norm_raster_stat.xml</span>\n",
       "\n",
       "\n",
       "</pre>\n"
      ],
      "text/plain": [
       "- Stats Path : ..\u001b[35m/results/\u001b[0m\u001b[95m2021-02-20_norm_raster_stat.xml\u001b[0m\n",
       "\n",
       "\n"
      ]
     },
     "metadata": {},
     "output_type": "display_data"
    },
    {
     "name": "stdout",
     "output_type": "stream",
     "text": [
      "2022-07-03 20:23:12 (INFO) ComputeImagesStatistics: Default RAM limit for OTB is 1024 MB\n",
      "2022-07-03 20:23:12 (INFO) ComputeImagesStatistics: GDAL maximum cache size is 1600 MB\n",
      "2022-07-03 20:23:12 (INFO) ComputeImagesStatistics: OTB will use at most 128 threads\n",
      "2022-07-03 20:23:12 (INFO): Loading metadata from official product\n",
      "2022-07-03 20:23:12 (INFO): Estimated memory for full processing: 10993.6MB (avail.: 1024 MB), optimal image partitioning: 11 blocks\n",
      "2022-07-03 20:23:12 (INFO): Estimation will be performed in 12 blocks of 15860x722 pixels\n",
      "Processing Image (1/1): 100% [**************************************************] (5s)\n",
      "Output parameters value:\n",
      "out.mean: [0.0427842, 0.0683798, 0.0630044, 0.325853, 0.342392, 0.227265, 0.140894]\n",
      "out.min: [0.0001, 0.0001, 0.0006, 0.0001, 0.0001, 0.0015, 0.0012]\n",
      "out.max: [1.0528, 1.1312, 1.2112, 1.2312, 0.9017, 0.9353, 0.9853]\n",
      "out.std: [0.022535, 0.025289, 0.0390887, 0.10535, 0.106354, 0.0540611, 0.0593879]\n",
      "\n",
      "otbcli_ComputeImagesStatistics -il  -out.xml   16.62s user 1.79s system 322% cpu 5.702 total\n"
     ]
    },
    {
     "data": {
      "text/html": [
       "<pre style=\"white-space:pre;overflow-x:auto;line-height:normal;font-family:Menlo,'DejaVu Sans Mono',consolas,'Courier New',monospace\">\n",
       "\n",
       "Compute rasters statistics<span style=\"color: #808000; text-decoration-color: #808000\">...</span>\n",
       "\n",
       "</pre>\n"
      ],
      "text/plain": [
       "\n",
       "\n",
       "Compute rasters statistics\u001b[33m...\u001b[0m\n",
       "\n"
      ]
     },
     "metadata": {},
     "output_type": "display_data"
    },
    {
     "data": {
      "text/html": [
       "<pre style=\"white-space:pre;overflow-x:auto;line-height:normal;font-family:Menlo,'DejaVu Sans Mono',consolas,'Courier New',monospace\">- Raster Paths: ..<span style=\"color: #800080; text-decoration-color: #800080\">/datasets/images/2021-03-17/</span><span style=\"color: #ff00ff; text-decoration-color: #ff00ff\">complete_raster.tif</span>\n",
       "</pre>\n"
      ],
      "text/plain": [
       "- Raster Paths: ..\u001b[35m/datasets/images/2021-03-17/\u001b[0m\u001b[95mcomplete_raster.tif\u001b[0m\n"
      ]
     },
     "metadata": {},
     "output_type": "display_data"
    },
    {
     "data": {
      "text/html": [
       "<pre style=\"white-space:pre;overflow-x:auto;line-height:normal;font-family:Menlo,'DejaVu Sans Mono',consolas,'Courier New',monospace\">- Stats Path : ..<span style=\"color: #800080; text-decoration-color: #800080\">/results/</span><span style=\"color: #ff00ff; text-decoration-color: #ff00ff\">2021-03-17_norm_raster_stat.xml</span>\n",
       "\n",
       "\n",
       "</pre>\n"
      ],
      "text/plain": [
       "- Stats Path : ..\u001b[35m/results/\u001b[0m\u001b[95m2021-03-17_norm_raster_stat.xml\u001b[0m\n",
       "\n",
       "\n"
      ]
     },
     "metadata": {},
     "output_type": "display_data"
    },
    {
     "name": "stdout",
     "output_type": "stream",
     "text": [
      "2022-07-03 20:23:18 (INFO) ComputeImagesStatistics: Default RAM limit for OTB is 1024 MB\n",
      "2022-07-03 20:23:18 (INFO) ComputeImagesStatistics: GDAL maximum cache size is 1600 MB\n",
      "2022-07-03 20:23:18 (INFO) ComputeImagesStatistics: OTB will use at most 128 threads\n",
      "2022-07-03 20:23:18 (INFO): Loading metadata from official product\n",
      "2022-07-03 20:23:18 (INFO): Estimated memory for full processing: 10993.6MB (avail.: 1024 MB), optimal image partitioning: 11 blocks\n",
      "2022-07-03 20:23:18 (INFO): Estimation will be performed in 12 blocks of 15860x722 pixels\n",
      "Processing Image (1/1): 100% [**************************************************] (5s)\n",
      "Output parameters value:\n",
      "out.mean: [0.0394666, 0.0660235, 0.0673456, 0.257657, 0.271254, 0.222137, 0.148719]\n",
      "out.min: [0.0001, 0.0001, 0.0002, 0.003, 0.00095, 0.0014, 0.0012]\n",
      "out.max: [0.888, 0.8864, 0.9392, 0.932, 0.6501, 1.0793, 1.2956]\n",
      "out.std: [0.0163246, 0.0185411, 0.0304052, 0.0886013, 0.0900108, 0.0484511, 0.0544197]\n",
      "\n",
      "otbcli_ComputeImagesStatistics -il  -out.xml   16.65s user 1.85s system 317% cpu 5.824 total\n"
     ]
    }
   ],
   "source": [
    "for date in DATES:\n",
    "    compute_raster_statistics(\n",
    "        raster_paths = [raster_date_path(date, 'complete_raster')],\n",
    "        stat_file    = f'{date}_norm_raster_stat.xml',\n",
    "        verbose      = 1\n",
    "    )"
   ]
  },
  {
   "cell_type": "markdown",
   "id": "4c0f0dcc-4ec2-414f-bbdc-598fcb6128db",
   "metadata": {},
   "source": [
    "## Clasificacion por pixels\n",
    "\n",
    "\n",
    "Ver: [TrainVectorClassifier](https://www.orfeo-toolbox.org/CookBook/Applications/app_TrainVectorClassifier.html)"
   ]
  },
  {
   "cell_type": "code",
   "execution_count": null,
   "id": "c7928c97-eca3-4760-8c0d-3083515db6b5",
   "metadata": {},
   "outputs": [],
   "source": [
    "for date in DATES:\n",
    "    train_clasifier(\n",
    "        sql_file         = f'{date}_samples.sqlite',\n",
    "        stat_file        = f'{date}_norm_raster_stat.xml',\n",
    "        out_model_file   = f'{date}_dt_model.txt',\n",
    "        out_cm_file      = f'{date}_dt_cm_model.csv',\n",
    "        features         = ['band_0', 'band_1', 'band_2', 'band_3', 'band_4', 'band_5', 'band_6'],\n",
    "        verbose          = 1,\n",
    "        clasifier_config = {\n",
    "            'classifier': 'dt',\n",
    "            'classifier.dt.min': 1,\n",
    "            'classifier.dt.max': 10\n",
    "        }\n",
    "    )"
   ]
  },
  {
   "cell_type": "markdown",
   "id": "62716bd0-3305-4088-baa6-1144650b42dc",
   "metadata": {
    "tags": []
   },
   "source": [
    "## Join de campañas de cultivo y calculo de indices\n",
    "\n",
    "Partiendo de los rasters(.tif) pertenecientes a cada campaña de cultivo (6 en total), calculamos el indice NDVI para cada uno de estos. Luego realizamos la acción **Concat**, la cual realiza un join de todos los rasters. Esto significa que, como resultado tendremos un unico raster con las columnas de los 6 rasters iniciales. Como filas tendremos el mismo numero de pixels que los rasters iniciales. Por ejemplo: dados dos rasters 1 y 2 los cuales tiene 10 filas(pixels) y 1 columna cada uno, al concatenarlos tenemos un unico raster de 10 filas y 2 columna. **Concat** es el análogo al aplicar JOIN en sql."
   ]
  },
  {
   "cell_type": "markdown",
   "id": "55d8a4ec-4c55-47b9-a8af-8e960771de3d",
   "metadata": {},
   "source": [
    "### 1. Primero calculamos lo indice que creamos necesarios. Estos seran utilizados como features en el paso de clasificación."
   ]
  },
  {
   "cell_type": "code",
   "execution_count": 39,
   "id": "c2a73eb7-2b11-43a0-b6f9-95e3c2685653",
   "metadata": {},
   "outputs": [
    {
     "data": {
      "text/html": [
       "<pre style=\"white-space:pre;overflow-x:auto;line-height:normal;font-family:Menlo,'DejaVu Sans Mono',consolas,'Courier New',monospace\">\n",
       "<span style=\"font-weight: bold\">[</span>\n",
       "    <span style=\"color: #008000; text-decoration-color: #008000\">'../datasets/images/2020-10-01/complete_raster.tif'</span>,\n",
       "    <span style=\"color: #008000; text-decoration-color: #008000\">'../datasets/images/2020-11-01/complete_raster.tif'</span>,\n",
       "    <span style=\"color: #008000; text-decoration-color: #008000\">'../datasets/images/2020-12-01/complete_raster.tif'</span>,\n",
       "    <span style=\"color: #008000; text-decoration-color: #008000\">'../datasets/images/2021-01-01/complete_raster.tif'</span>,\n",
       "    <span style=\"color: #008000; text-decoration-color: #008000\">'../datasets/images/2021-02-20/complete_raster.tif'</span>,\n",
       "    <span style=\"color: #008000; text-decoration-color: #008000\">'../datasets/images/2021-03-17/complete_raster.tif'</span>\n",
       "<span style=\"font-weight: bold\">]</span>\n",
       "</pre>\n"
      ],
      "text/plain": [
       "\n",
       "\u001b[1m[\u001b[0m\n",
       "    \u001b[32m'../datasets/images/2020-10-01/complete_raster.tif'\u001b[0m,\n",
       "    \u001b[32m'../datasets/images/2020-11-01/complete_raster.tif'\u001b[0m,\n",
       "    \u001b[32m'../datasets/images/2020-12-01/complete_raster.tif'\u001b[0m,\n",
       "    \u001b[32m'../datasets/images/2021-01-01/complete_raster.tif'\u001b[0m,\n",
       "    \u001b[32m'../datasets/images/2021-02-20/complete_raster.tif'\u001b[0m,\n",
       "    \u001b[32m'../datasets/images/2021-03-17/complete_raster.tif'\u001b[0m\n",
       "\u001b[1m]\u001b[0m\n"
      ]
     },
     "metadata": {},
     "output_type": "display_data"
    }
   ],
   "source": [
    "raster_paths = [raster_date_path(date, 'complete_raster') for date in DATES]\n",
    "raster_paths"
   ]
  },
  {
   "cell_type": "markdown",
   "id": "eb6328be-7cdd-4383-80ae-1791575857ab",
   "metadata": {},
   "source": [
    "<img src=\"../images/lansat2_bands.png\" alt=\"LANSAT2 Bands\" width=\"800\">"
   ]
  },
  {
   "cell_type": "markdown",
   "id": "98f74b48-5023-43e6-92ce-85f25beb2174",
   "metadata": {},
   "source": [
    "**Nota**: Las bandas en los rasters comienzan desde 0 no desde 1."
   ]
  },
  {
   "cell_type": "markdown",
   "id": "af1adc41-5fae-4d8c-9676-691ab6d42144",
   "metadata": {},
   "source": [
    "Ver: [RadiometricIndices](https://www.orfeo-toolbox.org/CookBook/Applications/app_RadiometricIndices.html)"
   ]
  },
  {
   "cell_type": "code",
   "execution_count": 40,
   "id": "fa6adeb1-6c48-45a7-8557-f0eb27d2c31d",
   "metadata": {},
   "outputs": [
    {
     "data": {
      "text/html": [
       "<pre style=\"white-space:pre;overflow-x:auto;line-height:normal;font-family:Menlo,'DejaVu Sans Mono',consolas,'Courier New',monospace\">\n",
       "<span style=\"font-weight: bold\">[</span>\n",
       "    <span style=\"color: #008000; text-decoration-color: #008000\">'Vegetation:NDVI'</span>,\n",
       "    <span style=\"color: #008000; text-decoration-color: #008000\">'Vegetation:TNDVI'</span>,\n",
       "    <span style=\"color: #008000; text-decoration-color: #008000\">'Vegetation:RVI'</span>,\n",
       "    <span style=\"color: #008000; text-decoration-color: #008000\">'Vegetation:SAVI'</span>,\n",
       "    <span style=\"color: #008000; text-decoration-color: #008000\">'Vegetation:TSAVI'</span>,\n",
       "    <span style=\"color: #008000; text-decoration-color: #008000\">'Vegetation:MSAVI'</span>,\n",
       "    <span style=\"color: #008000; text-decoration-color: #008000\">'Vegetation:MSAVI2'</span>,\n",
       "    <span style=\"color: #008000; text-decoration-color: #008000\">'Vegetation:IPVI'</span>,\n",
       "    <span style=\"color: #008000; text-decoration-color: #008000\">'Vegetation:LAIFromNDVILog'</span>,\n",
       "    <span style=\"color: #008000; text-decoration-color: #008000\">'Vegetation:LAIFromReflLinear'</span>,\n",
       "    <span style=\"color: #008000; text-decoration-color: #008000\">'Vegetation:LAIFromNDVIFormo'</span>\n",
       "<span style=\"font-weight: bold\">]</span>\n",
       "</pre>\n"
      ],
      "text/plain": [
       "\n",
       "\u001b[1m[\u001b[0m\n",
       "    \u001b[32m'Vegetation:NDVI'\u001b[0m,\n",
       "    \u001b[32m'Vegetation:TNDVI'\u001b[0m,\n",
       "    \u001b[32m'Vegetation:RVI'\u001b[0m,\n",
       "    \u001b[32m'Vegetation:SAVI'\u001b[0m,\n",
       "    \u001b[32m'Vegetation:TSAVI'\u001b[0m,\n",
       "    \u001b[32m'Vegetation:MSAVI'\u001b[0m,\n",
       "    \u001b[32m'Vegetation:MSAVI2'\u001b[0m,\n",
       "    \u001b[32m'Vegetation:IPVI'\u001b[0m,\n",
       "    \u001b[32m'Vegetation:LAIFromNDVILog'\u001b[0m,\n",
       "    \u001b[32m'Vegetation:LAIFromReflLinear'\u001b[0m,\n",
       "    \u001b[32m'Vegetation:LAIFromNDVIFormo'\u001b[0m\n",
       "\u001b[1m]\u001b[0m\n"
      ]
     },
     "metadata": {},
     "output_type": "display_data"
    }
   ],
   "source": [
    "ALL_VEGETATION_INDEXES"
   ]
  },
  {
   "cell_type": "code",
   "execution_count": 41,
   "id": "0ad090c4-a80c-4605-9af8-800f7d611286",
   "metadata": {},
   "outputs": [],
   "source": [
    "BEST_INDEXES = [\n",
    " 'Vegetation:NDVI', 'Vegetation:SAVI' # , 'Vegetation:TSAVI'\n",
    "]"
   ]
  },
  {
   "cell_type": "code",
   "execution_count": 42,
   "id": "21d0039a-e762-42ae-8c31-b5e08cf1ade2",
   "metadata": {},
   "outputs": [
    {
     "data": {
      "text/html": [
       "<pre style=\"white-space:pre;overflow-x:auto;line-height:normal;font-family:Menlo,'DejaVu Sans Mono',consolas,'Courier New',monospace\">\n",
       "\n",
       "Calculate indexes: <span style=\"color: #008000; text-decoration-color: #008000\">\"['Vegetation:NDVI', 'Vegetation:SAVI']\"</span><span style=\"color: #808000; text-decoration-color: #808000\">...</span>\n",
       "\n",
       "</pre>\n"
      ],
      "text/plain": [
       "\n",
       "\n",
       "Calculate indexes: \u001b[32m\"\u001b[0m\u001b[32m[\u001b[0m\u001b[32m'Vegetation:NDVI', 'Vegetation:SAVI'\u001b[0m\u001b[32m]\u001b[0m\u001b[32m\"\u001b[0m\u001b[33m...\u001b[0m\n",
       "\n"
      ]
     },
     "metadata": {},
     "output_type": "display_data"
    },
    {
     "data": {
      "text/html": [
       "<pre style=\"white-space:pre;overflow-x:auto;line-height:normal;font-family:Menlo,'DejaVu Sans Mono',consolas,'Courier New',monospace\">\n",
       "\n",
       "- In: ..<span style=\"color: #800080; text-decoration-color: #800080\">/datasets/images/2020-10-01/</span><span style=\"color: #ff00ff; text-decoration-color: #ff00ff\">complete_raster.tif</span>\n",
       "- Out: ..<span style=\"color: #800080; text-decoration-color: #800080\">/datasets/images/2020-10-01/</span><span style=\"color: #ff00ff; text-decoration-color: #ff00ff\">complete_raster_indexes.tif</span>\n",
       "</pre>\n"
      ],
      "text/plain": [
       "\n",
       "\n",
       "- In: ..\u001b[35m/datasets/images/2020-10-01/\u001b[0m\u001b[95mcomplete_raster.tif\u001b[0m\n",
       "- Out: ..\u001b[35m/datasets/images/2020-10-01/\u001b[0m\u001b[95mcomplete_raster_indexes.tif\u001b[0m\n"
      ]
     },
     "metadata": {},
     "output_type": "display_data"
    },
    {
     "name": "stdout",
     "output_type": "stream",
     "text": [
      "2022-07-03 20:23:26 (INFO) RadiometricIndices: Default RAM limit for OTB is 1024 MB\n",
      "2022-07-03 20:23:26 (INFO) RadiometricIndices: GDAL maximum cache size is 1600 MB\n",
      "2022-07-03 20:23:26 (INFO) RadiometricIndices: OTB will use at most 128 threads\n",
      "2022-07-03 20:23:26 (INFO): Loading metadata from official product\n",
      "2022-07-03 20:23:26 (INFO): Estimated memory for full processing: 5758.6MB (avail.: 1024 MB), optimal image partitioning: 6 blocks\n",
      "2022-07-03 20:23:26 (INFO): File ../datasets/images/2020-10-01/complete_raster_indexes.tif will be written in 7 blocks of 15860x1237 pixels\n",
      "Writing ../datasets/images/2020-10-01/complete_raster_indexes.tif...: 100% [**************************************************] (5s)\n",
      "otbcli_RadiometricIndices -channels.blue 1 -channels.green 2 -channels.red 3   8.08s user 2.60s system 178% cpu 5.968 total\n"
     ]
    },
    {
     "data": {
      "text/html": [
       "<pre style=\"white-space:pre;overflow-x:auto;line-height:normal;font-family:Menlo,'DejaVu Sans Mono',consolas,'Courier New',monospace\">\n",
       "\n",
       "- In: ..<span style=\"color: #800080; text-decoration-color: #800080\">/datasets/images/2020-11-01/</span><span style=\"color: #ff00ff; text-decoration-color: #ff00ff\">complete_raster.tif</span>\n",
       "- Out: ..<span style=\"color: #800080; text-decoration-color: #800080\">/datasets/images/2020-11-01/</span><span style=\"color: #ff00ff; text-decoration-color: #ff00ff\">complete_raster_indexes.tif</span>\n",
       "</pre>\n"
      ],
      "text/plain": [
       "\n",
       "\n",
       "- In: ..\u001b[35m/datasets/images/2020-11-01/\u001b[0m\u001b[95mcomplete_raster.tif\u001b[0m\n",
       "- Out: ..\u001b[35m/datasets/images/2020-11-01/\u001b[0m\u001b[95mcomplete_raster_indexes.tif\u001b[0m\n"
      ]
     },
     "metadata": {},
     "output_type": "display_data"
    },
    {
     "name": "stdout",
     "output_type": "stream",
     "text": [
      "2022-07-03 20:23:32 (INFO) RadiometricIndices: Default RAM limit for OTB is 1024 MB\n",
      "2022-07-03 20:23:32 (INFO) RadiometricIndices: GDAL maximum cache size is 1600 MB\n",
      "2022-07-03 20:23:32 (INFO) RadiometricIndices: OTB will use at most 128 threads\n",
      "2022-07-03 20:23:32 (INFO): Loading metadata from official product\n",
      "2022-07-03 20:23:32 (INFO): Estimated memory for full processing: 5758.6MB (avail.: 1024 MB), optimal image partitioning: 6 blocks\n",
      "2022-07-03 20:23:32 (INFO): File ../datasets/images/2020-11-01/complete_raster_indexes.tif will be written in 7 blocks of 15860x1237 pixels\n",
      "Writing ../datasets/images/2020-11-01/complete_raster_indexes.tif...: 100% [**************************************************] (5s)\n",
      "otbcli_RadiometricIndices -channels.blue 1 -channels.green 2 -channels.red 3   5.82s user 2.49s system 138% cpu 6.015 total\n"
     ]
    },
    {
     "data": {
      "text/html": [
       "<pre style=\"white-space:pre;overflow-x:auto;line-height:normal;font-family:Menlo,'DejaVu Sans Mono',consolas,'Courier New',monospace\">\n",
       "\n",
       "- In: ..<span style=\"color: #800080; text-decoration-color: #800080\">/datasets/images/2020-12-01/</span><span style=\"color: #ff00ff; text-decoration-color: #ff00ff\">complete_raster.tif</span>\n",
       "- Out: ..<span style=\"color: #800080; text-decoration-color: #800080\">/datasets/images/2020-12-01/</span><span style=\"color: #ff00ff; text-decoration-color: #ff00ff\">complete_raster_indexes.tif</span>\n",
       "</pre>\n"
      ],
      "text/plain": [
       "\n",
       "\n",
       "- In: ..\u001b[35m/datasets/images/2020-12-01/\u001b[0m\u001b[95mcomplete_raster.tif\u001b[0m\n",
       "- Out: ..\u001b[35m/datasets/images/2020-12-01/\u001b[0m\u001b[95mcomplete_raster_indexes.tif\u001b[0m\n"
      ]
     },
     "metadata": {},
     "output_type": "display_data"
    },
    {
     "name": "stdout",
     "output_type": "stream",
     "text": [
      "2022-07-03 20:23:38 (INFO) RadiometricIndices: Default RAM limit for OTB is 1024 MB\n",
      "2022-07-03 20:23:38 (INFO) RadiometricIndices: GDAL maximum cache size is 1600 MB\n",
      "2022-07-03 20:23:38 (INFO) RadiometricIndices: OTB will use at most 128 threads\n",
      "2022-07-03 20:23:38 (INFO): Loading metadata from official product\n",
      "2022-07-03 20:23:38 (INFO): Estimated memory for full processing: 5758.6MB (avail.: 1024 MB), optimal image partitioning: 6 blocks\n",
      "2022-07-03 20:23:38 (INFO): File ../datasets/images/2020-12-01/complete_raster_indexes.tif will be written in 7 blocks of 15860x1237 pixels\n",
      "Writing ../datasets/images/2020-12-01/complete_raster_indexes.tif...: 100% [**************************************************] (5s)\n",
      "otbcli_RadiometricIndices -channels.blue 1 -channels.green 2 -channels.red 3   6.30s user 2.63s system 145% cpu 6.126 total\n"
     ]
    },
    {
     "data": {
      "text/html": [
       "<pre style=\"white-space:pre;overflow-x:auto;line-height:normal;font-family:Menlo,'DejaVu Sans Mono',consolas,'Courier New',monospace\">\n",
       "\n",
       "- In: ..<span style=\"color: #800080; text-decoration-color: #800080\">/datasets/images/2021-01-01/</span><span style=\"color: #ff00ff; text-decoration-color: #ff00ff\">complete_raster.tif</span>\n",
       "- Out: ..<span style=\"color: #800080; text-decoration-color: #800080\">/datasets/images/2021-01-01/</span><span style=\"color: #ff00ff; text-decoration-color: #ff00ff\">complete_raster_indexes.tif</span>\n",
       "</pre>\n"
      ],
      "text/plain": [
       "\n",
       "\n",
       "- In: ..\u001b[35m/datasets/images/2021-01-01/\u001b[0m\u001b[95mcomplete_raster.tif\u001b[0m\n",
       "- Out: ..\u001b[35m/datasets/images/2021-01-01/\u001b[0m\u001b[95mcomplete_raster_indexes.tif\u001b[0m\n"
      ]
     },
     "metadata": {},
     "output_type": "display_data"
    },
    {
     "name": "stdout",
     "output_type": "stream",
     "text": [
      "2022-07-03 20:23:44 (INFO) RadiometricIndices: Default RAM limit for OTB is 1024 MB\n",
      "2022-07-03 20:23:44 (INFO) RadiometricIndices: GDAL maximum cache size is 1600 MB\n",
      "2022-07-03 20:23:44 (INFO) RadiometricIndices: OTB will use at most 128 threads\n",
      "2022-07-03 20:23:44 (INFO): Loading metadata from official product\n",
      "2022-07-03 20:23:44 (INFO): Estimated memory for full processing: 5758.6MB (avail.: 1024 MB), optimal image partitioning: 6 blocks\n",
      "2022-07-03 20:23:44 (INFO): File ../datasets/images/2021-01-01/complete_raster_indexes.tif will be written in 7 blocks of 15860x1237 pixels\n",
      "Writing ../datasets/images/2021-01-01/complete_raster_indexes.tif...: 100% [**************************************************] (6s)\n",
      "otbcli_RadiometricIndices -channels.blue 1 -channels.green 2 -channels.red 3   6.82s user 2.87s system 150% cpu 6.435 total\n"
     ]
    },
    {
     "data": {
      "text/html": [
       "<pre style=\"white-space:pre;overflow-x:auto;line-height:normal;font-family:Menlo,'DejaVu Sans Mono',consolas,'Courier New',monospace\">\n",
       "\n",
       "- In: ..<span style=\"color: #800080; text-decoration-color: #800080\">/datasets/images/2021-02-20/</span><span style=\"color: #ff00ff; text-decoration-color: #ff00ff\">complete_raster.tif</span>\n",
       "- Out: ..<span style=\"color: #800080; text-decoration-color: #800080\">/datasets/images/2021-02-20/</span><span style=\"color: #ff00ff; text-decoration-color: #ff00ff\">complete_raster_indexes.tif</span>\n",
       "</pre>\n"
      ],
      "text/plain": [
       "\n",
       "\n",
       "- In: ..\u001b[35m/datasets/images/2021-02-20/\u001b[0m\u001b[95mcomplete_raster.tif\u001b[0m\n",
       "- Out: ..\u001b[35m/datasets/images/2021-02-20/\u001b[0m\u001b[95mcomplete_raster_indexes.tif\u001b[0m\n"
      ]
     },
     "metadata": {},
     "output_type": "display_data"
    },
    {
     "name": "stdout",
     "output_type": "stream",
     "text": [
      "2022-07-03 20:23:51 (INFO) RadiometricIndices: Default RAM limit for OTB is 1024 MB\n",
      "2022-07-03 20:23:51 (INFO) RadiometricIndices: GDAL maximum cache size is 1600 MB\n",
      "2022-07-03 20:23:51 (INFO) RadiometricIndices: OTB will use at most 128 threads\n",
      "2022-07-03 20:23:51 (INFO): Loading metadata from official product\n",
      "2022-07-03 20:23:51 (INFO): Estimated memory for full processing: 5758.6MB (avail.: 1024 MB), optimal image partitioning: 6 blocks\n",
      "2022-07-03 20:23:51 (INFO): File ../datasets/images/2021-02-20/complete_raster_indexes.tif will be written in 7 blocks of 15860x1237 pixels\n",
      "Writing ../datasets/images/2021-02-20/complete_raster_indexes.tif...: 100% [**************************************************] (5s)\n",
      "otbcli_RadiometricIndices -channels.blue 1 -channels.green 2 -channels.red 3   6.48s user 2.70s system 154% cpu 5.953 total\n"
     ]
    },
    {
     "data": {
      "text/html": [
       "<pre style=\"white-space:pre;overflow-x:auto;line-height:normal;font-family:Menlo,'DejaVu Sans Mono',consolas,'Courier New',monospace\">\n",
       "\n",
       "- In: ..<span style=\"color: #800080; text-decoration-color: #800080\">/datasets/images/2021-03-17/</span><span style=\"color: #ff00ff; text-decoration-color: #ff00ff\">complete_raster.tif</span>\n",
       "- Out: ..<span style=\"color: #800080; text-decoration-color: #800080\">/datasets/images/2021-03-17/</span><span style=\"color: #ff00ff; text-decoration-color: #ff00ff\">complete_raster_indexes.tif</span>\n",
       "</pre>\n"
      ],
      "text/plain": [
       "\n",
       "\n",
       "- In: ..\u001b[35m/datasets/images/2021-03-17/\u001b[0m\u001b[95mcomplete_raster.tif\u001b[0m\n",
       "- Out: ..\u001b[35m/datasets/images/2021-03-17/\u001b[0m\u001b[95mcomplete_raster_indexes.tif\u001b[0m\n"
      ]
     },
     "metadata": {},
     "output_type": "display_data"
    },
    {
     "name": "stdout",
     "output_type": "stream",
     "text": [
      "2022-07-03 20:23:57 (INFO) RadiometricIndices: Default RAM limit for OTB is 1024 MB\n",
      "2022-07-03 20:23:57 (INFO) RadiometricIndices: GDAL maximum cache size is 1600 MB\n",
      "2022-07-03 20:23:57 (INFO) RadiometricIndices: OTB will use at most 128 threads\n",
      "2022-07-03 20:23:57 (INFO): Loading metadata from official product\n",
      "2022-07-03 20:23:57 (INFO): Estimated memory for full processing: 5758.6MB (avail.: 1024 MB), optimal image partitioning: 6 blocks\n",
      "2022-07-03 20:23:57 (INFO): File ../datasets/images/2021-03-17/complete_raster_indexes.tif will be written in 7 blocks of 15860x1237 pixels\n",
      "Writing ../datasets/images/2021-03-17/complete_raster_indexes.tif...: 100% [**************************************************] (6s)\n",
      "otbcli_RadiometricIndices -channels.blue 1 -channels.green 2 -channels.red 3   6.89s user 2.68s system 145% cpu 6.585 total\n"
     ]
    }
   ],
   "source": [
    "compute_index(\n",
    "    raster_paths,\n",
    "    indexes     = BEST_INDEXES,\n",
    "    out_postfix = 'indexes',\n",
    "    blue_band   = 1,\n",
    "    green_band  = 2,\n",
    "    red_band    = 3,\n",
    "    nir_band    = 7,\n",
    "    verbose     = 1\n",
    ")"
   ]
  },
  {
   "cell_type": "markdown",
   "id": "002c11a3-191a-4645-af70-b13d26e3ce65",
   "metadata": {},
   "source": [
    "Como resultado tenemos un nuevo raster por cada campaña de cultivo, cada uno contiene una columna por cada indice calculado."
   ]
  },
  {
   "cell_type": "code",
   "execution_count": 43,
   "id": "80120482-97ae-4b9a-9d6f-8f81b58c7de3",
   "metadata": {},
   "outputs": [
    {
     "name": "stdout",
     "output_type": "stream",
     "text": [
      "Driver: GTiff/GeoTIFF\n",
      "Files: ../datasets/images/2020-10-01/complete_raster_indexes.tif\n",
      "Size is 15860, 8653\n",
      "Origin = (-65.117617304426346,-33.815102577054326)\n",
      "Pixel Size = (0.000179663056824,-0.000179663056824)\n",
      "Metadata:\n",
      "  DataType=9\n",
      "  METADATATYPE=OTB\n",
      "  OTB_VERSION=8.0.1\n",
      "  TileHintX=15860\n",
      "  TileHintY=1\n",
      "Image Structure Metadata:\n",
      "  INTERLEAVE=PIXEL\n",
      "Corner Coordinates:\n",
      "Upper Left  ( -65.1176173, -33.8151026) \n",
      "Lower Left  ( -65.1176173, -35.3697270) \n",
      "Upper Right ( -62.2681612, -33.8151026) \n",
      "Lower Right ( -62.2681612, -35.3697270) \n",
      "Center      ( -63.6928893, -34.5924148) \n",
      "Band 1 Block=15860x1 Type=Float32, ColorInterp=Gray\n",
      "Band 2 Block=15860x1 Type=Float32, ColorInterp=Undefined\n"
     ]
    }
   ],
   "source": [
    "!gdalinfo {raster_date_path('2020-10-01', 'complete_raster_indexes')}"
   ]
  },
  {
   "cell_type": "markdown",
   "id": "b6ea7ad3-3df2-40c2-be36-4cfcae2b8bb5",
   "metadata": {
    "tags": []
   },
   "source": [
    "### 2. Join de rasters\n",
    "\n",
    "En este paso vamos a realizar un join de todos los rasters del paso anterior."
   ]
  },
  {
   "cell_type": "code",
   "execution_count": 44,
   "id": "51b86071-5adb-456f-865b-2358c85daf77",
   "metadata": {},
   "outputs": [
    {
     "data": {
      "text/html": [
       "<pre style=\"white-space:pre;overflow-x:auto;line-height:normal;font-family:Menlo,'DejaVu Sans Mono',consolas,'Courier New',monospace\">\n",
       "\n",
       "Join rasters<span style=\"color: #808000; text-decoration-color: #808000\">...</span>\n",
       "\n",
       "</pre>\n"
      ],
      "text/plain": [
       "\n",
       "\n",
       "Join rasters\u001b[33m...\u001b[0m\n",
       "\n"
      ]
     },
     "metadata": {},
     "output_type": "display_data"
    },
    {
     "data": {
      "text/html": [
       "<pre style=\"white-space:pre;overflow-x:auto;line-height:normal;font-family:Menlo,'DejaVu Sans Mono',consolas,'Courier New',monospace\">- Input Rasters: ..<span style=\"color: #800080; text-decoration-color: #800080\">/datasets/images/2020-10-01/</span><span style=\"color: #ff00ff; text-decoration-color: #ff00ff\">complete_raster_indexes.tif</span> \n",
       "..<span style=\"color: #800080; text-decoration-color: #800080\">/datasets/images/2020-11-01/</span><span style=\"color: #ff00ff; text-decoration-color: #ff00ff\">complete_raster_indexes.tif</span> \n",
       "..<span style=\"color: #800080; text-decoration-color: #800080\">/datasets/images/2020-12-01/</span><span style=\"color: #ff00ff; text-decoration-color: #ff00ff\">complete_raster_indexes.tif</span> \n",
       "..<span style=\"color: #800080; text-decoration-color: #800080\">/datasets/images/2021-01-01/</span><span style=\"color: #ff00ff; text-decoration-color: #ff00ff\">complete_raster_indexes.tif</span> \n",
       "..<span style=\"color: #800080; text-decoration-color: #800080\">/datasets/images/2021-02-20/</span><span style=\"color: #ff00ff; text-decoration-color: #ff00ff\">complete_raster_indexes.tif</span> \n",
       "..<span style=\"color: #800080; text-decoration-color: #800080\">/datasets/images/2021-03-17/</span><span style=\"color: #ff00ff; text-decoration-color: #ff00ff\">complete_raster_indexes.tif</span>\n",
       "</pre>\n"
      ],
      "text/plain": [
       "- Input Rasters: ..\u001b[35m/datasets/images/2020-10-01/\u001b[0m\u001b[95mcomplete_raster_indexes.tif\u001b[0m \n",
       "..\u001b[35m/datasets/images/2020-11-01/\u001b[0m\u001b[95mcomplete_raster_indexes.tif\u001b[0m \n",
       "..\u001b[35m/datasets/images/2020-12-01/\u001b[0m\u001b[95mcomplete_raster_indexes.tif\u001b[0m \n",
       "..\u001b[35m/datasets/images/2021-01-01/\u001b[0m\u001b[95mcomplete_raster_indexes.tif\u001b[0m \n",
       "..\u001b[35m/datasets/images/2021-02-20/\u001b[0m\u001b[95mcomplete_raster_indexes.tif\u001b[0m \n",
       "..\u001b[35m/datasets/images/2021-03-17/\u001b[0m\u001b[95mcomplete_raster_indexes.tif\u001b[0m\n"
      ]
     },
     "metadata": {},
     "output_type": "display_data"
    },
    {
     "data": {
      "text/html": [
       "<pre style=\"white-space:pre;overflow-x:auto;line-height:normal;font-family:Menlo,'DejaVu Sans Mono',consolas,'Courier New',monospace\">- Output Raster: . . <span style=\"color: #800080; text-decoration-color: #800080\">/</span> r e s u l t s <span style=\"color: #800080; text-decoration-color: #800080\">/</span> c o m p l e t e _ r a s t e r s _ j o i n\n",
       "</pre>\n"
      ],
      "text/plain": [
       "- Output Raster: . . \u001b[35m/\u001b[0m r e s u l t s \u001b[35m/\u001b[0m c o m p l e t e _ r a s t e r s _ j o i n\n"
      ]
     },
     "metadata": {},
     "output_type": "display_data"
    },
    {
     "name": "stdout",
     "output_type": "stream",
     "text": [
      "2022-07-03 20:24:04 (INFO) ConcatenateImages: Default RAM limit for OTB is 1024 MB\n",
      "2022-07-03 20:24:04 (INFO) ConcatenateImages: GDAL maximum cache size is 1600 MB\n",
      "2022-07-03 20:24:04 (INFO) ConcatenateImages: OTB will use at most 128 threads\n",
      "2022-07-03 20:24:04 (INFO): Loading metadata from official product\n",
      "2022-07-03 20:24:04 (INFO): Loading metadata from official product\n",
      "2022-07-03 20:24:04 (INFO): Loading metadata from official product\n",
      "2022-07-03 20:24:04 (INFO): Loading metadata from official product\n",
      "2022-07-03 20:24:04 (INFO): Loading metadata from official product\n",
      "2022-07-03 20:24:04 (INFO): Loading metadata from official product\n",
      "2022-07-03 20:24:04 (WARNING) ConcatenateImages: Check filename: no extension detected, using TIF as default.\n",
      "2022-07-03 20:24:04 (INFO): Estimated memory for full processing: 25128.3MB (avail.: 1024 MB), optimal image partitioning: 25 blocks\n",
      "2022-07-03 20:24:04 (INFO): File ../results/complete_rasters_join.tif will be written in 26 blocks of 15860x333 pixels\n",
      "Writing ../results/complete_rasters_join.tif...: 100% [**************************************************] (14s)\n",
      "otbcli_ConcatenateImages -il       -out ../results/complete_rasters_join  12.20s user 5.55s system 121% cpu 14.616 total\n"
     ]
    }
   ],
   "source": [
    "join_rasters(\n",
    "    raster_paths = [raster_date_path(date, 'complete_raster_indexes') for date in DATES],\n",
    "    out_file     = result_path('complete_rasters_join'),\n",
    "    verbose      = 1\n",
    ")"
   ]
  },
  {
   "cell_type": "markdown",
   "id": "8e804d46-91a9-4a1c-8cc3-ecd714b9c079",
   "metadata": {},
   "source": [
    "A continuación podemos observar que el raster consolidado tiene 66 Bandas. El formato raster agregar el nombre **Band** a sus columnas, ya que es la información mas común para este tipo de datos. En nuestro caso estas columnas representan los indices de cada raster de entrada calculado para por cada pixel. Como resultado tendremos un único raster o mapa con todos los indices calculado para cada raster inicial y los pixels del mapa como filas."
   ]
  },
  {
   "cell_type": "code",
   "execution_count": 45,
   "id": "ae5ec885-9a7e-415d-8666-b3e6da783111",
   "metadata": {},
   "outputs": [
    {
     "name": "stdout",
     "output_type": "stream",
     "text": [
      "Driver: GTiff/GeoTIFF\n",
      "Files: ../results/complete_rasters_join.tif\n",
      "Size is 15860, 8653\n",
      "Origin = (-65.117617304426346,-33.815102577054326)\n",
      "Pixel Size = (0.000179663056824,-0.000179663056824)\n",
      "Metadata:\n",
      "  DataType=9\n",
      "  METADATATYPE=OTB\n",
      "  OTB_VERSION=8.0.1\n",
      "  TileHintX=15860\n",
      "  TileHintY=1\n",
      "Image Structure Metadata:\n",
      "  INTERLEAVE=PIXEL\n",
      "Corner Coordinates:\n",
      "Upper Left  ( -65.1176173, -33.8151026) \n",
      "Lower Left  ( -65.1176173, -35.3697270) \n",
      "Upper Right ( -62.2681612, -33.8151026) \n",
      "Lower Right ( -62.2681612, -35.3697270) \n",
      "Center      ( -63.6928893, -34.5924148) \n",
      "Band 1 Block=15860x1 Type=Float32, ColorInterp=Gray\n",
      "Band 2 Block=15860x1 Type=Float32, ColorInterp=Undefined\n",
      "Band 3 Block=15860x1 Type=Float32, ColorInterp=Undefined\n",
      "Band 4 Block=15860x1 Type=Float32, ColorInterp=Undefined\n",
      "Band 5 Block=15860x1 Type=Float32, ColorInterp=Undefined\n",
      "Band 6 Block=15860x1 Type=Float32, ColorInterp=Undefined\n",
      "Band 7 Block=15860x1 Type=Float32, ColorInterp=Undefined\n",
      "Band 8 Block=15860x1 Type=Float32, ColorInterp=Undefined\n",
      "Band 9 Block=15860x1 Type=Float32, ColorInterp=Undefined\n",
      "Band 10 Block=15860x1 Type=Float32, ColorInterp=Undefined\n",
      "Band 11 Block=15860x1 Type=Float32, ColorInterp=Undefined\n",
      "Band 12 Block=15860x1 Type=Float32, ColorInterp=Undefined\n"
     ]
    }
   ],
   "source": [
    "!gdalinfo  {result_path('complete_rasters_join.tif')}"
   ]
  },
  {
   "cell_type": "markdown",
   "id": "bdc1e899-8164-4ae6-b60e-de555df8eec6",
   "metadata": {},
   "source": [
    "Cuanto pesa el mapa o raster consolidado? "
   ]
  },
  {
   "cell_type": "code",
   "execution_count": 46,
   "id": "6a3697bb-73a9-460d-8a50-bce7f6677076",
   "metadata": {},
   "outputs": [
    {
     "name": "stdout",
     "output_type": "stream",
     "text": [
      "6.2G\t../results/complete_rasters_join.tif\n"
     ]
    }
   ],
   "source": [
    "!du -h {result_path('complete_rasters_join.tif')}"
   ]
  },
  {
   "cell_type": "markdown",
   "id": "3dadc480-c35d-4e8f-94a1-64c21100ad95",
   "metadata": {},
   "source": [
    "### 3. Clasificacion por pixes usando el raster de indices consolidado"
   ]
  },
  {
   "cell_type": "code",
   "execution_count": 47,
   "id": "fdf92d60-537e-4449-aefa-501b1af5ed47",
   "metadata": {},
   "outputs": [
    {
     "data": {
      "text/html": [
       "<pre style=\"white-space:pre;overflow-x:auto;line-height:normal;font-family:Menlo,'DejaVu Sans Mono',consolas,'Courier New',monospace\">\n",
       "\n",
       "Generate class statistics<span style=\"color: #808000; text-decoration-color: #808000\">...</span>\n",
       "\n",
       "</pre>\n"
      ],
      "text/plain": [
       "\n",
       "\n",
       "Generate class statistics\u001b[33m...\u001b[0m\n",
       "\n"
      ]
     },
     "metadata": {},
     "output_type": "display_data"
    },
    {
     "data": {
      "text/html": [
       "<pre style=\"white-space:pre;overflow-x:auto;line-height:normal;font-family:Menlo,'DejaVu Sans Mono',consolas,'Courier New',monospace\">- In Paths: ..<span style=\"color: #800080; text-decoration-color: #800080\">/results/</span><span style=\"color: #ff00ff; text-decoration-color: #ff00ff\">complete_rasters_join.tif</span>\n",
       "</pre>\n"
      ],
      "text/plain": [
       "- In Paths: ..\u001b[35m/results/\u001b[0m\u001b[95mcomplete_rasters_join.tif\u001b[0m\n"
      ]
     },
     "metadata": {},
     "output_type": "display_data"
    },
    {
     "data": {
      "text/html": [
       "<pre style=\"white-space:pre;overflow-x:auto;line-height:normal;font-family:Menlo,'DejaVu Sans Mono',consolas,'Courier New',monospace\">- Vec Path: ..<span style=\"color: #800080; text-decoration-color: #800080\">/datasets/data/</span><span style=\"color: #ff00ff; text-decoration-color: #ff00ff\">verdad_campo_aumentada_7.shp</span>\n",
       "</pre>\n"
      ],
      "text/plain": [
       "- Vec Path: ..\u001b[35m/datasets/data/\u001b[0m\u001b[95mverdad_campo_aumentada_7.shp\u001b[0m\n"
      ]
     },
     "metadata": {},
     "output_type": "display_data"
    },
    {
     "data": {
      "text/html": [
       "<pre style=\"white-space:pre;overflow-x:auto;line-height:normal;font-family:Menlo,'DejaVu Sans Mono',consolas,'Courier New',monospace\">- Field<span style=\"color: #808000; text-decoration-color: #808000\">...</span>: id\n",
       "</pre>\n"
      ],
      "text/plain": [
       "- Field\u001b[33m...\u001b[0m: id\n"
      ]
     },
     "metadata": {},
     "output_type": "display_data"
    },
    {
     "data": {
      "text/html": [
       "<pre style=\"white-space:pre;overflow-x:auto;line-height:normal;font-family:Menlo,'DejaVu Sans Mono',consolas,'Courier New',monospace\">- Out Path: ..<span style=\"color: #800080; text-decoration-color: #800080\">/results/</span><span style=\"color: #ff00ff; text-decoration-color: #ff00ff\">complete_rasters_join_class_stat.xml</span>\n",
       "\n",
       "\n",
       "</pre>\n"
      ],
      "text/plain": [
       "- Out Path: ..\u001b[35m/results/\u001b[0m\u001b[95mcomplete_rasters_join_class_stat.xml\u001b[0m\n",
       "\n",
       "\n"
      ]
     },
     "metadata": {},
     "output_type": "display_data"
    },
    {
     "name": "stdout",
     "output_type": "stream",
     "text": [
      "otbcli_PolygonClassStatistics -in ../results/complete_rasters_join.tif -vec    0.07s user 0.05s system 97% cpu 0.122 total\n",
      "<?xml version=\"1.0\" ?>\n",
      "<GeneralStatistics>\n",
      "    <Statistic name=\"samplesPerClass\">\n",
      "        <StatisticMap key=\"1\" value=\"3189\" />\n",
      "        <StatisticMap key=\"10\" value=\"48\" />\n",
      "        <StatisticMap key=\"2\" value=\"2570\" />\n",
      "        <StatisticMap key=\"20\" value=\"431\" />\n",
      "        <StatisticMap key=\"3\" value=\"3323\" />\n",
      "        <StatisticMap key=\"4\" value=\"816\" />\n",
      "        <StatisticMap key=\"5\" value=\"777\" />\n"
     ]
    }
   ],
   "source": [
    "class_stat_path = class_statistics(\n",
    "    [result_path('complete_rasters_join.tif')], \n",
    "    out_file = 'complete_rasters_join_class_stat.xml', \n",
    "    verbose = 1\n",
    ")"
   ]
  },
  {
   "cell_type": "code",
   "execution_count": 48,
   "id": "947693ab-dc5e-4165-9686-6ccd25e83f03",
   "metadata": {},
   "outputs": [
    {
     "data": {
      "text/html": [
       "<pre style=\"white-space:pre;overflow-x:auto;line-height:normal;font-family:Menlo,'DejaVu Sans Mono',consolas,'Courier New',monospace\">\n",
       "\n",
       "Sampling<span style=\"color: #808000; text-decoration-color: #808000\">...</span>\n",
       "\n",
       "</pre>\n"
      ],
      "text/plain": [
       "\n",
       "\n",
       "Sampling\u001b[33m...\u001b[0m\n",
       "\n"
      ]
     },
     "metadata": {},
     "output_type": "display_data"
    },
    {
     "data": {
      "text/html": [
       "<pre style=\"white-space:pre;overflow-x:auto;line-height:normal;font-family:Menlo,'DejaVu Sans Mono',consolas,'Courier New',monospace\">- In Paths<span style=\"color: #808000; text-decoration-color: #808000\">......</span>: ..<span style=\"color: #800080; text-decoration-color: #800080\">/results/</span><span style=\"color: #ff00ff; text-decoration-color: #ff00ff\">complete_rasters_join.tif</span>\n",
       "</pre>\n"
      ],
      "text/plain": [
       "- In Paths\u001b[33m...\u001b[0m\u001b[33m...\u001b[0m: ..\u001b[35m/results/\u001b[0m\u001b[95mcomplete_rasters_join.tif\u001b[0m\n"
      ]
     },
     "metadata": {},
     "output_type": "display_data"
    },
    {
     "data": {
      "text/html": [
       "<pre style=\"white-space:pre;overflow-x:auto;line-height:normal;font-family:Menlo,'DejaVu Sans Mono',consolas,'Courier New',monospace\">- Vec Path<span style=\"color: #808000; text-decoration-color: #808000\">......</span>: ..<span style=\"color: #800080; text-decoration-color: #800080\">/datasets/data/</span><span style=\"color: #ff00ff; text-decoration-color: #ff00ff\">verdad_campo_aumentada_7.shp</span>\n",
       "</pre>\n"
      ],
      "text/plain": [
       "- Vec Path\u001b[33m...\u001b[0m\u001b[33m...\u001b[0m: ..\u001b[35m/datasets/data/\u001b[0m\u001b[95mverdad_campo_aumentada_7.shp\u001b[0m\n"
      ]
     },
     "metadata": {},
     "output_type": "display_data"
    },
    {
     "data": {
      "text/html": [
       "<pre style=\"white-space:pre;overflow-x:auto;line-height:normal;font-family:Menlo,'DejaVu Sans Mono',consolas,'Courier New',monospace\">- Field<span style=\"color: #808000; text-decoration-color: #808000\">.........</span>: id\n",
       "</pre>\n"
      ],
      "text/plain": [
       "- Field\u001b[33m...\u001b[0m\u001b[33m...\u001b[0m\u001b[33m...\u001b[0m: id\n"
      ]
     },
     "metadata": {},
     "output_type": "display_data"
    },
    {
     "data": {
      "text/html": [
       "<pre style=\"white-space:pre;overflow-x:auto;line-height:normal;font-family:Menlo,'DejaVu Sans Mono',consolas,'Courier New',monospace\">- Instats Path..: ..<span style=\"color: #800080; text-decoration-color: #800080\">/results/</span><span style=\"color: #ff00ff; text-decoration-color: #ff00ff\">complete_rasters_join_class_stat.xml</span>\n",
       "</pre>\n"
      ],
      "text/plain": [
       "- Instats Path..: ..\u001b[35m/results/\u001b[0m\u001b[95mcomplete_rasters_join_class_stat.xml\u001b[0m\n"
      ]
     },
     "metadata": {},
     "output_type": "display_data"
    },
    {
     "data": {
      "text/html": [
       "<pre style=\"white-space:pre;overflow-x:auto;line-height:normal;font-family:Menlo,'DejaVu Sans Mono',consolas,'Courier New',monospace\">- Strategy<span style=\"color: #808000; text-decoration-color: #808000\">......</span>: percent\n",
       "</pre>\n"
      ],
      "text/plain": [
       "- Strategy\u001b[33m...\u001b[0m\u001b[33m...\u001b[0m: percent\n"
      ]
     },
     "metadata": {},
     "output_type": "display_data"
    },
    {
     "data": {
      "text/html": [
       "<pre style=\"white-space:pre;overflow-x:auto;line-height:normal;font-family:Menlo,'DejaVu Sans Mono',consolas,'Courier New',monospace\">- Out Rates Path: ..<span style=\"color: #800080; text-decoration-color: #800080\">/results/</span><span style=\"color: #ff00ff; text-decoration-color: #ff00ff\">complete_rasters_join_rates.csv</span>\n",
       "</pre>\n"
      ],
      "text/plain": [
       "- Out Rates Path: ..\u001b[35m/results/\u001b[0m\u001b[95mcomplete_rasters_join_rates.csv\u001b[0m\n"
      ]
     },
     "metadata": {},
     "output_type": "display_data"
    },
    {
     "data": {
      "text/html": [
       "<pre style=\"white-space:pre;overflow-x:auto;line-height:normal;font-family:Menlo,'DejaVu Sans Mono',consolas,'Courier New',monospace\">- Out SQL Path..: ..<span style=\"color: #800080; text-decoration-color: #800080\">/results/</span><span style=\"color: #ff00ff; text-decoration-color: #ff00ff\">complete_rasters_join_samples.sqlite</span>\n",
       "\n",
       "\n",
       "</pre>\n"
      ],
      "text/plain": [
       "- Out SQL Path..: ..\u001b[35m/results/\u001b[0m\u001b[95mcomplete_rasters_join_samples.sqlite\u001b[0m\n",
       "\n",
       "\n"
      ]
     },
     "metadata": {},
     "output_type": "display_data"
    },
    {
     "name": "stdout",
     "output_type": "stream",
     "text": [
      "2022-07-03 20:24:19 (INFO) SampleSelection: Default RAM limit for OTB is 1024 MB\n",
      "2022-07-03 20:24:19 (INFO) SampleSelection: GDAL maximum cache size is 1600 MB\n",
      "2022-07-03 20:24:19 (INFO) SampleSelection: OTB will use at most 128 threads\n",
      "2022-07-03 20:24:19 (INFO) SampleSelection: Elevation management: setting default height above ellipsoid to 0 meters\n",
      "2022-07-03 20:24:19 (INFO) SampleSelection: Sampling strategy: set a percentage of samples for each class.\n",
      "2022-07-03 20:24:19 (INFO) SampleSelection: Sampling rates :  className  requiredSamples  totalSamples  rate\n",
      "1\t3189\t3189\t1\n",
      "10\t48\t48\t1\n",
      "2\t2570\t2570\t1\n",
      "20\t431\t431\t1\n",
      "3\t3323\t3323\t1\n",
      "4\t816\t816\t1\n",
      "5\t777\t777\t1\n",
      "\n",
      "2022-07-03 20:24:19 (INFO): Loading metadata from official product\n",
      "2022-07-03 20:24:19 (INFO): Estimated memory for full processing: 12563.9MB (avail.: 1024 MB), optimal image partitioning: 13 blocks\n",
      "2022-07-03 20:24:19 (INFO): Estimation will be performed in 15 blocks of 3264x3264 pixels\n",
      "Selecting positions with periodic sampler...: 100% [**************************************************] (0s)\n",
      "otbcli_SampleSelection -in ../results/complete_rasters_join.tif -vec  -instat  0.17s user 0.04s system 85% cpu 0.248 total\n"
     ]
    }
   ],
   "source": [
    "sampling(\n",
    "    [result_path('complete_rasters_join.tif')],\n",
    "    class_stat_path  = class_stat_path,\n",
    "    out_rates_path   = f'complete_rasters_join_rates.csv',\n",
    "    out_sql_path     = f'complete_rasters_join_samples.sqlite',\n",
    "    verbose          = 1,  \n",
    "    strategy         = 'percent', # [byclass|constant|percent|total|smallest|all]\n",
    "    strategy_percent = 100,\n",
    ")"
   ]
  },
  {
   "cell_type": "code",
   "execution_count": 49,
   "id": "d8a767f0-4a2e-4e49-b0cd-41887f54dc9a",
   "metadata": {},
   "outputs": [
    {
     "data": {
      "text/html": [
       "<pre style=\"white-space:pre;overflow-x:auto;line-height:normal;font-family:Menlo,'DejaVu Sans Mono',consolas,'Courier New',monospace\">\n",
       "\n",
       "Sample extraction<span style=\"color: #808000; text-decoration-color: #808000\">...</span>\n",
       "\n",
       "</pre>\n"
      ],
      "text/plain": [
       "\n",
       "\n",
       "Sample extraction\u001b[33m...\u001b[0m\n",
       "\n"
      ]
     },
     "metadata": {},
     "output_type": "display_data"
    },
    {
     "data": {
      "text/html": [
       "<pre style=\"white-space:pre;overflow-x:auto;line-height:normal;font-family:Menlo,'DejaVu Sans Mono',consolas,'Courier New',monospace\">- In Paths<span style=\"color: #808000; text-decoration-color: #808000\">......</span>: ..<span style=\"color: #800080; text-decoration-color: #800080\">/results/</span><span style=\"color: #ff00ff; text-decoration-color: #ff00ff\">complete_rasters_join.tif</span>\n",
       "</pre>\n"
      ],
      "text/plain": [
       "- In Paths\u001b[33m...\u001b[0m\u001b[33m...\u001b[0m: ..\u001b[35m/results/\u001b[0m\u001b[95mcomplete_rasters_join.tif\u001b[0m\n"
      ]
     },
     "metadata": {},
     "output_type": "display_data"
    },
    {
     "data": {
      "text/html": [
       "<pre style=\"white-space:pre;overflow-x:auto;line-height:normal;font-family:Menlo,'DejaVu Sans Mono',consolas,'Courier New',monospace\">- Vec SQL Path..: ..<span style=\"color: #800080; text-decoration-color: #800080\">/results/</span><span style=\"color: #ff00ff; text-decoration-color: #ff00ff\">complete_rasters_join_samples.sqlite</span>\n",
       "</pre>\n"
      ],
      "text/plain": [
       "- Vec SQL Path..: ..\u001b[35m/results/\u001b[0m\u001b[95mcomplete_rasters_join_samples.sqlite\u001b[0m\n"
      ]
     },
     "metadata": {},
     "output_type": "display_data"
    },
    {
     "data": {
      "text/html": [
       "<pre style=\"white-space:pre;overflow-x:auto;line-height:normal;font-family:Menlo,'DejaVu Sans Mono',consolas,'Courier New',monospace\">- Field<span style=\"color: #808000; text-decoration-color: #808000\">.........</span>: id\n",
       "\n",
       "\n",
       "</pre>\n"
      ],
      "text/plain": [
       "- Field\u001b[33m...\u001b[0m\u001b[33m...\u001b[0m\u001b[33m...\u001b[0m: id\n",
       "\n",
       "\n"
      ]
     },
     "metadata": {},
     "output_type": "display_data"
    },
    {
     "name": "stdout",
     "output_type": "stream",
     "text": [
      "2022-07-03 20:24:20 (INFO) SampleExtraction: Default RAM limit for OTB is 1024 MB\n",
      "2022-07-03 20:24:20 (INFO) SampleExtraction: GDAL maximum cache size is 1600 MB\n",
      "2022-07-03 20:24:20 (INFO) SampleExtraction: OTB will use at most 128 threads\n",
      "2022-07-03 20:24:20 (INFO): Loading metadata from official product\n",
      "2022-07-03 20:24:20 (INFO): Estimated memory for full processing: 18846.1MB (avail.: 1024 MB), optimal image partitioning: 19 blocks\n",
      "2022-07-03 20:24:20 (INFO): Estimation will be performed in 20 blocks of 15860x433 pixels\n",
      "Extracting sample values...: 100% [**************************************************] (5s)\n",
      "otbcli_SampleExtraction -in ../results/complete_rasters_join.tif -vec  -field  3.71s user 1.75s system 95% cpu 5.741 total\n"
     ]
    }
   ],
   "source": [
    "sample_extraction(\n",
    "    raster_paths = [result_path('complete_rasters_join.tif')],\n",
    "    out_sql_file = f'complete_rasters_join_samples.sqlite',\n",
    "    verbose      = 1\n",
    ")"
   ]
  },
  {
   "cell_type": "code",
   "execution_count": 50,
   "id": "7ad42d8b-ed6c-462c-9cf5-9ec2741b5648",
   "metadata": {},
   "outputs": [
    {
     "data": {
      "text/html": [
       "<div>\n",
       "<style scoped>\n",
       "    .dataframe tbody tr th:only-of-type {\n",
       "        vertical-align: middle;\n",
       "    }\n",
       "\n",
       "    .dataframe tbody tr th {\n",
       "        vertical-align: top;\n",
       "    }\n",
       "\n",
       "    .dataframe thead th {\n",
       "        text-align: right;\n",
       "    }\n",
       "</style>\n",
       "<table border=\"1\" class=\"dataframe\">\n",
       "  <thead>\n",
       "    <tr style=\"text-align: right;\">\n",
       "      <th></th>\n",
       "      <th>Codigo de cultivo</th>\n",
       "      <th>Cantidad de pixels (Solo aquellos que tiene verdad de campo)</th>\n",
       "    </tr>\n",
       "  </thead>\n",
       "  <tbody>\n",
       "    <tr>\n",
       "      <th>0</th>\n",
       "      <td>SOJA</td>\n",
       "      <td>4005</td>\n",
       "    </tr>\n",
       "    <tr>\n",
       "      <th>1</th>\n",
       "      <td>MAIZ</td>\n",
       "      <td>5893</td>\n",
       "    </tr>\n",
       "    <tr>\n",
       "      <th>2</th>\n",
       "      <td>GIRASOL</td>\n",
       "      <td>777</td>\n",
       "    </tr>\n",
       "    <tr>\n",
       "      <th>3</th>\n",
       "      <td>CAMPONATUR</td>\n",
       "      <td>431</td>\n",
       "    </tr>\n",
       "    <tr>\n",
       "      <th>4</th>\n",
       "      <td>ALFALFA</td>\n",
       "      <td>48</td>\n",
       "    </tr>\n",
       "  </tbody>\n",
       "</table>\n",
       "</div>"
      ]
     },
     "execution_count": 50,
     "metadata": {},
     "output_type": "execute_result"
    }
   ],
   "source": [
    "sql.SQLiteClient.inline_query(\n",
    "    path  = result_path('complete_rasters_join_samples.sqlite'),\n",
    "    query = \"\"\"\n",
    "        SELECT \n",
    "            cultivo  AS 'Codigo de cultivo',\n",
    "            COUNT(*) AS 'Cantidad de pixels (Solo aquellos que tiene verdad de campo)'\n",
    "        FROM\n",
    "            output\n",
    "        GROUP BY\n",
    "            cultivo\n",
    "        ORDER BY\n",
    "            'Cantidad de pixels (Solo aquellos que tiene verdad de campo)' desc\n",
    "    \"\"\"\n",
    ")"
   ]
  },
  {
   "cell_type": "code",
   "execution_count": 51,
   "id": "b9ef33a9-4db2-4524-8d21-1ea398ff086e",
   "metadata": {},
   "outputs": [
    {
     "data": {
      "text/html": [
       "<pre style=\"white-space:pre;overflow-x:auto;line-height:normal;font-family:Menlo,'DejaVu Sans Mono',consolas,'Courier New',monospace\">\n",
       "\n",
       "Compute rasters statistics<span style=\"color: #808000; text-decoration-color: #808000\">...</span>\n",
       "\n",
       "</pre>\n"
      ],
      "text/plain": [
       "\n",
       "\n",
       "Compute rasters statistics\u001b[33m...\u001b[0m\n",
       "\n"
      ]
     },
     "metadata": {},
     "output_type": "display_data"
    },
    {
     "data": {
      "text/html": [
       "<pre style=\"white-space:pre;overflow-x:auto;line-height:normal;font-family:Menlo,'DejaVu Sans Mono',consolas,'Courier New',monospace\">- Raster Paths: ..<span style=\"color: #800080; text-decoration-color: #800080\">/results/</span><span style=\"color: #ff00ff; text-decoration-color: #ff00ff\">complete_rasters_join.tif</span>\n",
       "</pre>\n"
      ],
      "text/plain": [
       "- Raster Paths: ..\u001b[35m/results/\u001b[0m\u001b[95mcomplete_rasters_join.tif\u001b[0m\n"
      ]
     },
     "metadata": {},
     "output_type": "display_data"
    },
    {
     "data": {
      "text/html": [
       "<pre style=\"white-space:pre;overflow-x:auto;line-height:normal;font-family:Menlo,'DejaVu Sans Mono',consolas,'Courier New',monospace\">- Stats Path : ..<span style=\"color: #800080; text-decoration-color: #800080\">/results/</span><span style=\"color: #ff00ff; text-decoration-color: #ff00ff\">complete_rasters_join_norm_raster_stat.xml</span>\n",
       "\n",
       "\n",
       "</pre>\n"
      ],
      "text/plain": [
       "- Stats Path : ..\u001b[35m/results/\u001b[0m\u001b[95mcomplete_rasters_join_norm_raster_stat.xml\u001b[0m\n",
       "\n",
       "\n"
      ]
     },
     "metadata": {},
     "output_type": "display_data"
    },
    {
     "name": "stdout",
     "output_type": "stream",
     "text": [
      "2022-07-03 20:24:26 (INFO) ComputeImagesStatistics: Default RAM limit for OTB is 1024 MB\n",
      "2022-07-03 20:24:26 (INFO) ComputeImagesStatistics: GDAL maximum cache size is 1600 MB\n",
      "2022-07-03 20:24:26 (INFO) ComputeImagesStatistics: OTB will use at most 128 threads\n",
      "2022-07-03 20:24:26 (INFO): Loading metadata from official product\n",
      "2022-07-03 20:24:26 (INFO): Estimated memory for full processing: 18846.1MB (avail.: 1024 MB), optimal image partitioning: 19 blocks\n",
      "2022-07-03 20:24:26 (INFO): Estimation will be performed in 20 blocks of 15860x433 pixels\n",
      "Processing Image (1/1): 100% [**************************************************] (5s)\n",
      "Output parameters value:\n",
      "out.mean: [0.306923, 0.198543, 0.330888, 0.211161, 0.30659, 0.199373, 0.391082, 0.183084, 0.414047, 0.163147, 0.381713, 0.166763]\n",
      "out.min: [-0.902098, -0.692431, -0.935125, -0.614061, -0.887691, -0.608959, -0.935157, -0.650943, -0.945238, -0.619271, -0.961889, -0.573433]\n",
      "out.max: [0.914894, 0.544045, 0.994595, 0.583584, 0.994709, 0.699695, 0.858156, 0.52462, 0.916933, 0.616697, 0.951184, 0.820494]\n",
      "out.std: [0.128868, 0.0613974, 0.117285, 0.0615362, 0.113647, 0.0596905, 0.145405, 0.0510545, 0.154498, 0.047732, 0.131504, 0.054056]\n",
      "\n",
      "otbcli_ComputeImagesStatistics -il ../results/complete_rasters_join.tif    31.31s user 1.95s system 548% cpu 6.068 total\n"
     ]
    },
    {
     "data": {
      "text/html": [
       "<pre style=\"white-space:pre;overflow-x:auto;line-height:normal;font-family:Menlo,'DejaVu Sans Mono',consolas,'Courier New',monospace\"><span style=\"color: #008000; text-decoration-color: #008000\">'../results/complete_rasters_join_norm_raster_stat.xml'</span>\n",
       "</pre>\n"
      ],
      "text/plain": [
       "\u001b[32m'../results/complete_rasters_join_norm_raster_stat.xml'\u001b[0m\n"
      ]
     },
     "metadata": {},
     "output_type": "display_data"
    }
   ],
   "source": [
    "compute_raster_statistics(\n",
    "    raster_paths = [result_path('complete_rasters_join.tif')],\n",
    "    stat_file    = f'complete_rasters_join_norm_raster_stat.xml',\n",
    "    verbose      = 1\n",
    ")"
   ]
  },
  {
   "cell_type": "code",
   "execution_count": 52,
   "id": "893396e6-a56b-4368-8bd3-78124e89d7a2",
   "metadata": {},
   "outputs": [
    {
     "data": {
      "text/html": [
       "<pre style=\"white-space:pre;overflow-x:auto;line-height:normal;font-family:Menlo,'DejaVu Sans Mono',consolas,'Courier New',monospace\">\n",
       "\n",
       "Training rf classifier<span style=\"color: #808000; text-decoration-color: #808000\">...</span>\n",
       "\n",
       "</pre>\n"
      ],
      "text/plain": [
       "\n",
       "\n",
       "Training rf classifier\u001b[33m...\u001b[0m\n",
       "\n"
      ]
     },
     "metadata": {},
     "output_type": "display_data"
    },
    {
     "data": {
      "text/html": [
       "<pre style=\"white-space:pre;overflow-x:auto;line-height:normal;font-family:Menlo,'DejaVu Sans Mono',consolas,'Courier New',monospace\">- SQL Path<span style=\"color: #808000; text-decoration-color: #808000\">............</span>.: ..<span style=\"color: #800080; text-decoration-color: #800080\">/results/</span><span style=\"color: #ff00ff; text-decoration-color: #ff00ff\">complete_rasters_join_samples.sqlite</span>\n",
       "</pre>\n"
      ],
      "text/plain": [
       "- SQL Path\u001b[33m...\u001b[0m\u001b[33m...\u001b[0m\u001b[33m...\u001b[0m\u001b[33m...\u001b[0m.: ..\u001b[35m/results/\u001b[0m\u001b[95mcomplete_rasters_join_samples.sqlite\u001b[0m\n"
      ]
     },
     "metadata": {},
     "output_type": "display_data"
    },
    {
     "data": {
      "text/html": [
       "<pre style=\"white-space:pre;overflow-x:auto;line-height:normal;font-family:Menlo,'DejaVu Sans Mono',consolas,'Courier New',monospace\">- Stats Path<span style=\"color: #808000; text-decoration-color: #808000\">.........</span>..: ..<span style=\"color: #800080; text-decoration-color: #800080\">/results/</span><span style=\"color: #ff00ff; text-decoration-color: #ff00ff\">complete_rasters_join_norm_raster_stat.xml</span>\n",
       "</pre>\n"
      ],
      "text/plain": [
       "- Stats Path\u001b[33m...\u001b[0m\u001b[33m...\u001b[0m\u001b[33m...\u001b[0m..: ..\u001b[35m/results/\u001b[0m\u001b[95mcomplete_rasters_join_norm_raster_stat.xml\u001b[0m\n"
      ]
     },
     "metadata": {},
     "output_type": "display_data"
    },
    {
     "data": {
      "text/html": [
       "<pre style=\"white-space:pre;overflow-x:auto;line-height:normal;font-family:Menlo,'DejaVu Sans Mono',consolas,'Courier New',monospace\">- Target<span style=\"color: #808000; text-decoration-color: #808000\">...............</span>: id\n",
       "</pre>\n"
      ],
      "text/plain": [
       "- Target\u001b[33m...\u001b[0m\u001b[33m...\u001b[0m\u001b[33m...\u001b[0m\u001b[33m...\u001b[0m\u001b[33m...\u001b[0m: id\n"
      ]
     },
     "metadata": {},
     "output_type": "display_data"
    },
    {
     "data": {
      "text/html": [
       "<pre style=\"white-space:pre;overflow-x:auto;line-height:normal;font-family:Menlo,'DejaVu Sans Mono',consolas,'Courier New',monospace\">- Features<span style=\"color: #808000; text-decoration-color: #808000\">............</span>.: <span style=\"font-weight: bold\">[</span><span style=\"color: #008000; text-decoration-color: #008000\">'band_0'</span>, <span style=\"color: #008000; text-decoration-color: #008000\">'band_1'</span>, <span style=\"color: #008000; text-decoration-color: #008000\">'band_2'</span>, <span style=\"color: #008000; text-decoration-color: #008000\">'band_3'</span>, <span style=\"color: #008000; text-decoration-color: #008000\">'band_4'</span>, <span style=\"color: #008000; text-decoration-color: #008000\">'band_5'</span>, \n",
       "<span style=\"color: #008000; text-decoration-color: #008000\">'band_6'</span>, <span style=\"color: #008000; text-decoration-color: #008000\">'band_7'</span>, <span style=\"color: #008000; text-decoration-color: #008000\">'band_8'</span>, <span style=\"color: #008000; text-decoration-color: #008000\">'band_9'</span>, <span style=\"color: #008000; text-decoration-color: #008000\">'band_10'</span>, <span style=\"color: #008000; text-decoration-color: #008000\">'band_11'</span><span style=\"font-weight: bold\">]</span>\n",
       "</pre>\n"
      ],
      "text/plain": [
       "- Features\u001b[33m...\u001b[0m\u001b[33m...\u001b[0m\u001b[33m...\u001b[0m\u001b[33m...\u001b[0m.: \u001b[1m[\u001b[0m\u001b[32m'band_0'\u001b[0m, \u001b[32m'band_1'\u001b[0m, \u001b[32m'band_2'\u001b[0m, \u001b[32m'band_3'\u001b[0m, \u001b[32m'band_4'\u001b[0m, \u001b[32m'band_5'\u001b[0m, \n",
       "\u001b[32m'band_6'\u001b[0m, \u001b[32m'band_7'\u001b[0m, \u001b[32m'band_8'\u001b[0m, \u001b[32m'band_9'\u001b[0m, \u001b[32m'band_10'\u001b[0m, \u001b[32m'band_11'\u001b[0m\u001b[1m]\u001b[0m\n"
      ]
     },
     "metadata": {},
     "output_type": "display_data"
    },
    {
     "data": {
      "text/html": [
       "<pre style=\"white-space:pre;overflow-x:auto;line-height:normal;font-family:Menlo,'DejaVu Sans Mono',consolas,'Courier New',monospace\">- Model Path<span style=\"color: #808000; text-decoration-color: #808000\">.........</span>..: ..<span style=\"color: #800080; text-decoration-color: #800080\">/results/</span><span style=\"color: #ff00ff; text-decoration-color: #ff00ff\">complete_rasters_join_rf_model.txt</span>\n",
       "</pre>\n"
      ],
      "text/plain": [
       "- Model Path\u001b[33m...\u001b[0m\u001b[33m...\u001b[0m\u001b[33m...\u001b[0m..: ..\u001b[35m/results/\u001b[0m\u001b[95mcomplete_rasters_join_rf_model.txt\u001b[0m\n"
      ]
     },
     "metadata": {},
     "output_type": "display_data"
    },
    {
     "data": {
      "text/html": [
       "<pre style=\"white-space:pre;overflow-x:auto;line-height:normal;font-family:Menlo,'DejaVu Sans Mono',consolas,'Courier New',monospace\">- Confusion Matrix Path: ..<span style=\"color: #800080; text-decoration-color: #800080\">/results/</span><span style=\"color: #ff00ff; text-decoration-color: #ff00ff\">complete_rasters_join_rf_cm_model.csv</span>\n",
       "</pre>\n"
      ],
      "text/plain": [
       "- Confusion Matrix Path: ..\u001b[35m/results/\u001b[0m\u001b[95mcomplete_rasters_join_rf_cm_model.csv\u001b[0m\n"
      ]
     },
     "metadata": {},
     "output_type": "display_data"
    },
    {
     "data": {
      "text/html": [
       "<pre style=\"white-space:pre;overflow-x:auto;line-height:normal;font-family:Menlo,'DejaVu Sans Mono',consolas,'Courier New',monospace\">- Clasifier config<span style=\"color: #808000; text-decoration-color: #808000\">...</span>..:  -classifier rf -classifier.rf.min <span style=\"color: #008080; text-decoration-color: #008080; font-weight: bold\">1</span> -classifier.rf.max <span style=\"color: #008080; text-decoration-color: #008080; font-weight: bold\">5</span>\n",
       "\n",
       "\n",
       "</pre>\n"
      ],
      "text/plain": [
       "- Clasifier config\u001b[33m...\u001b[0m..:  -classifier rf -classifier.rf.min \u001b[1;36m1\u001b[0m -classifier.rf.max \u001b[1;36m5\u001b[0m\n",
       "\n",
       "\n"
      ]
     },
     "metadata": {},
     "output_type": "display_data"
    },
    {
     "name": "stdout",
     "output_type": "stream",
     "text": [
      "2022-07-03 20:24:32 (INFO) TrainVectorClassifier: Default RAM limit for OTB is 1024 MB\n",
      "2022-07-03 20:24:32 (INFO) TrainVectorClassifier: GDAL maximum cache size is 1600 MB\n",
      "2022-07-03 20:24:32 (INFO) TrainVectorClassifier: OTB will use at most 128 threads\n",
      "2022-07-03 20:24:32 (INFO) TrainVectorClassifier: Reading vector file 1/1\n",
      "2022-07-03 20:24:32 (WARNING) TrainVectorClassifier: The validation set is empty. The performance estimation is done using the input training set in this case.\n",
      "2022-07-03 20:24:32 (INFO) TrainVectorClassifier: Computing model file : ../results/complete_rasters_join_rf_model.txt\n",
      "Training model...: 100% [**************************************************] (1s)\n",
      "Validation...: 100% [**************************************************] (0s)\n",
      "2022-07-03 20:24:33 (INFO) TrainVectorClassifier: Predicted list size : 11154\n",
      "2022-07-03 20:24:33 (INFO) TrainVectorClassifier: ValidationLabeledListSample size : 11154\n",
      "2022-07-03 20:24:33 (INFO) TrainVectorClassifier: Training performances:\n",
      "2022-07-03 20:24:33 (INFO) TrainVectorClassifier: Confusion matrix (rows = reference labels, columns = produced labels):\n",
      "     [1] [2] [3] [4] [5] [10] [20] \n",
      "[ 1] 3105   36    0   46    0    0    2 \n",
      "[ 2]   53 2474   41    2    0    0    0 \n",
      "[ 3]   28   56 3226   10    3    0    0 \n",
      "[ 4]   74  109  106  527    0    0    0 \n",
      "[ 5]    0   26  182    0  569    0    0 \n",
      "[10]    0    0   24    0    0   24    0 \n",
      "[20]    2    4  361    0    0    0   64 \n",
      "\n",
      "2022-07-03 20:24:33 (INFO) TrainVectorClassifier: Precision of class [1] vs all: 0.95187\n",
      "2022-07-03 20:24:33 (INFO) TrainVectorClassifier: Recall of class    [1] vs all: 0.973659\n",
      "2022-07-03 20:24:33 (INFO) TrainVectorClassifier: F-score of class   [1] vs all: 0.962641\n",
      "\n",
      "2022-07-03 20:24:33 (INFO) TrainVectorClassifier: Precision of class [2] vs all: 0.914603\n",
      "2022-07-03 20:24:33 (INFO) TrainVectorClassifier: Recall of class    [2] vs all: 0.962646\n",
      "2022-07-03 20:24:33 (INFO) TrainVectorClassifier: F-score of class   [2] vs all: 0.938009\n",
      "\n",
      "2022-07-03 20:24:33 (INFO) TrainVectorClassifier: Precision of class [3] vs all: 0.818782\n",
      "2022-07-03 20:24:33 (INFO) TrainVectorClassifier: Recall of class    [3] vs all: 0.97081\n",
      "2022-07-03 20:24:33 (INFO) TrainVectorClassifier: F-score of class   [3] vs all: 0.888338\n",
      "\n",
      "2022-07-03 20:24:33 (INFO) TrainVectorClassifier: Precision of class [4] vs all: 0.900855\n",
      "2022-07-03 20:24:33 (INFO) TrainVectorClassifier: Recall of class    [4] vs all: 0.645833\n",
      "2022-07-03 20:24:33 (INFO) TrainVectorClassifier: F-score of class   [4] vs all: 0.75232\n",
      "\n",
      "2022-07-03 20:24:33 (INFO) TrainVectorClassifier: Precision of class [5] vs all: 0.994755\n",
      "2022-07-03 20:24:33 (INFO) TrainVectorClassifier: Recall of class    [5] vs all: 0.732304\n",
      "2022-07-03 20:24:33 (INFO) TrainVectorClassifier: F-score of class   [5] vs all: 0.843588\n",
      "\n",
      "2022-07-03 20:24:33 (INFO) TrainVectorClassifier: Precision of class [10] vs all: 1\n",
      "2022-07-03 20:24:33 (INFO) TrainVectorClassifier: Recall of class    [10] vs all: 0.5\n",
      "2022-07-03 20:24:33 (INFO) TrainVectorClassifier: F-score of class   [10] vs all: 0.666667\n",
      "\n",
      "2022-07-03 20:24:33 (INFO) TrainVectorClassifier: Precision of class [20] vs all: 0.969697\n",
      "2022-07-03 20:24:33 (INFO) TrainVectorClassifier: Recall of class    [20] vs all: 0.148492\n",
      "2022-07-03 20:24:33 (INFO) TrainVectorClassifier: F-score of class   [20] vs all: 0.257545\n",
      "\n",
      "2022-07-03 20:24:33 (INFO) TrainVectorClassifier: Global performance, Kappa index: 0.860295\n",
      "2022-07-03 20:24:33 (INFO) TrainVectorClassifier: mapOfIndicesValid[0] = 1\n",
      "2022-07-03 20:24:33 (INFO) TrainVectorClassifier: mapOfIndicesValid[1] = 2\n",
      "2022-07-03 20:24:33 (INFO) TrainVectorClassifier: mapOfIndicesValid[2] = 3\n",
      "2022-07-03 20:24:33 (INFO) TrainVectorClassifier: mapOfIndicesValid[3] = 4\n",
      "2022-07-03 20:24:33 (INFO) TrainVectorClassifier: mapOfIndicesValid[4] = 5\n",
      "2022-07-03 20:24:33 (INFO) TrainVectorClassifier: mapOfIndicesValid[5] = 10\n",
      "2022-07-03 20:24:33 (INFO) TrainVectorClassifier: mapOfIndicesValid[6] = 20\n",
      "otbcli_TrainVectorClassifier -io.vd  -io.stats  -feat band_0 band_1 band_2     1.09s user 0.01s system 99% cpu 1.106 total\n"
     ]
    }
   ],
   "source": [
    "train_clasifier(\n",
    "    sql_file         = f'complete_rasters_join_samples.sqlite',\n",
    "    stat_file        = f'complete_rasters_join_norm_raster_stat.xml',\n",
    "    out_model_file   = f'complete_rasters_join_rf_model.txt',\n",
    "    out_cm_file      = f'complete_rasters_join_rf_cm_model.csv',\n",
    "    verbose          = 1,\n",
    "    features         = [f'band_{idx}' for idx in range(12)],\n",
    "    clasifier_config = {\n",
    "        'classifier': 'rf',\n",
    "        'classifier.rf.min': 1,\n",
    "        'classifier.rf.max': 5\n",
    "    }\n",
    ")"
   ]
  },
  {
   "cell_type": "markdown",
   "id": "25d85edb-ec69-49dd-b9b7-90ee72c0cd50",
   "metadata": {},
   "source": [
    "## Construcción de dataset CSV\n",
    "\n",
    "A partir de el conjunto completo de pixels que tienen verdad de campo construmimos un dataset en csv, renombrando las columnas para identificar a que indice y campaña de cultivo pertenecen."
   ]
  },
  {
   "cell_type": "code",
   "execution_count": 53,
   "id": "bdfa70b9-3851-4b33-a43c-081447d8269b",
   "metadata": {},
   "outputs": [],
   "source": [
    "df = sql.SQLiteClient.inline_query(\n",
    "    path  = result_path('complete_rasters_join_samples.sqlite'), \n",
    "    query = 'SELECT * FROM output'\n",
    ")"
   ]
  },
  {
   "cell_type": "code",
   "execution_count": 54,
   "id": "5181e8a5-5f8e-4a8b-b65f-8b15f6cba520",
   "metadata": {},
   "outputs": [
    {
     "data": {
      "text/html": [
       "<pre style=\"white-space:pre;overflow-x:auto;line-height:normal;font-family:Menlo,'DejaVu Sans Mono',consolas,'Courier New',monospace\">\n",
       "<span style=\"font-weight: bold\">(</span>\n",
       "    <span style=\"color: #800080; text-decoration-color: #800080; font-weight: bold\">array</span><span style=\"font-weight: bold\">([</span><span style=\"color: #008000; text-decoration-color: #008000\">'NDVI_1'</span>, <span style=\"color: #008000; text-decoration-color: #008000\">'SAVI_1'</span>, <span style=\"color: #008000; text-decoration-color: #008000\">'NDVI_2'</span>, <span style=\"color: #008000; text-decoration-color: #008000\">'SAVI_2'</span>, <span style=\"color: #008000; text-decoration-color: #008000\">'NDVI_3'</span>, <span style=\"color: #008000; text-decoration-color: #008000\">'SAVI_3'</span>,\n",
       "       <span style=\"color: #008000; text-decoration-color: #008000\">'NDVI_4'</span>, <span style=\"color: #008000; text-decoration-color: #008000\">'SAVI_4'</span>, <span style=\"color: #008000; text-decoration-color: #008000\">'NDVI_5'</span>, <span style=\"color: #008000; text-decoration-color: #008000\">'SAVI_5'</span>, <span style=\"color: #008000; text-decoration-color: #008000\">'NDVI_6'</span>, <span style=\"color: #008000; text-decoration-color: #008000\">'SAVI_6'</span><span style=\"font-weight: bold\">]</span>,\n",
       "      <span style=\"color: #808000; text-decoration-color: #808000\">dtype</span>=<span style=\"color: #008000; text-decoration-color: #008000\">'&lt;U6'</span><span style=\"font-weight: bold\">)</span>,\n",
       "    <span style=\"color: #800080; text-decoration-color: #800080; font-weight: bold\">array</span><span style=\"font-weight: bold\">([</span><span style=\"color: #008000; text-decoration-color: #008000\">'band_0'</span>, <span style=\"color: #008000; text-decoration-color: #008000\">'band_1'</span>, <span style=\"color: #008000; text-decoration-color: #008000\">'band_2'</span>, <span style=\"color: #008000; text-decoration-color: #008000\">'band_3'</span>, <span style=\"color: #008000; text-decoration-color: #008000\">'band_4'</span>, <span style=\"color: #008000; text-decoration-color: #008000\">'band_5'</span>,\n",
       "       <span style=\"color: #008000; text-decoration-color: #008000\">'band_6'</span>, <span style=\"color: #008000; text-decoration-color: #008000\">'band_7'</span>, <span style=\"color: #008000; text-decoration-color: #008000\">'band_8'</span>, <span style=\"color: #008000; text-decoration-color: #008000\">'band_9'</span>, <span style=\"color: #008000; text-decoration-color: #008000\">'band_10'</span>, <span style=\"color: #008000; text-decoration-color: #008000\">'band_11'</span><span style=\"font-weight: bold\">]</span>,\n",
       "      <span style=\"color: #808000; text-decoration-color: #808000\">dtype</span>=<span style=\"color: #008000; text-decoration-color: #008000\">'&lt;U7'</span><span style=\"font-weight: bold\">)</span>\n",
       "<span style=\"font-weight: bold\">)</span>\n",
       "</pre>\n"
      ],
      "text/plain": [
       "\n",
       "\u001b[1m(\u001b[0m\n",
       "    \u001b[1;35marray\u001b[0m\u001b[1m(\u001b[0m\u001b[1m[\u001b[0m\u001b[32m'NDVI_1'\u001b[0m, \u001b[32m'SAVI_1'\u001b[0m, \u001b[32m'NDVI_2'\u001b[0m, \u001b[32m'SAVI_2'\u001b[0m, \u001b[32m'NDVI_3'\u001b[0m, \u001b[32m'SAVI_3'\u001b[0m,\n",
       "       \u001b[32m'NDVI_4'\u001b[0m, \u001b[32m'SAVI_4'\u001b[0m, \u001b[32m'NDVI_5'\u001b[0m, \u001b[32m'SAVI_5'\u001b[0m, \u001b[32m'NDVI_6'\u001b[0m, \u001b[32m'SAVI_6'\u001b[0m\u001b[1m]\u001b[0m,\n",
       "      \u001b[33mdtype\u001b[0m=\u001b[32m'<U6'\u001b[0m\u001b[1m)\u001b[0m,\n",
       "    \u001b[1;35marray\u001b[0m\u001b[1m(\u001b[0m\u001b[1m[\u001b[0m\u001b[32m'band_0'\u001b[0m, \u001b[32m'band_1'\u001b[0m, \u001b[32m'band_2'\u001b[0m, \u001b[32m'band_3'\u001b[0m, \u001b[32m'band_4'\u001b[0m, \u001b[32m'band_5'\u001b[0m,\n",
       "       \u001b[32m'band_6'\u001b[0m, \u001b[32m'band_7'\u001b[0m, \u001b[32m'band_8'\u001b[0m, \u001b[32m'band_9'\u001b[0m, \u001b[32m'band_10'\u001b[0m, \u001b[32m'band_11'\u001b[0m\u001b[1m]\u001b[0m,\n",
       "      \u001b[33mdtype\u001b[0m=\u001b[32m'<U7'\u001b[0m\u001b[1m)\u001b[0m\n",
       "\u001b[1m)\u001b[0m\n"
      ]
     },
     "metadata": {},
     "output_type": "display_data"
    }
   ],
   "source": [
    "indexes_columns = flatten([[f'{value.replace(\"Vegetation:\", \"\")}_{i+1}' for value in BEST_INDEXES] for i in range(len(DATES))])\n",
    "\n",
    "band_columns = np.array(list(filter(lambda v: 'band_' in v, df.columns)))\n",
    "\n",
    "indexes_columns, band_columns"
   ]
  },
  {
   "cell_type": "code",
   "execution_count": 55,
   "id": "b051dc64-bbb0-44cb-9d96-5ae580f149e2",
   "metadata": {},
   "outputs": [],
   "source": [
    "rename_def = {k:v for k,v in zip(band_columns, indexes_columns) }"
   ]
  },
  {
   "cell_type": "markdown",
   "id": "4d459731-ab37-4646-bb5d-1e588e1ac8c8",
   "metadata": {},
   "source": [
    "### Target combinado\n",
    "\n",
    "Concatenamos las columnas id y colvibo apra creat la columna target_combined."
   ]
  },
  {
   "cell_type": "code",
   "execution_count": 56,
   "id": "fb5fdb37-2cc4-4511-9b45-e26a5ca788ff",
   "metadata": {},
   "outputs": [],
   "source": [
    "df = df.rename(columns =rename_def)\n",
    "\n",
    "df['target_combined'] = df[\"cultivo\"] + '_' + df[\"id\"].astype(str)"
   ]
  },
  {
   "cell_type": "code",
   "execution_count": 57,
   "id": "8d293c7c-f508-4dc0-bcf4-337e2c8ac4b9",
   "metadata": {},
   "outputs": [
    {
     "data": {
      "text/html": [
       "<pre style=\"white-space:pre;overflow-x:auto;line-height:normal;font-family:Menlo,'DejaVu Sans Mono',consolas,'Courier New',monospace\">\n",
       "target_combined\n",
       "ALFALFA_10         <span style=\"color: #008080; text-decoration-color: #008080; font-weight: bold\">48</span>\n",
       "CAMPONATUR_20     <span style=\"color: #008080; text-decoration-color: #008080; font-weight: bold\">431</span>\n",
       "GIRASOL_5         <span style=\"color: #008080; text-decoration-color: #008080; font-weight: bold\">777</span>\n",
       "MAIZ_2           <span style=\"color: #008080; text-decoration-color: #008080; font-weight: bold\">2570</span>\n",
       "MAIZ_3           <span style=\"color: #008080; text-decoration-color: #008080; font-weight: bold\">3323</span>\n",
       "SOJA_1           <span style=\"color: #008080; text-decoration-color: #008080; font-weight: bold\">3189</span>\n",
       "SOJA_4            <span style=\"color: #008080; text-decoration-color: #008080; font-weight: bold\">816</span>\n",
       "dtype: int64\n",
       "</pre>\n"
      ],
      "text/plain": [
       "\n",
       "target_combined\n",
       "ALFALFA_10         \u001b[1;36m48\u001b[0m\n",
       "CAMPONATUR_20     \u001b[1;36m431\u001b[0m\n",
       "GIRASOL_5         \u001b[1;36m777\u001b[0m\n",
       "MAIZ_2           \u001b[1;36m2570\u001b[0m\n",
       "MAIZ_3           \u001b[1;36m3323\u001b[0m\n",
       "SOJA_1           \u001b[1;36m3189\u001b[0m\n",
       "SOJA_4            \u001b[1;36m816\u001b[0m\n",
       "dtype: int64\n"
      ]
     },
     "metadata": {},
     "output_type": "display_data"
    }
   ],
   "source": [
    "df.groupby(['target_combined']).size()"
   ]
  },
  {
   "cell_type": "markdown",
   "id": "78be22b0-5fcd-4139-8baa-e6889b1c75cf",
   "metadata": {},
   "source": [
    "### Target combinado solo maiz, soja  y others\n",
    "\n",
    "Hacemso merge de todas catagorias expecto mais y soja en una nueva categoria OTHERS."
   ]
  },
  {
   "cell_type": "code",
   "execution_count": 58,
   "id": "1a7b093f-6458-4f00-bf35-38d9a915a813",
   "metadata": {},
   "outputs": [
    {
     "data": {
      "text/html": [
       "<pre style=\"white-space:pre;overflow-x:auto;line-height:normal;font-family:Menlo,'DejaVu Sans Mono',consolas,'Courier New',monospace\">\n",
       "target_compined_maiz_soja_others\n",
       "MAIZ_2    <span style=\"color: #008080; text-decoration-color: #008080; font-weight: bold\">2570</span>\n",
       "MAIZ_3    <span style=\"color: #008080; text-decoration-color: #008080; font-weight: bold\">3323</span>\n",
       "OTHER     <span style=\"color: #008080; text-decoration-color: #008080; font-weight: bold\">1256</span>\n",
       "SOJA_1    <span style=\"color: #008080; text-decoration-color: #008080; font-weight: bold\">3189</span>\n",
       "SOJA_4     <span style=\"color: #008080; text-decoration-color: #008080; font-weight: bold\">816</span>\n",
       "dtype: int64\n",
       "</pre>\n"
      ],
      "text/plain": [
       "\n",
       "target_compined_maiz_soja_others\n",
       "MAIZ_2    \u001b[1;36m2570\u001b[0m\n",
       "MAIZ_3    \u001b[1;36m3323\u001b[0m\n",
       "OTHER     \u001b[1;36m1256\u001b[0m\n",
       "SOJA_1    \u001b[1;36m3189\u001b[0m\n",
       "SOJA_4     \u001b[1;36m816\u001b[0m\n",
       "dtype: int64\n"
      ]
     },
     "metadata": {},
     "output_type": "display_data"
    }
   ],
   "source": [
    "others = [ 'ALFALFA_10', 'CAMPONATUR_20', 'GIRASOL_5']\n",
    "df['target_compined_maiz_soja_others'] = df['target_combined'].apply(lambda v: 'OTHER' if v in others else v)\n",
    "df.groupby(['target_compined_maiz_soja_others']).size()"
   ]
  },
  {
   "cell_type": "markdown",
   "id": "902d8b52-619e-4252-a288-64b2910879ae",
   "metadata": {},
   "source": [
    "### Target maiz vs others"
   ]
  },
  {
   "cell_type": "code",
   "execution_count": 59,
   "id": "a7fadd0c-480d-4180-bdc9-2abb4b694d8f",
   "metadata": {},
   "outputs": [
    {
     "data": {
      "text/html": [
       "<pre style=\"white-space:pre;overflow-x:auto;line-height:normal;font-family:Menlo,'DejaVu Sans Mono',consolas,'Courier New',monospace\">\n",
       "target_maiz_others\n",
       "<span style=\"color: #008080; text-decoration-color: #008080; font-weight: bold\">0</span>    <span style=\"color: #008080; text-decoration-color: #008080; font-weight: bold\">5261</span>\n",
       "<span style=\"color: #008080; text-decoration-color: #008080; font-weight: bold\">1</span>    <span style=\"color: #008080; text-decoration-color: #008080; font-weight: bold\">5893</span>\n",
       "dtype: int64\n",
       "</pre>\n"
      ],
      "text/plain": [
       "\n",
       "target_maiz_others\n",
       "\u001b[1;36m0\u001b[0m    \u001b[1;36m5261\u001b[0m\n",
       "\u001b[1;36m1\u001b[0m    \u001b[1;36m5893\u001b[0m\n",
       "dtype: int64\n"
      ]
     },
     "metadata": {},
     "output_type": "display_data"
    }
   ],
   "source": [
    "df['target_maiz_others'] = df['target_combined'].apply(lambda v: 1 if v in ['MAIZ_3', 'MAIZ_2'] else 0)\n",
    "df.groupby(['target_maiz_others']).size()"
   ]
  },
  {
   "cell_type": "markdown",
   "id": "7f1453ae-99fc-4080-b850-fc85ead98d8a",
   "metadata": {},
   "source": [
    "### Target maiz vs others"
   ]
  },
  {
   "cell_type": "code",
   "execution_count": 60,
   "id": "05fb75e4-e848-452d-8c35-9de9068c695e",
   "metadata": {},
   "outputs": [
    {
     "data": {
      "text/html": [
       "<pre style=\"white-space:pre;overflow-x:auto;line-height:normal;font-family:Menlo,'DejaVu Sans Mono',consolas,'Courier New',monospace\">\n",
       "target_soja_others\n",
       "<span style=\"color: #008080; text-decoration-color: #008080; font-weight: bold\">0</span>    <span style=\"color: #008080; text-decoration-color: #008080; font-weight: bold\">7149</span>\n",
       "<span style=\"color: #008080; text-decoration-color: #008080; font-weight: bold\">1</span>    <span style=\"color: #008080; text-decoration-color: #008080; font-weight: bold\">4005</span>\n",
       "dtype: int64\n",
       "</pre>\n"
      ],
      "text/plain": [
       "\n",
       "target_soja_others\n",
       "\u001b[1;36m0\u001b[0m    \u001b[1;36m7149\u001b[0m\n",
       "\u001b[1;36m1\u001b[0m    \u001b[1;36m4005\u001b[0m\n",
       "dtype: int64\n"
      ]
     },
     "metadata": {},
     "output_type": "display_data"
    }
   ],
   "source": [
    "df['target_soja_others'] = df['target_combined'].apply(lambda v: 1 if v in ['SOJA_1', 'SOJA_4'] else 0)\n",
    "df.groupby(['target_soja_others']).size()"
   ]
  },
  {
   "cell_type": "markdown",
   "id": "a4171cb3-dfe2-4a3c-99d5-f81d6476d5a5",
   "metadata": {
    "tags": []
   },
   "source": [
    "## Agredamos columnas como min, max, mean, median, var"
   ]
  },
  {
   "cell_type": "markdown",
   "id": "c68af365-46ca-454f-b262-5d2c21f2f4b8",
   "metadata": {},
   "source": [
    "### Gardamos todos los datasets"
   ]
  },
  {
   "cell_type": "code",
   "execution_count": 61,
   "id": "274d6cf5-aebc-4d90-9358-b866e6fdf36b",
   "metadata": {},
   "outputs": [],
   "source": [
    "df.to_csv( result_path('dataset_augmented.csv'), encoding='utf-8')"
   ]
  },
  {
   "cell_type": "code",
   "execution_count": 62,
   "id": "b85d1417-6083-49a9-8814-bfb498f7497e",
   "metadata": {},
   "outputs": [],
   "source": [
    "for col in indexes_columns:\n",
    "    df[col] = (df[col] - df[col].mean()) / df[col].std() "
   ]
  },
  {
   "cell_type": "code",
   "execution_count": 63,
   "id": "dc0b6dd0-cc73-4182-9c34-8d18ac74f5ea",
   "metadata": {},
   "outputs": [],
   "source": [
    "df.to_csv( result_path('dataset_norm_augmented.csv'), encoding='utf-8')"
   ]
  },
  {
   "cell_type": "markdown",
   "id": "1ece9734-9cdf-4d4f-b7e7-ad17da0e9cdf",
   "metadata": {},
   "source": [
    "## Predicción"
   ]
  },
  {
   "cell_type": "markdown",
   "id": "6a3d24bc-2423-4d83-a3bf-17ba2c78cd24",
   "metadata": {},
   "source": [
    "1. Tomamos los rasters de cada campaña y calculasmos lo mismo indices que en el paso de entrenamiento. esta ves calculamos lo indices para todos los pixels y no solo para aquellos qeu tiene verdad de campo."
   ]
  },
  {
   "cell_type": "code",
   "execution_count": 67,
   "id": "3c2a25c8-fcc8-4483-88c9-f3a1dda49923",
   "metadata": {},
   "outputs": [
    {
     "data": {
      "text/html": [
       "<pre style=\"white-space:pre;overflow-x:auto;line-height:normal;font-family:Menlo,'DejaVu Sans Mono',consolas,'Courier New',monospace\">\n",
       "\n",
       "Calculate indexes: <span style=\"color: #008000; text-decoration-color: #008000\">\"['Vegetation:NDVI', 'Vegetation:SAVI']\"</span><span style=\"color: #808000; text-decoration-color: #808000\">...</span>\n",
       "\n",
       "</pre>\n"
      ],
      "text/plain": [
       "\n",
       "\n",
       "Calculate indexes: \u001b[32m\"\u001b[0m\u001b[32m[\u001b[0m\u001b[32m'Vegetation:NDVI', 'Vegetation:SAVI'\u001b[0m\u001b[32m]\u001b[0m\u001b[32m\"\u001b[0m\u001b[33m...\u001b[0m\n",
       "\n"
      ]
     },
     "metadata": {},
     "output_type": "display_data"
    },
    {
     "data": {
      "text/html": [
       "<pre style=\"white-space:pre;overflow-x:auto;line-height:normal;font-family:Menlo,'DejaVu Sans Mono',consolas,'Courier New',monospace\">\n",
       "\n",
       "- In: ..<span style=\"color: #800080; text-decoration-color: #800080\">/datasets/images/2020-10-01/</span><span style=\"color: #ff00ff; text-decoration-color: #ff00ff\">complete_raster.tif</span>\n",
       "- Out: ..<span style=\"color: #800080; text-decoration-color: #800080\">/datasets/images/2020-10-01/</span><span style=\"color: #ff00ff; text-decoration-color: #ff00ff\">complete_raster_indexes_without_labels.tif</span>\n",
       "</pre>\n"
      ],
      "text/plain": [
       "\n",
       "\n",
       "- In: ..\u001b[35m/datasets/images/2020-10-01/\u001b[0m\u001b[95mcomplete_raster.tif\u001b[0m\n",
       "- Out: ..\u001b[35m/datasets/images/2020-10-01/\u001b[0m\u001b[95mcomplete_raster_indexes_without_labels.tif\u001b[0m\n"
      ]
     },
     "metadata": {},
     "output_type": "display_data"
    },
    {
     "name": "stdout",
     "output_type": "stream",
     "text": [
      "2022-07-03 20:32:59 (INFO) RadiometricIndices: Default RAM limit for OTB is 1024 MB\n",
      "2022-07-03 20:32:59 (INFO) RadiometricIndices: GDAL maximum cache size is 1600 MB\n",
      "2022-07-03 20:32:59 (INFO) RadiometricIndices: OTB will use at most 128 threads\n",
      "2022-07-03 20:32:59 (INFO): Loading metadata from official product\n",
      "2022-07-03 20:32:59 (INFO): Estimated memory for full processing: 5758.6MB (avail.: 1024 MB), optimal image partitioning: 6 blocks\n",
      "2022-07-03 20:32:59 (INFO): File ../datasets/images/2020-10-01/complete_raster_indexes_without_labels.tif will be written in 7 blocks of 15860x1237 pixels\n",
      "Writing ../datasets/images/2020-10-01/complete_raster_indexes_without_labels.tif...: 100% [**************************************************] (5s)\n",
      "otbcli_RadiometricIndices -channels.blue 1 -channels.green 2 -channels.red 3   7.26s user 2.62s system 162% cpu 6.082 total\n"
     ]
    },
    {
     "data": {
      "text/html": [
       "<pre style=\"white-space:pre;overflow-x:auto;line-height:normal;font-family:Menlo,'DejaVu Sans Mono',consolas,'Courier New',monospace\">\n",
       "\n",
       "Calculate indexes: <span style=\"color: #008000; text-decoration-color: #008000\">\"['Vegetation:NDVI', 'Vegetation:SAVI']\"</span><span style=\"color: #808000; text-decoration-color: #808000\">...</span>\n",
       "\n",
       "</pre>\n"
      ],
      "text/plain": [
       "\n",
       "\n",
       "Calculate indexes: \u001b[32m\"\u001b[0m\u001b[32m[\u001b[0m\u001b[32m'Vegetation:NDVI', 'Vegetation:SAVI'\u001b[0m\u001b[32m]\u001b[0m\u001b[32m\"\u001b[0m\u001b[33m...\u001b[0m\n",
       "\n"
      ]
     },
     "metadata": {},
     "output_type": "display_data"
    },
    {
     "data": {
      "text/html": [
       "<pre style=\"white-space:pre;overflow-x:auto;line-height:normal;font-family:Menlo,'DejaVu Sans Mono',consolas,'Courier New',monospace\">\n",
       "\n",
       "- In: ..<span style=\"color: #800080; text-decoration-color: #800080\">/datasets/images/2020-11-01/</span><span style=\"color: #ff00ff; text-decoration-color: #ff00ff\">complete_raster.tif</span>\n",
       "- Out: ..<span style=\"color: #800080; text-decoration-color: #800080\">/datasets/images/2020-11-01/</span><span style=\"color: #ff00ff; text-decoration-color: #ff00ff\">complete_raster_indexes_without_labels.tif</span>\n",
       "</pre>\n"
      ],
      "text/plain": [
       "\n",
       "\n",
       "- In: ..\u001b[35m/datasets/images/2020-11-01/\u001b[0m\u001b[95mcomplete_raster.tif\u001b[0m\n",
       "- Out: ..\u001b[35m/datasets/images/2020-11-01/\u001b[0m\u001b[95mcomplete_raster_indexes_without_labels.tif\u001b[0m\n"
      ]
     },
     "metadata": {},
     "output_type": "display_data"
    },
    {
     "name": "stdout",
     "output_type": "stream",
     "text": [
      "2022-07-03 20:33:05 (INFO) RadiometricIndices: Default RAM limit for OTB is 1024 MB\n",
      "2022-07-03 20:33:05 (INFO) RadiometricIndices: GDAL maximum cache size is 1600 MB\n",
      "2022-07-03 20:33:05 (INFO) RadiometricIndices: OTB will use at most 128 threads\n",
      "2022-07-03 20:33:05 (INFO): Loading metadata from official product\n",
      "2022-07-03 20:33:05 (INFO): Estimated memory for full processing: 5758.6MB (avail.: 1024 MB), optimal image partitioning: 6 blocks\n",
      "2022-07-03 20:33:05 (INFO): File ../datasets/images/2020-11-01/complete_raster_indexes_without_labels.tif will be written in 7 blocks of 15860x1237 pixels\n",
      "Writing ../datasets/images/2020-11-01/complete_raster_indexes_without_labels.tif...: 100% [**************************************************] (6s)\n",
      "otbcli_RadiometricIndices -channels.blue 1 -channels.green 2 -channels.red 3   6.86s user 2.69s system 153% cpu 6.220 total\n"
     ]
    },
    {
     "data": {
      "text/html": [
       "<pre style=\"white-space:pre;overflow-x:auto;line-height:normal;font-family:Menlo,'DejaVu Sans Mono',consolas,'Courier New',monospace\">\n",
       "\n",
       "Calculate indexes: <span style=\"color: #008000; text-decoration-color: #008000\">\"['Vegetation:NDVI', 'Vegetation:SAVI']\"</span><span style=\"color: #808000; text-decoration-color: #808000\">...</span>\n",
       "\n",
       "</pre>\n"
      ],
      "text/plain": [
       "\n",
       "\n",
       "Calculate indexes: \u001b[32m\"\u001b[0m\u001b[32m[\u001b[0m\u001b[32m'Vegetation:NDVI', 'Vegetation:SAVI'\u001b[0m\u001b[32m]\u001b[0m\u001b[32m\"\u001b[0m\u001b[33m...\u001b[0m\n",
       "\n"
      ]
     },
     "metadata": {},
     "output_type": "display_data"
    },
    {
     "data": {
      "text/html": [
       "<pre style=\"white-space:pre;overflow-x:auto;line-height:normal;font-family:Menlo,'DejaVu Sans Mono',consolas,'Courier New',monospace\">\n",
       "\n",
       "- In: ..<span style=\"color: #800080; text-decoration-color: #800080\">/datasets/images/2020-12-01/</span><span style=\"color: #ff00ff; text-decoration-color: #ff00ff\">complete_raster.tif</span>\n",
       "- Out: ..<span style=\"color: #800080; text-decoration-color: #800080\">/datasets/images/2020-12-01/</span><span style=\"color: #ff00ff; text-decoration-color: #ff00ff\">complete_raster_indexes_without_labels.tif</span>\n",
       "</pre>\n"
      ],
      "text/plain": [
       "\n",
       "\n",
       "- In: ..\u001b[35m/datasets/images/2020-12-01/\u001b[0m\u001b[95mcomplete_raster.tif\u001b[0m\n",
       "- Out: ..\u001b[35m/datasets/images/2020-12-01/\u001b[0m\u001b[95mcomplete_raster_indexes_without_labels.tif\u001b[0m\n"
      ]
     },
     "metadata": {},
     "output_type": "display_data"
    },
    {
     "name": "stdout",
     "output_type": "stream",
     "text": [
      "2022-07-03 20:33:11 (INFO) RadiometricIndices: Default RAM limit for OTB is 1024 MB\n",
      "2022-07-03 20:33:11 (INFO) RadiometricIndices: GDAL maximum cache size is 1600 MB\n",
      "2022-07-03 20:33:11 (INFO) RadiometricIndices: OTB will use at most 128 threads\n",
      "2022-07-03 20:33:11 (INFO): Loading metadata from official product\n",
      "2022-07-03 20:33:11 (INFO): Estimated memory for full processing: 5758.6MB (avail.: 1024 MB), optimal image partitioning: 6 blocks\n",
      "2022-07-03 20:33:11 (INFO): File ../datasets/images/2020-12-01/complete_raster_indexes_without_labels.tif will be written in 7 blocks of 15860x1237 pixels\n",
      "Writing ../datasets/images/2020-12-01/complete_raster_indexes_without_labels.tif...: 100% [**************************************************] (6s)\n",
      "otbcli_RadiometricIndices -channels.blue 1 -channels.green 2 -channels.red 3   6.71s user 2.66s system 132% cpu 7.052 total\n"
     ]
    },
    {
     "data": {
      "text/html": [
       "<pre style=\"white-space:pre;overflow-x:auto;line-height:normal;font-family:Menlo,'DejaVu Sans Mono',consolas,'Courier New',monospace\">\n",
       "\n",
       "Calculate indexes: <span style=\"color: #008000; text-decoration-color: #008000\">\"['Vegetation:NDVI', 'Vegetation:SAVI']\"</span><span style=\"color: #808000; text-decoration-color: #808000\">...</span>\n",
       "\n",
       "</pre>\n"
      ],
      "text/plain": [
       "\n",
       "\n",
       "Calculate indexes: \u001b[32m\"\u001b[0m\u001b[32m[\u001b[0m\u001b[32m'Vegetation:NDVI', 'Vegetation:SAVI'\u001b[0m\u001b[32m]\u001b[0m\u001b[32m\"\u001b[0m\u001b[33m...\u001b[0m\n",
       "\n"
      ]
     },
     "metadata": {},
     "output_type": "display_data"
    },
    {
     "data": {
      "text/html": [
       "<pre style=\"white-space:pre;overflow-x:auto;line-height:normal;font-family:Menlo,'DejaVu Sans Mono',consolas,'Courier New',monospace\">\n",
       "\n",
       "- In: ..<span style=\"color: #800080; text-decoration-color: #800080\">/datasets/images/2021-01-01/</span><span style=\"color: #ff00ff; text-decoration-color: #ff00ff\">complete_raster.tif</span>\n",
       "- Out: ..<span style=\"color: #800080; text-decoration-color: #800080\">/datasets/images/2021-01-01/</span><span style=\"color: #ff00ff; text-decoration-color: #ff00ff\">complete_raster_indexes_without_labels.tif</span>\n",
       "</pre>\n"
      ],
      "text/plain": [
       "\n",
       "\n",
       "- In: ..\u001b[35m/datasets/images/2021-01-01/\u001b[0m\u001b[95mcomplete_raster.tif\u001b[0m\n",
       "- Out: ..\u001b[35m/datasets/images/2021-01-01/\u001b[0m\u001b[95mcomplete_raster_indexes_without_labels.tif\u001b[0m\n"
      ]
     },
     "metadata": {},
     "output_type": "display_data"
    },
    {
     "name": "stdout",
     "output_type": "stream",
     "text": [
      "2022-07-03 20:33:18 (INFO) RadiometricIndices: Default RAM limit for OTB is 1024 MB\n",
      "2022-07-03 20:33:18 (INFO) RadiometricIndices: GDAL maximum cache size is 1600 MB\n",
      "2022-07-03 20:33:18 (INFO) RadiometricIndices: OTB will use at most 128 threads\n",
      "2022-07-03 20:33:18 (INFO): Loading metadata from official product\n",
      "2022-07-03 20:33:18 (INFO): Estimated memory for full processing: 5758.6MB (avail.: 1024 MB), optimal image partitioning: 6 blocks\n",
      "2022-07-03 20:33:18 (INFO): File ../datasets/images/2021-01-01/complete_raster_indexes_without_labels.tif will be written in 7 blocks of 15860x1237 pixels\n",
      "Writing ../datasets/images/2021-01-01/complete_raster_indexes_without_labels.tif...: 100% [**************************************************] (6s)\n",
      "otbcli_RadiometricIndices -channels.blue 1 -channels.green 2 -channels.red 3   6.42s user 2.54s system 144% cpu 6.219 total\n"
     ]
    },
    {
     "data": {
      "text/html": [
       "<pre style=\"white-space:pre;overflow-x:auto;line-height:normal;font-family:Menlo,'DejaVu Sans Mono',consolas,'Courier New',monospace\">\n",
       "\n",
       "Calculate indexes: <span style=\"color: #008000; text-decoration-color: #008000\">\"['Vegetation:NDVI', 'Vegetation:SAVI']\"</span><span style=\"color: #808000; text-decoration-color: #808000\">...</span>\n",
       "\n",
       "</pre>\n"
      ],
      "text/plain": [
       "\n",
       "\n",
       "Calculate indexes: \u001b[32m\"\u001b[0m\u001b[32m[\u001b[0m\u001b[32m'Vegetation:NDVI', 'Vegetation:SAVI'\u001b[0m\u001b[32m]\u001b[0m\u001b[32m\"\u001b[0m\u001b[33m...\u001b[0m\n",
       "\n"
      ]
     },
     "metadata": {},
     "output_type": "display_data"
    },
    {
     "data": {
      "text/html": [
       "<pre style=\"white-space:pre;overflow-x:auto;line-height:normal;font-family:Menlo,'DejaVu Sans Mono',consolas,'Courier New',monospace\">\n",
       "\n",
       "- In: ..<span style=\"color: #800080; text-decoration-color: #800080\">/datasets/images/2021-02-20/</span><span style=\"color: #ff00ff; text-decoration-color: #ff00ff\">complete_raster.tif</span>\n",
       "- Out: ..<span style=\"color: #800080; text-decoration-color: #800080\">/datasets/images/2021-02-20/</span><span style=\"color: #ff00ff; text-decoration-color: #ff00ff\">complete_raster_indexes_without_labels.tif</span>\n",
       "</pre>\n"
      ],
      "text/plain": [
       "\n",
       "\n",
       "- In: ..\u001b[35m/datasets/images/2021-02-20/\u001b[0m\u001b[95mcomplete_raster.tif\u001b[0m\n",
       "- Out: ..\u001b[35m/datasets/images/2021-02-20/\u001b[0m\u001b[95mcomplete_raster_indexes_without_labels.tif\u001b[0m\n"
      ]
     },
     "metadata": {},
     "output_type": "display_data"
    },
    {
     "name": "stdout",
     "output_type": "stream",
     "text": [
      "2022-07-03 20:33:25 (INFO) RadiometricIndices: Default RAM limit for OTB is 1024 MB\n",
      "2022-07-03 20:33:25 (INFO) RadiometricIndices: GDAL maximum cache size is 1600 MB\n",
      "2022-07-03 20:33:25 (INFO) RadiometricIndices: OTB will use at most 128 threads\n",
      "2022-07-03 20:33:25 (INFO): Loading metadata from official product\n",
      "2022-07-03 20:33:25 (INFO): Estimated memory for full processing: 5758.6MB (avail.: 1024 MB), optimal image partitioning: 6 blocks\n",
      "2022-07-03 20:33:25 (INFO): File ../datasets/images/2021-02-20/complete_raster_indexes_without_labels.tif will be written in 7 blocks of 15860x1237 pixels\n",
      "Writing ../datasets/images/2021-02-20/complete_raster_indexes_without_labels.tif...: 100% [**************************************************] (6s)\n",
      "otbcli_RadiometricIndices -channels.blue 1 -channels.green 2 -channels.red 3   5.59s user 2.67s system 130% cpu 6.322 total\n"
     ]
    },
    {
     "data": {
      "text/html": [
       "<pre style=\"white-space:pre;overflow-x:auto;line-height:normal;font-family:Menlo,'DejaVu Sans Mono',consolas,'Courier New',monospace\">\n",
       "\n",
       "Calculate indexes: <span style=\"color: #008000; text-decoration-color: #008000\">\"['Vegetation:NDVI', 'Vegetation:SAVI']\"</span><span style=\"color: #808000; text-decoration-color: #808000\">...</span>\n",
       "\n",
       "</pre>\n"
      ],
      "text/plain": [
       "\n",
       "\n",
       "Calculate indexes: \u001b[32m\"\u001b[0m\u001b[32m[\u001b[0m\u001b[32m'Vegetation:NDVI', 'Vegetation:SAVI'\u001b[0m\u001b[32m]\u001b[0m\u001b[32m\"\u001b[0m\u001b[33m...\u001b[0m\n",
       "\n"
      ]
     },
     "metadata": {},
     "output_type": "display_data"
    },
    {
     "data": {
      "text/html": [
       "<pre style=\"white-space:pre;overflow-x:auto;line-height:normal;font-family:Menlo,'DejaVu Sans Mono',consolas,'Courier New',monospace\">\n",
       "\n",
       "- In: ..<span style=\"color: #800080; text-decoration-color: #800080\">/datasets/images/2021-03-17/</span><span style=\"color: #ff00ff; text-decoration-color: #ff00ff\">complete_raster.tif</span>\n",
       "- Out: ..<span style=\"color: #800080; text-decoration-color: #800080\">/datasets/images/2021-03-17/</span><span style=\"color: #ff00ff; text-decoration-color: #ff00ff\">complete_raster_indexes_without_labels.tif</span>\n",
       "</pre>\n"
      ],
      "text/plain": [
       "\n",
       "\n",
       "- In: ..\u001b[35m/datasets/images/2021-03-17/\u001b[0m\u001b[95mcomplete_raster.tif\u001b[0m\n",
       "- Out: ..\u001b[35m/datasets/images/2021-03-17/\u001b[0m\u001b[95mcomplete_raster_indexes_without_labels.tif\u001b[0m\n"
      ]
     },
     "metadata": {},
     "output_type": "display_data"
    },
    {
     "name": "stdout",
     "output_type": "stream",
     "text": [
      "2022-07-03 20:33:31 (INFO) RadiometricIndices: Default RAM limit for OTB is 1024 MB\n",
      "2022-07-03 20:33:31 (INFO) RadiometricIndices: GDAL maximum cache size is 1600 MB\n",
      "2022-07-03 20:33:31 (INFO) RadiometricIndices: OTB will use at most 128 threads\n",
      "2022-07-03 20:33:31 (INFO): Loading metadata from official product\n",
      "2022-07-03 20:33:31 (INFO): Estimated memory for full processing: 5758.6MB (avail.: 1024 MB), optimal image partitioning: 6 blocks\n",
      "2022-07-03 20:33:31 (INFO): File ../datasets/images/2021-03-17/complete_raster_indexes_without_labels.tif will be written in 7 blocks of 15860x1237 pixels\n",
      "Writing ../datasets/images/2021-03-17/complete_raster_indexes_without_labels.tif...: 100% [**************************************************] (6s)\n",
      "otbcli_RadiometricIndices -channels.blue 1 -channels.green 2 -channels.red 3   6.97s user 2.83s system 155% cpu 6.288 total\n"
     ]
    }
   ],
   "source": [
    "for date in DATES:\n",
    "    compute_index(\n",
    "        raster_paths = [raster_date_path(date, 'complete_raster')],\n",
    "        indexes      = BEST_INDEXES,\n",
    "        out_postfix  = 'indexes_without_labels',\n",
    "        blue_band    = 1,\n",
    "        green_band   = 2,\n",
    "        red_band     = 3,\n",
    "        nir_band     = 7,\n",
    "        verbose      = 1\n",
    "    )   "
   ]
  },
  {
   "cell_type": "markdown",
   "id": "391aa1be-288c-4e7f-988b-535a946de520",
   "metadata": {},
   "source": [
    "2. Hacemos un join de todas las columnas enn un unico file, deonde tenemos pixesl coli fulas y toda las coolumnas del cada campaña."
   ]
  },
  {
   "cell_type": "code",
   "execution_count": 68,
   "id": "6bd67007-e439-4dc2-8462-1a4a8d050144",
   "metadata": {},
   "outputs": [
    {
     "data": {
      "text/html": [
       "<pre style=\"white-space:pre;overflow-x:auto;line-height:normal;font-family:Menlo,'DejaVu Sans Mono',consolas,'Courier New',monospace\">\n",
       "\n",
       "Join rasters<span style=\"color: #808000; text-decoration-color: #808000\">...</span>\n",
       "\n",
       "</pre>\n"
      ],
      "text/plain": [
       "\n",
       "\n",
       "Join rasters\u001b[33m...\u001b[0m\n",
       "\n"
      ]
     },
     "metadata": {},
     "output_type": "display_data"
    },
    {
     "data": {
      "text/html": [
       "<pre style=\"white-space:pre;overflow-x:auto;line-height:normal;font-family:Menlo,'DejaVu Sans Mono',consolas,'Courier New',monospace\">- Input Rasters: ..<span style=\"color: #800080; text-decoration-color: #800080\">/datasets/images/2020-10-01/</span><span style=\"color: #ff00ff; text-decoration-color: #ff00ff\">complete_raster_indexes_without_labels.tif</span> \n",
       "..<span style=\"color: #800080; text-decoration-color: #800080\">/datasets/images/2020-11-01/</span><span style=\"color: #ff00ff; text-decoration-color: #ff00ff\">complete_raster_indexes_without_labels.tif</span> \n",
       "..<span style=\"color: #800080; text-decoration-color: #800080\">/datasets/images/2020-12-01/</span><span style=\"color: #ff00ff; text-decoration-color: #ff00ff\">complete_raster_indexes_without_labels.tif</span> \n",
       "..<span style=\"color: #800080; text-decoration-color: #800080\">/datasets/images/2021-01-01/</span><span style=\"color: #ff00ff; text-decoration-color: #ff00ff\">complete_raster_indexes_without_labels.tif</span> \n",
       "..<span style=\"color: #800080; text-decoration-color: #800080\">/datasets/images/2021-02-20/</span><span style=\"color: #ff00ff; text-decoration-color: #ff00ff\">complete_raster_indexes_without_labels.tif</span> \n",
       "..<span style=\"color: #800080; text-decoration-color: #800080\">/datasets/images/2021-03-17/</span><span style=\"color: #ff00ff; text-decoration-color: #ff00ff\">complete_raster_indexes_without_labels.tif</span>\n",
       "</pre>\n"
      ],
      "text/plain": [
       "- Input Rasters: ..\u001b[35m/datasets/images/2020-10-01/\u001b[0m\u001b[95mcomplete_raster_indexes_without_labels.tif\u001b[0m \n",
       "..\u001b[35m/datasets/images/2020-11-01/\u001b[0m\u001b[95mcomplete_raster_indexes_without_labels.tif\u001b[0m \n",
       "..\u001b[35m/datasets/images/2020-12-01/\u001b[0m\u001b[95mcomplete_raster_indexes_without_labels.tif\u001b[0m \n",
       "..\u001b[35m/datasets/images/2021-01-01/\u001b[0m\u001b[95mcomplete_raster_indexes_without_labels.tif\u001b[0m \n",
       "..\u001b[35m/datasets/images/2021-02-20/\u001b[0m\u001b[95mcomplete_raster_indexes_without_labels.tif\u001b[0m \n",
       "..\u001b[35m/datasets/images/2021-03-17/\u001b[0m\u001b[95mcomplete_raster_indexes_without_labels.tif\u001b[0m\n"
      ]
     },
     "metadata": {},
     "output_type": "display_data"
    },
    {
     "data": {
      "text/html": [
       "<pre style=\"white-space:pre;overflow-x:auto;line-height:normal;font-family:Menlo,'DejaVu Sans Mono',consolas,'Courier New',monospace\">- Output Raster: . . <span style=\"color: #800080; text-decoration-color: #800080\">/</span> r e s u l t s <span style=\"color: #800080; text-decoration-color: #800080\">/</span> c o m p l e t e _ r a s t e r s _ j o i n _ w i t h o \n",
       "u t _ l a b e l s\n",
       "</pre>\n"
      ],
      "text/plain": [
       "- Output Raster: . . \u001b[35m/\u001b[0m r e s u l t s \u001b[35m/\u001b[0m c o m p l e t e _ r a s t e r s _ j o i n _ w i t h o \n",
       "u t _ l a b e l s\n"
      ]
     },
     "metadata": {},
     "output_type": "display_data"
    },
    {
     "name": "stdout",
     "output_type": "stream",
     "text": [
      "2022-07-03 20:35:12 (INFO) ConcatenateImages: Default RAM limit for OTB is 1024 MB\n",
      "2022-07-03 20:35:12 (INFO) ConcatenateImages: GDAL maximum cache size is 1600 MB\n",
      "2022-07-03 20:35:12 (INFO) ConcatenateImages: OTB will use at most 128 threads\n",
      "2022-07-03 20:35:12 (INFO): Loading metadata from official product\n",
      "2022-07-03 20:35:12 (INFO): Loading metadata from official product\n",
      "2022-07-03 20:35:12 (INFO): Loading metadata from official product\n",
      "2022-07-03 20:35:12 (INFO): Loading metadata from official product\n",
      "2022-07-03 20:35:12 (INFO): Loading metadata from official product\n",
      "2022-07-03 20:35:12 (INFO): Loading metadata from official product\n",
      "2022-07-03 20:35:12 (WARNING) ConcatenateImages: Check filename: no extension detected, using TIF as default.\n",
      "2022-07-03 20:35:12 (INFO): Estimated memory for full processing: 25128.3MB (avail.: 1024 MB), optimal image partitioning: 25 blocks\n",
      "2022-07-03 20:35:12 (INFO): File ../results/complete_rasters_join_without_labels.tif will be written in 26 blocks of 15860x333 pixels\n",
      "Writing ../results/complete_rasters_join_without_labels.tif...: 100% [**************************************************] (14s)\n",
      "otbcli_ConcatenateImages -il       -out   12.05s user 5.66s system 120% cpu 14.683 total\n"
     ]
    }
   ],
   "source": [
    "join_rasters(\n",
    "    raster_paths = [raster_date_path(date, 'complete_raster_indexes_without_labels') for date in DATES],\n",
    "    out_file     = result_path('complete_rasters_join_without_labels'),\n",
    "    verbose      = 1\n",
    ")"
   ]
  },
  {
   "cell_type": "markdown",
   "id": "b0b8710b-3616-4de5-aed3-9b529eb23d3f",
   "metadata": {},
   "source": [
    "3. Ya armado el file con todos los pixels del dataset y preprocesados para que contenga los mismo indices calculado en el entrenamiento, predecimos el tipo del cultivo de cada pixel."
   ]
  },
  {
   "cell_type": "code",
   "execution_count": 71,
   "id": "108ecfa8-d452-4bd0-968a-d33e4830dcdc",
   "metadata": {},
   "outputs": [
    {
     "name": "stdout",
     "output_type": "stream",
     "text": [
      "2022-07-03 20:36:49 (INFO) ImageClassifier: Default RAM limit for OTB is 1024 MB\n",
      "2022-07-03 20:36:49 (INFO) ImageClassifier: GDAL maximum cache size is 1600 MB\n",
      "2022-07-03 20:36:49 (INFO) ImageClassifier: OTB will use at most 128 threads\n",
      "2022-07-03 20:36:49 (INFO): Loading metadata from official product\n",
      "2022-07-03 20:36:49 (INFO) ImageClassifier: Loading model\n",
      "2022-07-03 20:36:49 (INFO) ImageClassifier: Model loaded\n",
      "2022-07-03 20:36:49 (INFO) ImageClassifier: Input image normalization activated.\n",
      "2022-07-03 20:36:49 (INFO) ImageClassifier: mean used: [0.306923, 0.198543, 0.330888, 0.211161, 0.30659, 0.199373, 0.391082, 0.183084, 0.414047, 0.163147, 0.381713, 0.166763]\n",
      "2022-07-03 20:36:49 (INFO) ImageClassifier: standard deviation used: [0.128868, 0.0613974, 0.117285, 0.0615362, 0.113647, 0.0596905, 0.145405, 0.0510545, 0.154498, 0.047732, 0.131504, 0.054056]\n",
      "2022-07-03 20:36:49 (INFO): Estimated memory for full processing: 15443.7MB (avail.: 1024 MB), optimal image partitioning: 16 blocks\n",
      "2022-07-03 20:36:49 (INFO): File ../results/predictions.tif will be written in 17 blocks of 15860x510 pixels\n",
      "2022-07-03 20:36:49 (INFO): Estimated memory for full processing: 15574.6MB (avail.: 1024 MB), optimal image partitioning: 16 blocks\n",
      "Writing 1 output images ...: 100% [**************************************************] (27s)\n"
     ]
    }
   ],
   "source": [
    "!time otbcli_ImageClassifier \\\n",
    "    -in     {result_path('complete_rasters_join_without_labels.tif')}  \\\n",
    "    -imstat {result_path('complete_rasters_join_norm_raster_stat.xml')} \\\n",
    "    -model  {result_path('complete_rasters_join_rf_model.txt')} \\\n",
    "    -out    {result_path('predictions.tif')}"
   ]
  },
  {
   "cell_type": "markdown",
   "id": "2e269a0c-c864-4237-b6c5-4e84aec094dc",
   "metadata": {},
   "source": [
    "4. Revsamos el resutado y tenemos un uno file con una unica banda, la cual tiene los tags predichos."
   ]
  },
  {
   "cell_type": "code",
   "execution_count": 73,
   "id": "4de8c0db-b032-4e59-a8e2-565db845ee02",
   "metadata": {},
   "outputs": [
    {
     "name": "stdout",
     "output_type": "stream",
     "text": [
      "131M\t../results/predictions.tif\n"
     ]
    }
   ],
   "source": [
    "!du -h {result_path('predictions.tif')}"
   ]
  },
  {
   "cell_type": "code",
   "execution_count": 74,
   "id": "88e3fbc7-fec5-4244-b516-fc11e9315cda",
   "metadata": {},
   "outputs": [
    {
     "name": "stdout",
     "output_type": "stream",
     "text": [
      "Driver: GTiff/GeoTIFF\n",
      "Files: ../results/predictions.tif\n",
      "Size is 15860, 8653\n",
      "Origin = (-65.117617304426346,-33.815102577054326)\n",
      "Pixel Size = (0.000179663056824,-0.000179663056824)\n",
      "Metadata:\n",
      "  DataType=9\n",
      "  METADATATYPE=OTB\n",
      "  OTB_VERSION=8.0.1\n",
      "  TileHintX=15860\n",
      "  TileHintY=1\n",
      "Image Structure Metadata:\n",
      "  INTERLEAVE=BAND\n",
      "Corner Coordinates:\n",
      "Upper Left  ( -65.1176173, -33.8151026) \n",
      "Lower Left  ( -65.1176173, -35.3697270) \n",
      "Upper Right ( -62.2681612, -33.8151026) \n",
      "Lower Right ( -62.2681612, -35.3697270) \n",
      "Center      ( -63.6928893, -34.5924148) \n",
      "Band 1 Block=15860x1 Type=Byte, ColorInterp=Gray\n"
     ]
    }
   ],
   "source": [
    "!gdalinfo c"
   ]
  },
  {
   "cell_type": "markdown",
   "id": "35868c6f-ed89-43ab-a120-e2cc0640edf1",
   "metadata": {},
   "source": [
    "5. Reproyectamos la mascara para alinearla."
   ]
  },
  {
   "cell_type": "code",
   "execution_count": 56,
   "id": "f6a86612-f94a-476a-ad80-cf0f7557a097",
   "metadata": {},
   "outputs": [
    {
     "name": "stdout",
     "output_type": "stream",
     "text": [
      "2022-07-04 14:34:54 (INFO): Loading metadata from official product\n",
      "2022-07-04 14:34:54 (INFO): Loading metadata from official product\n",
      "2022-07-04 14:34:54 (INFO) Superimpose: Default RAM limit for OTB is 1024 MB\n",
      "2022-07-04 14:34:54 (INFO) Superimpose: GDAL maximum cache size is 1600 MB\n",
      "2022-07-04 14:34:54 (INFO) Superimpose: OTB will use at most 128 threads\n",
      "2022-07-04 14:34:54 (INFO) Superimpose: Elevation management: setting default height above ellipsoid to 0 meters\n",
      "2022-07-04 14:34:54 (WARNING): The SensorTransform factory could not find a compatible Sensor Transform\n",
      "2022-07-04 14:34:54 (INFO): Estimated memory for full processing: 1799.55MB (avail.: 1024 MB), optimal image partitioning: 2 blocks\n",
      "2022-07-04 14:34:54 (INFO): File ../datasets/images/mask_agri_aoi_aligned.tif will be written in 3 blocks of 15860x2885 pixels\n",
      "Writing ../datasets/images/mask_agri_aoi_aligned.tif...: 100% [**************************************************] (2s)\n"
     ]
    }
   ],
   "source": [
    "!time otbcli_Superimpose \\\n",
    "    -inr {result_path('predictions.tif')} \\\n",
    "    -inm {raster_path('mask_agri_aoi')} \\\n",
    "    -out {raster_path('mask_agri_aoi_aligned')}"
   ]
  },
  {
   "cell_type": "markdown",
   "id": "aaa88b16-ebcb-4285-bab9-0d02be64f79a",
   "metadata": {},
   "source": [
    "6. Aplicamos la mascara a lapredicción."
   ]
  },
  {
   "cell_type": "code",
   "execution_count": 57,
   "id": "2bf32feb-0231-4292-b5a4-5c6d9460e38a",
   "metadata": {},
   "outputs": [
    {
     "name": "stdout",
     "output_type": "stream",
     "text": [
      "0.. 0.. 0.. 0.. 0.. 0.. 0.. 0.. 0.. 0.. 0.. 0.. 0.. 0.. 0.. 0.. 0.. 0.. 0.. 0.. 0.. 0.. 0.. 0.. 0.. 0.. 0.. 0.. 0.. 0.. 0.. 0.. 0.. 0.. 0.. 0.. 0.. 0.. 0.. 0.. 0.. 0.. 0.. 0.. 0.. 0.. 0.. 0.. 0.. 0.. 0.. 0.. 0.. 0.. 0.. 0.. 0.. 0.. 0.. 0.. 0.. 0.. 0.. 0.. 0.. 0.. 0.. 0.. 0.. 0.. 0.. 0.. 0.. 0.. 0.. 0.. 0.. 0.. 0.. 0.. 0.. 0.. 0.. 0.. 0.. 0.. 0.. 1.. 1.. 1.. 1.. 1.. 1.. 1.. 1.. 1.. 1.. 1.. 1.. 1.. 1.. 1.. 1.. 1.. 1.. 1.. 1.. 1.. 1.. 1.. 1.. 1.. 1.. 1.. 1.. 1.. 1.. 1.. 1.. 1.. 1.. 1.. 1.. 1.. 1.. 1.. 1.. 1.. 1.. 1.. 1.. 1.. 1.. 1.. 1.. 1.. 1.. 1.. 1.. 1.. 1.. 1.. 1.. 1.. 1.. 1.. 1.. 1.. 1.. 1.. 1.. 1.. 1.. 1.. 1.. 1.. 1.. 1.. 1.. 1.. 1.. 1.. 1.. 1.. 1.. 1.. 1.. 1.. 1.. 1.. 1.. 1.. 1.. 1.. 2.. 2.. 2.. 2.. 2.. 2.. 2.. 2.. 2.. 2.. 2.. 2.. 2.. 2.. 2.. 2.. 2.. 2.. 2.. 2.. 2.. 2.. 2.. 2.. 2.. 2.. 2.. 2.. 2.. 2.. 2.. 2.. 2.. 2.. 2.. 2.. 2.. 2.. 2.. 2.. 2.. 2.. 2.. 2.. 2.. 2.. 2.. 2.. 2.. 2.. 2.. 2.. 2.. 2.. 2.. 2.. 2.. 2.. 2.. 2.. 2.. 2.. 2.. 2.. 2.. 2.. 2.. 2.. 2.. 2.. 2.. 2.. 2.. 2.. 2.. 2.. 2.. 2.. 2.. 2.. 2.. 2.. 2.. 2.. 2.. 2.. 3.. 3.. 3.. 3.. 3.. 3.. 3.. 3.. 3.. 3.. 3.. 3.. 3.. 3.. 3.. 3.. 3.. 3.. 3.. 3.. 3.. 3.. 3.. 3.. 3.. 3.. 3.. 3.. 3.. 3.. 3.. 3.. 3.. 3.. 3.. 3.. 3.. 3.. 3.. 3.. 3.. 3.. 3.. 3.. 3.. 3.. 3.. 3.. 3.. 3.. 3.. 3.. 3.. 3.. 3.. 3.. 3.. 3.. 3.. 3.. 3.. 3.. 3.. 3.. 3.. 3.. 3.. 3.. 3.. 3.. 3.. 3.. 3.. 3.. 3.. 3.. 3.. 3.. 3.. 3.. 3.. 3.. 3.. 3.. 3.. 3.. 3.. 4.. 4.. 4.. 4.. 4.. 4.. 4.. 4.. 4.. 4.. 4.. 4.. 4.. 4.. 4.. 4.. 4.. 4.. 4.. 4.. 4.. 4.. 4.. 4.. 4.. 4.. 4.. 4.. 4.. 4.. 4.. 4.. 4.. 4.. 4.. 4.. 4.. 4.. 4.. 4.. 4.. 4.. 4.. 4.. 4.. 4.. 4.. 4.. 4.. 4.. 4.. 4.. 4.. 4.. 4.. 4.. 4.. 4.. 4.. 4.. 4.. 4.. 4.. 4.. 4.. 4.. 4.. 4.. 4.. 4.. 4.. 4.. 4.. 4.. 4.. 4.. 4.. 4.. 4.. 4.. 4.. 4.. 4.. 4.. 4.. 4.. 5.. 5.. 5.. 5.. 5.. 5.. 5.. 5.. 5.. 5.. 5.. 5.. 5.. 5.. 5.. 5.. 5.. 5.. 5.. 5.. 5.. 5.. 5.. 5.. 5.. 5.. 5.. 5.. 5.. 5.. 5.. 5.. 5.. 5.. 5.. 5.. 5.. 5.. 5.. 5.. 5.. 5.. 5.. 5.. 5.. 5.. 5.. 5.. 5.. 5.. 5.. 5.. 5.. 5.. 5.. 5.. 5.. 5.. 5.. 5.. 5.. 5.. 5.. 5.. 5.. 5.. 5.. 5.. 5.. 5.. 5.. 5.. 5.. 5.. 5.. 5.. 5.. 5.. 5.. 5.. 5.. 5.. 5.. 5.. 5.. 5.. 5.. 6.. 6.. 6.. 6.. 6.. 6.. 6.. 6.. 6.. 6.. 6.. 6.. 6.. 6.. 6.. 6.. 6.. 6.. 6.. 6.. 6.. 6.. 6.. 6.. 6.. 6.. 6.. 6.. 6.. 6.. 6.. 6.. 6.. 6.. 6.. 6.. 6.. 6.. 6.. 6.. 6.. 6.. 6.. 6.. 6.. 6.. 6.. 6.. 6.. 6.. 6.. 6.. 6.. 6.. 6.. 6.. 6.. 6.. 6.. 6.. 6.. 6.. 6.. 6.. 6.. 6.. 6.. 6.. 6.. 6.. 6.. 6.. 6.. 6.. 6.. 6.. 6.. 6.. 6.. 6.. 6.. 6.. 6.. 6.. 6.. 6.. 7.. 7.. 7.. 7.. 7.. 7.. 7.. 7.. 7.. 7.. 7.. 7.. 7.. 7.. 7.. 7.. 7.. 7.. 7.. 7.. 7.. 7.. 7.. 7.. 7.. 7.. 7.. 7.. 7.. 7.. 7.. 7.. 7.. 7.. 7.. 7.. 7.. 7.. 7.. 7.. 7.. 7.. 7.. 7.. 7.. 7.. 7.. 7.. 7.. 7.. 7.. 7.. 7.. 7.. 7.. 7.. 7.. 7.. 7.. 7.. 7.. 7.. 7.. 7.. 7.. 7.. 7.. 7.. 7.. 7.. 7.. 7.. 7.. 7.. 7.. 7.. 7.. 7.. 7.. 7.. 7.. 7.. 7.. 7.. 7.. 7.. 7.. 8.. 8.. 8.. 8.. 8.. 8.. 8.. 8.. 8.. 8.. 8.. 8.. 8.. 8.. 8.. 8.. 8.. 8.. 8.. 8.. 8.. 8.. 8.. 8.. 8.. 8.. 8.. 8.. 8.. 8.. 8.. 8.. 8.. 8.. 8.. 8.. 8.. 8.. 8.. 8.. 8.. 8.. 8.. 8.. 8.. 8.. 8.. 8.. 8.. 8.. 8.. 8.. 8.. 8.. 8.. 8.. 8.. 8.. 8.. 8.. 8.. 8.. 8.. 8.. 8.. 8.. 8.. 8.. 8.. 8.. 8.. 8.. 8.. 8.. 8.. 8.. 8.. 8.. 8.. 8.. 8.. 8.. 8.. 8.. 8.. 8.. 9.. 9.. 9.. 9.. 9.. 9.. 9.. 9.. 9.. 9.. 9.. 9.. 9.. 9.. 9.. 9.. 9.. 9.. 9.. 9.. 9.. 9.. 9.. 9.. 9.. 9.. 9.. 9.. 9.. 9.. 9.. 9.. 9.. 9.. 9.. 9.. 9.. 9.. 9.. 9.. 9.. 9.. 9.. 9.. 9.. 9.. 9.. 9.. 9.. 9.. 9.. 9.. 9.. 9.. 9.. 9.. 9.. 9.. 9.. 9.. 9.. 9.. 9.. 9.. 9.. 9.. 9.. 9.. 9.. 9.. 9.. 9.. 9.. 9.. 9.. 9.. 9.. 9.. 9.. 9.. 9.. 9.. 9.. 9.. 9.. 9.. 9.. 10.. 10.. 10.. 10.. 10.. 10.. 10.. 10.. 10.. 10.. 10.. 10.. 10.. 10.. 10.. 10.. 10.. 10.. 10.. 10.. 10.. 10.. 10.. 10.. 10.. 10.. 10.. 10.. 10.. 10.. 10.. 10.. 10.. 10.. 10.. 10.. 10.. 10.. 10.. 10.. 10.. 10.. 10.. 10.. 10.. 10.. 10.. 10.. 10.. 10.. 10.. 10.. 10.. 10.. 10.. 10.. 10.. 10.. 10.. 10.. 10.. 10.. 10.. 10.. 10.. 10.. 10.. 10.. 10.. 10.. 10.. 10.. 10.. 10.. 10.. 10.. 10.. 10.. 10.. 10.. 10.. 10.. 10.. 10.. 10.. 10.. 11.. 11.. 11.. 11.. 11.. 11.. 11.. 11.. 11.. 11.. 11.. 11.. 11.. 11.. 11.. 11.. 11.. 11.. 11.. 11.. 11.. 11.. 11.. 11.. 11.. 11.. 11.. 11.. 11.. 11.. 11.. 11.. 11.. 11.. 11.. 11.. 11.. 11.. 11.. 11.. 11.. 11.. 11.. 11.. 11.. 11.. 11.. 11.. 11.. 11.. 11.. 11.. 11.. 11.. 11.. 11.. 11.. 11.. 11.. 11.. 11.. 11.. 11.. 11.. 11.. 11.. 11.. 11.. 11.. 11.. 11.. 11.. 11.. 11.. 11.. 11.. 11.. 11.. 11.. 11.. 11.. 11.. 11.. 11.. 11.. 11.. 11.. 12.. 12.. 12.. 12.. 12.. 12.. 12.. 12.. 12.. 12.. 12.. 12.. 12.. 12.. 12.. 12.. 12.. 12.. 12.. 12.. 12.. 12.. 12.. 12.. 12.. 12.. 12.. 12.. 12.. 12.. 12.. 12.. 12.. 12.. 12.. 12.. 12.. 12.. 12.. 12.. 12.. 12.. 12.. 12.. 12.. 12.. 12.. 12.. 12.. 12.. 12.. 12.. 12.. 12.. 12.. 12.. 12.. 12.. 12.. 12.. 12.. 12.. 12.. 12.. 12.. 12.. 12.. 12.. 12.. 12.. 12.. 12.. 12.. 12.. 12.. 12.. 12.. 12.. 12.. 12.. 12.. 12.. 12.. 12.. 12.. 12.. 13.. 13.. 13.. 13.. 13.. 13.. 13.. 13.. 13.. 13.. 13.. 13.. 13.. 13.. 13.. 13.. 13.. 13.. 13.. 13.. 13.. 13.. 13.. 13.. 13.. 13.. 13.. 13.. 13.. 13.. 13.. 13.. 13.. 13.. 13.. 13.. 13.. 13.. 13.. 13.. 13.. 13.. 13.. 13.. 13.. 13.. 13.. 13.. 13.. 13.. 13.. 13.. 13.. 13.. 13.. 13.. 13.. 13.. 13.. 13.. 13.. 13.. 13.. 13.. 13.. 13.. 13.. 13.. 13.. 13.. 13.. 13.. 13.. 13.. 13.. 13.. 13.. 13.. 13.. 13.. 13.. 13.. 13.. 13.. 13.. 13.. 13.. 14.. 14.. 14.. 14.. 14.. 14.. 14.. 14.. 14.. 14.. 14.. 14.. 14.. 14.. 14.. 14.. 14.. 14.. 14.. 14.. 14.. 14.. 14.. 14.. 14.. 14.. 14.. 14.. 14.. 14.. 14.. 14.. 14.. 14.. 14.. 14.. 14.. 14.. 14.. 14.. 14.. 14.. 14.. 14.. 14.. 14.. 14.. 14.. 14.. 14.. 14.. 14.. 14.. 14.. 14.. 14.. 14.. 14.. 14.. 14.. 14.. 14.. 14.. 14.. 14.. 14.. 14.. 14.. 14.. 14.. 14.. 14.. 14.. 14.. 14.. 14.. 14.. 14.. 14.. 14.. 14.. 14.. 14.. 14.. 14.. 14.. 15.. 15.. 15.. 15.. 15.. 15.. 15.. 15.. 15.. 15.. 15.. 15.. 15.. 15.. 15.. 15.. 15.. 15.. 15.. 15.. 15.. 15.. 15.. 15.. 15.. 15.. 15.. 15.. 15.. 15.. 15.. 15.. 15.. 15.. 15.. 15.. 15.. 15.. 15.. 15.. 15.. 15.. 15.. 15.. 15.. 15.. 15.. 15.. 15.. 15.. 15.. 15.. 15.. 15.. 15.. 15.. 15.. 15.. 15.. 15.. 15.. 15.. 15.. 15.. 15.. 15.. 15.. 15.. 15.. 15.. 15.. 15.. 15.. 15.. 15.. 15.. 15.. 15.. 15.. 15.. 15.. 15.. 15.. 15.. 15.. 15.. 15.. 16.. 16.. 16.. 16.. 16.. 16.. 16.. 16.. 16.. 16.. 16.. 16.. 16.. 16.. 16.. 16.. 16.. 16.. 16.. 16.. 16.. 16.. 16.. 16.. 16.. 16.. 16.. 16.. 16.. 16.. 16.. 16.. 16.. 16.. 16.. 16.. 16.. 16.. 16.. 16.. 16.. 16.. 16.. 16.. 16.. 16.. 16.. 16.. 16.. 16.. 16.. 16.. 16.. 16.. 16.. 16.. 16.. 16.. 16.. 16.. 16.. 16.. 16.. 16.. 16.. 16.. 16.. 16.. 16.. 16.. 16.. 16.. 16.. 16.. 16.. 16.. 16.. 16.. 16.. 16.. 16.. 16.. 16.. 16.. 16.. 16.. 16.. 17.. 17.. 17.. 17.. 17.. 17.. 17.. 17.. 17.. 17.. 17.. 17.. 17.. 17.. 17.. 17.. 17.. 17.. 17.. 17.. 17.. 17.. 17.. 17.. 17.. 17.. 17.. 17.. 17.. 17.. 17.. 17.. 17.. 17.. 17.. 17.. 17.. 17.. 17.. 17.. 17.. 17.. 17.. 17.. 17.. 17.. 17.. 17.. 17.. 17.. 17.. 17.. 17.. 17.. 17.. 17.. 17.. 17.. 17.. 17.. 17.. 17.. 17.. 17.. 17.. 17.. 17.. 17.. 17.. 17.. 17.. 17.. 17.. 17.. 17.. 17.. 17.. 17.. 17.. 17.. 17.. 17.. 17.. 17.. 17.. 17.. 18.. 18.. 18.. 18.. 18.. 18.. 18.. 18.. 18.. 18.. 18.. 18.. 18.. 18.. 18.. 18.. 18.. 18.. 18.. 18.. 18.. 18.. 18.. 18.. 18.. 18.. 18.. 18.. 18.. 18.. 18.. 18.. 18.. 18.. 18.. 18.. 18.. 18.. 18.. 18.. 18.. 18.. 18.. 18.. 18.. 18.. 18.. 18.. 18.. 18.. 18.. 18.. 18.. 18.. 18.. 18.. 18.. 18.. 18.. 18.. 18.. 18.. 18.. 18.. 18.. 18.. 18.. 18.. 18.. 18.. 18.. 18.. 18.. 18.. 18.. 18.. 18.. 18.. 18.. 18.. 18.. 18.. 18.. 18.. 18.. 18.. 18.. 19.. 19.. 19.. 19.. 19.. 19.. 19.. 19.. 19.. 19.. 19.. 19.. 19.. 19.. 19.. 19.. 19.. 19.. 19.. 19.. 19.. 19.. 19.. 19.. 19.. 19.. 19.. 19.. 19.. 19.. 19.. 19.. 19.. 19.. 19.. 19.. 19.. 19.. 19.. 19.. 19.. 19.. 19.. 19.. 19.. 19.. 19.. 19.. 19.. 19.. 19.. 19.. 19.. 19.. 19.. 19.. 19.. 19.. 19.. 19.. 19.. 19.. 19.. 19.. 19.. 19.. 19.. 19.. 19.. 19.. 19.. 19.. 19.. 19.. 19.. 19.. 19.. 19.. 19.. 19.. 19.. 19.. 19.. 19.. 19.. 19.. 20.. 20.. 20.. 20.. 20.. 20.. 20.. 20.. 20.. 20.. 20.. 20.. 20.. 20.. 20.. 20.. 20.. 20.. 20.. 20.. 20.. 20.. 20.. 20.. 20.. 20.. 20.. 20.. 20.. 20.. 20.. 20.. 20.. 20.. 20.. 20.. 20.. 20.. 20.. 20.. 20.. 20.. 20.. 20.. 20.. 20.. 20.. 20.. 20.. 20.. 20.. 20.. 20.. 20.. 20.. 20.. 20.. 20.. 20.. 20.. 20.. 20.. 20.. 20.. 20.. 20.. 20.. 20.. 20.. 20.. 20.. 20.. 20.. 20.. 20.. 20.. 20.. 20.. 20.. 20.. 20.. 20.. 20.. 20.. 20.. 20.. 20.. 21.. 21.. 21.. 21.. 21.. 21.. 21.. 21.. 21.. 21.. 21.. 21.. 21.. 21.. 21.. 21.. 21.. 21.. 21.. 21.. 21.. 21.. 21.. 21.. 21.. 21.. 21.. 21.. 21.. 21.. 21.. 21.. 21.. 21.. 21.. 21.. 21.. 21.. 21.. 21.. 21.. 21.. 21.. 21.. 21.. 21.. 21.. 21.. 21.. 21.. 21.. 21.. 21.. 21.. 21.. 21.. 21.. 21.. 21.. 21.. 21.. 21.. 21.. 21.. 21.. 21.. 21.. 21.. 21.. 21.. 21.. 21.. 21.. 21.. 21.. 21.. 21.. 21.. 21.. 21.. 21.. 21.. 21.. 21.. 21.. 21.. 22.. 22.. 22.. 22.. 22.. 22.. 22.. 22.. 22.. 22.. 22.. 22.. 22.. 22.. 22.. 22.. 22.. 22.. 22.. 22.. 22.. 22.. 22.. 22.. 22.. 22.. 22.. 22.. 22.. 22.. 22.. 22.. 22.. 22.. 22.. 22.. 22.. 22.. 22.. 22.. 22.. 22.. 22.. 22.. 22.. 22.. 22.. 22.. 22.. 22.. 22.. 22.. 22.. 22.. 22.. 22.. 22.. 22.. 22.. 22.. 22.. 22.. 22.. 22.. 22.. 22.. 22.. 22.. 22.. 22.. 22.. 22.. 22.. 22.. 22.. 22.. 22.. 22.. 22.. 22.. 22.. 22.. 22.. 22.. 22.. 22.. 22.. 23.. 23.. 23.. 23.. 23.. 23.. 23.. 23.. 23.. 23.. 23.. 23.. 23.. 23.. 23.. 23.. 23.. 23.. 23.. 23.. 23.. 23.. 23.. 23.. 23.. 23.. 23.. 23.. 23.. 23.. 23.. 23.. 23.. 23.. 23.. 23.. 23.. 23.. 23.. 23.. 23.. 23.. 23.. 23.. 23.. 23.. 23.. 23.. 23.. 23.. 23.. 23.. 23.. 23.. 23.. 23.. 23.. 23.. 23.. 23.. 23.. 23.. 23.. 23.. 23.. 23.. 23.. 23.. 23.. 23.. 23.. 23.. 23.. 23.. 23.. 23.. 23.. 23.. 23.. 23.. 23.. 23.. 23.. 23.. 23.. 23.. 24.. 24.. 24.. 24.. 24.. 24.. 24.. 24.. 24.. 24.. 24.. 24.. 24.. 24.. 24.. 24.. 24.. 24.. 24.. 24.. 24.. 24.. 24.. 24.. 24.. 24.. 24.. 24.. 24.. 24.. 24.. 24.. 24.. 24.. 24.. 24.. 24.. 24.. 24.. 24.. 24.. 24.. 24.. 24.. 24.. 24.. 24.. 24.. 24.. 24.. 24.. 24.. 24.. 24.. 24.. 24.. 24.. 24.. 24.. 24.. 24.. 24.. 24.. 24.. 24.. 24.. 24.. 24.. 24.. 24.. 24.. 24.. 24.. 24.. 24.. 24.. 24.. 24.. 24.. 24.. 24.. 24.. 24.. 24.. 24.. 24.. 24.. 25.. 25.. 25.. 25.. 25.. 25.. 25.. 25.. 25.. 25.. 25.. 25.. 25.. 25.. 25.. 25.. 25.. 25.. 25.. 25.. 25.. 25.. 25.. 25.. 25.. 25.. 25.. 25.. 25.. 25.. 25.. 25.. 25.. 25.. 25.. 25.. 25.. 25.. 25.. 25.. 25.. 25.. 25.. 25.. 25.. 25.. 25.. 25.. 25.. 25.. 25.. 25.. 25.. 25.. 25.. 25.. 25.. 25.. 25.. 25.. 25.. 25.. 25.. 25.. 25.. 25.. 25.. 25.. 25.. 25.. 25.. 25.. 25.. 25.. 25.. 25.. 25.. 25.. 25.. 25.. 25.. 25.. 25.. 25.. 25.. 25.. 26.. 26.. 26.. 26.. 26.. 26.. 26.. 26.. 26.. 26.. 26.. 26.. 26.. 26.. 26.. 26.. 26.. 26.. 26.. 26.. 26.. 26.. 26.. 26.. 26.. 26.. 26.. 26.. 26.. 26.. 26.. 26.. 26.. 26.. 26.. 26.. 26.. 26.. 26.. 26.. 26.. 26.. 26.. 26.. 26.. 26.. 26.. 26.. 26.. 26.. 26.. 26.. 26.. 26.. 26.. 26.. 26.. 26.. 26.. 26.. 26.. 26.. 26.. 26.. 26.. 26.. 26.. 26.. 26.. 26.. 26.. 26.. 26.. 26.. 26.. 26.. 26.. 26.. 26.. 26.. 26.. 26.. 26.. 26.. 26.. 26.. 26.. 27.. 27.. 27.. 27.. 27.. 27.. 27.. 27.. 27.. 27.. 27.. 27.. 27.. 27.. 27.. 27.. 27.. 27.. 27.. 27.. 27.. 27.. 27.. 27.. 27.. 27.. 27.. 27.. 27.. 27.. 27.. 27.. 27.. 27.. 27.. 27.. 27.. 27.. 27.. 27.. 27.. 27.. 27.. 27.. 27.. 27.. 27.. 27.. 27.. 27.. 27.. 27.. 27.. 27.. 27.. 27.. 27.. 27.. 27.. 27.. 27.. 27.. 27.. 27.. 27.. 27.. 27.. 27.. 27.. 27.. 27.. 27.. 27.. 27.. 27.. 27.. 27.. 27.. 27.. 27.. 27.. 27.. 27.. 27.. 27.. 27.. 28.. 28.. 28.. 28.. 28.. 28.. 28.. 28.. 28.. 28.. 28.. 28.. 28.. 28.. 28.. 28.. 28.. 28.. 28.. 28.. 28.. 28.. 28.. 28.. 28.. 28.. 28.. 28.. 28.. 28.. 28.. 28.. 28.. 28.. 28.. 28.. 28.. 28.. 28.. 28.. 28.. 28.. 28.. 28.. 28.. 28.. 28.. 28.. 28.. 28.. 28.. 28.. 28.. 28.. 28.. 28.. 28.. 28.. 28.. 28.. 28.. 28.. 28.. 28.. 28.. 28.. 28.. 28.. 28.. 28.. 28.. 28.. 28.. 28.. 28.. 28.. 28.. 28.. 28.. 28.. 28.. 28.. 28.. 28.. 28.. 28.. 28.. 29.. 29.. 29.. 29.. 29.. 29.. 29.. 29.. 29.. 29.. 29.. 29.. 29.. 29.. 29.. 29.. 29.. 29.. 29.. 29.. 29.. 29.. 29.. 29.. 29.. 29.. 29.. 29.. 29.. 29.. 29.. 29.. 29.. 29.. 29.. 29.. 29.. 29.. 29.. 29.. 29.. 29.. 29.. 29.. 29.. 29.. 29.. 29.. 29.. 29.. 29.. 29.. 29.. 29.. 29.. 29.. 29.. 29.. 29.. 29.. 29.. 29.. 29.. 29.. 29.. 29.. 29.. 29.. 29.. 29.. 29.. 29.. 29.. 29.. 29.. 29.. 29.. 29.. 29.. 29.. 29.. 29.. 29.. 29.. 29.. 29.. 30.. 30.. 30.. 30.. 30.. 30.. 30.. 30.. 30.. 30.. 30.. 30.. 30.. 30.. 30.. 30.. 30.. 30.. 30.. 30.. 30.. 30.. 30.. 30.. 30.. 30.. 30.. 30.. 30.. 30.. 30.. 30.. 30.. 30.. 30.. 30.. 30.. 30.. 30.. 30.. 30.. 30.. 30.. 30.. 30.. 30.. 30.. 30.. 30.. 30.. 30.. 30.. 30.. 30.. 30.. 30.. 30.. 30.. 30.. 30.. 30.. 30.. 30.. 30.. 30.. 30.. 30.. 30.. 30.. 30.. 30.. 30.. 30.. 30.. 30.. 30.. 30.. 30.. 30.. 30.. 30.. 30.. 30.. 30.. 30.. 30.. 30.. 31.. 31.. 31.. 31.. 31.. 31.. 31.. 31.. 31.. 31.. 31.. 31.. 31.. 31.. 31.. 31.. 31.. 31.. 31.. 31.. 31.. 31.. 31.. 31.. 31.. 31.. 31.. 31.. 31.. 31.. 31.. 31.. 31.. 31.. 31.. 31.. 31.. 31.. 31.. 31.. 31.. 31.. 31.. 31.. 31.. 31.. 31.. 31.. 31.. 31.. 31.. 31.. 31.. 31.. 31.. 31.. 31.. 31.. 31.. 31.. 31.. 31.. 31.. 31.. 31.. 31.. 31.. 31.. 31.. 31.. 31.. 31.. 31.. 31.. 31.. 31.. 31.. 31.. 31.. 31.. 31.. 31.. 31.. 31.. 31.. 31.. 32.. 32.. 32.. 32.. 32.. 32.. 32.. 32.. 32.. 32.. 32.. 32.. 32.. 32.. 32.. 32.. 32.. 32.. 32.. 32.. 32.. 32.. 32.. 32.. 32.. 32.. 32.. 32.. 32.. 32.. 32.. 32.. 32.. 32.. 32.. 32.. 32.. 32.. 32.. 32.. 32.. 32.. 32.. 32.. 32.. 32.. 32.. 32.. 32.. 32.. 32.. 32.. 32.. 32.. 32.. 32.. 32.. 32.. 32.. 32.. 32.. 32.. 32.. 32.. 32.. 32.. 32.. 32.. 32.. 32.. 32.. 32.. 32.. 32.. 32.. 32.. 32.. 32.. 32.. 32.. 32.. 32.. 32.. 32.. 32.. 32.. 32.. 33.. 33.. 33.. 33.. 33.. 33.. 33.. 33.. 33.. 33.. 33.. 33.. 33.. 33.. 33.. 33.. 33.. 33.. 33.. 33.. 33.. 33.. 33.. 33.. 33.. 33.. 33.. 33.. 33.. 33.. 33.. 33.. 33.. 33.. 33.. 33.. 33.. 33.. 33.. 33.. 33.. 33.. 33.. 33.. 33.. 33.. 33.. 33.. 33.. 33.. 33.. 33.. 33.. 33.. 33.. 33.. 33.. 33.. 33.. 33.. 33.. 33.. 33.. 33.. 33.. 33.. 33.. 33.. 33.. 33.. 33.. 33.. 33.. 33.. 33.. 33.. 33.. 33.. 33.. 33.. 33.. 33.. 33.. 33.. 33.. 33.. 33.. 34.. 34.. 34.. 34.. 34.. 34.. 34.. 34.. 34.. 34.. 34.. 34.. 34.. 34.. 34.. 34.. 34.. 34.. 34.. 34.. 34.. 34.. 34.. 34.. 34.. 34.. 34.. 34.. 34.. 34.. 34.. 34.. 34.. 34.. 34.. 34.. 34.. 34.. 34.. 34.. 34.. 34.. 34.. 34.. 34.. 34.. 34.. 34.. 34.. 34.. 34.. 34.. 34.. 34.. 34.. 34.. 34.. 34.. 34.. 34.. 34.. 34.. 34.. 34.. 34.. 34.. 34.. 34.. 34.. 34.. 34.. 34.. 34.. 34.. 34.. 34.. 34.. 34.. 34.. 34.. 34.. 34.. 34.. 34.. 34.. 34.. 35.. 35.. 35.. 35.. 35.. 35.. 35.. 35.. 35.. 35.. 35.. 35.. 35.. 35.. 35.. 35.. 35.. 35.. 35.. 35.. 35.. 35.. 35.. 35.. 35.. 35.. 35.. 35.. 35.. 35.. 35.. 35.. 35.. 35.. 35.. 35.. 35.. 35.. 35.. 35.. 35.. 35.. 35.. 35.. 35.. 35.. 35.. 35.. 35.. 35.. 35.. 35.. 35.. 35.. 35.. 35.. 35.. 35.. 35.. 35.. 35.. 35.. 35.. 35.. 35.. 35.. 35.. 35.. 35.. 35.. 35.. 35.. 35.. 35.. 35.. 35.. 35.. 35.. 35.. 35.. 35.. 35.. 35.. 35.. 35.. 35.. 35.. 36.. 36.. 36.. 36.. 36.. 36.. 36.. 36.. 36.. 36.. 36.. 36.. 36.. 36.. 36.. 36.. 36.. 36.. 36.. 36.. 36.. 36.. 36.. 36.. 36.. 36.. 36.. 36.. 36.. 36.. 36.. 36.. 36.. 36.. 36.. 36.. 36.. 36.. 36.. 36.. 36.. 36.. 36.. 36.. 36.. 36.. 36.. 36.. 36.. 36.. 36.. 36.. 36.. 36.. 36.. 36.. 36.. 36.. 36.. 36.. 36.. 36.. 36.. 36.. 36.. 36.. 36.. 36.. 36.. 36.. 36.. 36.. 36.. 36.. 36.. 36.. 36.. 36.. 36.. 36.. 36.. 36.. 36.. 36.. 36.. 36.. 37.. 37.. 37.. 37.. 37.. 37.. 37.. 37.. 37.. 37.. 37.. 37.. 37.. 37.. 37.. 37.. 37.. 37.. 37.. 37.. 37.. 37.. 37.. 37.. 37.. 37.. 37.. 37.. 37.. 37.. 37.. 37.. 37.. 37.. 37.. 37.. 37.. 37.. 37.. 37.. 37.. 37.. 37.. 37.. 37.. 37.. 37.. 37.. 37.. 37.. 37.. 37.. 37.. 37.. 37.. 37.. 37.. 37.. 37.. 37.. 37.. 37.. 37.. 37.. 37.. 37.. 37.. 37.. 37.. 37.. 37.. 37.. 37.. 37.. 37.. 37.. 37.. 37.. 37.. 37.. 37.. 37.. 37.. 37.. 37.. 37.. 37.. 38.. 38.. 38.. 38.. 38.. 38.. 38.. 38.. 38.. 38.. 38.. 38.. 38.. 38.. 38.. 38.. 38.. 38.. 38.. 38.. 38.. 38.. 38.. 38.. 38.. 38.. 38.. 38.. 38.. 38.. 38.. 38.. 38.. 38.. 38.. 38.. 38.. 38.. 38.. 38.. 38.. 38.. 38.. 38.. 38.. 38.. 38.. 38.. 38.. 38.. 38.. 38.. 38.. 38.. 38.. 38.. 38.. 38.. 38.. 38.. 38.. 38.. 38.. 38.. 38.. 38.. 38.. 38.. 38.. 38.. 38.. 38.. 38.. 38.. 38.. 38.. 38.. 38.. 38.. 38.. 38.. 38.. 38.. 38.. 38.. 38.. 39.. 39.. 39.. 39.. 39.. 39.. 39.. 39.. 39.. 39.. 39.. 39.. 39.. 39.. 39.. 39.. 39.. 39.. 39.. 39.. 39.. 39.. 39.. 39.. 39.. 39.. 39.. 39.. 39.. 39.. 39.. 39.. 39.. 39.. 39.. 39.. 39.. 39.. 39.. 39.. 39.. 39.. 39.. 39.. 39.. 39.. 39.. 39.. 39.. 39.. 39.. 39.. 39.. 39.. 39.. 39.. 39.. 39.. 39.. 39.. 39.. 39.. 39.. 39.. 39.. 39.. 39.. 39.. 39.. 39.. 39.. 39.. 39.. 39.. 39.. 39.. 39.. 39.. 39.. 39.. 39.. 39.. 39.. 39.. 39.. 39.. 39.. 40.. 40.. 40.. 40.. 40.. 40.. 40.. 40.. 40.. 40.. 40.. 40.. 40.. 40.. 40.. 40.. 40.. 40.. 40.. 40.. 40.. 40.. 40.. 40.. 40.. 40.. 40.. 40.. 40.. 40.. 40.. 40.. 40.. 40.. 40.. 40.. 40.. 40.. 40.. 40.. 40.. 40.. 40.. 40.. 40.. 40.. 40.. 40.. 40.. 40.. 40.. 40.. 40.. 40.. 40.. 40.. 40.. 40.. 40.. 40.. 40.. 40.. 40.. 40.. 40.. 40.. 40.. 40.. 40.. 40.. 40.. 40.. 40.. 40.. 40.. 40.. 40.. 40.. 40.. 40.. 40.. 40.. 40.. 40.. 40.. 40.. 41.. 41.. 41.. 41.. 41.. 41.. 41.. 41.. 41.. 41.. 41.. 41.. 41.. 41.. 41.. 41.. 41.. 41.. 41.. 41.. 41.. 41.. 41.. 41.. 41.. 41.. 41.. 41.. 41.. 41.. 41.. 41.. 41.. 41.. 41.. 41.. 41.. 41.. 41.. 41.. 41.. 41.. 41.. 41.. 41.. 41.. 41.. 41.. 41.. 41.. 41.. 41.. 41.. 41.. 41.. 41.. 41.. 41.. 41.. 41.. 41.. 41.. 41.. 41.. 41.. 41.. 41.. 41.. 41.. 41.. 41.. 41.. 41.. 41.. 41.. 41.. 41.. 41.. 41.. 41.. 41.. 41.. 41.. 41.. 41.. 41.. 41.. 42.. 42.. 42.. 42.. 42.. 42.. 42.. 42.. 42.. 42.. 42.. 42.. 42.. 42.. 42.. 42.. 42.. 42.. 42.. 42.. 42.. 42.. 42.. 42.. 42.. 42.. 42.. 42.. 42.. 42.. 42.. 42.. 42.. 42.. 42.. 42.. 42.. 42.. 42.. 42.. 42.. 42.. 42.. 42.. 42.. 42.. 42.. 42.. 42.. 42.. 42.. 42.. 42.. 42.. 42.. 42.. 42.. 42.. 42.. 42.. 42.. 42.. 42.. 42.. 42.. 42.. 42.. 42.. 42.. 42.. 42.. 42.. 42.. 42.. 42.. 42.. 42.. 42.. 42.. 42.. 42.. 42.. 42.. 42.. 42.. 42.. 43.. 43.. 43.. 43.. 43.. 43.. 43.. 43.. 43.. 43.. 43.. 43.. 43.. 43.. 43.. 43.. 43.. 43.. 43.. 43.. 43.. 43.. 43.. 43.. 43.. 43.. 43.. 43.. 43.. 43.. 43.. 43.. 43.. 43.. 43.. 43.. 43.. 43.. 43.. 43.. 43.. 43.. 43.. 43.. 43.. 43.. 43.. 43.. 43.. 43.. 43.. 43.. 43.. 43.. 43.. 43.. 43.. 43.. 43.. 43.. 43.. 43.. 43.. 43.. 43.. 43.. 43.. 43.. 43.. 43.. 43.. 43.. 43.. 43.. 43.. 43.. 43.. 43.. 43.. 43.. 43.. 43.. 43.. 43.. 43.. 43.. 43.. 44.. 44.. 44.. 44.. 44.. 44.. 44.. 44.. 44.. 44.. 44.. 44.. 44.. 44.. 44.. 44.. 44.. 44.. 44.. 44.. 44.. 44.. 44.. 44.. 44.. 44.. 44.. 44.. 44.. 44.. 44.. 44.. 44.. 44.. 44.. 44.. 44.. 44.. 44.. 44.. 44.. 44.. 44.. 44.. 44.. 44.. 44.. 44.. 44.. 44.. 44.. 44.. 44.. 44.. 44.. 44.. 44.. 44.. 44.. 44.. 44.. 44.. 44.. 44.. 44.. 44.. 44.. 44.. 44.. 44.. 44.. 44.. 44.. 44.. 44.. 44.. 44.. 44.. 44.. 44.. 44.. 44.. 44.. 44.. 44.. 44.. 45.. 45.. 45.. 45.. 45.. 45.. 45.. 45.. 45.. 45.. 45.. 45.. 45.. 45.. 45.. 45.. 45.. 45.. 45.. 45.. 45.. 45.. 45.. 45.. 45.. 45.. 45.. 45.. 45.. 45.. 45.. 45.. 45.. 45.. 45.. 45.. 45.. 45.. 45.. 45.. 45.. 45.. 45.. 45.. 45.. 45.. 45.. 45.. 45.. 45.. 45.. 45.. 45.. 45.. 45.. 45.. 45.. 45.. 45.. 45.. 45.. 45.. 45.. 45.. 45.. 45.. 45.. 45.. 45.. 45.. 45.. 45.. 45.. 45.. 45.. 45.. 45.. 45.. 45.. 45.. 45.. 45.. 45.. 45.. 45.. 45.. 45.. 46.. 46.. 46.. 46.. 46.. 46.. 46.. 46.. 46.. 46.. 46.. 46.. 46.. 46.. 46.. 46.. 46.. 46.. 46.. 46.. 46.. 46.. 46.. 46.. 46.. 46.. 46.. 46.. 46.. 46.. 46.. 46.. 46.. 46.. 46.. 46.. 46.. 46.. 46.. 46.. 46.. 46.. 46.. 46.. 46.. 46.. 46.. 46.. 46.. 46.. 46.. 46.. 46.. 46.. 46.. 46.. 46.. 46.. 46.. 46.. 46.. 46.. 46.. 46.. 46.. 46.. 46.. 46.. 46.. 46.. 46.. 46.. 46.. 46.. 46.. 46.. 46.. 46.. 46.. 46.. 46.. 46.. 46.. 46.. 46.. 46.. 47.. 47.. 47.. 47.. 47.. 47.. 47.. 47.. 47.. 47.. 47.. 47.. 47.. 47.. 47.. 47.. 47.. 47.. 47.. 47.. 47.. 47.. 47.. 47.. 47.. 47.. 47.. 47.. 47.. 47.. 47.. 47.. 47.. 47.. 47.. 47.. 47.. 47.. 47.. 47.. 47.. 47.. 47.. 47.. 47.. 47.. 47.. 47.. 47.. 47.. 47.. 47.. 47.. 47.. 47.. 47.. 47.. 47.. 47.. 47.. 47.. 47.. 47.. 47.. 47.. 47.. 47.. 47.. 47.. 47.. 47.. 47.. 47.. 47.. 47.. 47.. 47.. 47.. 47.. 47.. 47.. 47.. 47.. 47.. 47.. 47.. 47.. 48.. 48.. 48.. 48.. 48.. 48.. 48.. 48.. 48.. 48.. 48.. 48.. 48.. 48.. 48.. 48.. 48.. 48.. 48.. 48.. 48.. 48.. 48.. 48.. 48.. 48.. 48.. 48.. 48.. 48.. 48.. 48.. 48.. 48.. 48.. 48.. 48.. 48.. 48.. 48.. 48.. 48.. 48.. 48.. 48.. 48.. 48.. 48.. 48.. 48.. 48.. 48.. 48.. 48.. 48.. 48.. 48.. 48.. 48.. 48.. 48.. 48.. 48.. 48.. 48.. 48.. 48.. 48.. 48.. 48.. 48.. 48.. 48.. 48.. 48.. 48.. 48.. 48.. 48.. 48.. 48.. 48.. 48.. 48.. 48.. 48.. 49.. 49.. 49.. 49.. 49.. 49.. 49.. 49.. 49.. 49.. 49.. 49.. 49.. 49.. 49.. 49.. 49.. 49.. 49.. 49.. 49.. 49.. 49.. 49.. 49.. 49.. 49.. 49.. 49.. 49.. 49.. 49.. 49.. 49.. 49.. 49.. 49.. 49.. 49.. 49.. 49.. 49.. 49.. 49.. 49.. 49.. 49.. 49.. 49.. 49.. 49.. 49.. 49.. 49.. 49.. 49.. 49.. 49.. 49.. 49.. 49.. 49.. 49.. 49.. 49.. 49.. 49.. 49.. 49.. 49.. 49.. 49.. 49.. 49.. 49.. 49.. 49.. 49.. 49.. 49.. 49.. 49.. 49.. 49.. 49.. 49.. 49.. 50.. 50.. 50.. 50.. 50.. 50.. 50.. 50.. 50.. 50.. 50.. 50.. 50.. 50.. 50.. 50.. 50.. 50.. 50.. 50.. 50.. 50.. 50.. 50.. 50.. 50.. 50.. 50.. 50.. 50.. 50.. 50.. 50.. 50.. 50.. 50.. 50.. 50.. 50.. 50.. 50.. 50.. 50.. 50.. 50.. 50.. 50.. 50.. 50.. 50.. 50.. 50.. 50.. 50.. 50.. 50.. 50.. 50.. 50.. 50.. 50.. 50.. 50.. 50.. 50.. 50.. 50.. 50.. 50.. 50.. 50.. 50.. 50.. 50.. 50.. 50.. 50.. 50.. 50.. 50.. 50.. 50.. 50.. 50.. 50.. 50.. 50.. 51.. 51.. 51.. 51.. 51.. 51.. 51.. 51.. 51.. 51.. 51.. 51.. 51.. 51.. 51.. 51.. 51.. 51.. 51.. 51.. 51.. 51.. 51.. 51.. 51.. 51.. 51.. 51.. 51.. 51.. 51.. 51.. 51.. 51.. 51.. 51.. 51.. 51.. 51.. 51.. 51.. 51.. 51.. 51.. 51.. 51.. 51.. 51.. 51.. 51.. 51.. 51.. 51.. 51.. 51.. 51.. 51.. 51.. 51.. 51.. 51.. 51.. 51.. 51.. 51.. 51.. 51.. 51.. 51.. 51.. 51.. 51.. 51.. 51.. 51.. 51.. 51.. 51.. 51.. 51.. 51.. 51.. 51.. 51.. 51.. 51.. 52.. 52.. 52.. 52.. 52.. 52.. 52.. 52.. 52.. 52.. 52.. 52.. 52.. 52.. 52.. 52.. 52.. 52.. 52.. 52.. 52.. 52.. 52.. 52.. 52.. 52.. 52.. 52.. 52.. 52.. 52.. 52.. 52.. 52.. 52.. 52.. 52.. 52.. 52.. 52.. 52.. 52.. 52.. 52.. 52.. 52.. 52.. 52.. 52.. 52.. 52.. 52.. 52.. 52.. 52.. 52.. 52.. 52.. 52.. 52.. 52.. 52.. 52.. 52.. 52.. 52.. 52.. 52.. 52.. 52.. 52.. 52.. 52.. 52.. 52.. 52.. 52.. 52.. 52.. 52.. 52.. 52.. 52.. 52.. 52.. 52.. 52.. 53.. 53.. 53.. 53.. 53.. 53.. 53.. 53.. 53.. 53.. 53.. 53.. 53.. 53.. 53.. 53.. 53.. 53.. 53.. 53.. 53.. 53.. 53.. 53.. 53.. 53.. 53.. 53.. 53.. 53.. 53.. 53.. 53.. 53.. 53.. 53.. 53.. 53.. 53.. 53.. 53.. 53.. 53.. 53.. 53.. 53.. 53.. 53.. 53.. 53.. 53.. 53.. 53.. 53.. 53.. 53.. 53.. 53.. 53.. 53.. 53.. 53.. 53.. 53.. 53.. 53.. 53.. 53.. 53.. 53.. 53.. 53.. 53.. 53.. 53.. 53.. 53.. 53.. 53.. 53.. 53.. 53.. 53.. 53.. 53.. 53.. 54.. 54.. 54.. 54.. 54.. 54.. 54.. 54.. 54.. 54.. 54.. 54.. 54.. 54.. 54.. 54.. 54.. 54.. 54.. 54.. 54.. 54.. 54.. 54.. 54.. 54.. 54.. 54.. 54.. 54.. 54.. 54.. 54.. 54.. 54.. 54.. 54.. 54.. 54.. 54.. 54.. 54.. 54.. 54.. 54.. 54.. 54.. 54.. 54.. 54.. 54.. 54.. 54.. 54.. 54.. 54.. 54.. 54.. 54.. 54.. 54.. 54.. 54.. 54.. 54.. 54.. 54.. 54.. 54.. 54.. 54.. 54.. 54.. 54.. 54.. 54.. 54.. 54.. 54.. 54.. 54.. 54.. 54.. 54.. 54.. 54.. 54.. 55.. 55.. 55.. 55.. 55.. 55.. 55.. 55.. 55.. 55.. 55.. 55.. 55.. 55.. 55.. 55.. 55.. 55.. 55.. 55.. 55.. 55.. 55.. 55.. 55.. 55.. 55.. 55.. 55.. 55.. 55.. 55.. 55.. 55.. 55.. 55.. 55.. 55.. 55.. 55.. 55.. 55.. 55.. 55.. 55.. 55.. 55.. 55.. 55.. 55.. 55.. 55.. 55.. 55.. 55.. 55.. 55.. 55.. 55.. 55.. 55.. 55.. 55.. 55.. 55.. 55.. 55.. 55.. 55.. 55.. 55.. 55.. 55.. 55.. 55.. 55.. 55.. 55.. 55.. 55.. 55.. 55.. 55.. 55.. 55.. 55.. 56.. 56.. 56.. 56.. 56.. 56.. 56.. 56.. 56.. 56.. 56.. 56.. 56.. 56.. 56.. 56.. 56.. 56.. 56.. 56.. 56.. 56.. 56.. 56.. 56.. 56.. 56.. 56.. 56.. 56.. 56.. 56.. 56.. 56.. 56.. 56.. 56.. 56.. 56.. 56.. 56.. 56.. 56.. 56.. 56.. 56.. 56.. 56.. 56.. 56.. 56.. 56.. 56.. 56.. 56.. 56.. 56.. 56.. 56.. 56.. 56.. 56.. 56.. 56.. 56.. 56.. 56.. 56.. 56.. 56.. 56.. 56.. 56.. 56.. 56.. 56.. 56.. 56.. 56.. 56.. 56.. 56.. 56.. 56.. 56.. 56.. 56.. 57.. 57.. 57.. 57.. 57.. 57.. 57.. 57.. 57.. 57.. 57.. 57.. 57.. 57.. 57.. 57.. 57.. 57.. 57.. 57.. 57.. 57.. 57.. 57.. 57.. 57.. 57.. 57.. 57.. 57.. 57.. 57.. 57.. 57.. 57.. 57.. 57.. 57.. 57.. 57.. 57.. 57.. 57.. 57.. 57.. 57.. 57.. 57.. 57.. 57.. 57.. 57.. 57.. 57.. 57.. 57.. 57.. 57.. 57.. 57.. 57.. 57.. 57.. 57.. 57.. 57.. 57.. 57.. 57.. 57.. 57.. 57.. 57.. 57.. 57.. 57.. 57.. 57.. 57.. 57.. 57.. 57.. 57.. 57.. 57.. 57.. 58.. 58.. 58.. 58.. 58.. 58.. 58.. 58.. 58.. 58.. 58.. 58.. 58.. 58.. 58.. 58.. 58.. 58.. 58.. 58.. 58.. 58.. 58.. 58.. 58.. 58.. 58.. 58.. 58.. 58.. 58.. 58.. 58.. 58.. 58.. 58.. 58.. 58.. 58.. 58.. 58.. 58.. 58.. 58.. 58.. 58.. 58.. 58.. 58.. 58.. 58.. 58.. 58.. 58.. 58.. 58.. 58.. 58.. 58.. 58.. 58.. 58.. 58.. 58.. 58.. 58.. 58.. 58.. 58.. 58.. 58.. 58.. 58.. 58.. 58.. 58.. 58.. 58.. 58.. 58.. 58.. 58.. 58.. 58.. 58.. 58.. 58.. 59.. 59.. 59.. 59.. 59.. 59.. 59.. 59.. 59.. 59.. 59.. 59.. 59.. 59.. 59.. 59.. 59.. 59.. 59.. 59.. 59.. 59.. 59.. 59.. 59.. 59.. 59.. 59.. 59.. 59.. 59.. 59.. 59.. 59.. 59.. 59.. 59.. 59.. 59.. 59.. 59.. 59.. 59.. 59.. 59.. 59.. 59.. 59.. 59.. 59.. 59.. 59.. 59.. 59.. 59.. 59.. 59.. 59.. 59.. 59.. 59.. 59.. 59.. 59.. 59.. 59.. 59.. 59.. 59.. 59.. 59.. 59.. 59.. 59.. 59.. 59.. 59.. 59.. 59.. 59.. 59.. 59.. 59.. 59.. 59.. 59.. 60.. 60.. 60.. 60.. 60.. 60.. 60.. 60.. 60.. 60.. 60.. 60.. 60.. 60.. 60.. 60.. 60.. 60.. 60.. 60.. 60.. 60.. 60.. 60.. 60.. 60.. 60.. 60.. 60.. 60.. 60.. 60.. 60.. 60.. 60.. 60.. 60.. 60.. 60.. 60.. 60.. 60.. 60.. 60.. 60.. 60.. 60.. 60.. 60.. 60.. 60.. 60.. 60.. 60.. 60.. 60.. 60.. 60.. 60.. 60.. 60.. 60.. 60.. 60.. 60.. 60.. 60.. 60.. 60.. 60.. 60.. 60.. 60.. 60.. 60.. 60.. 60.. 60.. 60.. 60.. 60.. 60.. 60.. 60.. 60.. 60.. 60.. 61.. 61.. 61.. 61.. 61.. 61.. 61.. 61.. 61.. 61.. 61.. 61.. 61.. 61.. 61.. 61.. 61.. 61.. 61.. 61.. 61.. 61.. 61.. 61.. 61.. 61.. 61.. 61.. 61.. 61.. 61.. 61.. 61.. 61.. 61.. 61.. 61.. 61.. 61.. 61.. 61.. 61.. 61.. 61.. 61.. 61.. 61.. 61.. 61.. 61.. 61.. 61.. 61.. 61.. 61.. 61.. 61.. 61.. 61.. 61.. 61.. 61.. 61.. 61.. 61.. 61.. 61.. 61.. 61.. 61.. 61.. 61.. 61.. 61.. 61.. 61.. 61.. 61.. 61.. 61.. 61.. 61.. 61.. 61.. 61.. 61.. 62.. 62.. 62.. 62.. 62.. 62.. 62.. 62.. 62.. 62.. 62.. 62.. 62.. 62.. 62.. 62.. 62.. 62.. 62.. 62.. 62.. 62.. 62.. 62.. 62.. 62.. 62.. 62.. 62.. 62.. 62.. 62.. 62.. 62.. 62.. 62.. 62.. 62.. 62.. 62.. 62.. 62.. 62.. 62.. 62.. 62.. 62.. 62.. 62.. 62.. 62.. 62.. 62.. 62.. 62.. 62.. 62.. 62.. 62.. 62.. 62.. 62.. 62.. 62.. 62.. 62.. 62.. 62.. 62.. 62.. 62.. 62.. 62.. 62.. 62.. 62.. 62.. 62.. 62.. 62.. 62.. 62.. 62.. 62.. 62.. 62.. 62.. 63.. 63.. 63.. 63.. 63.. 63.. 63.. 63.. 63.. 63.. 63.. 63.. 63.. 63.. 63.. 63.. 63.. 63.. 63.. 63.. 63.. 63.. 63.. 63.. 63.. 63.. 63.. 63.. 63.. 63.. 63.. 63.. 63.. 63.. 63.. 63.. 63.. 63.. 63.. 63.. 63.. 63.. 63.. 63.. 63.. 63.. 63.. 63.. 63.. 63.. 63.. 63.. 63.. 63.. 63.. 63.. 63.. 63.. 63.. 63.. 63.. 63.. 63.. 63.. 63.. 63.. 63.. 63.. 63.. 63.. 63.. 63.. 63.. 63.. 63.. 63.. 63.. 63.. 63.. 63.. 63.. 63.. 63.. 63.. 63.. 63.. 64.. 64.. 64.. 64.. 64.. 64.. 64.. 64.. 64.. 64.. 64.. 64.. 64.. 64.. 64.. 64.. 64.. 64.. 64.. 64.. 64.. 64.. 64.. 64.. 64.. 64.. 64.. 64.. 64.. 64.. 64.. 64.. 64.. 64.. 64.. 64.. 64.. 64.. 64.. 64.. 64.. 64.. 64.. 64.. 64.. 64.. 64.. 64.. 64.. 64.. 64.. 64.. 64.. 64.. 64.. 64.. 64.. 64.. 64.. 64.. 64.. 64.. 64.. 64.. 64.. 64.. 64.. 64.. 64.. 64.. 64.. 64.. 64.. 64.. 64.. 64.. 64.. 64.. 64.. 64.. 64.. 64.. 64.. 64.. 64.. 64.. 64.. 65.. 65.. 65.. 65.. 65.. 65.. 65.. 65.. 65.. 65.. 65.. 65.. 65.. 65.. 65.. 65.. 65.. 65.. 65.. 65.. 65.. 65.. 65.. 65.. 65.. 65.. 65.. 65.. 65.. 65.. 65.. 65.. 65.. 65.. 65.. 65.. 65.. 65.. 65.. 65.. 65.. 65.. 65.. 65.. 65.. 65.. 65.. 65.. 65.. 65.. 65.. 65.. 65.. 65.. 65.. 65.. 65.. 65.. 65.. 65.. 65.. 65.. 65.. 65.. 65.. 65.. 65.. 65.. 65.. 65.. 65.. 65.. 65.. 65.. 65.. 65.. 65.. 65.. 65.. 65.. 65.. 65.. 65.. 65.. 65.. 65.. 66.. 66.. 66.. 66.. 66.. 66.. 66.. 66.. 66.. 66.. 66.. 66.. 66.. 66.. 66.. 66.. 66.. 66.. 66.. 66.. 66.. 66.. 66.. 66.. 66.. 66.. 66.. 66.. 66.. 66.. 66.. 66.. 66.. 66.. 66.. 66.. 66.. 66.. 66.. 66.. 66.. 66.. 66.. 66.. 66.. 66.. 66.. 66.. 66.. 66.. 66.. 66.. 66.. 66.. 66.. 66.. 66.. 66.. 66.. 66.. 66.. 66.. 66.. 66.. 66.. 66.. 66.. 66.. 66.. 66.. 66.. 66.. 66.. 66.. 66.. 66.. 66.. 66.. 66.. 66.. 66.. 66.. 66.. 66.. 66.. 66.. 66.. 67.. 67.. 67.. 67.. 67.. 67.. 67.. 67.. 67.. 67.. 67.. 67.. 67.. 67.. 67.. 67.. 67.. 67.. 67.. 67.. 67.. 67.. 67.. 67.. 67.. 67.. 67.. 67.. 67.. 67.. 67.. 67.. 67.. 67.. 67.. 67.. 67.. 67.. 67.. 67.. 67.. 67.. 67.. 67.. 67.. 67.. 67.. 67.. 67.. 67.. 67.. 67.. 67.. 67.. 67.. 67.. 67.. 67.. 67.. 67.. 67.. 67.. 67.. 67.. 67.. 67.. 67.. 67.. 67.. 67.. 67.. 67.. 67.. 67.. 67.. 67.. 67.. 67.. 67.. 67.. 67.. 67.. 67.. 67.. 67.. 67.. 67.. 68.. 68.. 68.. 68.. 68.. 68.. 68.. 68.. 68.. 68.. 68.. 68.. 68.. 68.. 68.. 68.. 68.. 68.. 68.. 68.. 68.. 68.. 68.. 68.. 68.. 68.. 68.. 68.. 68.. 68.. 68.. 68.. 68.. 68.. 68.. 68.. 68.. 68.. 68.. 68.. 68.. 68.. 68.. 68.. 68.. 68.. 68.. 68.. 68.. 68.. 68.. 68.. 68.. 68.. 68.. 68.. 68.. 68.. 68.. 68.. 68.. 68.. 68.. 68.. 68.. 68.. 68.. 68.. 68.. 68.. 68.. 68.. 68.. 68.. 68.. 68.. 68.. 68.. 68.. 68.. 68.. 68.. 68.. 68.. 68.. 68.. 69.. 69.. 69.. 69.. 69.. 69.. 69.. 69.. 69.. 69.. 69.. 69.. 69.. 69.. 69.. 69.. 69.. 69.. 69.. 69.. 69.. 69.. 69.. 69.. 69.. 69.. 69.. 69.. 69.. 69.. 69.. 69.. 69.. 69.. 69.. 69.. 69.. 69.. 69.. 69.. 69.. 69.. 69.. 69.. 69.. 69.. 69.. 69.. 69.. 69.. 69.. 69.. 69.. 69.. 69.. 69.. 69.. 69.. 69.. 69.. 69.. 69.. 69.. 69.. 69.. 69.. 69.. 69.. 69.. 69.. 69.. 69.. 69.. 69.. 69.. 69.. 69.. 69.. 69.. 69.. 69.. 69.. 69.. 69.. 69.. 69.. 69.. 70.. 70.. 70.. 70.. 70.. 70.. 70.. 70.. 70.. 70.. 70.. 70.. 70.. 70.. 70.. 70.. 70.. 70.. 70.. 70.. 70.. 70.. 70.. 70.. 70.. 70.. 70.. 70.. 70.. 70.. 70.. 70.. 70.. 70.. 70.. 70.. 70.. 70.. 70.. 70.. 70.. 70.. 70.. 70.. 70.. 70.. 70.. 70.. 70.. 70.. 70.. 70.. 70.. 70.. 70.. 70.. 70.. 70.. 70.. 70.. 70.. 70.. 70.. 70.. 70.. 70.. 70.. 70.. 70.. 70.. 70.. 70.. 70.. 70.. 70.. 70.. 70.. 70.. 70.. 70.. 70.. 70.. 70.. 70.. 70.. 70.. 71.. 71.. 71.. 71.. 71.. 71.. 71.. 71.. 71.. 71.. 71.. 71.. 71.. 71.. 71.. 71.. 71.. 71.. 71.. 71.. 71.. 71.. 71.. 71.. 71.. 71.. 71.. 71.. 71.. 71.. 71.. 71.. 71.. 71.. 71.. 71.. 71.. 71.. 71.. 71.. 71.. 71.. 71.. 71.. 71.. 71.. 71.. 71.. 71.. 71.. 71.. 71.. 71.. 71.. 71.. 71.. 71.. 71.. 71.. 71.. 71.. 71.. 71.. 71.. 71.. 71.. 71.. 71.. 71.. 71.. 71.. 71.. 71.. 71.. 71.. 71.. 71.. 71.. 71.. 71.. 71.. 71.. 71.. 71.. 71.. 71.. 71.. 72.. 72.. 72.. 72.. 72.. 72.. 72.. 72.. 72.. 72.. 72.. 72.. 72.. 72.. 72.. 72.. 72.. 72.. 72.. 72.. 72.. 72.. 72.. 72.. 72.. 72.. 72.. 72.. 72.. 72.. 72.. 72.. 72.. 72.. 72.. 72.. 72.. 72.. 72.. 72.. 72.. 72.. 72.. 72.. 72.. 72.. 72.. 72.. 72.. 72.. 72.. 72.. 72.. 72.. 72.. 72.. 72.. 72.. 72.. 72.. 72.. 72.. 72.. 72.. 72.. 72.. 72.. 72.. 72.. 72.. 72.. 72.. 72.. 72.. 72.. 72.. 72.. 72.. 72.. 72.. 72.. 72.. 72.. 72.. 72.. 72.. 73.. 73.. 73.. 73.. 73.. 73.. 73.. 73.. 73.. 73.. 73.. 73.. 73.. 73.. 73.. 73.. 73.. 73.. 73.. 73.. 73.. 73.. 73.. 73.. 73.. 73.. 73.. 73.. 73.. 73.. 73.. 73.. 73.. 73.. 73.. 73.. 73.. 73.. 73.. 73.. 73.. 73.. 73.. 73.. 73.. 73.. 73.. 73.. 73.. 73.. 73.. 73.. 73.. 73.. 73.. 73.. 73.. 73.. 73.. 73.. 73.. 73.. 73.. 73.. 73.. 73.. 73.. 73.. 73.. 73.. 73.. 73.. 73.. 73.. 73.. 73.. 73.. 73.. 73.. 73.. 73.. 73.. 73.. 73.. 73.. 73.. 73.. 74.. 74.. 74.. 74.. 74.. 74.. 74.. 74.. 74.. 74.. 74.. 74.. 74.. 74.. 74.. 74.. 74.. 74.. 74.. 74.. 74.. 74.. 74.. 74.. 74.. 74.. 74.. 74.. 74.. 74.. 74.. 74.. 74.. 74.. 74.. 74.. 74.. 74.. 74.. 74.. 74.. 74.. 74.. 74.. 74.. 74.. 74.. 74.. 74.. 74.. 74.. 74.. 74.. 74.. 74.. 74.. 74.. 74.. 74.. 74.. 74.. 74.. 74.. 74.. 74.. 74.. 74.. 74.. 74.. 74.. 74.. 74.. 74.. 74.. 74.. 74.. 74.. 74.. 74.. 74.. 74.. 74.. 74.. 74.. 74.. 74.. 75.. 75.. 75.. 75.. 75.. 75.. 75.. 75.. 75.. 75.. 75.. 75.. 75.. 75.. 75.. 75.. 75.. 75.. 75.. 75.. 75.. 75.. 75.. 75.. 75.. 75.. 75.. 75.. 75.. 75.. 75.. 75.. 75.. 75.. 75.. 75.. 75.. 75.. 75.. 75.. 75.. 75.. 75.. 75.. 75.. 75.. 75.. 75.. 75.. 75.. 75.. 75.. 75.. 75.. 75.. 75.. 75.. 75.. 75.. 75.. 75.. 75.. 75.. 75.. 75.. 75.. 75.. 75.. 75.. 75.. 75.. 75.. 75.. 75.. 75.. 75.. 75.. 75.. 75.. 75.. 75.. 75.. 75.. 75.. 75.. 75.. 75.. 76.. 76.. 76.. 76.. 76.. 76.. 76.. 76.. 76.. 76.. 76.. 76.. 76.. 76.. 76.. 76.. 76.. 76.. 76.. 76.. 76.. 76.. 76.. 76.. 76.. 76.. 76.. 76.. 76.. 76.. 76.. 76.. 76.. 76.. 76.. 76.. 76.. 76.. 76.. 76.. 76.. 76.. 76.. 76.. 76.. 76.. 76.. 76.. 76.. 76.. 76.. 76.. 76.. 76.. 76.. 76.. 76.. 76.. 76.. 76.. 76.. 76.. 76.. 76.. 76.. 76.. 76.. 76.. 76.. 76.. 76.. 76.. 76.. 76.. 76.. 76.. 76.. 76.. 76.. 76.. 76.. 76.. 76.. 76.. 76.. 76.. 77.. 77.. 77.. 77.. 77.. 77.. 77.. 77.. 77.. 77.. 77.. 77.. 77.. 77.. 77.. 77.. 77.. 77.. 77.. 77.. 77.. 77.. 77.. 77.. 77.. 77.. 77.. 77.. 77.. 77.. 77.. 77.. 77.. 77.. 77.. 77.. 77.. 77.. 77.. 77.. 77.. 77.. 77.. 77.. 77.. 77.. 77.. 77.. 77.. 77.. 77.. 77.. 77.. 77.. 77.. 77.. 77.. 77.. 77.. 77.. 77.. 77.. 77.. 77.. 77.. 77.. 77.. 77.. 77.. 77.. 77.. 77.. 77.. 77.. 77.. 77.. 77.. 77.. 77.. 77.. 77.. 77.. 77.. 77.. 77.. 77.. 77.. 78.. 78.. 78.. 78.. 78.. 78.. 78.. 78.. 78.. 78.. 78.. 78.. 78.. 78.. 78.. 78.. 78.. 78.. 78.. 78.. 78.. 78.. 78.. 78.. 78.. 78.. 78.. 78.. 78.. 78.. 78.. 78.. 78.. 78.. 78.. 78.. 78.. 78.. 78.. 78.. 78.. 78.. 78.. 78.. 78.. 78.. 78.. 78.. 78.. 78.. 78.. 78.. 78.. 78.. 78.. 78.. 78.. 78.. 78.. 78.. 78.. 78.. 78.. 78.. 78.. 78.. 78.. 78.. 78.. 78.. 78.. 78.. 78.. 78.. 78.. 78.. 78.. 78.. 78.. 78.. 78.. 78.. 78.. 78.. 78.. 78.. 79.. 79.. 79.. 79.. 79.. 79.. 79.. 79.. 79.. 79.. 79.. 79.. 79.. 79.. 79.. 79.. 79.. 79.. 79.. 79.. 79.. 79.. 79.. 79.. 79.. 79.. 79.. 79.. 79.. 79.. 79.. 79.. 79.. 79.. 79.. 79.. 79.. 79.. 79.. 79.. 79.. 79.. 79.. 79.. 79.. 79.. 79.. 79.. 79.. 79.. 79.. 79.. 79.. 79.. 79.. 79.. 79.. 79.. 79.. 79.. 79.. 79.. 79.. 79.. 79.. 79.. 79.. 79.. 79.. 79.. 79.. 79.. 79.. 79.. 79.. 79.. 79.. 79.. 79.. 79.. 79.. 79.. 79.. 79.. 79.. 79.. 79.. 80.. 80.. 80.. 80.. 80.. 80.. 80.. 80.. 80.. 80.. 80.. 80.. 80.. 80.. 80.. 80.. 80.. 80.. 80.. 80.. 80.. 80.. 80.. 80.. 80.. 80.. 80.. 80.. 80.. 80.. 80.. 80.. 80.. 80.. 80.. 80.. 80.. 80.. 80.. 80.. 80.. 80.. 80.. 80.. 80.. 80.. 80.. 80.. 80.. 80.. 80.. 80.. 80.. 80.. 80.. 80.. 80.. 80.. 80.. 80.. 80.. 80.. 80.. 80.. 80.. 80.. 80.. 80.. 80.. 80.. 80.. 80.. 80.. 80.. 80.. 80.. 80.. 80.. 80.. 80.. 80.. 80.. 80.. 80.. 80.. 80.. 81.. 81.. 81.. 81.. 81.. 81.. 81.. 81.. 81.. 81.. 81.. 81.. 81.. 81.. 81.. 81.. 81.. 81.. 81.. 81.. 81.. 81.. 81.. 81.. 81.. 81.. 81.. 81.. 81.. 81.. 81.. 81.. 81.. 81.. 81.. 81.. 81.. 81.. 81.. 81.. 81.. 81.. 81.. 81.. 81.. 81.. 81.. 81.. 81.. 81.. 81.. 81.. 81.. 81.. 81.. 81.. 81.. 81.. 81.. 81.. 81.. 81.. 81.. 81.. 81.. 81.. 81.. 81.. 81.. 81.. 81.. 81.. 81.. 81.. 81.. 81.. 81.. 81.. 81.. 81.. 81.. 81.. 81.. 81.. 81.. 81.. 81.. 82.. 82.. 82.. 82.. 82.. 82.. 82.. 82.. 82.. 82.. 82.. 82.. 82.. 82.. 82.. 82.. 82.. 82.. 82.. 82.. 82.. 82.. 82.. 82.. 82.. 82.. 82.. 82.. 82.. 82.. 82.. 82.. 82.. 82.. 82.. 82.. 82.. 82.. 82.. 82.. 82.. 82.. 82.. 82.. 82.. 82.. 82.. 82.. 82.. 82.. 82.. 82.. 82.. 82.. 82.. 82.. 82.. 82.. 82.. 82.. 82.. 82.. 82.. 82.. 82.. 82.. 82.. 82.. 82.. 82.. 82.. 82.. 82.. 82.. 82.. 82.. 82.. 82.. 82.. 82.. 82.. 82.. 82.. 82.. 82.. 82.. 83.. 83.. 83.. 83.. 83.. 83.. 83.. 83.. 83.. 83.. 83.. 83.. 83.. 83.. 83.. 83.. 83.. 83.. 83.. 83.. 83.. 83.. 83.. 83.. 83.. 83.. 83.. 83.. 83.. 83.. 83.. 83.. 83.. 83.. 83.. 83.. 83.. 83.. 83.. 83.. 83.. 83.. 83.. 83.. 83.. 83.. 83.. 83.. 83.. 83.. 83.. 83.. 83.. 83.. 83.. 83.. 83.. 83.. 83.. 83.. 83.. 83.. 83.. 83.. 83.. 83.. 83.. 83.. 83.. 83.. 83.. 83.. 83.. 83.. 83.. 83.. 83.. 83.. 83.. 83.. 83.. 83.. 83.. 83.. 83.. 83.. 83.. 84.. 84.. 84.. 84.. 84.. 84.. 84.. 84.. 84.. 84.. 84.. 84.. 84.. 84.. 84.. 84.. 84.. 84.. 84.. 84.. 84.. 84.. 84.. 84.. 84.. 84.. 84.. 84.. 84.. 84.. 84.. 84.. 84.. 84.. 84.. 84.. 84.. 84.. 84.. 84.. 84.. 84.. 84.. 84.. 84.. 84.. 84.. 84.. 84.. 84.. 84.. 84.. 84.. 84.. 84.. 84.. 84.. 84.. 84.. 84.. 84.. 84.. 84.. 84.. 84.. 84.. 84.. 84.. 84.. 84.. 84.. 84.. 84.. 84.. 84.. 84.. 84.. 84.. 84.. 84.. 84.. 84.. 84.. 84.. 84.. 84.. 84.. 85.. 85.. 85.. 85.. 85.. 85.. 85.. 85.. 85.. 85.. 85.. 85.. 85.. 85.. 85.. 85.. 85.. 85.. 85.. 85.. 85.. 85.. 85.. 85.. 85.. 85.. 85.. 85.. 85.. 85.. 85.. 85.. 85.. 85.. 85.. 85.. 85.. 85.. 85.. 85.. 85.. 85.. 85.. 85.. 85.. 85.. 85.. 85.. 85.. 85.. 85.. 85.. 85.. 85.. 85.. 85.. 85.. 85.. 85.. 85.. 85.. 85.. 85.. 85.. 85.. 85.. 85.. 85.. 85.. 85.. 85.. 85.. 85.. 85.. 85.. 85.. 85.. 85.. 85.. 85.. 85.. 85.. 85.. 85.. 85.. 85.. 86.. 86.. 86.. 86.. 86.. 86.. 86.. 86.. 86.. 86.. 86.. 86.. 86.. 86.. 86.. 86.. 86.. 86.. 86.. 86.. 86.. 86.. 86.. 86.. 86.. 86.. 86.. 86.. 86.. 86.. 86.. 86.. 86.. 86.. 86.. 86.. 86.. 86.. 86.. 86.. 86.. 86.. 86.. 86.. 86.. 86.. 86.. 86.. 86.. 86.. 86.. 86.. 86.. 86.. 86.. 86.. 86.. 86.. 86.. 86.. 86.. 86.. 86.. 86.. 86.. 86.. 86.. 86.. 86.. 86.. 86.. 86.. 86.. 86.. 86.. 86.. 86.. 86.. 86.. 86.. 86.. 86.. 86.. 86.. 86.. 86.. 86.. 87.. 87.. 87.. 87.. 87.. 87.. 87.. 87.. 87.. 87.. 87.. 87.. 87.. 87.. 87.. 87.. 87.. 87.. 87.. 87.. 87.. 87.. 87.. 87.. 87.. 87.. 87.. 87.. 87.. 87.. 87.. 87.. 87.. 87.. 87.. 87.. 87.. 87.. 87.. 87.. 87.. 87.. 87.. 87.. 87.. 87.. 87.. 87.. 87.. 87.. 87.. 87.. 87.. 87.. 87.. 87.. 87.. 87.. 87.. 87.. 87.. 87.. 87.. 87.. 87.. 87.. 87.. 87.. 87.. 87.. 87.. 87.. 87.. 87.. 87.. 87.. 87.. 87.. 87.. 87.. 87.. 87.. 87.. 87.. 87.. 87.. 88.. 88.. 88.. 88.. 88.. 88.. 88.. 88.. 88.. 88.. 88.. 88.. 88.. 88.. 88.. 88.. 88.. 88.. 88.. 88.. 88.. 88.. 88.. 88.. 88.. 88.. 88.. 88.. 88.. 88.. 88.. 88.. 88.. 88.. 88.. 88.. 88.. 88.. 88.. 88.. 88.. 88.. 88.. 88.. 88.. 88.. 88.. 88.. 88.. 88.. 88.. 88.. 88.. 88.. 88.. 88.. 88.. 88.. 88.. 88.. 88.. 88.. 88.. 88.. 88.. 88.. 88.. 88.. 88.. 88.. 88.. 88.. 88.. 88.. 88.. 88.. 88.. 88.. 88.. 88.. 88.. 88.. 88.. 88.. 88.. 88.. 88.. 89.. 89.. 89.. 89.. 89.. 89.. 89.. 89.. 89.. 89.. 89.. 89.. 89.. 89.. 89.. 89.. 89.. 89.. 89.. 89.. 89.. 89.. 89.. 89.. 89.. 89.. 89.. 89.. 89.. 89.. 89.. 89.. 89.. 89.. 89.. 89.. 89.. 89.. 89.. 89.. 89.. 89.. 89.. 89.. 89.. 89.. 89.. 89.. 89.. 89.. 89.. 89.. 89.. 89.. 89.. 89.. 89.. 89.. 89.. 89.. 89.. 89.. 89.. 89.. 89.. 89.. 89.. 89.. 89.. 89.. 89.. 89.. 89.. 89.. 89.. 89.. 89.. 89.. 89.. 89.. 89.. 89.. 89.. 89.. 89.. 89.. 90.. 90.. 90.. 90.. 90.. 90.. 90.. 90.. 90.. 90.. 90.. 90.. 90.. 90.. 90.. 90.. 90.. 90.. 90.. 90.. 90.. 90.. 90.. 90.. 90.. 90.. 90.. 90.. 90.. 90.. 90.. 90.. 90.. 90.. 90.. 90.. 90.. 90.. 90.. 90.. 90.. 90.. 90.. 90.. 90.. 90.. 90.. 90.. 90.. 90.. 90.. 90.. 90.. 90.. 90.. 90.. 90.. 90.. 90.. 90.. 90.. 90.. 90.. 90.. 90.. 90.. 90.. 90.. 90.. 90.. 90.. 90.. 90.. 90.. 90.. 90.. 90.. 90.. 90.. 90.. 90.. 90.. 90.. 90.. 90.. 90.. 90.. 91.. 91.. 91.. 91.. 91.. 91.. 91.. 91.. 91.. 91.. 91.. 91.. 91.. 91.. 91.. 91.. 91.. 91.. 91.. 91.. 91.. 91.. 91.. 91.. 91.. 91.. 91.. 91.. 91.. 91.. 91.. 91.. 91.. 91.. 91.. 91.. 91.. 91.. 91.. 91.. 91.. 91.. 91.. 91.. 91.. 91.. 91.. 91.. 91.. 91.. 91.. 91.. 91.. 91.. 91.. 91.. 91.. 91.. 91.. 91.. 91.. 91.. 91.. 91.. 91.. 91.. 91.. 91.. 91.. 91.. 91.. 91.. 91.. 91.. 91.. 91.. 91.. 91.. 91.. 91.. 91.. 91.. 91.. 91.. 91.. 91.. 92.. 92.. 92.. 92.. 92.. 92.. 92.. 92.. 92.. 92.. 92.. 92.. 92.. 92.. 92.. 92.. 92.. 92.. 92.. 92.. 92.. 92.. 92.. 92.. 92.. 92.. 92.. 92.. 92.. 92.. 92.. 92.. 92.. 92.. 92.. 92.. 92.. 92.. 92.. 92.. 92.. 92.. 92.. 92.. 92.. 92.. 92.. 92.. 92.. 92.. 92.. 92.. 92.. 92.. 92.. 92.. 92.. 92.. 92.. 92.. 92.. 92.. 92.. 92.. 92.. 92.. 92.. 92.. 92.. 92.. 92.. 92.. 92.. 92.. 92.. 92.. 92.. 92.. 92.. 92.. 92.. 92.. 92.. 92.. 92.. 92.. 92.. 93.. 93.. 93.. 93.. 93.. 93.. 93.. 93.. 93.. 93.. 93.. 93.. 93.. 93.. 93.. 93.. 93.. 93.. 93.. 93.. 93.. 93.. 93.. 93.. 93.. 93.. 93.. 93.. 93.. 93.. 93.. 93.. 93.. 93.. 93.. 93.. 93.. 93.. 93.. 93.. 93.. 93.. 93.. 93.. 93.. 93.. 93.. 93.. 93.. 93.. 93.. 93.. 93.. 93.. 93.. 93.. 93.. 93.. 93.. 93.. 93.. 93.. 93.. 93.. 93.. 93.. 93.. 93.. 93.. 93.. 93.. 93.. 93.. 93.. 93.. 93.. 93.. 93.. 93.. 93.. 93.. 93.. 93.. 93.. 93.. 93.. 94.. 94.. 94.. 94.. 94.. 94.. 94.. 94.. 94.. 94.. 94.. 94.. 94.. 94.. 94.. 94.. 94.. 94.. 94.. 94.. 94.. 94.. 94.. 94.. 94.. 94.. 94.. 94.. 94.. 94.. 94.. 94.. 94.. 94.. 94.. 94.. 94.. 94.. 94.. 94.. 94.. 94.. 94.. 94.. 94.. 94.. 94.. 94.. 94.. 94.. 94.. 94.. 94.. 94.. 94.. 94.. 94.. 94.. 94.. 94.. 94.. 94.. 94.. 94.. 94.. 94.. 94.. 94.. 94.. 94.. 94.. 94.. 94.. 94.. 94.. 94.. 94.. 94.. 94.. 94.. 94.. 94.. 94.. 94.. 94.. 94.. 94.. 95.. 95.. 95.. 95.. 95.. 95.. 95.. 95.. 95.. 95.. 95.. 95.. 95.. 95.. 95.. 95.. 95.. 95.. 95.. 95.. 95.. 95.. 95.. 95.. 95.. 95.. 95.. 95.. 95.. 95.. 95.. 95.. 95.. 95.. 95.. 95.. 95.. 95.. 95.. 95.. 95.. 95.. 95.. 95.. 95.. 95.. 95.. 95.. 95.. 95.. 95.. 95.. 95.. 95.. 95.. 95.. 95.. 95.. 95.. 95.. 95.. 95.. 95.. 95.. 95.. 95.. 95.. 95.. 95.. 95.. 95.. 95.. 95.. 95.. 95.. 95.. 95.. 95.. 95.. 95.. 95.. 95.. 95.. 95.. 95.. 95.. 96.. 96.. 96.. 96.. 96.. 96.. 96.. 96.. 96.. 96.. 96.. 96.. 96.. 96.. 96.. 96.. 96.. 96.. 96.. 96.. 96.. 96.. 96.. 96.. 96.. 96.. 96.. 96.. 96.. 96.. 96.. 96.. 96.. 96.. 96.. 96.. 96.. 96.. 96.. 96.. 96.. 96.. 96.. 96.. 96.. 96.. 96.. 96.. 96.. 96.. 96.. 96.. 96.. 96.. 96.. 96.. 96.. 96.. 96.. 96.. 96.. 96.. 96.. 96.. 96.. 96.. 96.. 96.. 96.. 96.. 96.. 96.. 96.. 96.. 96.. 96.. 96.. 96.. 96.. 96.. 96.. 96.. 96.. 96.. 96.. 96.. 96.. 97.. 97.. 97.. 97.. 97.. 97.. 97.. 97.. 97.. 97.. 97.. 97.. 97.. 97.. 97.. 97.. 97.. 97.. 97.. 97.. 97.. 97.. 97.. 97.. 97.. 97.. 97.. 97.. 97.. 97.. 97.. 97.. 97.. 97.. 97.. 97.. 97.. 97.. 97.. 97.. 97.. 97.. 97.. 97.. 97.. 97.. 97.. 97.. 97.. 97.. 97.. 97.. 97.. 97.. 97.. 97.. 97.. 97.. 97.. 97.. 97.. 97.. 97.. 97.. 97.. 97.. 97.. 97.. 97.. 97.. 97.. 97.. 97.. 97.. 97.. 97.. 97.. 97.. 97.. 97.. 97.. 97.. 97.. 97.. 97.. 97.. 98.. 98.. 98.. 98.. 98.. 98.. 98.. 98.. 98.. 98.. 98.. 98.. 98.. 98.. 98.. 98.. 98.. 98.. 98.. 98.. 98.. 98.. 98.. 98.. 98.. 98.. 98.. 98.. 98.. 98.. 98.. 98.. 98.. 98.. 98.. 98.. 98.. 98.. 98.. 98.. 98.. 98.. 98.. 98.. 98.. 98.. 98.. 98.. 98.. 98.. 98.. 98.. 98.. 98.. 98.. 98.. 98.. 98.. 98.. 98.. 98.. 98.. 98.. 98.. 98.. 98.. 98.. 98.. 98.. 98.. 98.. 98.. 98.. 98.. 98.. 98.. 98.. 98.. 98.. 98.. 98.. 98.. 98.. 98.. 98.. 98.. 98.. 99.. 99.. 99.. 99.. 99.. 99.. 99.. 99.. 99.. 99.. 99.. 99.. 99.. 99.. 99.. 99.. 99.. 99.. 99.. 99.. 99.. 99.. 99.. 99.. 99.. 99.. 99.. 99.. 99.. 99.. 99.. 99.. 99.. 99.. 99.. 99.. 99.. 99.. 99.. 99.. 99.. 99.. 99.. 99.. 99.. 99.. 99.. 99.. 99.. 99.. 99.. 99.. 99.. 99.. 99.. 99.. 99.. 99.. 99.. 99.. 99.. 99.. 99.. 99.. 99.. 99.. 99.. 99.. 99.. 99.. 99.. 99.. 99.. 99.. 99.. 99.. 99.. 99.. 99.. 99.. 99.. 99.. 99.. 99.. 99.. 99.. 100 - Done\n"
     ]
    }
   ],
   "source": [
    "!time gdal_calc.py  \\\n",
    "    -A  {result_path('predictions.tif')}   \\\n",
    "    --A_band=1 \\\n",
    "    -B  {raster_path('mask_agri_aoi_aligned')} \\\n",
    "    --B_band=1 \\\n",
    "    --calc='((B==1)*A)+((B==0)*0)' \\\n",
    "    --outfile {result_path('predictions_masked.tif')}"
   ]
  },
  {
   "cell_type": "markdown",
   "id": "906b7dc7-cdcc-4f56-98df-5078d3625543",
   "metadata": {},
   "source": [
    "7. Generamos archivos csv con ambas predicciones."
   ]
  },
  {
   "cell_type": "code",
   "execution_count": 58,
   "id": "c42d1913-b249-4513-bf25-912b01c75dc2",
   "metadata": {},
   "outputs": [
    {
     "name": "stdout",
     "output_type": "stream",
     "text": [
      "gdal2xyz.py -band 1 ../results/predictions.tif ../results/predictions.csv  174.57s user 3.28s system 100% cpu 2:56.77 total\n"
     ]
    }
   ],
   "source": [
    "!time gdal2xyz.py \\\n",
    "    -band 1 \\\n",
    "    {result_path('predictions.tif')}  \\\n",
    "    {result_path('predictions.csv')}"
   ]
  },
  {
   "cell_type": "code",
   "execution_count": 66,
   "id": "1a5bbedc-1c6a-4f18-a640-4a1f38eee64a",
   "metadata": {},
   "outputs": [
    {
     "name": "stdout",
     "output_type": "stream",
     "text": [
      "3.6G\t../results/predictions.csv\n"
     ]
    }
   ],
   "source": [
    "!du -h {result_path('predictions.csv')}"
   ]
  },
  {
   "cell_type": "code",
   "execution_count": 59,
   "id": "c771f126-f05d-4d4a-8775-82457d673630",
   "metadata": {},
   "outputs": [
    {
     "name": "stdout",
     "output_type": "stream",
     "text": [
      "gdal2xyz.py -band 1 ../results/predictions_masked.tif   195.29s user 3.83s system 100% cpu 3:18.03 total\n"
     ]
    }
   ],
   "source": [
    "!time gdal2xyz.py \\\n",
    "    -band 1 \\\n",
    "    {result_path('predictions_masked.tif')}  \\\n",
    "    {result_path('predictions_masked.csv')}"
   ]
  },
  {
   "cell_type": "code",
   "execution_count": 67,
   "id": "b3f3127f-497f-4c5e-bc54-a989d9482b7e",
   "metadata": {},
   "outputs": [
    {
     "name": "stdout",
     "output_type": "stream",
     "text": [
      "4.1G\t../results/predictions_masked.csv\n"
     ]
    }
   ],
   "source": [
    "!du -h {result_path('predictions_masked.csv')}"
   ]
  },
  {
   "cell_type": "markdown",
   "id": "8315f722-cce5-4333-8e47-57490d693048",
   "metadata": {},
   "source": [
    "8. Calculo de hectareas pare Maíz y Soja."
   ]
  },
  {
   "cell_type": "code",
   "execution_count": 60,
   "id": "76a46f4c-4a0f-4f7c-888d-af97ca5d3bba",
   "metadata": {},
   "outputs": [],
   "source": [
    "class Mapper:\n",
    "    labels = {\n",
    "        1:  'SOJA',\n",
    "        2:  'MAIZ',\n",
    "        3:  'MAIZ',\n",
    "        4:  'SOJA',\n",
    "        5:  'OTHER',\n",
    "        10: 'OTHER',\n",
    "        20: 'OTHER'\n",
    "    }\n",
    "    def map(self, value): \n",
    "        return 'NOTHING' if value <=0 or value >= 30 else self.labels[value]\n",
    "\n",
    "def load_predictions(path):\n",
    "    predictions = pd.read_csv(path, header=None, delimiter=r\"\\s+\")\n",
    "    predictions = predictions.rename(columns={0: 'X', 1: 'Y', 2: 'LABEL_NUM'})\n",
    "    predictions['LABEL'] = predictions['LABEL_NUM'].apply(Mapper().map)\n",
    "    return predictions[predictions['LABEL'] != 'NOTHING']\n",
    "    \n",
    "def hectareas(df):\n",
    "    df2 = df.groupby(['LABEL'])[['LABEL_NUM']] \\\n",
    "            .count() * 0.04\n",
    "    return df2.sort_values('LABEL_NUM', ascending=False) \\\n",
    "              .reset_index() \\\n",
    "              .rename(columns={'LABEL': 'Tipo de Cultivo', 'LABEL_NUM':'Hectareas'})"
   ]
  },
  {
   "cell_type": "code",
   "execution_count": 61,
   "id": "22324103-345b-4ef0-b82c-701f06db4344",
   "metadata": {},
   "outputs": [],
   "source": [
    "predictions = load_predictions(result_path('predictions.csv'))"
   ]
  },
  {
   "cell_type": "code",
   "execution_count": 62,
   "id": "e231843b-39a7-4629-bbce-8212a3436992",
   "metadata": {},
   "outputs": [
    {
     "data": {
      "text/html": [
       "<div>\n",
       "<style scoped>\n",
       "    .dataframe tbody tr th:only-of-type {\n",
       "        vertical-align: middle;\n",
       "    }\n",
       "\n",
       "    .dataframe tbody tr th {\n",
       "        vertical-align: top;\n",
       "    }\n",
       "\n",
       "    .dataframe thead th {\n",
       "        text-align: right;\n",
       "    }\n",
       "</style>\n",
       "<table border=\"1\" class=\"dataframe\">\n",
       "  <thead>\n",
       "    <tr style=\"text-align: right;\">\n",
       "      <th></th>\n",
       "      <th>Tipo de Cultivo</th>\n",
       "      <th>Hectareas</th>\n",
       "    </tr>\n",
       "  </thead>\n",
       "  <tbody>\n",
       "    <tr>\n",
       "      <th>0</th>\n",
       "      <td>SOJA</td>\n",
       "      <td>3031001.36</td>\n",
       "    </tr>\n",
       "    <tr>\n",
       "      <th>1</th>\n",
       "      <td>MAIZ</td>\n",
       "      <td>2244241.32</td>\n",
       "    </tr>\n",
       "    <tr>\n",
       "      <th>2</th>\n",
       "      <td>OTHER</td>\n",
       "      <td>214220.52</td>\n",
       "    </tr>\n",
       "  </tbody>\n",
       "</table>\n",
       "</div>"
      ]
     },
     "execution_count": 62,
     "metadata": {},
     "output_type": "execute_result"
    }
   ],
   "source": [
    "hectareas(predictions)"
   ]
  },
  {
   "cell_type": "code",
   "execution_count": 63,
   "id": "a3762348-7290-41a9-95c4-015134ce6269",
   "metadata": {},
   "outputs": [],
   "source": [
    "predictions_masked = load_predictions(result_path('predictions_masked.csv'))"
   ]
  },
  {
   "cell_type": "code",
   "execution_count": 64,
   "id": "55053579-8b05-4e16-bc65-c5f9771882f5",
   "metadata": {},
   "outputs": [
    {
     "data": {
      "text/html": [
       "<div>\n",
       "<style scoped>\n",
       "    .dataframe tbody tr th:only-of-type {\n",
       "        vertical-align: middle;\n",
       "    }\n",
       "\n",
       "    .dataframe tbody tr th {\n",
       "        vertical-align: top;\n",
       "    }\n",
       "\n",
       "    .dataframe thead th {\n",
       "        text-align: right;\n",
       "    }\n",
       "</style>\n",
       "<table border=\"1\" class=\"dataframe\">\n",
       "  <thead>\n",
       "    <tr style=\"text-align: right;\">\n",
       "      <th></th>\n",
       "      <th>Tipo de Cultivo</th>\n",
       "      <th>Hectareas</th>\n",
       "    </tr>\n",
       "  </thead>\n",
       "  <tbody>\n",
       "    <tr>\n",
       "      <th>0</th>\n",
       "      <td>MAIZ</td>\n",
       "      <td>861836.32</td>\n",
       "    </tr>\n",
       "    <tr>\n",
       "      <th>1</th>\n",
       "      <td>SOJA</td>\n",
       "      <td>719000.64</td>\n",
       "    </tr>\n",
       "    <tr>\n",
       "      <th>2</th>\n",
       "      <td>OTHER</td>\n",
       "      <td>22795.80</td>\n",
       "    </tr>\n",
       "  </tbody>\n",
       "</table>\n",
       "</div>"
      ]
     },
     "execution_count": 64,
     "metadata": {},
     "output_type": "execute_result"
    }
   ],
   "source": [
    "hectareas(predictions_masked)"
   ]
  }
 ],
 "metadata": {
  "kernelspec": {
   "display_name": "Python 3 (ipykernel)",
   "language": "python",
   "name": "python3"
  },
  "language_info": {
   "codemirror_mode": {
    "name": "ipython",
    "version": 3
   },
   "file_extension": ".py",
   "mimetype": "text/x-python",
   "name": "python",
   "nbconvert_exporter": "python",
   "pygments_lexer": "ipython3",
   "version": "3.10.4"
  }
 },
 "nbformat": 4,
 "nbformat_minor": 5
}
