{
 "cells": [
  {
   "cell_type": "markdown",
   "id": "71c4cc60-f39b-400e-b3bf-64822f91adaf",
   "metadata": {},
   "source": [
    "# Maestria en Explotacion de datos y Descubrimiento de conocimiento\n",
    "### Sistemas de información geografica\n",
    "### Trabajo Practico N°2"
   ]
  },
  {
   "cell_type": "markdown",
   "id": "246f29a3-278c-48d3-bafe-cfe4884a3268",
   "metadata": {},
   "source": [
    "## Descargar Dataset"
   ]
  },
  {
   "cell_type": "code",
   "execution_count": 1,
   "id": "20230ff9-f182-44ca-8abb-db4bacef172d",
   "metadata": {},
   "outputs": [],
   "source": [
    "IMAGES_PATH            = \"../datasets/images\"\n",
    "DATA_PATH              = \"../datasets/data\""
   ]
  },
  {
   "cell_type": "code",
   "execution_count": 2,
   "id": "742cf621-41c5-4d2a-a46b-45467b7a2be2",
   "metadata": {},
   "outputs": [],
   "source": [
    "!mkdir -p {IMAGES_PATH}\n",
    "!mkdir -p {DATA_PATH}"
   ]
  },
  {
   "cell_type": "markdown",
   "id": "ae9936ce-6bfb-41d7-b577-f302d693d9d3",
   "metadata": {},
   "source": [
    "Descargamos departamentos y verdad de campo desde google cloud:"
   ]
  },
  {
   "cell_type": "code",
   "execution_count": 6,
   "id": "a4e0063b-df3b-4282-939c-167d53898f9d",
   "metadata": {},
   "outputs": [
    {
     "name": "stdout",
     "output_type": "stream",
     "text": [
      "  % Total    % Received % Xferd  Average Speed   Time    Time     Time  Current\n",
      "                                 Dload  Upload   Total   Spent    Left  Speed\n",
      "100 41492  100 41492    0     0   123k      0 --:--:-- --:--:-- --:--:--  123k\n"
     ]
    }
   ],
   "source": [
    "!cd  {DATA_PATH}; curl https://storage.googleapis.com/gis2022-teledeteccion/tp-teledeteccion-2/departamentos.zip -o departamentos.zip"
   ]
  },
  {
   "cell_type": "code",
   "execution_count": 7,
   "id": "8b39dddb-5375-4662-96c7-ccaf117e49e6",
   "metadata": {},
   "outputs": [
    {
     "name": "stdout",
     "output_type": "stream",
     "text": [
      "  % Total    % Received % Xferd  Average Speed   Time    Time     Time  Current\n",
      "                                 Dload  Upload   Total   Spent    Left  Speed\n",
      "100 10306  100 10306    0     0  34656      0 --:--:-- --:--:-- --:--:-- 34700\n"
     ]
    }
   ],
   "source": [
    "!cd  {DATA_PATH}; curl https://storage.googleapis.com/gis2022-teledeteccion/tp-teledeteccion-2/verdad_campo.zip -o verdad_campo.zip"
   ]
  },
  {
   "cell_type": "code",
   "execution_count": 8,
   "id": "e9c6002d-be84-4697-9865-aa9c47099c0a",
   "metadata": {},
   "outputs": [
    {
     "name": "stdout",
     "output_type": "stream",
     "text": [
      "Archive:  verdad_campo.zip\n",
      " extracting: verdad_campo.cpg        \n",
      "  inflating: verdad_campo.dbf        \n",
      "  inflating: verdad_campo.prj        \n",
      "  inflating: verdad_campo.shp        \n",
      "  inflating: verdad_campo.shx        \n"
     ]
    }
   ],
   "source": [
    "!cd  {DATA_PATH}; unzip verdad_campo.zip"
   ]
  },
  {
   "cell_type": "code",
   "execution_count": 9,
   "id": "fec3b08d-4011-47f8-8a70-b0f27efb341a",
   "metadata": {},
   "outputs": [
    {
     "name": "stdout",
     "output_type": "stream",
     "text": [
      "Archive:  departamentos.zip\n",
      " extracting: departamentos.cpg       \n",
      "  inflating: departamentos.dbf       \n",
      "  inflating: departamentos.prj       \n",
      "  inflating: departamentos.shp       \n",
      "  inflating: departamentos.shx       \n"
     ]
    }
   ],
   "source": [
    "!cd  {DATA_PATH}; unzip departamentos.zip"
   ]
  },
  {
   "cell_type": "code",
   "execution_count": 10,
   "id": "247b6819-97d5-4b80-abb4-984890a0cb8f",
   "metadata": {},
   "outputs": [
    {
     "name": "stdout",
     "output_type": "stream",
     "text": [
      "4.0K\tdepartamentos.cpg\n",
      "4.0K\tdepartamentos.dbf\n",
      "4.0K\tdepartamentos.prj\n",
      " 80K\tdepartamentos.shp\n",
      "4.0K\tdepartamentos.shx\n",
      " 44K\tdepartamentos.zip\n",
      "4.0K\tverdad_campo.cpg\n",
      " 16K\tverdad_campo.dbf\n",
      "4.0K\tverdad_campo.prj\n",
      " 16K\tverdad_campo.shp\n",
      "4.0K\tverdad_campo.shx\n",
      " 12K\tverdad_campo.zip\n"
     ]
    }
   ],
   "source": [
    "!cd {DATA_PATH}; du -h * "
   ]
  },
  {
   "cell_type": "markdown",
   "id": "d8bf64e0-987e-4ae3-8d4c-1e1396a05c1a",
   "metadata": {},
   "source": [
    "Descargamos las imagen inicial desde el bucket plublico en google cloud:"
   ]
  },
  {
   "cell_type": "code",
   "execution_count": 11,
   "id": "9feb578a-cad7-4704-8ade-452029e14432",
   "metadata": {},
   "outputs": [],
   "source": [
    "def download_images(dates):\n",
    "    files = ['0000000000', '0000012544']\n",
    "    path = 'https://storage.googleapis.com/gis2022-teledeteccion/tp-teledeteccion-2/images'\n",
    "    \n",
    "    for date in dates:\n",
    "        !mkdir {IMAGES_PATH}/{date}\n",
    "        for file in files:\n",
    "            !cd {IMAGES_PATH}/{date}; curl {path}/{date}/0000000000-{file}.tif -o 0000000000-{file}.tif"
   ]
  },
  {
   "cell_type": "code",
   "execution_count": 12,
   "id": "06f5b79f-4056-42dd-8c51-bbd2be4eaa9c",
   "metadata": {},
   "outputs": [
    {
     "name": "stdout",
     "output_type": "stream",
     "text": [
      "  % Total    % Received % Xferd  Average Speed   Time    Time     Time  Current\n",
      "                                 Dload  Upload   Total   Spent    Left  Speed\n",
      "100 1738M  100 1738M    0     0  6665k      0  0:04:27  0:04:27 --:--:-- 6819k 6598k      0  0:04:29  0:00:18  0:04:11 7102k 0  6785k      0  0:04:22  0:00:41  0:03:41 6469k0  6748k      0  0:04:23  0:01:01  0:03:22 7137k  0  0:04:21  0:01:18  0:03:03 7141k  0:01:24  0:02:58 6528k6704k      0  0:04:25  0:01:59  0:02:26 5770k02:19  0:02:11 4858k65k      0  0:04:31  0:02:24  0:02:07 5921k      0  0:04:28  0:02:49  0:01:39 6981k04:27  0:03:10  0:01:17 7231k  0  0:04:26  0:03:31  0:00:55 7061k   0     0  6672k      0  0:04:26  0:03:41  0:00:45 5755k  0  0:04:26  0:04:18  0:00:08 6156k\n",
      "  % Total    % Received % Xferd  Average Speed   Time    Time     Time  Current\n",
      "                                 Dload  Upload   Total   Spent    Left  Speed\n",
      "100  247M  100  247M    0     0  6198k      0  0:00:40  0:00:40 --:--:-- 7308k\n",
      "  % Total    % Received % Xferd  Average Speed   Time    Time     Time  Current\n",
      "                                 Dload  Upload   Total   Spent    Left  Speed\n",
      "100 1736M  100 1736M    0     0  7061k      0  0:04:11  0:04:11 --:--:-- 7151k    0  0:04:35  0:00:37  0:03:58 6659k   0  0:04:26  0:00:52  0:03:34 7151k    0  0:04:17  0:01:33  0:02:44 7256k  6914k      0  0:04:17  0:01:38  0:02:39 7134k6963k      0  0:04:15  0:01:55  0:02:20 7456k 0  0:04:13  0:02:52  0:01:21 6737k\n",
      "  % Total    % Received % Xferd  Average Speed   Time    Time     Time  Current\n",
      "                                 Dload  Upload   Total   Spent    Left  Speed\n",
      "100  249M  100  249M    0     0  6909k      0  0:00:37  0:00:37 --:--:-- 7483kk      0  0:00:38  0:00:22  0:00:16 7234k\n",
      "  % Total    % Received % Xferd  Average Speed   Time    Time     Time  Current\n",
      "                                 Dload  Upload   Total   Spent    Left  Speed\n",
      " 15 1762M   15  276M    0     0  6977k      0  0:04:18  0:00:40  0:03:38 6958k  0:00:28  0:03:53 7122k^C\n",
      "  % Total    % Received % Xferd  Average Speed   Time    Time     Time  Current\n",
      "                                 Dload  Upload   Total   Spent    Left  Speed\n",
      "100  248M  100  248M    0     0  6975k      0  0:00:36  0:00:36 --:--:-- 7501k00:48  0:00:05  0:00:43 6873k:06  0:00:39 7327k0:19  0:00:18 7460k0:00:12 7185k\n",
      "  % Total    % Received % Xferd  Average Speed   Time    Time     Time  Current\n",
      "                                 Dload  Upload   Total   Spent    Left  Speed\n",
      "100 1790M  100 1790M    0     0  7111k      0  0:04:17  0:04:17 --:--:-- 7460k:28  0:00:30  0:03:58 7116k03:37 7187k7  0:03:34 7465k81k      0  0:04:18  0:01:02  0:03:16 7463k 0  0:04:20  0:02:11  0:02:09 7385k 0:04:20  0:02:34  0:01:46 6988k0  0:04:20  0:02:35  0:01:45 7160k  67 1201M    0     0  7055k      0  0:04:19  0:02:54  0:01:25 7119k04:19  0:03:30  0:00:49 6797k   0  0:04:18  0:03:32  0:00:46 6750k0  7094k      0  0:04:18  0:03:55  0:00:23 7276k    0  7106k      0  0:04:17  0:04:14  0:00:03 7280k\n",
      "  % Total    % Received % Xferd  Average Speed   Time    Time     Time  Current\n",
      "                                 Dload  Upload   Total   Spent    Left  Speed\n",
      "100  253M  100  253M    0     0  6870k      0  0:00:37  0:00:37 --:--:-- 7199k0:38  0:00:33  0:00:05 7046k\n",
      "  % Total    % Received % Xferd  Average Speed   Time    Time     Time  Current\n",
      "                                 Dload  Upload   Total   Spent    Left  Speed\n",
      "100 1788M  100 1788M    0     0  7037k      0  0:04:20  0:04:20 --:--:-- 7108k1k0M    0     0  7085k      0  0:04:18  0:00:59  0:03:19 7267k2:59 7456k15M    0     0  6953k      0  0:04:23  0:01:45  0:02:38 7206k   0  0:04:20  0:02:44  0:01:36 7337k  0:02:55  0:01:25 6949k  7062k      0  0:04:19  0:03:27  0:00:52 7080k 7045k      0  0:04:19  0:03:41  0:00:38 6019k\n",
      "  % Total    % Received % Xferd  Average Speed   Time    Time     Time  Current\n",
      "                                 Dload  Upload   Total   Spent    Left  Speed\n",
      "100  256M  100  256M    0     0  6954k      0  0:00:37  0:00:37 --:--:-- 7545k\n",
      "  % Total    % Received % Xferd  Average Speed   Time    Time     Time  Current\n",
      "                                 Dload  Upload   Total   Spent    Left  Speed\n",
      "100 1763M  100 1763M    0     0  7188k      0  0:04:11  0:04:11 --:--:-- 7439k27k      0  0:04:20  0:00:24  0:03:56 7317k   0  6933k      0  0:04:20  0:00:27  0:03:53 7197k  7033k      0  0:04:16  0:00:42  0:03:34 6714k 0:04:14  0:00:48  0:03:26 7552k  0     0  7148k      0  0:04:12  0:01:16  0:02:56 7177k 0:04:11  0:02:59  0:01:12 7515k      0  0:04:11  0:04:04  0:00:07 7271k\n",
      "  % Total    % Received % Xferd  Average Speed   Time    Time     Time  Current\n",
      "                                 Dload  Upload   Total   Spent    Left  Speed\n",
      "100  257M  100  257M    0     0  6928k      0  0:00:38  0:00:37  0:00:01 7176k      0  0:00:45  0:00:06  0:00:39 7259k:00:29  0:00:09 7206k38  0:00:38 --:--:-- 7141k\n"
     ]
    }
   ],
   "source": [
    "download_images([\n",
    "    '2020-10-01', \n",
    "    '2020-11-01', \n",
    "    '2020-12-01',\n",
    "    '2021-01-01', \n",
    "    '2021-02-20', \n",
    "    '2021-03-17'\n",
    "])"
   ]
  },
  {
   "cell_type": "code",
   "execution_count": 13,
   "id": "cbf1e772-57b9-464c-b456-d9f0a661201f",
   "metadata": {},
   "outputs": [
    {
     "name": "stdout",
     "output_type": "stream",
     "text": [
      "5.5G\t2020-10-01\n",
      "4.5G\t2020-11-01\n",
      "545M\t2020-12-01\n",
      "2.0G\t2021-01-01\n",
      "2.0G\t2021-02-20\n",
      "2.0G\t2021-03-17\n"
     ]
    }
   ],
   "source": [
    "!cd {IMAGES_PATH}; du -h * "
   ]
  }
 ],
 "metadata": {
  "kernelspec": {
   "display_name": "Python 3 (ipykernel)",
   "language": "python",
   "name": "python3"
  },
  "language_info": {
   "codemirror_mode": {
    "name": "ipython",
    "version": 3
   },
   "file_extension": ".py",
   "mimetype": "text/x-python",
   "name": "python",
   "nbconvert_exporter": "python",
   "pygments_lexer": "ipython3",
   "version": "3.10.4"
  }
 },
 "nbformat": 4,
 "nbformat_minor": 5
}
