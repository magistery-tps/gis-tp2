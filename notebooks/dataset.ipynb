{
 "cells": [
  {
   "cell_type": "markdown",
   "id": "71c4cc60-f39b-400e-b3bf-64822f91adaf",
   "metadata": {},
   "source": [
    "# Maestria en Explotacion de datos y Descubrimiento de conocimiento\n",
    "### Sistemas de información geografica\n",
    "### Trabajo Practico N°2"
   ]
  },
  {
   "cell_type": "markdown",
   "id": "246f29a3-278c-48d3-bafe-cfe4884a3268",
   "metadata": {},
   "source": [
    "## Descargar Dataset"
   ]
  },
  {
   "cell_type": "code",
   "execution_count": 1,
   "id": "20230ff9-f182-44ca-8abb-db4bacef172d",
   "metadata": {},
   "outputs": [],
   "source": [
    "IMAGES_PATH = \"../datasets/images\"\n",
    "DATA_PATH   = \"../datasets/data\""
   ]
  },
  {
   "cell_type": "code",
   "execution_count": 2,
   "id": "742cf621-41c5-4d2a-a46b-45467b7a2be2",
   "metadata": {},
   "outputs": [],
   "source": [
    "!mkdir -p {IMAGES_PATH}\n",
    "!mkdir -p {DATA_PATH}"
   ]
  },
  {
   "cell_type": "markdown",
   "id": "ae9936ce-6bfb-41d7-b577-f302d693d9d3",
   "metadata": {},
   "source": [
    "Descargamos departamentos y verdad de campo desde google cloud:"
   ]
  },
  {
   "cell_type": "code",
   "execution_count": 3,
   "id": "a4e0063b-df3b-4282-939c-167d53898f9d",
   "metadata": {},
   "outputs": [
    {
     "name": "stdout",
     "output_type": "stream",
     "text": [
      "--2022-06-10 20:38:17--  https://storage.googleapis.com/gis2022-teledeteccion/tp-teledeteccion-2/departamentos.zip\n",
      "Loaded CA certificate '/etc/ssl/certs/ca-certificates.crt'\n",
      "Resolving storage.googleapis.com (storage.googleapis.com)... 172.217.172.80, 216.58.202.112, 142.250.79.144, ...\n",
      "Connecting to storage.googleapis.com (storage.googleapis.com)|172.217.172.80|:443... connected.\n",
      "HTTP request sent, awaiting response... 200 OK\n",
      "Length: 41492 (41K) [application/zip]\n",
      "Saving to: ‘departamentos.zip’\n",
      "\n",
      "departamentos.zip   100%[===================>]  40.52K  --.-KB/s    in 0.04s   \n",
      "\n",
      "2022-06-10 20:38:17 (1.05 MB/s) - ‘departamentos.zip’ saved [41492/41492]\n",
      "\n"
     ]
    }
   ],
   "source": [
    "!cd  {DATA_PATH}; wget https://storage.googleapis.com/gis2022-teledeteccion/tp-teledeteccion-2/departamentos.zip"
   ]
  },
  {
   "cell_type": "code",
   "execution_count": 4,
   "id": "8b39dddb-5375-4662-96c7-ccaf117e49e6",
   "metadata": {},
   "outputs": [
    {
     "name": "stdout",
     "output_type": "stream",
     "text": [
      "--2022-06-10 20:38:18--  https://storage.googleapis.com/gis2022-teledeteccion/tp-teledeteccion-2/verdad_campo.zip\n",
      "Loaded CA certificate '/etc/ssl/certs/ca-certificates.crt'\n",
      "Resolving storage.googleapis.com (storage.googleapis.com)... 142.251.133.80, 172.217.172.80, 216.58.202.112, ...\n",
      "Connecting to storage.googleapis.com (storage.googleapis.com)|142.251.133.80|:443... connected.\n",
      "HTTP request sent, awaiting response... 200 OK\n",
      "Length: 10306 (10K) [application/zip]\n",
      "Saving to: ‘verdad_campo.zip’\n",
      "\n",
      "verdad_campo.zip    100%[===================>]  10.06K  --.-KB/s    in 0s      \n",
      "\n",
      "2022-06-10 20:38:18 (152 MB/s) - ‘verdad_campo.zip’ saved [10306/10306]\n",
      "\n"
     ]
    }
   ],
   "source": [
    "!cd  {DATA_PATH}; wget https://storage.googleapis.com/gis2022-teledeteccion/tp-teledeteccion-2/verdad_campo.zip"
   ]
  },
  {
   "cell_type": "code",
   "execution_count": 15,
   "id": "e9c6002d-be84-4697-9865-aa9c47099c0a",
   "metadata": {},
   "outputs": [
    {
     "name": "stdout",
     "output_type": "stream",
     "text": [
      "Archive:  verdad_campo.zip\n",
      " extracting: verdad_campo.cpg        \n",
      "  inflating: verdad_campo.dbf        \n",
      "  inflating: verdad_campo.prj        \n",
      "  inflating: verdad_campo.shp        \n",
      "  inflating: verdad_campo.shx        \n"
     ]
    }
   ],
   "source": [
    "!cd  {DATA_PATH}; unzip verdad_campo.zip"
   ]
  },
  {
   "cell_type": "code",
   "execution_count": 16,
   "id": "fec3b08d-4011-47f8-8a70-b0f27efb341a",
   "metadata": {},
   "outputs": [
    {
     "name": "stdout",
     "output_type": "stream",
     "text": [
      "Archive:  departamentos.zip\n",
      " extracting: departamentos.cpg       \n",
      "  inflating: departamentos.dbf       \n",
      "  inflating: departamentos.prj       \n",
      "  inflating: departamentos.shp       \n",
      "  inflating: departamentos.shx       \n"
     ]
    }
   ],
   "source": [
    "!cd  {DATA_PATH}; unzip departamentos.zip"
   ]
  },
  {
   "cell_type": "code",
   "execution_count": 17,
   "id": "247b6819-97d5-4b80-abb4-984890a0cb8f",
   "metadata": {},
   "outputs": [
    {
     "name": "stdout",
     "output_type": "stream",
     "text": [
      "4.0K\tdepartamentos.cpg\n",
      "4.0K\tdepartamentos.dbf\n",
      "4.0K\tdepartamentos.prj\n",
      "80K\tdepartamentos.shp\n",
      "4.0K\tdepartamentos.shx\n",
      "44K\tdepartamentos.zip\n",
      "4.0K\tverdad_campo.cpg\n",
      "16K\tverdad_campo.dbf\n",
      "4.0K\tverdad_campo.prj\n",
      "16K\tverdad_campo.shp\n",
      "4.0K\tverdad_campo.shx\n",
      "12K\tverdad_campo.zip\n"
     ]
    }
   ],
   "source": [
    "!cd {DATA_PATH}; du -h * "
   ]
  },
  {
   "cell_type": "markdown",
   "id": "d8bf64e0-987e-4ae3-8d4c-1e1396a05c1a",
   "metadata": {},
   "source": [
    "Descargamos las imagen inicial desde el bucket plublico en google cloud:"
   ]
  },
  {
   "cell_type": "code",
   "execution_count": 10,
   "id": "9feb578a-cad7-4704-8ade-452029e14432",
   "metadata": {},
   "outputs": [],
   "source": [
    "def download_images(dates):\n",
    "    files = ['0000000000', '0000012544']\n",
    "    path = 'https://storage.googleapis.com/gis2022-teledeteccion/tp-teledeteccion-2/images'\n",
    "    \n",
    "    for date in dates:\n",
    "        !mkdir {IMAGES_PATH}/{date}\n",
    "        for file in files:\n",
    "            !cd {IMAGES_PATH}/{date}; wget {path}/{date}/0000000000-{file}.tif"
   ]
  },
  {
   "cell_type": "code",
   "execution_count": 11,
   "id": "06f5b79f-4056-42dd-8c51-bbd2be4eaa9c",
   "metadata": {},
   "outputs": [
    {
     "name": "stdout",
     "output_type": "stream",
     "text": [
      "--2022-06-10 20:40:00--  https://storage.googleapis.com/gis2022-teledeteccion/tp-teledeteccion-2/images/2020-10-01/0000000000-0000000000.tif\n",
      "Loaded CA certificate '/etc/ssl/certs/ca-certificates.crt'\n",
      "Resolving storage.googleapis.com (storage.googleapis.com)... 142.250.79.112, 142.251.133.16, 142.251.133.80, ...\n",
      "Connecting to storage.googleapis.com (storage.googleapis.com)|142.250.79.112|:443... connected.\n",
      "HTTP request sent, awaiting response... 200 OK\n",
      "Length: 1822790615 (1.7G) [image/tiff]\n",
      "Saving to: ‘0000000000-0000000000.tif’\n",
      "\n",
      "0000000000-00000000 100%[===================>]   1.70G  7.26MB/s    in 4m 8s   \n",
      "\n",
      "2022-06-10 20:44:10 (7.00 MB/s) - ‘0000000000-0000000000.tif’ saved [1822790615/1822790615]\n",
      "\n",
      "--2022-06-10 20:44:10--  https://storage.googleapis.com/gis2022-teledeteccion/tp-teledeteccion-2/images/2020-10-01/0000000000-0000012544.tif\n",
      "Loaded CA certificate '/etc/ssl/certs/ca-certificates.crt'\n",
      "Resolving storage.googleapis.com (storage.googleapis.com)... 142.251.133.80, 142.251.133.16, 142.251.133.48, ...\n",
      "Connecting to storage.googleapis.com (storage.googleapis.com)|142.251.133.80|:443... connected.\n",
      "HTTP request sent, awaiting response... 200 OK\n",
      "Length: 259483060 (247M) [image/tiff]\n",
      "Saving to: ‘0000000000-0000012544.tif’\n",
      "\n",
      "0000000000-00000125 100%[===================>] 247.46M  7.07MB/s    in 35s     \n",
      "\n",
      "2022-06-10 20:44:46 (7.12 MB/s) - ‘0000000000-0000012544.tif’ saved [259483060/259483060]\n",
      "\n",
      "--2022-06-10 20:44:47--  https://storage.googleapis.com/gis2022-teledeteccion/tp-teledeteccion-2/images/2020-11-01/0000000000-0000000000.tif\n",
      "Loaded CA certificate '/etc/ssl/certs/ca-certificates.crt'\n",
      "Resolving storage.googleapis.com (storage.googleapis.com)... 142.250.79.80, 142.251.133.80, 142.251.133.16, ...\n",
      "Connecting to storage.googleapis.com (storage.googleapis.com)|142.250.79.80|:443... connected.\n",
      "HTTP request sent, awaiting response... 200 OK\n",
      "Length: 1821280013 (1.7G) [image/tiff]\n",
      "Saving to: ‘0000000000-0000000000.tif’\n",
      "\n",
      "0000000000-00000000 100%[===================>]   1.70G  6.12MB/s    in 4m 44s  \n",
      "\n",
      "2022-06-10 20:49:33 (6.11 MB/s) - ‘0000000000-0000000000.tif’ saved [1821280013/1821280013]\n",
      "\n",
      "--2022-06-10 20:49:33--  https://storage.googleapis.com/gis2022-teledeteccion/tp-teledeteccion-2/images/2020-11-01/0000000000-0000012544.tif\n",
      "Loaded CA certificate '/etc/ssl/certs/ca-certificates.crt'\n",
      "Resolving storage.googleapis.com (storage.googleapis.com)... 142.251.133.48, 172.217.172.112, 142.251.133.80, ...\n",
      "Connecting to storage.googleapis.com (storage.googleapis.com)|142.251.133.48|:443... connected.\n",
      "HTTP request sent, awaiting response... 200 OK\n",
      "Length: 261836047 (250M) [image/tiff]\n",
      "Saving to: ‘0000000000-0000012544.tif’\n",
      "\n",
      "0000000000-00000125 100%[===================>] 249.71M  8.18MB/s    in 30s     \n",
      "\n",
      "2022-06-10 20:50:03 (8.43 MB/s) - ‘0000000000-0000012544.tif’ saved [261836047/261836047]\n",
      "\n",
      "--2022-06-10 20:50:03--  https://storage.googleapis.com/gis2022-teledeteccion/tp-teledeteccion-2/images/2020-12-01/0000000000-0000000000.tif\n",
      "Loaded CA certificate '/etc/ssl/certs/ca-certificates.crt'\n",
      "Resolving storage.googleapis.com (storage.googleapis.com)... 172.217.172.80, 142.251.133.48, 172.217.172.112, ...\n",
      "Connecting to storage.googleapis.com (storage.googleapis.com)|172.217.172.80|:443... connected.\n",
      "HTTP request sent, awaiting response... 200 OK\n",
      "Length: 1848080948 (1.7G) [image/tiff]\n",
      "Saving to: ‘0000000000-0000000000.tif’\n",
      "\n",
      "0000000000-00000000 100%[===================>]   1.72G  9.16MB/s    in 3m 49s  \n",
      "\n",
      "2022-06-10 20:53:54 (7.70 MB/s) - ‘0000000000-0000000000.tif’ saved [1848080948/1848080948]\n",
      "\n",
      "--2022-06-10 20:53:54--  https://storage.googleapis.com/gis2022-teledeteccion/tp-teledeteccion-2/images/2020-12-01/0000000000-0000012544.tif\n",
      "Loaded CA certificate '/etc/ssl/certs/ca-certificates.crt'\n",
      "Resolving storage.googleapis.com (storage.googleapis.com)... 142.251.133.16, 142.250.79.144, 142.250.79.112, ...\n",
      "Connecting to storage.googleapis.com (storage.googleapis.com)|142.251.133.16|:443... connected.\n",
      "HTTP request sent, awaiting response... 200 OK\n",
      "Length: 260923235 (249M) [image/tiff]\n",
      "Saving to: ‘0000000000-0000012544.tif’\n",
      "\n",
      "0000000000-00000125 100%[===================>] 248.83M  8.83MB/s    in 33s     \n",
      "\n",
      "2022-06-10 20:54:28 (7.63 MB/s) - ‘0000000000-0000012544.tif’ saved [260923235/260923235]\n",
      "\n",
      "--2022-06-10 20:54:28--  https://storage.googleapis.com/gis2022-teledeteccion/tp-teledeteccion-2/images/2021-01-01/0000000000-0000000000.tif\n",
      "Loaded CA certificate '/etc/ssl/certs/ca-certificates.crt'\n",
      "Resolving storage.googleapis.com (storage.googleapis.com)... 142.251.133.80, 142.251.133.48, 142.251.133.16, ...\n",
      "Connecting to storage.googleapis.com (storage.googleapis.com)|142.251.133.80|:443... connected.\n",
      "HTTP request sent, awaiting response... 200 OK\n",
      "Length: 1877105105 (1.7G) [image/tiff]\n",
      "Saving to: ‘0000000000-0000000000.tif’\n",
      "\n",
      "0000000000-00000000 100%[===================>]   1.75G  8.45MB/s    in 3m 51s  \n",
      "\n",
      "2022-06-10 20:58:21 (7.75 MB/s) - ‘0000000000-0000000000.tif’ saved [1877105105/1877105105]\n",
      "\n",
      "--2022-06-10 20:58:21--  https://storage.googleapis.com/gis2022-teledeteccion/tp-teledeteccion-2/images/2021-01-01/0000000000-0000012544.tif\n",
      "Loaded CA certificate '/etc/ssl/certs/ca-certificates.crt'\n",
      "Resolving storage.googleapis.com (storage.googleapis.com)... 172.217.172.80, 172.217.172.112, 142.250.79.112, ...\n",
      "Connecting to storage.googleapis.com (storage.googleapis.com)|172.217.172.80|:443... connected.\n",
      "HTTP request sent, awaiting response... 200 OK\n",
      "Length: 266105941 (254M) [image/tiff]\n",
      "Saving to: ‘0000000000-0000012544.tif’\n",
      "\n",
      "0000000000-00000125 100%[===================>] 253.78M  8.08MB/s    in 33s     \n",
      "\n",
      "2022-06-10 20:58:56 (7.67 MB/s) - ‘0000000000-0000012544.tif’ saved [266105941/266105941]\n",
      "\n",
      "--2022-06-10 20:58:56--  https://storage.googleapis.com/gis2022-teledeteccion/tp-teledeteccion-2/images/2021-02-20/0000000000-0000000000.tif\n",
      "Loaded CA certificate '/etc/ssl/certs/ca-certificates.crt'\n",
      "Resolving storage.googleapis.com (storage.googleapis.com)... 142.251.133.48, 172.217.172.80, 172.217.172.112, ...\n",
      "Connecting to storage.googleapis.com (storage.googleapis.com)|142.251.133.48|:443... connected.\n",
      "HTTP request sent, awaiting response... 200 OK\n",
      "Length: 1874973003 (1.7G) [image/tiff]\n",
      "Saving to: ‘0000000000-0000000000.tif’\n",
      "\n",
      "0000000000-00000000 100%[===================>]   1.75G  8.59MB/s    in 3m 24s  \n",
      "\n",
      "2022-06-10 21:02:22 (8.76 MB/s) - ‘0000000000-0000000000.tif’ saved [1874973003/1874973003]\n",
      "\n",
      "--2022-06-10 21:02:22--  https://storage.googleapis.com/gis2022-teledeteccion/tp-teledeteccion-2/images/2021-02-20/0000000000-0000012544.tif\n",
      "Loaded CA certificate '/etc/ssl/certs/ca-certificates.crt'\n",
      "Resolving storage.googleapis.com (storage.googleapis.com)... 216.58.202.80, 172.217.173.240, 172.217.172.112, ...\n",
      "Connecting to storage.googleapis.com (storage.googleapis.com)|216.58.202.80|:443... connected.\n",
      "HTTP request sent, awaiting response... 200 OK\n",
      "Length: 268932348 (256M) [image/tiff]\n",
      "Saving to: ‘0000000000-0000012544.tif’\n",
      "\n",
      "0000000000-00000125 100%[===================>] 256.47M  8.63MB/s    in 31s     \n",
      "\n",
      "2022-06-10 21:02:55 (8.16 MB/s) - ‘0000000000-0000012544.tif’ saved [268932348/268932348]\n",
      "\n",
      "--2022-06-10 21:02:55--  https://storage.googleapis.com/gis2022-teledeteccion/tp-teledeteccion-2/images/2021-03-17/0000000000-0000000000.tif\n",
      "Loaded CA certificate '/etc/ssl/certs/ca-certificates.crt'\n",
      "Resolving storage.googleapis.com (storage.googleapis.com)... 216.58.202.112, 216.58.202.80, 172.217.173.240, ...\n",
      "Connecting to storage.googleapis.com (storage.googleapis.com)|216.58.202.112|:443... connected.\n",
      "HTTP request sent, awaiting response... 200 OK\n",
      "Length: 1849300440 (1.7G) [image/tiff]\n",
      "Saving to: ‘0000000000-0000000000.tif’\n",
      "\n",
      "0000000000-00000000 100%[===================>]   1.72G  9.71MB/s    in 3m 27s  \n",
      "\n",
      "2022-06-10 21:06:24 (8.52 MB/s) - ‘0000000000-0000000000.tif’ saved [1849300440/1849300440]\n",
      "\n",
      "--2022-06-10 21:06:24--  https://storage.googleapis.com/gis2022-teledeteccion/tp-teledeteccion-2/images/2021-03-17/0000000000-0000012544.tif\n",
      "Loaded CA certificate '/etc/ssl/certs/ca-certificates.crt'\n",
      "Resolving storage.googleapis.com (storage.googleapis.com)... 172.217.172.80, 142.250.79.80, 216.58.202.80, ...\n",
      "Connecting to storage.googleapis.com (storage.googleapis.com)|172.217.172.80|:443... connected.\n",
      "HTTP request sent, awaiting response... 200 OK\n",
      "Length: 269606075 (257M) [image/tiff]\n",
      "Saving to: ‘0000000000-0000012544.tif’\n",
      "\n",
      "0000000000-00000125 100%[===================>] 257.12M  9.27MB/s    in 31s     \n",
      "\n",
      "2022-06-10 21:06:56 (8.25 MB/s) - ‘0000000000-0000012544.tif’ saved [269606075/269606075]\n",
      "\n"
     ]
    }
   ],
   "source": [
    "download_images([\n",
    "    '2020-10-01', \n",
    "    '2020-11-01', \n",
    "    '2020-12-01',\n",
    "    '2021-01-01', \n",
    "    '2021-02-20', \n",
    "    '2021-03-17'\n",
    "])"
   ]
  },
  {
   "cell_type": "code",
   "execution_count": 14,
   "id": "cbf1e772-57b9-464c-b456-d9f0a661201f",
   "metadata": {},
   "outputs": [
    {
     "name": "stdout",
     "output_type": "stream",
     "text": [
      "2.0G\t2020-10-01\n",
      "2.0G\t2020-11-01\n",
      "2.0G\t2020-12-01\n",
      "2.0G\t2021-01-01\n",
      "2.0G\t2021-02-20\n",
      "2.0G\t2021-03-17\n"
     ]
    }
   ],
   "source": [
    "!cd {IMAGES_PATH}; du -h * "
   ]
  }
 ],
 "metadata": {
  "kernelspec": {
   "display_name": "Python 3 (ipykernel)",
   "language": "python",
   "name": "python3"
  },
  "language_info": {
   "codemirror_mode": {
    "name": "ipython",
    "version": 3
   },
   "file_extension": ".py",
   "mimetype": "text/x-python",
   "name": "python",
   "nbconvert_exporter": "python",
   "pygments_lexer": "ipython3",
   "version": "3.10.4"
  }
 },
 "nbformat": 4,
 "nbformat_minor": 5
}
