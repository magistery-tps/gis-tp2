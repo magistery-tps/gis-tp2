{
 "cells": [
  {
   "cell_type": "markdown",
   "id": "71c4cc60-f39b-400e-b3bf-64822f91adaf",
   "metadata": {},
   "source": [
    "# Maestria en Explotacion de datos y Descubrimiento de conocimiento\n",
    "### Sistemas de información geografica\n",
    "### Trabajo Practico N°2"
   ]
  },
  {
   "cell_type": "markdown",
   "id": "246f29a3-278c-48d3-bafe-cfe4884a3268",
   "metadata": {},
   "source": [
    "## Descargar Dataset"
   ]
  },
  {
   "cell_type": "code",
   "execution_count": 1,
   "id": "20230ff9-f182-44ca-8abb-db4bacef172d",
   "metadata": {},
   "outputs": [],
   "source": [
    "IMAGES_PATH            = \"../datasets/images\"\n",
    "DATA_PATH              = \"../datasets/data\""
   ]
  },
  {
   "cell_type": "code",
   "execution_count": 2,
   "id": "742cf621-41c5-4d2a-a46b-45467b7a2be2",
   "metadata": {},
   "outputs": [],
   "source": [
    "!mkdir -p {IMAGES_PATH}\n",
    "!mkdir -p {DATA_PATH}"
   ]
  },
  {
   "cell_type": "markdown",
   "id": "ae9936ce-6bfb-41d7-b577-f302d693d9d3",
   "metadata": {},
   "source": [
    "Descargamos departamentos y verdad de campo desde google cloud:"
   ]
  },
  {
   "cell_type": "code",
   "execution_count": 6,
   "id": "a4e0063b-df3b-4282-939c-167d53898f9d",
   "metadata": {},
   "outputs": [
    {
     "name": "stdout",
     "output_type": "stream",
     "text": [
      "  % Total    % Received % Xferd  Average Speed   Time    Time     Time  Current\n",
      "                                 Dload  Upload   Total   Spent    Left  Speed\n",
      "100 41492  100 41492    0     0   123k      0 --:--:-- --:--:-- --:--:--  123k\n"
     ]
    }
   ],
   "source": [
    "!cd  {DATA_PATH}; curl https://storage.googleapis.com/gis2022-teledeteccion/tp-teledeteccion-2/departamentos.zip -o departamentos.zip"
   ]
  },
  {
   "cell_type": "code",
   "execution_count": 7,
   "id": "8b39dddb-5375-4662-96c7-ccaf117e49e6",
   "metadata": {},
   "outputs": [
    {
     "name": "stdout",
     "output_type": "stream",
     "text": [
      "  % Total    % Received % Xferd  Average Speed   Time    Time     Time  Current\n",
      "                                 Dload  Upload   Total   Spent    Left  Speed\n",
      "100 10306  100 10306    0     0  34656      0 --:--:-- --:--:-- --:--:-- 34700\n"
     ]
    }
   ],
   "source": [
    "!cd  {DATA_PATH}; curl https://storage.googleapis.com/gis2022-teledeteccion/tp-teledeteccion-2/verdad_campo.zip -o verdad_campo.zip"
   ]
  },
  {
   "cell_type": "code",
   "execution_count": 8,
   "id": "e9c6002d-be84-4697-9865-aa9c47099c0a",
   "metadata": {},
   "outputs": [
    {
     "name": "stdout",
     "output_type": "stream",
     "text": [
      "Archive:  verdad_campo.zip\n",
      " extracting: verdad_campo.cpg        \n",
      "  inflating: verdad_campo.dbf        \n",
      "  inflating: verdad_campo.prj        \n",
      "  inflating: verdad_campo.shp        \n",
      "  inflating: verdad_campo.shx        \n"
     ]
    }
   ],
   "source": [
    "!cd  {DATA_PATH}; unzip verdad_campo.zip"
   ]
  },
  {
   "cell_type": "code",
   "execution_count": 9,
   "id": "fec3b08d-4011-47f8-8a70-b0f27efb341a",
   "metadata": {},
   "outputs": [
    {
     "name": "stdout",
     "output_type": "stream",
     "text": [
      "Archive:  departamentos.zip\n",
      " extracting: departamentos.cpg       \n",
      "  inflating: departamentos.dbf       \n",
      "  inflating: departamentos.prj       \n",
      "  inflating: departamentos.shp       \n",
      "  inflating: departamentos.shx       \n"
     ]
    }
   ],
   "source": [
    "!cd  {DATA_PATH}; unzip departamentos.zip"
   ]
  },
  {
   "cell_type": "code",
   "execution_count": 10,
   "id": "247b6819-97d5-4b80-abb4-984890a0cb8f",
   "metadata": {},
   "outputs": [
    {
     "name": "stdout",
     "output_type": "stream",
     "text": [
      "4.0K\tdepartamentos.cpg\n",
      "4.0K\tdepartamentos.dbf\n",
      "4.0K\tdepartamentos.prj\n",
      " 80K\tdepartamentos.shp\n",
      "4.0K\tdepartamentos.shx\n",
      " 44K\tdepartamentos.zip\n",
      "4.0K\tverdad_campo.cpg\n",
      " 16K\tverdad_campo.dbf\n",
      "4.0K\tverdad_campo.prj\n",
      " 16K\tverdad_campo.shp\n",
      "4.0K\tverdad_campo.shx\n",
      " 12K\tverdad_campo.zip\n"
     ]
    }
   ],
   "source": [
    "!cd {DATA_PATH}; du -h * "
   ]
  },
  {
   "cell_type": "markdown",
   "id": "d8bf64e0-987e-4ae3-8d4c-1e1396a05c1a",
   "metadata": {},
   "source": [
    "Descargamos las imagen inicial desde el bucket plublico en google cloud:"
   ]
  },
  {
   "cell_type": "code",
   "execution_count": null,
   "id": "9feb578a-cad7-4704-8ade-452029e14432",
   "metadata": {},
   "outputs": [],
   "source": [
    "def download_images(dates):\n",
    "    files = ['0000000000', '0000012544']\n",
    "    path = 'https://storage.googleapis.com/gis2022-teledeteccion/tp-teledeteccion-2/images'\n",
    "    \n",
    "    for date in dates:\n",
    "        !mkdir {IMAGES_PATH}/{date}\n",
    "        for file in files:\n",
    "            !cd {IMAGES_PATH}/{date}; curl {path}/{date}/0000000000-{file}.tif -o 0000000000-{file}.tif"
   ]
  },
  {
   "cell_type": "code",
   "execution_count": 5,
   "id": "06f5b79f-4056-42dd-8c51-bbd2be4eaa9c",
   "metadata": {},
   "outputs": [
    {
     "name": "stdout",
     "output_type": "stream",
     "text": [
      "mkdir: ../datasets/images/2020-12-01: File exists\n",
      "  % Total    % Received % Xferd  Average Speed   Time    Time     Time  Current\n",
      "                                 Dload  Upload   Total   Spent    Left  Speed\n",
      "100 1762M  100 1762M    0     0  6901k      0  0:04:21  0:04:20  0:00:01 7459k0:04:08 7144kk      0  0:04:24  0:01:13  0:03:11 7140k  0:01:28  0:02:53 6975k 0  6850k      0  0:04:23  0:01:37  0:02:46 6065k 0  0:04:25  0:02:13  0:02:12 6954k0:01:46 7008k:00  0:01:24 7231k3  0:03:13  0:01:10 7104k 0:04:24  0:03:36  0:00:48 6876kk      0  0:04:23  0:03:46  0:00:37 7128k0:29 7377k     0  0:04:22  0:04:14  0:00:08 7129k0:02 7502k 6898k      0  0:04:21  0:04:21 --:--:-- 7359k\n",
      "  % Total    % Received % Xferd  Average Speed   Time    Time     Time  Current\n",
      "                                 Dload  Upload   Total   Spent    Left  Speed\n",
      "100  248M  100  248M    0     0  7042k      0  0:00:36  0:00:36 --:--:-- 7126k\n"
     ]
    }
   ],
   "source": [
    "download_images([\n",
    "    '2020-10-01', \n",
    "    '2020-11-01', \n",
    "    '2020-12-01',\n",
    "    '2021-01-01', \n",
    "    '2021-02-20', \n",
    "    '2021-03-17'\n",
    "])"
   ]
  },
  {
   "cell_type": "code",
   "execution_count": 13,
   "id": "cbf1e772-57b9-464c-b456-d9f0a661201f",
   "metadata": {},
   "outputs": [
    {
     "name": "stdout",
     "output_type": "stream",
     "text": [
      "5.5G\t2020-10-01\n",
      "4.5G\t2020-11-01\n",
      "545M\t2020-12-01\n",
      "2.0G\t2021-01-01\n",
      "2.0G\t2021-02-20\n",
      "2.0G\t2021-03-17\n"
     ]
    }
   ],
   "source": [
    "!cd {IMAGES_PATH}; du -h * "
   ]
  }
 ],
 "metadata": {
  "kernelspec": {
   "display_name": "Python 3 (ipykernel)",
   "language": "python",
   "name": "python3"
  },
  "language_info": {
   "codemirror_mode": {
    "name": "ipython",
    "version": 3
   },
   "file_extension": ".py",
   "mimetype": "text/x-python",
   "name": "python",
   "nbconvert_exporter": "python",
   "pygments_lexer": "ipython3",
   "version": "3.10.4"
  }
 },
 "nbformat": 4,
 "nbformat_minor": 5
}
